{
 "cells": [
  {
   "cell_type": "code",
   "execution_count": 1,
   "id": "16aaafb9",
   "metadata": {},
   "outputs": [],
   "source": [
    "from pathlib import Path\n",
    "\n",
    "from streamlit_demo import TitanicWrangler, ChartingHelper"
   ]
  },
  {
   "cell_type": "markdown",
   "id": "52b28006",
   "metadata": {},
   "source": [
    "# Titanic Data Exploration"
   ]
  },
  {
   "cell_type": "markdown",
   "id": "4020c734",
   "metadata": {},
   "source": [
    "## Load and Prepare Passenger Data"
   ]
  },
  {
   "cell_type": "code",
   "execution_count": 2,
   "id": "1b4a7620",
   "metadata": {},
   "outputs": [],
   "source": [
    "RAW_DATA_PATH = Path(\"../data/input/titanic_passengers.csv\")\n",
    "assert RAW_DATA_PATH.exists(), f\"Raw data file not found at {RAW_DATA_PATH}\""
   ]
  },
  {
   "cell_type": "code",
   "execution_count": 3,
   "id": "f06a9f7b",
   "metadata": {},
   "outputs": [],
   "source": [
    "titanic_passengers_raw = TitanicWrangler.load_titanic_data(RAW_DATA_PATH)"
   ]
  },
  {
   "cell_type": "code",
   "execution_count": 4,
   "id": "b3446d40",
   "metadata": {},
   "outputs": [],
   "source": [
    "titanic_passengers_cleaned = TitanicWrangler.prepare_data(titanic_passengers_raw)"
   ]
  },
  {
   "cell_type": "code",
   "execution_count": 5,
   "id": "1de46f29",
   "metadata": {},
   "outputs": [
    {
     "data": {
      "text/html": [
       "<div><style>\n",
       ".dataframe > thead > tr,\n",
       ".dataframe > tbody > tr {\n",
       "  text-align: right;\n",
       "  white-space: pre-wrap;\n",
       "}\n",
       "</style>\n",
       "<small>shape: (1_309, 18)</small><table border=\"1\" class=\"dataframe\"><thead><tr><th>PassengerId</th><th>Survived</th><th>Pclass</th><th>Name</th><th>Sex</th><th>Age</th><th>SibSp</th><th>Parch</th><th>Ticket</th><th>Fare</th><th>Cabin</th><th>Embarked</th><th>Title</th><th>CabinOccupancy</th><th>TicketShareCount</th><th>Level</th><th>FareLog10</th><th>AgeInDecades</th></tr><tr><td>f64</td><td>str</td><td>i32</td><td>str</td><td>str</td><td>f64</td><td>f64</td><td>f64</td><td>str</td><td>f64</td><td>str</td><td>str</td><td>str</td><td>u32</td><td>u32</td><td>str</td><td>f64</td><td>i32</td></tr></thead><tbody><tr><td>1.0</td><td>&quot;Survived&quot;</td><td>1</td><td>&quot;Allen, Miss. Elisabeth Walton&quot;</td><td>&quot;female&quot;</td><td>29.0</td><td>0.0</td><td>0.0</td><td>&quot;24160&quot;</td><td>211.3375</td><td>&quot;B5&quot;</td><td>&quot;Southampton&quot;</td><td>&quot;Miss&quot;</td><td>2</td><td>4</td><td>&quot;B&quot;</td><td>2.324977</td><td>2</td></tr><tr><td>2.0</td><td>&quot;Survived&quot;</td><td>1</td><td>&quot;Allison, Master. Hudson Trevor&quot;</td><td>&quot;male&quot;</td><td>0.9167</td><td>1.0</td><td>2.0</td><td>&quot;113781&quot;</td><td>151.55</td><td>&quot;C22 C26&quot;</td><td>&quot;Southampton&quot;</td><td>&quot;Master&quot;</td><td>4</td><td>6</td><td>&quot;C&quot;</td><td>2.180556</td><td>0</td></tr><tr><td>3.0</td><td>&quot;Died&quot;</td><td>1</td><td>&quot;Allison, Miss. Helen Loraine&quot;</td><td>&quot;female&quot;</td><td>2.0</td><td>1.0</td><td>2.0</td><td>&quot;113781&quot;</td><td>151.55</td><td>&quot;C22 C26&quot;</td><td>&quot;Southampton&quot;</td><td>&quot;Miss&quot;</td><td>4</td><td>6</td><td>&quot;C&quot;</td><td>2.180556</td><td>0</td></tr><tr><td>4.0</td><td>&quot;Died&quot;</td><td>1</td><td>&quot;Allison, Mr. Hudson Joshua Cre…</td><td>&quot;male&quot;</td><td>30.0</td><td>1.0</td><td>2.0</td><td>&quot;113781&quot;</td><td>151.55</td><td>&quot;C22 C26&quot;</td><td>&quot;Southampton&quot;</td><td>&quot;Mr&quot;</td><td>4</td><td>6</td><td>&quot;C&quot;</td><td>2.180556</td><td>3</td></tr><tr><td>5.0</td><td>&quot;Died&quot;</td><td>1</td><td>&quot;Allison, Mrs. Hudson J C (Bess…</td><td>&quot;female&quot;</td><td>25.0</td><td>1.0</td><td>2.0</td><td>&quot;113781&quot;</td><td>151.55</td><td>&quot;C22 C26&quot;</td><td>&quot;Southampton&quot;</td><td>&quot;Mrs&quot;</td><td>4</td><td>6</td><td>&quot;C&quot;</td><td>2.180556</td><td>2</td></tr><tr><td>&hellip;</td><td>&hellip;</td><td>&hellip;</td><td>&hellip;</td><td>&hellip;</td><td>&hellip;</td><td>&hellip;</td><td>&hellip;</td><td>&hellip;</td><td>&hellip;</td><td>&hellip;</td><td>&hellip;</td><td>&hellip;</td><td>&hellip;</td><td>&hellip;</td><td>&hellip;</td><td>&hellip;</td><td>&hellip;</td></tr><tr><td>1305.0</td><td>&quot;Died&quot;</td><td>3</td><td>&quot;Zabour, Miss. Hileni&quot;</td><td>&quot;female&quot;</td><td>14.5</td><td>1.0</td><td>0.0</td><td>&quot;2665&quot;</td><td>14.4542</td><td>&quot;None&quot;</td><td>&quot;Cherbourg&quot;</td><td>&quot;Miss&quot;</td><td>0</td><td>2</td><td>&quot;N&quot;</td><td>1.159994</td><td>1</td></tr><tr><td>1306.0</td><td>&quot;Died&quot;</td><td>3</td><td>&quot;Zabour, Miss. Thamine&quot;</td><td>&quot;female&quot;</td><td>21.0</td><td>1.0</td><td>0.0</td><td>&quot;2665&quot;</td><td>14.4542</td><td>&quot;None&quot;</td><td>&quot;Cherbourg&quot;</td><td>&quot;Miss&quot;</td><td>0</td><td>2</td><td>&quot;N&quot;</td><td>1.159994</td><td>2</td></tr><tr><td>1307.0</td><td>&quot;Died&quot;</td><td>3</td><td>&quot;Zakarian, Mr. Mapriededer&quot;</td><td>&quot;male&quot;</td><td>26.5</td><td>0.0</td><td>0.0</td><td>&quot;2656&quot;</td><td>7.225</td><td>&quot;None&quot;</td><td>&quot;Cherbourg&quot;</td><td>&quot;Mr&quot;</td><td>0</td><td>1</td><td>&quot;N&quot;</td><td>0.858838</td><td>2</td></tr><tr><td>1308.0</td><td>&quot;Died&quot;</td><td>3</td><td>&quot;Zakarian, Mr. Ortin&quot;</td><td>&quot;male&quot;</td><td>27.0</td><td>0.0</td><td>0.0</td><td>&quot;2670&quot;</td><td>7.225</td><td>&quot;None&quot;</td><td>&quot;Cherbourg&quot;</td><td>&quot;Mr&quot;</td><td>0</td><td>1</td><td>&quot;N&quot;</td><td>0.858838</td><td>2</td></tr><tr><td>1309.0</td><td>&quot;Died&quot;</td><td>3</td><td>&quot;Zimmerman, Mr. Leo&quot;</td><td>&quot;male&quot;</td><td>29.0</td><td>0.0</td><td>0.0</td><td>&quot;315082&quot;</td><td>7.875</td><td>&quot;None&quot;</td><td>&quot;Southampton&quot;</td><td>&quot;Mr&quot;</td><td>0</td><td>1</td><td>&quot;N&quot;</td><td>0.896251</td><td>2</td></tr></tbody></table></div>"
      ],
      "text/plain": [
       "shape: (1_309, 18)\n",
       "┌─────────────┬──────────┬────────┬─────────────┬───┬─────────────┬───────┬───────────┬────────────┐\n",
       "│ PassengerId ┆ Survived ┆ Pclass ┆ Name        ┆ … ┆ TicketShare ┆ Level ┆ FareLog10 ┆ AgeInDecad │\n",
       "│ ---         ┆ ---      ┆ ---    ┆ ---         ┆   ┆ Count       ┆ ---   ┆ ---       ┆ es         │\n",
       "│ f64         ┆ str      ┆ i32    ┆ str         ┆   ┆ ---         ┆ str   ┆ f64       ┆ ---        │\n",
       "│             ┆          ┆        ┆             ┆   ┆ u32         ┆       ┆           ┆ i32        │\n",
       "╞═════════════╪══════════╪════════╪═════════════╪═══╪═════════════╪═══════╪═══════════╪════════════╡\n",
       "│ 1.0         ┆ Survived ┆ 1      ┆ Allen,      ┆ … ┆ 4           ┆ B     ┆ 2.324977  ┆ 2          │\n",
       "│             ┆          ┆        ┆ Miss.       ┆   ┆             ┆       ┆           ┆            │\n",
       "│             ┆          ┆        ┆ Elisabeth   ┆   ┆             ┆       ┆           ┆            │\n",
       "│             ┆          ┆        ┆ Walton      ┆   ┆             ┆       ┆           ┆            │\n",
       "│ 2.0         ┆ Survived ┆ 1      ┆ Allison,    ┆ … ┆ 6           ┆ C     ┆ 2.180556  ┆ 0          │\n",
       "│             ┆          ┆        ┆ Master.     ┆   ┆             ┆       ┆           ┆            │\n",
       "│             ┆          ┆        ┆ Hudson      ┆   ┆             ┆       ┆           ┆            │\n",
       "│             ┆          ┆        ┆ Trevor      ┆   ┆             ┆       ┆           ┆            │\n",
       "│ 3.0         ┆ Died     ┆ 1      ┆ Allison,    ┆ … ┆ 6           ┆ C     ┆ 2.180556  ┆ 0          │\n",
       "│             ┆          ┆        ┆ Miss. Helen ┆   ┆             ┆       ┆           ┆            │\n",
       "│             ┆          ┆        ┆ Loraine     ┆   ┆             ┆       ┆           ┆            │\n",
       "│ 4.0         ┆ Died     ┆ 1      ┆ Allison,    ┆ … ┆ 6           ┆ C     ┆ 2.180556  ┆ 3          │\n",
       "│             ┆          ┆        ┆ Mr. Hudson  ┆   ┆             ┆       ┆           ┆            │\n",
       "│             ┆          ┆        ┆ Joshua Cre… ┆   ┆             ┆       ┆           ┆            │\n",
       "│ 5.0         ┆ Died     ┆ 1      ┆ Allison,    ┆ … ┆ 6           ┆ C     ┆ 2.180556  ┆ 2          │\n",
       "│             ┆          ┆        ┆ Mrs. Hudson ┆   ┆             ┆       ┆           ┆            │\n",
       "│             ┆          ┆        ┆ J C (Bess…  ┆   ┆             ┆       ┆           ┆            │\n",
       "│ …           ┆ …        ┆ …      ┆ …           ┆ … ┆ …           ┆ …     ┆ …         ┆ …          │\n",
       "│ 1305.0      ┆ Died     ┆ 3      ┆ Zabour,     ┆ … ┆ 2           ┆ N     ┆ 1.159994  ┆ 1          │\n",
       "│             ┆          ┆        ┆ Miss.       ┆   ┆             ┆       ┆           ┆            │\n",
       "│             ┆          ┆        ┆ Hileni      ┆   ┆             ┆       ┆           ┆            │\n",
       "│ 1306.0      ┆ Died     ┆ 3      ┆ Zabour,     ┆ … ┆ 2           ┆ N     ┆ 1.159994  ┆ 2          │\n",
       "│             ┆          ┆        ┆ Miss.       ┆   ┆             ┆       ┆           ┆            │\n",
       "│             ┆          ┆        ┆ Thamine     ┆   ┆             ┆       ┆           ┆            │\n",
       "│ 1307.0      ┆ Died     ┆ 3      ┆ Zakarian,   ┆ … ┆ 1           ┆ N     ┆ 0.858838  ┆ 2          │\n",
       "│             ┆          ┆        ┆ Mr.         ┆   ┆             ┆       ┆           ┆            │\n",
       "│             ┆          ┆        ┆ Mapriededer ┆   ┆             ┆       ┆           ┆            │\n",
       "│ 1308.0      ┆ Died     ┆ 3      ┆ Zakarian,   ┆ … ┆ 1           ┆ N     ┆ 0.858838  ┆ 2          │\n",
       "│             ┆          ┆        ┆ Mr. Ortin   ┆   ┆             ┆       ┆           ┆            │\n",
       "│ 1309.0      ┆ Died     ┆ 3      ┆ Zimmerman,  ┆ … ┆ 1           ┆ N     ┆ 0.896251  ┆ 2          │\n",
       "│             ┆          ┆        ┆ Mr. Leo     ┆   ┆             ┆       ┆           ┆            │\n",
       "└─────────────┴──────────┴────────┴─────────────┴───┴─────────────┴───────┴───────────┴────────────┘"
      ]
     },
     "execution_count": 5,
     "metadata": {},
     "output_type": "execute_result"
    }
   ],
   "source": [
    "titanic_passengers_cleaned"
   ]
  },
  {
   "cell_type": "markdown",
   "id": "xwn0ggzu8w",
   "metadata": {},
   "source": [
    "## Exploratory Data Analysis\n",
    "\n",
    "We now explore factors that appear to have contributed towards survival rates on the Titanic 🚢.\n",
    "\n",
    "Key🔑:\n",
    "- **N**=number of passengers\n",
    "- **S**=survival rate"
   ]
  },
  {
   "cell_type": "markdown",
   "id": "37fe2e00",
   "metadata": {},
   "source": [
    "### Women and children first?\n",
    "\n",
    "This analysis certainly shows a general trend that females were given priority.  It's not so convicing for children!"
   ]
  },
  {
   "cell_type": "code",
   "execution_count": 6,
   "id": "youm219o34d",
   "metadata": {},
   "outputs": [
    {
     "data": {
      "application/vnd.plotly.v1+json": {
       "config": {
        "plotlyServerURL": "https://plot.ly"
       },
       "data": [
        {
         "alignmentgroup": "True",
         "boxpoints": "all",
         "customdata": [
          [
           "Allen, Miss. Elisabeth Walton",
           1,
           "Southampton"
          ],
          [
           "Allison, Master. Hudson Trevor",
           1,
           "Southampton"
          ],
          [
           "Anderson, Mr. Harry",
           1,
           "Southampton"
          ],
          [
           "Andrews, Miss. Kornelia Theodosia",
           1,
           "Southampton"
          ],
          [
           "Appleton, Mrs. Edward Dale (Charlotte Lamson)",
           1,
           "Southampton"
          ],
          [
           "Astor, Mrs. John Jacob (Madeleine Talmadge Force)",
           1,
           "Cherbourg"
          ],
          [
           "Aubart, Mme. Leontine Pauline",
           1,
           "Cherbourg"
          ],
          [
           "Barber, Miss. Ellen \"Nellie\"",
           1,
           "Southampton"
          ],
          [
           "Barkworth, Mr. Algernon Henry Wilson",
           1,
           "Southampton"
          ],
          [
           "Baxter, Mrs. James (Helene DeLaudeniere Chaput)",
           1,
           "Cherbourg"
          ],
          [
           "Bazzani, Miss. Albina",
           1,
           "Cherbourg"
          ],
          [
           "Beckwith, Mr. Richard Leonard",
           1,
           "Southampton"
          ],
          [
           "Beckwith, Mrs. Richard Leonard (Sallie Monypeny)",
           1,
           "Southampton"
          ],
          [
           "Behr, Mr. Karl Howell",
           1,
           "Cherbourg"
          ],
          [
           "Bidois, Miss. Rosalie",
           1,
           "Cherbourg"
          ],
          [
           "Bird, Miss. Ellen",
           1,
           "Southampton"
          ],
          [
           "Bishop, Mr. Dickinson H",
           1,
           "Cherbourg"
          ],
          [
           "Bishop, Mrs. Dickinson H (Helen Walton)",
           1,
           "Cherbourg"
          ],
          [
           "Bissette, Miss. Amelia",
           1,
           "Southampton"
          ],
          [
           "Bjornstrom-Steffansson, Mr. Mauritz Hakan",
           1,
           "Southampton"
          ],
          [
           "Blank, Mr. Henry",
           1,
           "Cherbourg"
          ],
          [
           "Bonnell, Miss. Caroline",
           1,
           "Southampton"
          ],
          [
           "Bonnell, Miss. Elizabeth",
           1,
           "Southampton"
          ],
          [
           "Bowen, Miss. Grace Scott",
           1,
           "Cherbourg"
          ],
          [
           "Bowerman, Miss. Elsie Edith",
           1,
           "Southampton"
          ],
          [
           "Bradley, Mr. George (\"George Arthur Brayton\")",
           1,
           "Southampton"
          ],
          [
           "Brown, Mrs. James Joseph (Margaret Tobin)",
           1,
           "Cherbourg"
          ],
          [
           "Brown, Mrs. John Murray (Caroline Lane Lamson)",
           1,
           "Southampton"
          ],
          [
           "Bucknell, Mrs. William Robert (Emma Eliza Ward)",
           1,
           "Cherbourg"
          ],
          [
           "Burns, Miss. Elizabeth Margaret",
           1,
           "Cherbourg"
          ],
          [
           "Calderhead, Mr. Edward Pennington",
           1,
           "Southampton"
          ],
          [
           "Candee, Mrs. Edward (Helen Churchill Hungerford)",
           1,
           "Cherbourg"
          ],
          [
           "Cardeza, Mr. Thomas Drake Martinez",
           1,
           "Cherbourg"
          ],
          [
           "Cardeza, Mrs. James Warburton Martinez (Charlotte Wardle Drake)",
           1,
           "Cherbourg"
          ],
          [
           "Carter, Master. William Thornton II",
           1,
           "Southampton"
          ],
          [
           "Carter, Miss. Lucile Polk",
           1,
           "Southampton"
          ],
          [
           "Carter, Mr. William Ernest",
           1,
           "Southampton"
          ],
          [
           "Carter, Mrs. William Ernest (Lucile Polk)",
           1,
           "Southampton"
          ],
          [
           "Cassebeer, Mrs. Henry Arthur Jr (Eleanor Genevieve Fosdick)",
           1,
           "Cherbourg"
          ],
          [
           "Cavendish, Mrs. Tyrell William (Julia Florence Siegel)",
           1,
           "Southampton"
          ],
          [
           "Chaffee, Mrs. Herbert Fuller (Carrie Constance Toogood)",
           1,
           "Southampton"
          ],
          [
           "Chambers, Mr. Norman Campbell",
           1,
           "Southampton"
          ],
          [
           "Chambers, Mrs. Norman Campbell (Bertha Griggs)",
           1,
           "Southampton"
          ],
          [
           "Chaudanson, Miss. Victorine",
           1,
           "Cherbourg"
          ],
          [
           "Cherry, Miss. Gladys",
           1,
           "Southampton"
          ],
          [
           "Chevre, Mr. Paul Romaine",
           1,
           "Cherbourg"
          ],
          [
           "Chibnall, Mrs. (Edith Martha Bowerman)",
           1,
           "Southampton"
          ],
          [
           "Clark, Mrs. Walter Miller (Virginia McDowell)",
           1,
           "Cherbourg"
          ],
          [
           "Cleaver, Miss. Alice",
           1,
           "Southampton"
          ],
          [
           "Compton, Miss. Sara Rebecca",
           1,
           "Cherbourg"
          ],
          [
           "Compton, Mrs. Alexander Taylor (Mary Eliza Ingersoll)",
           1,
           "Cherbourg"
          ],
          [
           "Cornell, Mrs. Robert Clifford (Malvina Helen Lamson)",
           1,
           "Southampton"
          ],
          [
           "Crosby, Miss. Harriet R",
           1,
           "Southampton"
          ],
          [
           "Crosby, Mrs. Edward Gifford (Catherine Elizabeth Halstead)",
           1,
           "Southampton"
          ],
          [
           "Cumings, Mrs. John Bradley (Florence Briggs Thayer)",
           1,
           "Cherbourg"
          ],
          [
           "Daly, Mr. Peter Denis ",
           1,
           "Southampton"
          ],
          [
           "Daniel, Mr. Robert Williams",
           1,
           "Southampton"
          ],
          [
           "Daniels, Miss. Sarah",
           1,
           "Southampton"
          ],
          [
           "Davidson, Mrs. Thornton (Orian Hays)",
           1,
           "Southampton"
          ],
          [
           "Dick, Mr. Albert Adrian",
           1,
           "Southampton"
          ],
          [
           "Dick, Mrs. Albert Adrian (Vera Gillespie)",
           1,
           "Southampton"
          ],
          [
           "Dodge, Dr. Washington",
           1,
           "Southampton"
          ],
          [
           "Dodge, Master. Washington",
           1,
           "Southampton"
          ],
          [
           "Dodge, Mrs. Washington (Ruth Vidaver)",
           1,
           "Southampton"
          ],
          [
           "Douglas, Mrs. Frederick Charles (Mary Helene Baxter)",
           1,
           "Cherbourg"
          ],
          [
           "Douglas, Mrs. Walter Donald (Mahala Dutton)",
           1,
           "Cherbourg"
          ],
          [
           "Duff Gordon, Lady. (Lucille Christiana Sutherland) (\"Mrs Morgan\")",
           1,
           "Cherbourg"
          ],
          [
           "Duff Gordon, Sir. Cosmo Edmund (\"Mr Morgan\")",
           1,
           "Cherbourg"
          ],
          [
           "Earnshaw, Mrs. Boulton (Olive Potter)",
           1,
           "Cherbourg"
          ],
          [
           "Endres, Miss. Caroline Louise",
           1,
           "Cherbourg"
          ],
          [
           "Eustis, Miss. Elizabeth Mussey",
           1,
           "Cherbourg"
          ],
          [
           "Flegenheim, Mrs. Alfred (Antoinette)",
           1,
           "Southampton"
          ],
          [
           "Fleming, Miss. Margaret",
           1,
           "Cherbourg"
          ],
          [
           "Flynn, Mr. John Irwin (\"Irving\")",
           1,
           "Southampton"
          ],
          [
           "Fortune, Miss. Alice Elizabeth",
           1,
           "Southampton"
          ],
          [
           "Fortune, Miss. Ethel Flora",
           1,
           "Southampton"
          ],
          [
           "Fortune, Miss. Mabel Helen",
           1,
           "Southampton"
          ],
          [
           "Fortune, Mrs. Mark (Mary McDougald)",
           1,
           "Southampton"
          ],
          [
           "Francatelli, Miss. Laura Mabel",
           1,
           "Cherbourg"
          ],
          [
           "Frauenthal, Dr. Henry William",
           1,
           "Southampton"
          ],
          [
           "Frauenthal, Mr. Isaac Gerald",
           1,
           "Cherbourg"
          ],
          [
           "Frauenthal, Mrs. Henry William (Clara Heinsheimer)",
           1,
           "Southampton"
          ],
          [
           "Frolicher, Miss. Hedwig Margaritha",
           1,
           "Cherbourg"
          ],
          [
           "Frolicher-Stehli, Mr. Maxmillian",
           1,
           "Cherbourg"
          ],
          [
           "Frolicher-Stehli, Mrs. Maxmillian (Margaretha Emerentia Stehli)",
           1,
           "Cherbourg"
          ],
          [
           "Futrelle, Mrs. Jacques Heath (Lily May Peel)",
           1,
           "Southampton"
          ],
          [
           "Geiger, Miss. Amalie",
           1,
           "Cherbourg"
          ],
          [
           "Gibson, Miss. Dorothy Winifred",
           1,
           "Cherbourg"
          ],
          [
           "Gibson, Mrs. Leonard (Pauline C Boeson)",
           1,
           "Cherbourg"
          ],
          [
           "Goldenberg, Mr. Samuel L",
           1,
           "Cherbourg"
          ],
          [
           "Goldenberg, Mrs. Samuel L (Edwiga Grabowska)",
           1,
           "Cherbourg"
          ],
          [
           "Gracie, Col. Archibald IV",
           1,
           "Cherbourg"
          ],
          [
           "Graham, Miss. Margaret Edith",
           1,
           "Southampton"
          ],
          [
           "Graham, Mrs. William Thompson (Edith Junkins)",
           1,
           "Southampton"
          ],
          [
           "Greenfield, Mr. William Bertram",
           1,
           "Cherbourg"
          ],
          [
           "Greenfield, Mrs. Leo David (Blanche Strouse)",
           1,
           "Cherbourg"
          ],
          [
           "Harder, Mr. George Achilles",
           1,
           "Cherbourg"
          ],
          [
           "Harder, Mrs. George Achilles (Dorothy Annan)",
           1,
           "Cherbourg"
          ],
          [
           "Harper, Mr. Henry Sleeper",
           1,
           "Cherbourg"
          ],
          [
           "Harper, Mrs. Henry Sleeper (Myna Haxtun)",
           1,
           "Cherbourg"
          ],
          [
           "Harris, Mrs. Henry Birkhardt (Irene Wallach)",
           1,
           "Southampton"
          ],
          [
           "Hassab, Mr. Hammad",
           1,
           "Cherbourg"
          ],
          [
           "Hawksford, Mr. Walter James",
           1,
           "Southampton"
          ],
          [
           "Hays, Miss. Margaret Bechstein",
           1,
           "Cherbourg"
          ],
          [
           "Hays, Mrs. Charles Melville (Clara Jennings Gregg)",
           1,
           "Southampton"
          ],
          [
           "Hippach, Miss. Jean Gertrude",
           1,
           "Cherbourg"
          ],
          [
           "Hippach, Mrs. Louis Albert (Ida Sophia Fischer)",
           1,
           "Cherbourg"
          ],
          [
           "Hogeboom, Mrs. John C (Anna Andrews)",
           1,
           "Southampton"
          ],
          [
           "Holverson, Mrs. Alexander Oskar (Mary Aline Towner)",
           1,
           "Southampton"
          ],
          [
           "Homer, Mr. Harry (\"Mr E Haven\")",
           1,
           "Cherbourg"
          ],
          [
           "Hoyt, Mr. Frederick Maxfield",
           1,
           "Southampton"
          ],
          [
           "Hoyt, Mrs. Frederick Maxfield (Jane Anne Forby)",
           1,
           "Southampton"
          ],
          [
           "Icard, Miss. Amelie",
           1,
           "Southampton"
          ],
          [
           "Ismay, Mr. Joseph Bruce",
           1,
           "Southampton"
          ],
          [
           "Kenyon, Mrs. Frederick R (Marion)",
           1,
           "Southampton"
          ],
          [
           "Kimball, Mr. Edwin Nelson Jr",
           1,
           "Southampton"
          ],
          [
           "Kimball, Mrs. Edwin Nelson Jr (Gertrude Parsons)",
           1,
           "Southampton"
          ],
          [
           "Kreuchen, Miss. Emilie",
           1,
           "Southampton"
          ],
          [
           "Leader, Dr. Alice (Farnham)",
           1,
           "Southampton"
          ],
          [
           "LeRoy, Miss. Bertha",
           1,
           "Cherbourg"
          ],
          [
           "Lesurer, Mr. Gustave J",
           1,
           "Cherbourg"
          ],
          [
           "Lindstrom, Mrs. Carl Johan (Sigrid Posse)",
           1,
           "Cherbourg"
          ],
          [
           "Lines, Miss. Mary Conover",
           1,
           "Southampton"
          ],
          [
           "Lines, Mrs. Ernest H (Elizabeth Lindsey James)",
           1,
           "Southampton"
          ],
          [
           "Longley, Miss. Gretchen Fiske",
           1,
           "Southampton"
          ],
          [
           "Lurette, Miss. Elise",
           1,
           "Cherbourg"
          ],
          [
           "Madill, Miss. Georgette Alexandra",
           1,
           "Southampton"
          ],
          [
           "Maioni, Miss. Roberta",
           1,
           "Southampton"
          ],
          [
           "Marechal, Mr. Pierre",
           1,
           "Cherbourg"
          ],
          [
           "Marvin, Mrs. Daniel Warner (Mary Graham Carmichael Farquarson)",
           1,
           "Southampton"
          ],
          [
           "Mayne, Mlle. Berthe Antonine (\"Mrs de Villiers\")",
           1,
           "Cherbourg"
          ],
          [
           "McGough, Mr. James Robert",
           1,
           "Southampton"
          ],
          [
           "Meyer, Mrs. Edgar Joseph (Leila Saks)",
           1,
           "Cherbourg"
          ],
          [
           "Minahan, Miss. Daisy E",
           1,
           "Queenstown"
          ],
          [
           "Minahan, Mrs. William Edward (Lillian E Thorpe)",
           1,
           "Queenstown"
          ],
          [
           "Mock, Mr. Philipp Edmund",
           1,
           "Cherbourg"
          ],
          [
           "Newell, Miss. Madeleine",
           1,
           "Cherbourg"
          ],
          [
           "Newell, Miss. Marjorie",
           1,
           "Cherbourg"
          ],
          [
           "Newsom, Miss. Helen Monypeny",
           1,
           "Southampton"
          ],
          [
           "Oliva y Ocana, Dona. Fermina",
           1,
           "Cherbourg"
          ],
          [
           "Omont, Mr. Alfred Fernand",
           1,
           "Cherbourg"
          ],
          [
           "Ostby, Miss. Helene Ragnhild",
           1,
           "Cherbourg"
          ],
          [
           "Pears, Mrs. Thomas (Edith Wearne)",
           1,
           "Southampton"
          ],
          [
           "Penasco y Castellana, Mrs. Victor de Satode (Maria Josefa Perez de Soto y Vallejo)",
           1,
           "Cherbourg"
          ],
          [
           "Perreault, Miss. Anne",
           1,
           "Southampton"
          ],
          [
           "Peuchen, Major. Arthur Godfrey",
           1,
           "Southampton"
          ],
          [
           "Potter, Mrs. Thomas Jr (Lily Alexenia Wilson)",
           1,
           "Cherbourg"
          ],
          [
           "Rheims, Mr. George Alexander Lucien",
           1,
           "Southampton"
          ],
          [
           "Robert, Mrs. Edward Scott (Elisabeth Walton McMillan)",
           1,
           "Southampton"
          ],
          [
           "Romaine, Mr. Charles Hallace (\"Mr C Rolmane\")",
           1,
           "Southampton"
          ],
          [
           "Rosenbaum, Miss. Edith Louise",
           1,
           "Cherbourg"
          ],
          [
           "Rothes, the Countess. of (Lucy Noel Martha Dyer-Edwards)",
           1,
           "Southampton"
          ],
          [
           "Rothschild, Mrs. Martin (Elizabeth L. Barrett)",
           1,
           "Cherbourg"
          ],
          [
           "Ryerson, Master. John Borie",
           1,
           "Cherbourg"
          ],
          [
           "Ryerson, Miss. Emily Borie",
           1,
           "Cherbourg"
          ],
          [
           "Ryerson, Miss. Susan Parker \"Suzette\"",
           1,
           "Cherbourg"
          ],
          [
           "Ryerson, Mrs. Arthur Larned (Emily Maria Borie)",
           1,
           "Cherbourg"
          ],
          [
           "Saalfeld, Mr. Adolphe",
           1,
           "Southampton"
          ],
          [
           "Sagesser, Mlle. Emma",
           1,
           "Cherbourg"
          ],
          [
           "Salomon, Mr. Abraham L",
           1,
           "Southampton"
          ],
          [
           "Schabert, Mrs. Paul (Emma Mock)",
           1,
           "Cherbourg"
          ],
          [
           "Serepeca, Miss. Augusta",
           1,
           "Cherbourg"
          ],
          [
           "Seward, Mr. Frederic Kimber",
           1,
           "Southampton"
          ],
          [
           "Shutes, Miss. Elizabeth W",
           1,
           "Southampton"
          ],
          [
           "Silverthorne, Mr. Spencer Victor",
           1,
           "Southampton"
          ],
          [
           "Silvey, Mrs. William Baird (Alice Munger)",
           1,
           "Southampton"
          ],
          [
           "Simonius-Blumer, Col. Oberst Alfons",
           1,
           "Cherbourg"
          ],
          [
           "Sloper, Mr. William Thompson",
           1,
           "Southampton"
          ],
          [
           "Smith, Mrs. Lucien Philip (Mary Eloise Hughes)",
           1,
           "Southampton"
          ],
          [
           "Snyder, Mr. John Pillsbury",
           1,
           "Southampton"
          ],
          [
           "Snyder, Mrs. John Pillsbury (Nelle Stevenson)",
           1,
           "Southampton"
          ],
          [
           "Spedden, Master. Robert Douglas",
           1,
           "Cherbourg"
          ],
          [
           "Spedden, Mr. Frederic Oakley",
           1,
           "Cherbourg"
          ],
          [
           "Spedden, Mrs. Frederic Oakley (Margaretta Corning Stone)",
           1,
           "Cherbourg"
          ],
          [
           "Spencer, Mrs. William Augustus (Marie Eugenie)",
           1,
           "Cherbourg"
          ],
          [
           "Stahelin-Maeglin, Dr. Max",
           1,
           "Cherbourg"
          ],
          [
           "Stengel, Mr. Charles Emil Henry",
           1,
           "Cherbourg"
          ],
          [
           "Stengel, Mrs. Charles Emil Henry (Annie May Morris)",
           1,
           "Cherbourg"
          ],
          [
           "Stephenson, Mrs. Walter Bertram (Martha Eustis)",
           1,
           "Cherbourg"
          ],
          [
           "Stone, Mrs. George Nelson (Martha Evelyn)",
           1,
           "Southampton"
          ],
          [
           "Swift, Mrs. Frederick Joel (Margaret Welles Barron)",
           1,
           "Southampton"
          ],
          [
           "Taussig, Miss. Ruth",
           1,
           "Southampton"
          ],
          [
           "Taussig, Mrs. Emil (Tillie Mandelbaum)",
           1,
           "Southampton"
          ],
          [
           "Taylor, Mr. Elmer Zebley",
           1,
           "Southampton"
          ],
          [
           "Taylor, Mrs. Elmer Zebley (Juliet Cummins Wright)",
           1,
           "Southampton"
          ],
          [
           "Thayer, Mr. John Borland Jr",
           1,
           "Cherbourg"
          ],
          [
           "Thayer, Mrs. John Borland (Marian Longstreth Morris)",
           1,
           "Cherbourg"
          ],
          [
           "Thorne, Mrs. Gertrude Maybelle",
           1,
           "Cherbourg"
          ],
          [
           "Tucker, Mr. Gilbert Milligan Jr",
           1,
           "Cherbourg"
          ],
          [
           "Ward, Miss. Anna",
           1,
           "Cherbourg"
          ],
          [
           "Warren, Mrs. Frank Manley (Anna Sophia Atkinson)",
           1,
           "Cherbourg"
          ],
          [
           "White, Mrs. John Stuart (Ella Holmes)",
           1,
           "Cherbourg"
          ],
          [
           "Wick, Miss. Mary Natalie",
           1,
           "Southampton"
          ],
          [
           "Wick, Mrs. George Dennick (Mary Hitchcock)",
           1,
           "Southampton"
          ],
          [
           "Widener, Mrs. George Dunton (Eleanor Elkins)",
           1,
           "Cherbourg"
          ],
          [
           "Willard, Miss. Constance",
           1,
           "Southampton"
          ],
          [
           "Williams, Mr. Richard Norris II",
           1,
           "Cherbourg"
          ],
          [
           "Wilson, Miss. Helen Alice",
           1,
           "Cherbourg"
          ],
          [
           "Woolner, Mr. Hugh",
           1,
           "Southampton"
          ],
          [
           "Young, Miss. Marie Grice",
           1,
           "Cherbourg"
          ],
          [
           "Abelson, Mrs. Samuel (Hannah Wizosky)",
           2,
           "Cherbourg"
          ],
          [
           "Angle, Mrs. William A (Florence \"Mary\" Agnes Hughes)",
           2,
           "Southampton"
          ],
          [
           "Ball, Mrs. (Ada E Hall)",
           2,
           "Southampton"
          ],
          [
           "Beane, Mr. Edward",
           2,
           "Southampton"
          ],
          [
           "Beane, Mrs. Edward (Ethel Clarke)",
           2,
           "Southampton"
          ],
          [
           "Becker, Master. Richard F",
           2,
           "Southampton"
          ],
          [
           "Becker, Miss. Marion Louise",
           2,
           "Southampton"
          ],
          [
           "Becker, Miss. Ruth Elizabeth",
           2,
           "Southampton"
          ],
          [
           "Becker, Mrs. Allen Oliver (Nellie E Baumgardner)",
           2,
           "Southampton"
          ],
          [
           "Beesley, Mr. Lawrence",
           2,
           "Southampton"
          ],
          [
           "Bentham, Miss. Lilian W",
           2,
           "Southampton"
          ],
          [
           "Brown, Miss. Amelia \"Mildred\"",
           2,
           "Southampton"
          ],
          [
           "Brown, Miss. Edith Eileen",
           2,
           "Southampton"
          ],
          [
           "Brown, Mrs. Thomas William Solomon (Elizabeth Catherine Ford)",
           2,
           "Southampton"
          ],
          [
           "Bryhl, Miss. Dagmar Jenny Ingeborg ",
           2,
           "Southampton"
          ],
          [
           "Buss, Miss. Kate",
           2,
           "Southampton"
          ],
          [
           "Bystrom, Mrs. (Karolina)",
           2,
           "Southampton"
          ],
          [
           "Caldwell, Master. Alden Gates",
           2,
           "Southampton"
          ],
          [
           "Caldwell, Mr. Albert Francis",
           2,
           "Southampton"
          ],
          [
           "Caldwell, Mrs. Albert Francis (Sylvia Mae Harbaugh)",
           2,
           "Southampton"
          ],
          [
           "Cameron, Miss. Clear Annie",
           2,
           "Southampton"
          ],
          [
           "Christy, Miss. Julie Rachel",
           2,
           "Southampton"
          ],
          [
           "Christy, Mrs. (Alice Frances)",
           2,
           "Southampton"
          ],
          [
           "Clarke, Mrs. Charles V (Ada Maria Winfield)",
           2,
           "Southampton"
          ],
          [
           "Collett, Mr. Sidney C Stuart",
           2,
           "Southampton"
          ],
          [
           "Collyer, Miss. Marjorie \"Lottie\"",
           2,
           "Southampton"
          ],
          [
           "Collyer, Mrs. Harvey (Charlotte Annie Tate)",
           2,
           "Southampton"
          ],
          [
           "Cook, Mrs. (Selena Rogers)",
           2,
           "Southampton"
          ],
          [
           "Davies, Master. John Morgan Jr",
           2,
           "Southampton"
          ],
          [
           "Davies, Mrs. John Morgan (Elizabeth Agnes Mary White) ",
           2,
           "Southampton"
          ],
          [
           "Davis, Miss. Mary",
           2,
           "Southampton"
          ],
          [
           "del Carlo, Mrs. Sebastiano (Argenia Genovesi)",
           2,
           "Cherbourg"
          ],
          [
           "Doling, Miss. Elsie",
           2,
           "Southampton"
          ],
          [
           "Doling, Mrs. John T (Ada Julia Bone)",
           2,
           "Southampton"
          ],
          [
           "Drew, Master. Marshall Brines",
           2,
           "Southampton"
          ],
          [
           "Drew, Mrs. James Vivian (Lulu Thorne Christian)",
           2,
           "Southampton"
          ],
          [
           "Duran y More, Miss. Asuncion",
           2,
           "Cherbourg"
          ],
          [
           "Duran y More, Miss. Florentina",
           2,
           "Cherbourg"
          ],
          [
           "Faunthorpe, Mrs. Lizzie (Elizabeth Anne Wilkinson)",
           2,
           "Southampton"
          ],
          [
           "Garside, Miss. Ethel",
           2,
           "Southampton"
          ],
          [
           "Hamalainen, Master. Viljo",
           2,
           "Southampton"
          ],
          [
           "Hamalainen, Mrs. William (Anna)",
           2,
           "Southampton"
          ],
          [
           "Harper, Miss. Annie Jessie \"Nina\"",
           2,
           "Southampton"
          ],
          [
           "Harris, Mr. George",
           2,
           "Southampton"
          ],
          [
           "Hart, Miss. Eva Miriam",
           2,
           "Southampton"
          ],
          [
           "Hart, Mrs. Benjamin (Esther Ada Bloomfield)",
           2,
           "Southampton"
          ],
          [
           "Herman, Miss. Alice",
           2,
           "Southampton"
          ],
          [
           "Herman, Miss. Kate",
           2,
           "Southampton"
          ],
          [
           "Herman, Mrs. Samuel (Jane Laver)",
           2,
           "Southampton"
          ],
          [
           "Hewlett, Mrs. (Mary D Kingcome) ",
           2,
           "Southampton"
          ],
          [
           "Hocking, Miss. Ellen \"Nellie\"",
           2,
           "Southampton"
          ],
          [
           "Hocking, Mrs. Elizabeth (Eliza Needs)",
           2,
           "Southampton"
          ],
          [
           "Hold, Mrs. Stephen (Annie Margaret Hill)",
           2,
           "Southampton"
          ],
          [
           "Hosono, Mr. Masabumi",
           2,
           "Southampton"
          ],
          [
           "Ilett, Miss. Bertha",
           2,
           "Southampton"
          ],
          [
           "Jacobsohn, Mrs. Sidney Samuel (Amy Frances Christy)",
           2,
           "Southampton"
          ],
          [
           "Jerwan, Mrs. Amin S (Marie Marthe Thuillard)",
           2,
           "Cherbourg"
          ],
          [
           "Kantor, Mrs. Sinai (Miriam Sternin)",
           2,
           "Southampton"
          ],
          [
           "Keane, Miss. Nora A",
           2,
           "Queenstown"
          ],
          [
           "Kelly, Mrs. Florence \"Fannie\"",
           2,
           "Southampton"
          ],
          [
           "Laroche, Miss. Louise",
           2,
           "Cherbourg"
          ],
          [
           "Laroche, Miss. Simonne Marie Anne Andree",
           2,
           "Cherbourg"
          ],
          [
           "Laroche, Mrs. Joseph (Juliette Marie Louise Lafargue)",
           2,
           "Cherbourg"
          ],
          [
           "Lehmann, Miss. Bertha",
           2,
           "Cherbourg"
          ],
          [
           "Leitch, Miss. Jessie Wills",
           2,
           "Southampton"
          ],
          [
           "Lemore, Mrs. (Amelia Milley)",
           2,
           "Southampton"
          ],
          [
           "Louch, Mrs. Charles Alexander (Alice Adelaide Slow)",
           2,
           "Southampton"
          ],
          [
           "Mallet, Master. Andre",
           2,
           "Cherbourg"
          ],
          [
           "Mallet, Mrs. Albert (Antoinette Magnin)",
           2,
           "Cherbourg"
          ],
          [
           "Mellinger, Miss. Madeleine Violet",
           2,
           "Southampton"
          ],
          [
           "Mellinger, Mrs. (Elizabeth Anne Maidment)",
           2,
           "Southampton"
          ],
          [
           "Mellors, Mr. William John",
           2,
           "Southampton"
          ],
          [
           "Nasser, Mrs. Nicholas (Adele Achem)",
           2,
           "Cherbourg"
          ],
          [
           "Navratil, Master. Edmond Roger",
           2,
           "Southampton"
          ],
          [
           "Navratil, Master. Michel M",
           2,
           "Southampton"
          ],
          [
           "Nourney, Mr. Alfred (\"Baron von Drachstedt\")",
           2,
           "Cherbourg"
          ],
          [
           "Nye, Mrs. (Elizabeth Ramell)",
           2,
           "Southampton"
          ],
          [
           "Oxenham, Mr. Percy Thomas",
           2,
           "Southampton"
          ],
          [
           "Padro y Manent, Mr. Julian",
           2,
           "Cherbourg"
          ],
          [
           "Pallas y Castello, Mr. Emilio",
           2,
           "Cherbourg"
          ],
          [
           "Parrish, Mrs. (Lutie Davis)",
           2,
           "Southampton"
          ],
          [
           "Phillips, Miss. Alice Frances Louisa",
           2,
           "Southampton"
          ],
          [
           "Phillips, Miss. Kate Florence (\"Mrs Kate Louise Phillips Marshall\")",
           2,
           "Southampton"
          ],
          [
           "Pinsky, Mrs. (Rosa)",
           2,
           "Southampton"
          ],
          [
           "Portaluppi, Mr. Emilio Ilario Giuseppe",
           2,
           "Cherbourg"
          ],
          [
           "Quick, Miss. Phyllis May",
           2,
           "Southampton"
          ],
          [
           "Quick, Miss. Winifred Vera",
           2,
           "Southampton"
          ],
          [
           "Quick, Mrs. Frederick Charles (Jane Richards)",
           2,
           "Southampton"
          ],
          [
           "Renouf, Mrs. Peter Henry (Lillian Jefferys)",
           2,
           "Southampton"
          ],
          [
           "Reynaldo, Ms. Encarnacion",
           2,
           "Southampton"
          ],
          [
           "Richards, Master. George Sibley",
           2,
           "Southampton"
          ],
          [
           "Richards, Master. William Rowe",
           2,
           "Southampton"
          ],
          [
           "Richards, Mrs. Sidney (Emily Hocking)",
           2,
           "Southampton"
          ],
          [
           "Ridsdale, Miss. Lucy",
           2,
           "Southampton"
          ],
          [
           "Rugg, Miss. Emily",
           2,
           "Southampton"
          ],
          [
           "Shelley, Mrs. William (Imanita Parrish Hall)",
           2,
           "Southampton"
          ],
          [
           "Silven, Miss. Lyyli Karoliina",
           2,
           "Southampton"
          ],
          [
           "Sincock, Miss. Maude",
           2,
           "Southampton"
          ],
          [
           "Sinkkonen, Miss. Anna",
           2,
           "Southampton"
          ],
          [
           "Slayter, Miss. Hilda Mary",
           2,
           "Queenstown"
          ],
          [
           "Smith, Miss. Marion Elsie",
           2,
           "Southampton"
          ],
          [
           "Toomey, Miss. Ellen",
           2,
           "Southampton"
          ],
          [
           "Trout, Mrs. William H (Jessie L)",
           2,
           "Southampton"
          ],
          [
           "Troutt, Miss. Edwina Celia \"Winnie\"",
           2,
           "Southampton"
          ],
          [
           "Walcroft, Miss. Nellie",
           2,
           "Southampton"
          ],
          [
           "Ware, Mrs. John James (Florence Louise Long)",
           2,
           "Southampton"
          ],
          [
           "Watt, Miss. Bertha J",
           2,
           "Southampton"
          ],
          [
           "Watt, Mrs. James (Elizabeth \"Bessie\" Inglis Milne)",
           2,
           "Southampton"
          ],
          [
           "Webber, Miss. Susan",
           2,
           "Southampton"
          ],
          [
           "Weisz, Mrs. Leopold (Mathilde Francoise Pede)",
           2,
           "Southampton"
          ],
          [
           "Wells, Master. Ralph Lester",
           2,
           "Southampton"
          ],
          [
           "Wells, Miss. Joan",
           2,
           "Southampton"
          ],
          [
           "Wells, Mrs. Arthur Henry (\"Addie\" Dart Trevaskis)",
           2,
           "Southampton"
          ],
          [
           "West, Miss. Barbara J",
           2,
           "Southampton"
          ],
          [
           "West, Miss. Constance Mirium",
           2,
           "Southampton"
          ],
          [
           "West, Mrs. Edwy Arthur (Ada Mary Worth)",
           2,
           "Southampton"
          ],
          [
           "Wilhelms, Mr. Charles",
           2,
           "Southampton"
          ],
          [
           "Williams, Mr. Charles Eugene",
           2,
           "Southampton"
          ],
          [
           "Wright, Miss. Marion",
           2,
           "Southampton"
          ],
          [
           "Abbott, Mrs. Stanton (Rosa Hunt)",
           3,
           "Southampton"
          ],
          [
           "Abelseth, Miss. Karen Marie",
           3,
           "Southampton"
          ],
          [
           "Abelseth, Mr. Olaus Jorgensen",
           3,
           "Southampton"
          ],
          [
           "Abrahamsson, Mr. Abraham August Johannes",
           3,
           "Southampton"
          ],
          [
           "Abrahim, Mrs. Joseph (Sophie Halaut Easu)",
           3,
           "Cherbourg"
          ],
          [
           "Aks, Master. Philip Frank",
           3,
           "Southampton"
          ],
          [
           "Aks, Mrs. Sam (Leah Rosen)",
           3,
           "Southampton"
          ],
          [
           "Albimona, Mr. Nassef Cassem",
           3,
           "Cherbourg"
          ],
          [
           "Andersen-Jensen, Miss. Carla Christine Nielsine",
           3,
           "Southampton"
          ],
          [
           "Andersson, Miss. Erna Alexandra",
           3,
           "Southampton"
          ],
          [
           "Andersson, Mr. August Edvard (\"Wennerstrom\")",
           3,
           "Southampton"
          ],
          [
           "Asplund, Master. Edvin Rojj Felix",
           3,
           "Southampton"
          ],
          [
           "Asplund, Miss. Lillian Gertrud",
           3,
           "Southampton"
          ],
          [
           "Asplund, Mr. Johan Charles",
           3,
           "Southampton"
          ],
          [
           "Asplund, Mrs. Carl Oscar (Selma Augusta Emilia Johansson)",
           3,
           "Southampton"
          ],
          [
           "Assaf Khalil, Mrs. Mariana (\"Miriam\")",
           3,
           "Cherbourg"
          ],
          [
           "Ayoub, Miss. Banoura",
           3,
           "Cherbourg"
          ],
          [
           "Backstrom, Mrs. Karl Alfred (Maria Mathilda Gustafsson)",
           3,
           "Southampton"
          ],
          [
           "Baclini, Miss. Eugenie",
           3,
           "Cherbourg"
          ],
          [
           "Baclini, Miss. Helene Barbara",
           3,
           "Cherbourg"
          ],
          [
           "Baclini, Miss. Marie Catherine",
           3,
           "Cherbourg"
          ],
          [
           "Baclini, Mrs. Solomon (Latifa Qurban)",
           3,
           "Cherbourg"
          ],
          [
           "Badman, Miss. Emily Louisa",
           3,
           "Southampton"
          ],
          [
           "Barah, Mr. Hanna Assi",
           3,
           "Cherbourg"
          ],
          [
           "Bing, Mr. Lee",
           3,
           "Southampton"
          ],
          [
           "Bradley, Miss. Bridget Delia",
           3,
           "Queenstown"
          ],
          [
           "Buckley, Mr. Daniel",
           3,
           "Queenstown"
          ],
          [
           "Carr, Miss. Helen \"Ellen\"",
           3,
           "Queenstown"
          ],
          [
           "Chip, Mr. Chang",
           3,
           "Southampton"
          ],
          [
           "Cohen, Mr. Gurshon \"Gus\"",
           3,
           "Southampton"
          ],
          [
           "Connolly, Miss. Kate",
           3,
           "Queenstown"
          ],
          [
           "Coutts, Master. Eden Leslie \"Neville\"",
           3,
           "Southampton"
          ],
          [
           "Coutts, Master. William Loch \"William\"",
           3,
           "Southampton"
          ],
          [
           "Coutts, Mrs. William (Winnie \"Minnie\" Treanor)",
           3,
           "Southampton"
          ],
          [
           "Cribb, Miss. Laura Alice",
           3,
           "Southampton"
          ],
          [
           "Dahl, Mr. Karl Edwart",
           3,
           "Southampton"
          ],
          [
           "Daly, Miss. Margaret Marcella \"Maggie\"",
           3,
           "Queenstown"
          ],
          [
           "Daly, Mr. Eugene Patrick",
           3,
           "Queenstown"
          ],
          [
           "Davison, Mrs. Thomas Henry (Mary E Finck)",
           3,
           "Southampton"
          ],
          [
           "de Messemaeker, Mr. Guillaume Joseph",
           3,
           "Southampton"
          ],
          [
           "de Messemaeker, Mrs. Guillaume Joseph (Emma)",
           3,
           "Southampton"
          ],
          [
           "de Mulder, Mr. Theodore",
           3,
           "Southampton"
          ],
          [
           "Dean, Master. Bertram Vere",
           3,
           "Southampton"
          ],
          [
           "Dean, Miss. Elizabeth Gladys \"Millvina\"",
           3,
           "Southampton"
          ],
          [
           "Dean, Mrs. Bertram (Eva Georgetta Light)",
           3,
           "Southampton"
          ],
          [
           "Devaney, Miss. Margaret Delia",
           3,
           "Queenstown"
          ],
          [
           "Dorking, Mr. Edward Arthur",
           3,
           "Southampton"
          ],
          [
           "Dowdell, Miss. Elizabeth",
           3,
           "Southampton"
          ],
          [
           "Drapkin, Miss. Jennie",
           3,
           "Southampton"
          ],
          [
           "Duquemin, Mr. Joseph",
           3,
           "Southampton"
          ],
          [
           "Dyker, Mrs. Adolf Fredrik (Anna Elisabeth Judith Andersson)",
           3,
           "Southampton"
          ],
          [
           "Emanuel, Miss. Virginia Ethel",
           3,
           "Southampton"
          ],
          [
           "Finoli, Mr. Luigi",
           3,
           "Southampton"
          ],
          [
           "Foo, Mr. Choong",
           3,
           "Southampton"
          ],
          [
           "Gilnagh, Miss. Katherine \"Katie\"",
           3,
           "Queenstown"
          ],
          [
           "Glynn, Miss. Mary Agatha",
           3,
           "Queenstown"
          ],
          [
           "Goldsmith, Master. Frank John William \"Frankie\"",
           3,
           "Southampton"
          ],
          [
           "Goldsmith, Mrs. Frank John (Emily Alice Brown)",
           3,
           "Southampton"
          ],
          [
           "Hakkarainen, Mrs. Pekka Pietari (Elin Matilda Dolck)",
           3,
           "Southampton"
          ],
          [
           "Hansen, Mrs. Claus Peter (Jennie L Howard)",
           3,
           "Southampton"
          ],
          [
           "Healy, Miss. Hanora \"Nora\"",
           3,
           "Queenstown"
          ],
          [
           "Hedman, Mr. Oskar Arvid",
           3,
           "Southampton"
          ],
          [
           "Hee, Mr. Ling",
           3,
           "Southampton"
          ],
          [
           "Heikkinen, Miss. Laina",
           3,
           "Southampton"
          ],
          [
           "Hellstrom, Miss. Hilda Maria",
           3,
           "Southampton"
          ],
          [
           "Hirvonen, Miss. Hildur E",
           3,
           "Southampton"
          ],
          [
           "Hirvonen, Mrs. Alexander (Helga E Lindqvist)",
           3,
           "Southampton"
          ],
          [
           "Honkanen, Miss. Eliina",
           3,
           "Southampton"
          ],
          [
           "Howard, Miss. May Elizabeth",
           3,
           "Southampton"
          ],
          [
           "Hyman, Mr. Abraham",
           3,
           "Southampton"
          ],
          [
           "Jalsevac, Mr. Ivan",
           3,
           "Cherbourg"
          ],
          [
           "Jansson, Mr. Carl Olof",
           3,
           "Southampton"
          ],
          [
           "Jermyn, Miss. Annie",
           3,
           "Queenstown"
          ],
          [
           "Johannesen-Bratthammer, Mr. Bernt",
           3,
           "Southampton"
          ],
          [
           "Johansson Palmquist, Mr. Oskar Leander",
           3,
           "Southampton"
          ],
          [
           "Johnson, Master. Harold Theodor",
           3,
           "Southampton"
          ],
          [
           "Johnson, Miss. Eleanor Ileen",
           3,
           "Southampton"
          ],
          [
           "Johnson, Mrs. Oscar W (Elisabeth Vilhelmina Berg)",
           3,
           "Southampton"
          ],
          [
           "Jonsson, Mr. Carl",
           3,
           "Southampton"
          ],
          [
           "Jussila, Mr. Eiriik",
           3,
           "Southampton"
          ],
          [
           "Karlsson, Mr. Einar Gervasius",
           3,
           "Southampton"
          ],
          [
           "Karun, Miss. Manca",
           3,
           "Cherbourg"
          ],
          [
           "Karun, Mr. Franz",
           3,
           "Cherbourg"
          ],
          [
           "Kelly, Miss. Anna Katherine \"Annie Kate\"",
           3,
           "Queenstown"
          ],
          [
           "Kelly, Miss. Mary",
           3,
           "Queenstown"
          ],
          [
           "Kennedy, Mr. John",
           3,
           "Queenstown"
          ],
          [
           "Kink-Heilmann, Miss. Luise Gretchen",
           3,
           "Southampton"
          ],
          [
           "Kink-Heilmann, Mr. Anton",
           3,
           "Southampton"
          ],
          [
           "Kink-Heilmann, Mrs. Anton (Luise Heilmann)",
           3,
           "Southampton"
          ],
          [
           "Krekorian, Mr. Neshan",
           3,
           "Cherbourg"
          ],
          [
           "Lam, Mr. Ali",
           3,
           "Southampton"
          ],
          [
           "Landergren, Miss. Aurora Adelia",
           3,
           "Southampton"
          ],
          [
           "Lang, Mr. Fang",
           3,
           "Southampton"
          ],
          [
           "Leeni, Mr. Fahim (\"Philip Zenni\")",
           3,
           "Cherbourg"
          ],
          [
           "Lindqvist, Mr. Eino William",
           3,
           "Southampton"
          ],
          [
           "Lulic, Mr. Nikola",
           3,
           "Southampton"
          ],
          [
           "Lundin, Miss. Olga Elida",
           3,
           "Southampton"
          ],
          [
           "Lundstrom, Mr. Thure Edvin",
           3,
           "Southampton"
          ],
          [
           "Madigan, Miss. Margaret \"Maggie\"",
           3,
           "Queenstown"
          ],
          [
           "Madsen, Mr. Fridtjof Arne",
           3,
           "Southampton"
          ],
          [
           "Mamee, Mr. Hanna",
           3,
           "Cherbourg"
          ],
          [
           "Mannion, Miss. Margareth",
           3,
           "Queenstown"
          ],
          [
           "Masselmani, Mrs. Fatima",
           3,
           "Cherbourg"
          ],
          [
           "McCarthy, Miss. Catherine \"Katie\"",
           3,
           "Queenstown"
          ],
          [
           "McCormack, Mr. Thomas Joseph",
           3,
           "Queenstown"
          ],
          [
           "McCoy, Miss. Agnes",
           3,
           "Queenstown"
          ],
          [
           "McCoy, Miss. Alicia",
           3,
           "Queenstown"
          ],
          [
           "McCoy, Mr. Bernard",
           3,
           "Queenstown"
          ],
          [
           "McDermott, Miss. Brigdet Delia",
           3,
           "Queenstown"
          ],
          [
           "McGovern, Miss. Mary",
           3,
           "Queenstown"
          ],
          [
           "McGowan, Miss. Anna \"Annie\"",
           3,
           "Queenstown"
          ],
          [
           "Midtsjo, Mr. Karl Albert",
           3,
           "Southampton"
          ],
          [
           "Mockler, Miss. Helen Mary \"Ellie\"",
           3,
           "Queenstown"
          ],
          [
           "Moor, Master. Meier",
           3,
           "Southampton"
          ],
          [
           "Moor, Mrs. (Beila)",
           3,
           "Southampton"
          ],
          [
           "Moran, Miss. Bertha",
           3,
           "Queenstown"
          ],
          [
           "Moss, Mr. Albert Johan",
           3,
           "Southampton"
          ],
          [
           "Moubarek, Master. Gerios",
           3,
           "Cherbourg"
          ],
          [
           "Moubarek, Master. Halim Gonios (\"William George\")",
           3,
           "Cherbourg"
          ],
          [
           "Moubarek, Mrs. George (Omine \"Amenia\" Alexander)",
           3,
           "Cherbourg"
          ],
          [
           "Moussa, Mrs. (Mantoura Boulos)",
           3,
           "Cherbourg"
          ],
          [
           "Mullens, Miss. Katherine \"Katie\"",
           3,
           "Queenstown"
          ],
          [
           "Mulvihill, Miss. Bertha E",
           3,
           "Queenstown"
          ],
          [
           "Murphy, Miss. Katherine \"Kate\"",
           3,
           "Queenstown"
          ],
          [
           "Murphy, Miss. Margaret Jane",
           3,
           "Queenstown"
          ],
          [
           "Murphy, Miss. Nora",
           3,
           "Queenstown"
          ],
          [
           "Najib, Miss. Adele Kiamie \"Jane\"",
           3,
           "Cherbourg"
          ],
          [
           "Nakid, Miss. Maria (\"Mary\")",
           3,
           "Cherbourg"
          ],
          [
           "Nakid, Mr. Sahid",
           3,
           "Cherbourg"
          ],
          [
           "Nakid, Mrs. Said (Waika \"Mary\" Mowad)",
           3,
           "Cherbourg"
          ],
          [
           "Nicola-Yarred, Master. Elias",
           3,
           "Cherbourg"
          ],
          [
           "Nicola-Yarred, Miss. Jamila",
           3,
           "Cherbourg"
          ],
          [
           "Nilsson, Miss. Berta Olivia",
           3,
           "Southampton"
          ],
          [
           "Nilsson, Miss. Helmina Josefina",
           3,
           "Southampton"
          ],
          [
           "Niskanen, Mr. Juha",
           3,
           "Southampton"
          ],
          [
           "Nysten, Miss. Anna Sofia",
           3,
           "Southampton"
          ],
          [
           "O'Brien, Mrs. Thomas (Johanna \"Hannah\" Godfrey)",
           3,
           "Queenstown"
          ],
          [
           "O'Driscoll, Miss. Bridget",
           3,
           "Queenstown"
          ],
          [
           "O'Dwyer, Miss. Ellen \"Nellie\"",
           3,
           "Queenstown"
          ],
          [
           "Ohman, Miss. Velin",
           3,
           "Southampton"
          ],
          [
           "O'Keefe, Mr. Patrick",
           3,
           "Queenstown"
          ],
          [
           "O'Leary, Miss. Hanora \"Norah\"",
           3,
           "Queenstown"
          ],
          [
           "Olsen, Master. Artur Karl",
           3,
           "Southampton"
          ],
          [
           "Olsson, Mr. Oscar Wilhelm",
           3,
           "Southampton"
          ],
          [
           "Osman, Mrs. Mara",
           3,
           "Southampton"
          ],
          [
           "Persson, Mr. Ernst Ulrik",
           3,
           "Southampton"
          ],
          [
           "Peter, Master. Michael J",
           3,
           "Cherbourg"
          ],
          [
           "Peter, Miss. Anna",
           3,
           "Cherbourg"
          ],
          [
           "Peter, Mrs. Catherine (Catherine Rizk)",
           3,
           "Cherbourg"
          ],
          [
           "Pickard, Mr. Berk (Berk Trembisky)",
           3,
           "Southampton"
          ],
          [
           "Riordan, Miss. Johanna \"Hannah\"",
           3,
           "Queenstown"
          ],
          [
           "Roth, Miss. Sarah A",
           3,
           "Southampton"
          ],
          [
           "Ryan, Mr. Edward",
           3,
           "Queenstown"
          ],
          [
           "Salkjelsvik, Miss. Anna Kristine",
           3,
           "Southampton"
          ],
          [
           "Sandstrom, Miss. Beatrice Irene",
           3,
           "Southampton"
          ],
          [
           "Sandstrom, Mrs. Hjalmar (Agnes Charlotta Bengtsson)",
           3,
           "Southampton"
          ],
          [
           "Sandstrom, Miss. Marguerite Rut",
           3,
           "Southampton"
          ],
          [
           "Sap, Mr. Julius",
           3,
           "Southampton"
          ],
          [
           "Sheerlinck, Mr. Jan Baptist",
           3,
           "Southampton"
          ],
          [
           "Shine, Miss. Ellen Natalia",
           3,
           "Queenstown"
          ],
          [
           "Sjoblom, Miss. Anna Sofia",
           3,
           "Southampton"
          ],
          [
           "Smyth, Miss. Julia",
           3,
           "Queenstown"
          ],
          [
           "Stanley, Miss. Amy Zillah Elsie",
           3,
           "Southampton"
          ],
          [
           "Stranden, Mr. Juho",
           3,
           "Southampton"
          ],
          [
           "Sunderland, Mr. Victor Francis",
           3,
           "Southampton"
          ],
          [
           "Sundman, Mr. Johan Julian",
           3,
           "Southampton"
          ],
          [
           "Svensson, Mr. Johan Cervin",
           3,
           "Southampton"
          ],
          [
           "Tenglin, Mr. Gunnar Isidor",
           3,
           "Southampton"
          ],
          [
           "Thomas, Master. Assad Alexander",
           3,
           "Cherbourg"
          ],
          [
           "Thomas, Mrs. Alexander (Thamine \"Thelma\")",
           3,
           "Cherbourg"
          ],
          [
           "Thorneycroft, Mrs. Percival (Florence Kate White)",
           3,
           "Southampton"
          ],
          [
           "Tornquist, Mr. William Henry",
           3,
           "Southampton"
          ],
          [
           "Touma, Master. Georges Youssef",
           3,
           "Cherbourg"
          ],
          [
           "Touma, Miss. Maria Youssef",
           3,
           "Cherbourg"
          ],
          [
           "Touma, Mrs. Darwis (Hanne Youssef Razi)",
           3,
           "Cherbourg"
          ],
          [
           "Turja, Miss. Anna Sofia",
           3,
           "Southampton"
          ],
          [
           "Turkula, Mrs. (Hedwig)",
           3,
           "Southampton"
          ],
          [
           "Vartanian, Mr. David",
           3,
           "Cherbourg"
          ],
          [
           "Whabee, Mrs. George Joseph (Shawneene Abi-Saab)",
           3,
           "Cherbourg"
          ],
          [
           "Wilkes, Mrs. James (Ellen Needs)",
           3,
           "Southampton"
          ],
          [
           "Yasbeck, Mrs. Antoni (Selini Alexander)",
           3,
           "Cherbourg"
          ]
         ],
         "fillcolor": "rgba(255,255,255,0)",
         "hoveron": "points",
         "hovertemplate": "<b>%{customdata[0]}</b><br>Sex: %{customdata[1]}<br>Age: %{customdata[2]}<br>Class: %{customdata[3]}<br>Embarked: %{customdata[4]}<br>%{yaxis.title.text}: %{y}<br><extra></extra>",
         "legendgroup": "Survived",
         "line": {
          "color": "rgba(255,255,255,0)"
         },
         "marker": {
          "color": "#2E8B57",
          "line": {
           "color": "white",
           "width": 0.5
          },
          "opacity": 0.6,
          "size": 6
         },
         "name": "Survived",
         "offsetgroup": "Survived",
         "orientation": "v",
         "pointpos": 0,
         "showlegend": true,
         "type": "box",
         "x": [
          "female",
          "male",
          "male",
          "female",
          "female",
          "female",
          "female",
          "female",
          "male",
          "female",
          "female",
          "male",
          "female",
          "male",
          "female",
          "female",
          "male",
          "female",
          "female",
          "male",
          "male",
          "female",
          "female",
          "female",
          "female",
          "male",
          "female",
          "female",
          "female",
          "female",
          "male",
          "female",
          "male",
          "female",
          "male",
          "female",
          "male",
          "female",
          "female",
          "female",
          "female",
          "male",
          "female",
          "female",
          "female",
          "male",
          "female",
          "female",
          "female",
          "female",
          "female",
          "female",
          "female",
          "female",
          "female",
          "male",
          "male",
          "female",
          "female",
          "male",
          "female",
          "male",
          "male",
          "female",
          "female",
          "female",
          "female",
          "male",
          "female",
          "female",
          "female",
          "female",
          "female",
          "male",
          "female",
          "female",
          "female",
          "female",
          "female",
          "male",
          "male",
          "female",
          "female",
          "male",
          "female",
          "female",
          "female",
          "female",
          "female",
          "male",
          "female",
          "male",
          "female",
          "female",
          "male",
          "female",
          "male",
          "female",
          "male",
          "female",
          "female",
          "male",
          "male",
          "female",
          "female",
          "female",
          "female",
          "female",
          "female",
          "male",
          "male",
          "female",
          "female",
          "male",
          "female",
          "male",
          "female",
          "female",
          "female",
          "female",
          "male",
          "female",
          "female",
          "female",
          "female",
          "female",
          "female",
          "female",
          "male",
          "female",
          "female",
          "male",
          "female",
          "female",
          "female",
          "male",
          "female",
          "female",
          "female",
          "female",
          "male",
          "female",
          "female",
          "female",
          "female",
          "male",
          "female",
          "male",
          "female",
          "male",
          "female",
          "female",
          "female",
          "male",
          "female",
          "female",
          "female",
          "male",
          "female",
          "male",
          "female",
          "female",
          "male",
          "female",
          "male",
          "female",
          "male",
          "male",
          "female",
          "male",
          "female",
          "male",
          "male",
          "female",
          "female",
          "male",
          "male",
          "female",
          "female",
          "female",
          "female",
          "female",
          "female",
          "male",
          "female",
          "male",
          "female",
          "female",
          "male",
          "female",
          "female",
          "female",
          "female",
          "female",
          "female",
          "female",
          "male",
          "female",
          "male",
          "female",
          "female",
          "female",
          "female",
          "male",
          "female",
          "male",
          "female",
          "female",
          "female",
          "male",
          "female",
          "female",
          "female",
          "female",
          "female",
          "female",
          "female",
          "male",
          "male",
          "female",
          "female",
          "female",
          "female",
          "female",
          "male",
          "female",
          "female",
          "female",
          "male",
          "female",
          "female",
          "female",
          "female",
          "female",
          "male",
          "female",
          "female",
          "female",
          "female",
          "female",
          "male",
          "female",
          "female",
          "male",
          "female",
          "female",
          "female",
          "female",
          "female",
          "female",
          "female",
          "female",
          "female",
          "male",
          "female",
          "female",
          "female",
          "female",
          "female",
          "female",
          "female",
          "female",
          "female",
          "female",
          "female",
          "female",
          "female",
          "male",
          "female",
          "female",
          "female",
          "male",
          "female",
          "male",
          "male",
          "male",
          "female",
          "male",
          "male",
          "male",
          "female",
          "female",
          "female",
          "female",
          "male",
          "female",
          "female",
          "female",
          "female",
          "female",
          "male",
          "male",
          "female",
          "female",
          "female",
          "female",
          "female",
          "female",
          "female",
          "female",
          "female",
          "female",
          "female",
          "female",
          "female",
          "female",
          "female",
          "female",
          "female",
          "female",
          "male",
          "female",
          "female",
          "female",
          "female",
          "female",
          "male",
          "male",
          "female",
          "female",
          "female",
          "male",
          "male",
          "female",
          "male",
          "female",
          "male",
          "female",
          "female",
          "male",
          "male",
          "female",
          "male",
          "female",
          "female",
          "female",
          "female",
          "female",
          "female",
          "female",
          "female",
          "female",
          "male",
          "male",
          "female",
          "male",
          "female",
          "male",
          "male",
          "female",
          "male",
          "male",
          "female",
          "female",
          "male",
          "female",
          "male",
          "female",
          "male",
          "female",
          "male",
          "male",
          "female",
          "female",
          "female",
          "male",
          "female",
          "female",
          "male",
          "female",
          "female",
          "male",
          "male",
          "female",
          "female",
          "male",
          "female",
          "female",
          "female",
          "female",
          "male",
          "male",
          "female",
          "female",
          "female",
          "female",
          "female",
          "female",
          "male",
          "male",
          "male",
          "female",
          "male",
          "male",
          "male",
          "female",
          "female",
          "male",
          "male",
          "male",
          "female",
          "male",
          "female",
          "female",
          "male",
          "female",
          "male",
          "female",
          "male",
          "male",
          "female",
          "male",
          "male",
          "male",
          "male",
          "female",
          "male",
          "female",
          "male",
          "male",
          "female",
          "female",
          "female",
          "male",
          "female",
          "female",
          "male",
          "female",
          "female",
          "female",
          "male",
          "female",
          "male",
          "female",
          "female",
          "male",
          "male",
          "male",
          "female",
          "female",
          "female",
          "female",
          "female",
          "female",
          "female",
          "female",
          "female",
          "male",
          "female",
          "male",
          "female",
          "female",
          "female",
          "male",
          "female",
          "female",
          "female",
          "female",
          "female",
          "male",
          "female",
          "male",
          "male",
          "female",
          "male",
          "male",
          "female",
          "female",
          "male",
          "female",
          "female",
          "male",
          "female",
          "female",
          "female",
          "female",
          "male",
          "male",
          "female",
          "female",
          "female",
          "female",
          "male",
          "male",
          "male",
          "male",
          "male",
          "male",
          "female",
          "female",
          "male",
          "male",
          "female",
          "female",
          "female",
          "female",
          "male",
          "female",
          "female",
          "female"
         ],
         "x0": " ",
         "xaxis": "x",
         "y": {
          "bdata": "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",
          "dtype": "f8"
         },
         "y0": " ",
         "yaxis": "y"
        },
        {
         "alignmentgroup": "True",
         "boxpoints": "all",
         "customdata": [
          [
           "Allison, Miss. Helen Loraine",
           1,
           "Southampton"
          ],
          [
           "Allison, Mr. Hudson Joshua Creighton",
           1,
           "Southampton"
          ],
          [
           "Allison, Mrs. Hudson J C (Bessie Waldo Daniels)",
           1,
           "Southampton"
          ],
          [
           "Andrews, Mr. Thomas Jr",
           1,
           "Southampton"
          ],
          [
           "Artagaveytia, Mr. Ramon",
           1,
           "Cherbourg"
          ],
          [
           "Astor, Col. John Jacob",
           1,
           "Cherbourg"
          ],
          [
           "Baumann, Mr. John D",
           1,
           "Southampton"
          ],
          [
           "Baxter, Mr. Quigg Edmond",
           1,
           "Cherbourg"
          ],
          [
           "Beattie, Mr. Thomson",
           1,
           "Cherbourg"
          ],
          [
           "Birnbaum, Mr. Jakob",
           1,
           "Cherbourg"
          ],
          [
           "Blackwell, Mr. Stephen Weart",
           1,
           "Southampton"
          ],
          [
           "Borebank, Mr. John James",
           1,
           "Southampton"
          ],
          [
           "Brady, Mr. John Bertram",
           1,
           "Southampton"
          ],
          [
           "Brandeis, Mr. Emil",
           1,
           "Cherbourg"
          ],
          [
           "Brewe, Dr. Arthur Jackson",
           1,
           "Cherbourg"
          ],
          [
           "Butt, Major. Archibald Willingham",
           1,
           "Southampton"
          ],
          [
           "Cairns, Mr. Alexander",
           1,
           "Southampton"
          ],
          [
           "Carlsson, Mr. Frans Olof",
           1,
           "Southampton"
          ],
          [
           "Carrau, Mr. Francisco M",
           1,
           "Southampton"
          ],
          [
           "Carrau, Mr. Jose Pedro",
           1,
           "Southampton"
          ],
          [
           "Case, Mr. Howard Brown",
           1,
           "Southampton"
          ],
          [
           "Cavendish, Mr. Tyrell William",
           1,
           "Southampton"
          ],
          [
           "Chaffee, Mr. Herbert Fuller",
           1,
           "Southampton"
          ],
          [
           "Chisholm, Mr. Roderick Robert Crispin",
           1,
           "Southampton"
          ],
          [
           "Clark, Mr. Walter Miller",
           1,
           "Cherbourg"
          ],
          [
           "Clifford, Mr. George Quincy",
           1,
           "Southampton"
          ],
          [
           "Colley, Mr. Edward Pomeroy",
           1,
           "Southampton"
          ],
          [
           "Compton, Mr. Alexander Taylor Jr",
           1,
           "Cherbourg"
          ],
          [
           "Crafton, Mr. John Bertram",
           1,
           "Southampton"
          ],
          [
           "Crosby, Capt. Edward Gifford",
           1,
           "Southampton"
          ],
          [
           "Cumings, Mr. John Bradley",
           1,
           "Cherbourg"
          ],
          [
           "Davidson, Mr. Thornton",
           1,
           "Southampton"
          ],
          [
           "Douglas, Mr. Walter Donald",
           1,
           "Cherbourg"
          ],
          [
           "Dulles, Mr. William Crothers",
           1,
           "Cherbourg"
          ],
          [
           "Evans, Miss. Edith Corse",
           1,
           "Cherbourg"
          ],
          [
           "Farthing, Mr. John",
           1,
           "Southampton"
          ],
          [
           "Foreman, Mr. Benjamin Laventall",
           1,
           "Cherbourg"
          ],
          [
           "Fortune, Mr. Charles Alexander",
           1,
           "Southampton"
          ],
          [
           "Fortune, Mr. Mark",
           1,
           "Southampton"
          ],
          [
           "Franklin, Mr. Thomas Parham",
           1,
           "Southampton"
          ],
          [
           "Fry, Mr. Richard",
           1,
           "Southampton"
          ],
          [
           "Futrelle, Mr. Jacques Heath",
           1,
           "Southampton"
          ],
          [
           "Gee, Mr. Arthur H",
           1,
           "Southampton"
          ],
          [
           "Giglio, Mr. Victor",
           1,
           "Cherbourg"
          ],
          [
           "Goldschmidt, Mr. George B",
           1,
           "Cherbourg"
          ],
          [
           "Graham, Mr. George Edward",
           1,
           "Southampton"
          ],
          [
           "Guggenheim, Mr. Benjamin",
           1,
           "Cherbourg"
          ],
          [
           "Harrington, Mr. Charles H",
           1,
           "Southampton"
          ],
          [
           "Harris, Mr. Henry Birkhardt",
           1,
           "Southampton"
          ],
          [
           "Harrison, Mr. William",
           1,
           "Southampton"
          ],
          [
           "Hays, Mr. Charles Melville",
           1,
           "Southampton"
          ],
          [
           "Head, Mr. Christopher",
           1,
           "Southampton"
          ],
          [
           "Hilliard, Mr. Herbert Henry",
           1,
           "Southampton"
          ],
          [
           "Hipkins, Mr. William Edward",
           1,
           "Southampton"
          ],
          [
           "Holverson, Mr. Alexander Oskar",
           1,
           "Southampton"
          ],
          [
           "Hoyt, Mr. William Fisher",
           1,
           "Cherbourg"
          ],
          [
           "Isham, Miss. Ann Elizabeth",
           1,
           "Cherbourg"
          ],
          [
           "Jones, Mr. Charles Cresson",
           1,
           "Southampton"
          ],
          [
           "Julian, Mr. Henry Forbes",
           1,
           "Southampton"
          ],
          [
           "Keeping, Mr. Edwin",
           1,
           "Cherbourg"
          ],
          [
           "Kent, Mr. Edward Austin",
           1,
           "Cherbourg"
          ],
          [
           "Kenyon, Mr. Frederick R",
           1,
           "Southampton"
          ],
          [
           "Klaber, Mr. Herman",
           1,
           "Southampton"
          ],
          [
           "Lewy, Mr. Ervin G",
           1,
           "Cherbourg"
          ],
          [
           "Lindeberg-Lind, Mr. Erik Gustaf (\"Mr Edward Lingrey\")",
           1,
           "Southampton"
          ],
          [
           "Long, Mr. Milton Clyde",
           1,
           "Southampton"
          ],
          [
           "Loring, Mr. Joseph Holland",
           1,
           "Southampton"
          ],
          [
           "Maguire, Mr. John Edward",
           1,
           "Southampton"
          ],
          [
           "Marvin, Mr. Daniel Warner",
           1,
           "Southampton"
          ],
          [
           "McCaffry, Mr. Thomas Francis",
           1,
           "Cherbourg"
          ],
          [
           "McCarthy, Mr. Timothy J",
           1,
           "Southampton"
          ],
          [
           "Meyer, Mr. Edgar Joseph",
           1,
           "Cherbourg"
          ],
          [
           "Millet, Mr. Francis Davis",
           1,
           "Southampton"
          ],
          [
           "Minahan, Dr. William Edward",
           1,
           "Queenstown"
          ],
          [
           "Molson, Mr. Harry Markland",
           1,
           "Southampton"
          ],
          [
           "Moore, Mr. Clarence Bloomfield",
           1,
           "Southampton"
          ],
          [
           "Natsch, Mr. Charles H",
           1,
           "Cherbourg"
          ],
          [
           "Newell, Mr. Arthur Webster",
           1,
           "Cherbourg"
          ],
          [
           "Nicholson, Mr. Arthur Ernest",
           1,
           "Southampton"
          ],
          [
           "Ostby, Mr. Engelhart Cornelius",
           1,
           "Cherbourg"
          ],
          [
           "Ovies y Rodriguez, Mr. Servando",
           1,
           "Cherbourg"
          ],
          [
           "Parr, Mr. William Henry Marsh",
           1,
           "Southampton"
          ],
          [
           "Partner, Mr. Austen",
           1,
           "Southampton"
          ],
          [
           "Payne, Mr. Vivian Ponsonby",
           1,
           "Southampton"
          ],
          [
           "Pears, Mr. Thomas Clinton",
           1,
           "Southampton"
          ],
          [
           "Penasco y Castellana, Mr. Victor de Satode",
           1,
           "Cherbourg"
          ],
          [
           "Porter, Mr. Walter Chamberlain",
           1,
           "Southampton"
          ],
          [
           "Reuchlin, Jonkheer. John George",
           1,
           "Southampton"
          ],
          [
           "Ringhini, Mr. Sante",
           1,
           "Cherbourg"
          ],
          [
           "Robbins, Mr. Victor",
           1,
           "Cherbourg"
          ],
          [
           "Roebling, Mr. Washington Augustus II",
           1,
           "Southampton"
          ],
          [
           "Rood, Mr. Hugh Roscoe",
           1,
           "Southampton"
          ],
          [
           "Rosenshine, Mr. George (\"Mr George Thorne\")",
           1,
           "Cherbourg"
          ],
          [
           "Ross, Mr. John Hugo",
           1,
           "Cherbourg"
          ],
          [
           "Rothschild, Mr. Martin",
           1,
           "Cherbourg"
          ],
          [
           "Rowe, Mr. Alfred G",
           1,
           "Southampton"
          ],
          [
           "Ryerson, Mr. Arthur Larned",
           1,
           "Cherbourg"
          ],
          [
           "Silvey, Mr. William Baird",
           1,
           "Southampton"
          ],
          [
           "Smart, Mr. John Montgomery",
           1,
           "Southampton"
          ],
          [
           "Smith, Mr. James Clinch",
           1,
           "Cherbourg"
          ],
          [
           "Smith, Mr. Lucien Philip",
           1,
           "Southampton"
          ],
          [
           "Smith, Mr. Richard William",
           1,
           "Southampton"
          ],
          [
           "Spencer, Mr. William Augustus",
           1,
           "Cherbourg"
          ],
          [
           "Stead, Mr. William Thomas",
           1,
           "Southampton"
          ],
          [
           "Stewart, Mr. Albert A",
           1,
           "Cherbourg"
          ],
          [
           "Straus, Mr. Isidor",
           1,
           "Southampton"
          ],
          [
           "Straus, Mrs. Isidor (Rosalie Ida Blun)",
           1,
           "Southampton"
          ],
          [
           "Sutton, Mr. Frederick",
           1,
           "Southampton"
          ],
          [
           "Taussig, Mr. Emil",
           1,
           "Southampton"
          ],
          [
           "Thayer, Mr. John Borland",
           1,
           "Cherbourg"
          ],
          [
           "Uruchurtu, Don. Manuel E",
           1,
           "Cherbourg"
          ],
          [
           "Van der hoef, Mr. Wyckoff",
           1,
           "Southampton"
          ],
          [
           "Walker, Mr. William Anderson",
           1,
           "Southampton"
          ],
          [
           "Warren, Mr. Frank Manley",
           1,
           "Cherbourg"
          ],
          [
           "Weir, Col. John",
           1,
           "Southampton"
          ],
          [
           "White, Mr. Percival Wayland",
           1,
           "Southampton"
          ],
          [
           "White, Mr. Richard Frasar",
           1,
           "Southampton"
          ],
          [
           "Wick, Mr. George Dennick",
           1,
           "Southampton"
          ],
          [
           "Widener, Mr. George Dunton",
           1,
           "Cherbourg"
          ],
          [
           "Widener, Mr. Harry Elkins",
           1,
           "Cherbourg"
          ],
          [
           "Williams, Mr. Charles Duane",
           1,
           "Cherbourg"
          ],
          [
           "Williams-Lambert, Mr. Fletcher Fellows",
           1,
           "Southampton"
          ],
          [
           "Wright, Mr. George",
           1,
           "Southampton"
          ],
          [
           "Abelson, Mr. Samuel",
           2,
           "Cherbourg"
          ],
          [
           "Aldworth, Mr. Charles Augustus",
           2,
           "Southampton"
          ],
          [
           "Andrew, Mr. Edgardo Samuel",
           2,
           "Southampton"
          ],
          [
           "Andrew, Mr. Frank Thomas",
           2,
           "Southampton"
          ],
          [
           "Angle, Mr. William A",
           2,
           "Southampton"
          ],
          [
           "Ashby, Mr. John",
           2,
           "Southampton"
          ],
          [
           "Bailey, Mr. Percy Andrew",
           2,
           "Southampton"
          ],
          [
           "Baimbrigge, Mr. Charles Robert",
           2,
           "Southampton"
          ],
          [
           "Banfield, Mr. Frederick James",
           2,
           "Southampton"
          ],
          [
           "Bateman, Rev. Robert James",
           2,
           "Southampton"
          ],
          [
           "Beauchamp, Mr. Henry James",
           2,
           "Southampton"
          ],
          [
           "Berriman, Mr. William John",
           2,
           "Southampton"
          ],
          [
           "Botsford, Mr. William Hull",
           2,
           "Southampton"
          ],
          [
           "Bowenur, Mr. Solomon",
           2,
           "Southampton"
          ],
          [
           "Bracken, Mr. James H",
           2,
           "Southampton"
          ],
          [
           "Brown, Mr. Thomas William Solomon",
           2,
           "Southampton"
          ],
          [
           "Bryhl, Mr. Kurt Arnold Gottfrid",
           2,
           "Southampton"
          ],
          [
           "Butler, Mr. Reginald Fenton",
           2,
           "Southampton"
          ],
          [
           "Byles, Rev. Thomas Roussel Davids",
           2,
           "Southampton"
          ],
          [
           "Campbell, Mr. William",
           2,
           "Southampton"
          ],
          [
           "Carbines, Mr. William",
           2,
           "Southampton"
          ],
          [
           "Carter, Mrs. Ernest Courtenay (Lilian Hughes)",
           2,
           "Southampton"
          ],
          [
           "Carter, Rev. Ernest Courtenay",
           2,
           "Southampton"
          ],
          [
           "Chapman, Mr. Charles Henry",
           2,
           "Southampton"
          ],
          [
           "Chapman, Mr. John Henry",
           2,
           "Southampton"
          ],
          [
           "Chapman, Mrs. John Henry (Sara Elizabeth Lawry)",
           2,
           "Southampton"
          ],
          [
           "Clarke, Mr. Charles Valentine",
           2,
           "Southampton"
          ],
          [
           "Coleridge, Mr. Reginald Charles",
           2,
           "Southampton"
          ],
          [
           "Collander, Mr. Erik Gustaf",
           2,
           "Southampton"
          ],
          [
           "Collyer, Mr. Harvey",
           2,
           "Southampton"
          ],
          [
           "Corbett, Mrs. Walter H (Irene Colvin)",
           2,
           "Southampton"
          ],
          [
           "Corey, Mrs. Percy C (Mary Phyllis Elizabeth Miller)",
           2,
           "Southampton"
          ],
          [
           "Cotterill, Mr. Henry \"Harry\"",
           2,
           "Southampton"
          ],
          [
           "Cunningham, Mr. Alfred Fleming",
           2,
           "Southampton"
          ],
          [
           "Davies, Mr. Charles Henry",
           2,
           "Southampton"
          ],
          [
           "de Brito, Mr. Jose Joaquim",
           2,
           "Southampton"
          ],
          [
           "Deacon, Mr. Percy William",
           2,
           "Southampton"
          ],
          [
           "del Carlo, Mr. Sebastiano",
           2,
           "Cherbourg"
          ],
          [
           "Denbury, Mr. Herbert",
           2,
           "Southampton"
          ],
          [
           "Dibden, Mr. William",
           2,
           "Southampton"
          ],
          [
           "Downton, Mr. William James",
           2,
           "Southampton"
          ],
          [
           "Drew, Mr. James Vivian",
           2,
           "Southampton"
          ],
          [
           "Eitemiller, Mr. George Floyd",
           2,
           "Southampton"
          ],
          [
           "Enander, Mr. Ingvar",
           2,
           "Southampton"
          ],
          [
           "Fahlstrom, Mr. Arne Jonas",
           2,
           "Southampton"
          ],
          [
           "Faunthorpe, Mr. Harry",
           2,
           "Southampton"
          ],
          [
           "Fillbrook, Mr. Joseph Charles",
           2,
           "Southampton"
          ],
          [
           "Fox, Mr. Stanley Hubert",
           2,
           "Southampton"
          ],
          [
           "Frost, Mr. Anthony Wood \"Archie\"",
           2,
           "Southampton"
          ],
          [
           "Funk, Miss. Annie Clemmer",
           2,
           "Southampton"
          ],
          [
           "Fynney, Mr. Joseph J",
           2,
           "Southampton"
          ],
          [
           "Gale, Mr. Harry",
           2,
           "Southampton"
          ],
          [
           "Gale, Mr. Shadrach",
           2,
           "Southampton"
          ],
          [
           "Gaskell, Mr. Alfred",
           2,
           "Southampton"
          ],
          [
           "Gavey, Mr. Lawrence",
           2,
           "Southampton"
          ],
          [
           "Gilbert, Mr. William",
           2,
           "Southampton"
          ],
          [
           "Giles, Mr. Edgar",
           2,
           "Southampton"
          ],
          [
           "Giles, Mr. Frederick Edward",
           2,
           "Southampton"
          ],
          [
           "Giles, Mr. Ralph",
           2,
           "Southampton"
          ],
          [
           "Gill, Mr. John William",
           2,
           "Southampton"
          ],
          [
           "Gillespie, Mr. William Henry",
           2,
           "Southampton"
          ],
          [
           "Givard, Mr. Hans Kristensen",
           2,
           "Southampton"
          ],
          [
           "Greenberg, Mr. Samuel",
           2,
           "Southampton"
          ],
          [
           "Hale, Mr. Reginald",
           2,
           "Southampton"
          ],
          [
           "Harbeck, Mr. William H",
           2,
           "Southampton"
          ],
          [
           "Harper, Rev. John",
           2,
           "Southampton"
          ],
          [
           "Harris, Mr. Walter",
           2,
           "Southampton"
          ],
          [
           "Hart, Mr. Benjamin",
           2,
           "Southampton"
          ],
          [
           "Herman, Mr. Samuel",
           2,
           "Southampton"
          ],
          [
           "Hickman, Mr. Leonard Mark",
           2,
           "Southampton"
          ],
          [
           "Hickman, Mr. Lewis",
           2,
           "Southampton"
          ],
          [
           "Hickman, Mr. Stanley George",
           2,
           "Southampton"
          ],
          [
           "Hiltunen, Miss. Marta",
           2,
           "Southampton"
          ],
          [
           "Hocking, Mr. Richard George",
           2,
           "Southampton"
          ],
          [
           "Hocking, Mr. Samuel James Metcalfe",
           2,
           "Southampton"
          ],
          [
           "Hodges, Mr. Henry Price",
           2,
           "Southampton"
          ],
          [
           "Hold, Mr. Stephen",
           2,
           "Southampton"
          ],
          [
           "Hood, Mr. Ambrose Jr",
           2,
           "Southampton"
          ],
          [
           "Howard, Mr. Benjamin",
           2,
           "Southampton"
          ],
          [
           "Howard, Mrs. Benjamin (Ellen Truelove Arman)",
           2,
           "Southampton"
          ],
          [
           "Hunt, Mr. George Henry",
           2,
           "Southampton"
          ],
          [
           "Jacobsohn, Mr. Sidney Samuel",
           2,
           "Southampton"
          ],
          [
           "Jarvis, Mr. John Denzil",
           2,
           "Southampton"
          ],
          [
           "Jefferys, Mr. Clifford Thomas",
           2,
           "Southampton"
          ],
          [
           "Jefferys, Mr. Ernest Wilfred",
           2,
           "Southampton"
          ],
          [
           "Jenkin, Mr. Stephen Curnow",
           2,
           "Southampton"
          ],
          [
           "Kantor, Mr. Sinai",
           2,
           "Southampton"
          ],
          [
           "Karnes, Mrs. J Frank (Claire Bennett)",
           2,
           "Southampton"
          ],
          [
           "Keane, Mr. Daniel",
           2,
           "Queenstown"
          ],
          [
           "Kirkland, Rev. Charles Leonard",
           2,
           "Queenstown"
          ],
          [
           "Knight, Mr. Robert J",
           2,
           "Southampton"
          ],
          [
           "Kvillner, Mr. Johan Henrik Johannesson",
           2,
           "Southampton"
          ],
          [
           "Lahtinen, Mrs. William (Anna Sylfven)",
           2,
           "Southampton"
          ],
          [
           "Lahtinen, Rev. William",
           2,
           "Southampton"
          ],
          [
           "Lamb, Mr. John Joseph",
           2,
           "Queenstown"
          ],
          [
           "Laroche, Mr. Joseph Philippe Lemercier",
           2,
           "Cherbourg"
          ],
          [
           "Levy, Mr. Rene Jacques",
           2,
           "Cherbourg"
          ],
          [
           "Leyson, Mr. Robert William Norman",
           2,
           "Southampton"
          ],
          [
           "Lingane, Mr. John",
           2,
           "Queenstown"
          ],
          [
           "Louch, Mr. Charles Alexander",
           2,
           "Southampton"
          ],
          [
           "Mack, Mrs. (Mary)",
           2,
           "Southampton"
          ],
          [
           "Malachard, Mr. Noel",
           2,
           "Cherbourg"
          ],
          [
           "Mallet, Mr. Albert",
           2,
           "Cherbourg"
          ],
          [
           "Mangiavacchi, Mr. Serafino Emilio",
           2,
           "Cherbourg"
          ],
          [
           "Matthews, Mr. William John",
           2,
           "Southampton"
          ],
          [
           "Maybery, Mr. Frank Hubert",
           2,
           "Southampton"
          ],
          [
           "McCrae, Mr. Arthur Gordon",
           2,
           "Southampton"
          ],
          [
           "McCrie, Mr. James Matthew",
           2,
           "Southampton"
          ],
          [
           "McKane, Mr. Peter David",
           2,
           "Southampton"
          ],
          [
           "Meyer, Mr. August",
           2,
           "Southampton"
          ],
          [
           "Milling, Mr. Jacob Christian",
           2,
           "Southampton"
          ],
          [
           "Mitchell, Mr. Henry Michael",
           2,
           "Southampton"
          ],
          [
           "Montvila, Rev. Juozas",
           2,
           "Southampton"
          ],
          [
           "Moraweck, Dr. Ernest",
           2,
           "Southampton"
          ],
          [
           "Morley, Mr. Henry Samuel (\"Mr Henry Marshall\")",
           2,
           "Southampton"
          ],
          [
           "Mudd, Mr. Thomas Charles",
           2,
           "Southampton"
          ],
          [
           "Myles, Mr. Thomas Francis",
           2,
           "Queenstown"
          ],
          [
           "Nasser, Mr. Nicholas",
           2,
           "Cherbourg"
          ],
          [
           "Navratil, Mr. Michel (\"Louis M Hoffman\")",
           2,
           "Southampton"
          ],
          [
           "Nesson, Mr. Israel",
           2,
           "Southampton"
          ],
          [
           "Nicholls, Mr. Joseph Charles",
           2,
           "Southampton"
          ],
          [
           "Norman, Mr. Robert Douglas",
           2,
           "Southampton"
          ],
          [
           "Otter, Mr. Richard",
           2,
           "Southampton"
          ],
          [
           "Pain, Dr. Alfred",
           2,
           "Southampton"
          ],
          [
           "Parker, Mr. Clifford Richard",
           2,
           "Southampton"
          ],
          [
           "Parkes, Mr. Francis \"Frank\"",
           2,
           "Southampton"
          ],
          [
           "Pengelly, Mr. Frederick William",
           2,
           "Southampton"
          ],
          [
           "Pernot, Mr. Rene",
           2,
           "Cherbourg"
          ],
          [
           "Peruschitz, Rev. Joseph Maria",
           2,
           "Southampton"
          ],
          [
           "Phillips, Mr. Escott Robert",
           2,
           "Southampton"
          ],
          [
           "Ponesell, Mr. Martin",
           2,
           "Southampton"
          ],
          [
           "Pulbaum, Mr. Franz",
           2,
           "Cherbourg"
          ],
          [
           "Reeves, Mr. David",
           2,
           "Southampton"
          ],
          [
           "Renouf, Mr. Peter Henry",
           2,
           "Southampton"
          ],
          [
           "Richard, Mr. Emile",
           2,
           "Cherbourg"
          ],
          [
           "Rogers, Mr. Reginald Harry",
           2,
           "Southampton"
          ],
          [
           "Schmidt, Mr. August",
           2,
           "Southampton"
          ],
          [
           "Sedgwick, Mr. Charles Frederick Waddington",
           2,
           "Southampton"
          ],
          [
           "Sharp, Mr. Percival James R",
           2,
           "Southampton"
          ],
          [
           "Sjostedt, Mr. Ernst Adolf",
           2,
           "Southampton"
          ],
          [
           "Slemen, Mr. Richard James",
           2,
           "Southampton"
          ],
          [
           "Sobey, Mr. Samuel James Hayden",
           2,
           "Southampton"
          ],
          [
           "Stanton, Mr. Samuel Ward",
           2,
           "Cherbourg"
          ],
          [
           "Stokes, Mr. Philip Joseph",
           2,
           "Southampton"
          ],
          [
           "Swane, Mr. George",
           2,
           "Southampton"
          ],
          [
           "Sweet, Mr. George Frederick",
           2,
           "Southampton"
          ],
          [
           "Troupiansky, Mr. Moses Aaron",
           2,
           "Southampton"
          ],
          [
           "Turpin, Mr. William John Robert",
           2,
           "Southampton"
          ],
          [
           "Turpin, Mrs. William John Robert (Dorothy Ann Wonnacott)",
           2,
           "Southampton"
          ],
          [
           "Veal, Mr. James",
           2,
           "Southampton"
          ],
          [
           "Ware, Mr. John James",
           2,
           "Southampton"
          ],
          [
           "Ware, Mr. William Jeffery",
           2,
           "Southampton"
          ],
          [
           "Watson, Mr. Ennis Hastings",
           2,
           "Southampton"
          ],
          [
           "Weisz, Mr. Leopold",
           2,
           "Southampton"
          ],
          [
           "West, Mr. Edwy Arthur",
           2,
           "Southampton"
          ],
          [
           "Wheadon, Mr. Edward H",
           2,
           "Southampton"
          ],
          [
           "Wheeler, Mr. Edwin \"Frederick\"",
           2,
           "Southampton"
          ],
          [
           "Yrois, Miss. Henriette (\"Mrs Harbeck\")",
           2,
           "Southampton"
          ],
          [
           "Abbing, Mr. Anthony",
           3,
           "Southampton"
          ],
          [
           "Abbott, Master. Eugene Joseph",
           3,
           "Southampton"
          ],
          [
           "Abbott, Mr. Rossmore Edward",
           3,
           "Southampton"
          ],
          [
           "Adahl, Mr. Mauritz Nils Martin",
           3,
           "Southampton"
          ],
          [
           "Adams, Mr. John",
           3,
           "Southampton"
          ],
          [
           "Ahlin, Mrs. Johan (Johanna Persdotter Larsson)",
           3,
           "Southampton"
          ],
          [
           "Alexander, Mr. William",
           3,
           "Southampton"
          ],
          [
           "Alhomaki, Mr. Ilmari Rudolf",
           3,
           "Southampton"
          ],
          [
           "Ali, Mr. Ahmed",
           3,
           "Southampton"
          ],
          [
           "Ali, Mr. William",
           3,
           "Southampton"
          ],
          [
           "Allen, Mr. William Henry",
           3,
           "Southampton"
          ],
          [
           "Allum, Mr. Owen George",
           3,
           "Southampton"
          ],
          [
           "Andersen, Mr. Albert Karvin",
           3,
           "Southampton"
          ],
          [
           "Andersson, Master. Sigvard Harald Elias",
           3,
           "Southampton"
          ],
          [
           "Andersson, Miss. Ebba Iris Alfrida",
           3,
           "Southampton"
          ],
          [
           "Andersson, Miss. Ellis Anna Maria",
           3,
           "Southampton"
          ],
          [
           "Andersson, Miss. Ida Augusta Margareta",
           3,
           "Southampton"
          ],
          [
           "Andersson, Miss. Ingeborg Constanzia",
           3,
           "Southampton"
          ],
          [
           "Andersson, Miss. Sigrid Elisabeth",
           3,
           "Southampton"
          ],
          [
           "Andersson, Mr. Anders Johan",
           3,
           "Southampton"
          ],
          [
           "Andersson, Mr. Johan Samuel",
           3,
           "Southampton"
          ],
          [
           "Andersson, Mrs. Anders Johan (Alfrida Konstantia Brogren)",
           3,
           "Southampton"
          ],
          [
           "Andreasson, Mr. Paul Edvin",
           3,
           "Southampton"
          ],
          [
           "Angheloff, Mr. Minko",
           3,
           "Southampton"
          ],
          [
           "Arnold-Franchi, Mr. Josef",
           3,
           "Southampton"
          ],
          [
           "Arnold-Franchi, Mrs. Josef (Josefine Franchi)",
           3,
           "Southampton"
          ],
          [
           "Aronsson, Mr. Ernst Axel Algot",
           3,
           "Southampton"
          ],
          [
           "Asim, Mr. Adola",
           3,
           "Southampton"
          ],
          [
           "Asplund, Master. Carl Edgar",
           3,
           "Southampton"
          ],
          [
           "Asplund, Master. Clarence Gustaf Hugo",
           3,
           "Southampton"
          ],
          [
           "Asplund, Master. Filip Oscar",
           3,
           "Southampton"
          ],
          [
           "Asplund, Mr. Carl Oscar Vilhelm Gustafsson",
           3,
           "Southampton"
          ],
          [
           "Assaf, Mr. Gerios",
           3,
           "Cherbourg"
          ],
          [
           "Assam, Mr. Ali",
           3,
           "Southampton"
          ],
          [
           "Attalah, Miss. Malake",
           3,
           "Cherbourg"
          ],
          [
           "Attalah, Mr. Sleiman",
           3,
           "Cherbourg"
          ],
          [
           "Augustsson, Mr. Albert",
           3,
           "Southampton"
          ],
          [
           "Baccos, Mr. Raffull",
           3,
           "Cherbourg"
          ],
          [
           "Backstrom, Mr. Karl Alfred",
           3,
           "Southampton"
          ],
          [
           "Badt, Mr. Mohamed",
           3,
           "Cherbourg"
          ],
          [
           "Balkic, Mr. Cerin",
           3,
           "Southampton"
          ],
          [
           "Barbara, Miss. Saiide",
           3,
           "Cherbourg"
          ],
          [
           "Barbara, Mrs. (Catherine David)",
           3,
           "Cherbourg"
          ],
          [
           "Barry, Miss. Julia",
           3,
           "Queenstown"
          ],
          [
           "Barton, Mr. David John",
           3,
           "Southampton"
          ],
          [
           "Beavan, Mr. William Thomas",
           3,
           "Southampton"
          ],
          [
           "Bengtsson, Mr. John Viktor",
           3,
           "Southampton"
          ],
          [
           "Berglund, Mr. Karl Ivar Sven",
           3,
           "Southampton"
          ],
          [
           "Betros, Master. Seman",
           3,
           "Cherbourg"
          ],
          [
           "Betros, Mr. Tannous",
           3,
           "Cherbourg"
          ],
          [
           "Birkeland, Mr. Hans Martin Monsen",
           3,
           "Southampton"
          ],
          [
           "Bjorklund, Mr. Ernst Herbert",
           3,
           "Southampton"
          ],
          [
           "Bostandyeff, Mr. Guentcho",
           3,
           "Southampton"
          ],
          [
           "Boulos, Master. Akar",
           3,
           "Cherbourg"
          ],
          [
           "Boulos, Miss. Nourelain",
           3,
           "Cherbourg"
          ],
          [
           "Boulos, Mr. Hanna",
           3,
           "Cherbourg"
          ],
          [
           "Boulos, Mrs. Joseph (Sultana)",
           3,
           "Cherbourg"
          ],
          [
           "Bourke, Miss. Mary",
           3,
           "Queenstown"
          ],
          [
           "Bourke, Mr. John",
           3,
           "Queenstown"
          ],
          [
           "Bourke, Mrs. John (Catherine)",
           3,
           "Queenstown"
          ],
          [
           "Bowen, Mr. David John \"Dai\"",
           3,
           "Southampton"
          ],
          [
           "Braf, Miss. Elin Ester Maria",
           3,
           "Southampton"
          ],
          [
           "Braund, Mr. Lewis Richard",
           3,
           "Southampton"
          ],
          [
           "Braund, Mr. Owen Harris",
           3,
           "Southampton"
          ],
          [
           "Brobeck, Mr. Karl Rudolf",
           3,
           "Southampton"
          ],
          [
           "Brocklebank, Mr. William Alfred",
           3,
           "Southampton"
          ],
          [
           "Buckley, Miss. Katherine",
           3,
           "Queenstown"
          ],
          [
           "Burke, Mr. Jeremiah",
           3,
           "Queenstown"
          ],
          [
           "Burns, Miss. Mary Delia",
           3,
           "Queenstown"
          ],
          [
           "Cacic, Miss. Manda",
           3,
           "Southampton"
          ],
          [
           "Cacic, Miss. Marija",
           3,
           "Southampton"
          ],
          [
           "Cacic, Mr. Jego Grga",
           3,
           "Southampton"
          ],
          [
           "Cacic, Mr. Luka",
           3,
           "Southampton"
          ],
          [
           "Calic, Mr. Jovo",
           3,
           "Southampton"
          ],
          [
           "Calic, Mr. Petar",
           3,
           "Southampton"
          ],
          [
           "Canavan, Miss. Mary",
           3,
           "Queenstown"
          ],
          [
           "Canavan, Mr. Patrick",
           3,
           "Queenstown"
          ],
          [
           "Cann, Mr. Ernest Charles",
           3,
           "Southampton"
          ],
          [
           "Caram, Mr. Joseph",
           3,
           "Cherbourg"
          ],
          [
           "Caram, Mrs. Joseph (Maria Elias)",
           3,
           "Cherbourg"
          ],
          [
           "Carlsson, Mr. August Sigfrid",
           3,
           "Southampton"
          ],
          [
           "Carlsson, Mr. Carl Robert",
           3,
           "Southampton"
          ],
          [
           "Carr, Miss. Jeannie",
           3,
           "Queenstown"
          ],
          [
           "Carver, Mr. Alfred John",
           3,
           "Southampton"
          ],
          [
           "Celotti, Mr. Francesco",
           3,
           "Southampton"
          ],
          [
           "Charters, Mr. David",
           3,
           "Queenstown"
          ],
          [
           "Christmann, Mr. Emil",
           3,
           "Southampton"
          ],
          [
           "Chronopoulos, Mr. Apostolos",
           3,
           "Cherbourg"
          ],
          [
           "Chronopoulos, Mr. Demetrios",
           3,
           "Cherbourg"
          ],
          [
           "Coelho, Mr. Domingos Fernandeo",
           3,
           "Southampton"
          ],
          [
           "Colbert, Mr. Patrick",
           3,
           "Queenstown"
          ],
          [
           "Coleff, Mr. Peju",
           3,
           "Southampton"
          ],
          [
           "Coleff, Mr. Satio",
           3,
           "Southampton"
          ],
          [
           "Conlon, Mr. Thomas Henry",
           3,
           "Queenstown"
          ],
          [
           "Connaghton, Mr. Michael",
           3,
           "Queenstown"
          ],
          [
           "Connolly, Miss. Kate",
           3,
           "Queenstown"
          ],
          [
           "Connors, Mr. Patrick",
           3,
           "Queenstown"
          ],
          [
           "Cook, Mr. Jacob",
           3,
           "Southampton"
          ],
          [
           "Cor, Mr. Bartol",
           3,
           "Southampton"
          ],
          [
           "Cor, Mr. Ivan",
           3,
           "Southampton"
          ],
          [
           "Cor, Mr. Liudevit",
           3,
           "Southampton"
          ],
          [
           "Corn, Mr. Harry",
           3,
           "Southampton"
          ],
          [
           "Coxon, Mr. Daniel",
           3,
           "Southampton"
          ],
          [
           "Crease, Mr. Ernest James",
           3,
           "Southampton"
          ],
          [
           "Cribb, Mr. John Hatfield",
           3,
           "Southampton"
          ],
          [
           "Culumovic, Mr. Jeso",
           3,
           "Southampton"
          ],
          [
           "Daher, Mr. Shedid",
           3,
           "Cherbourg"
          ],
          [
           "Dahlberg, Miss. Gerda Ulrika",
           3,
           "Southampton"
          ],
          [
           "Dakic, Mr. Branko",
           3,
           "Southampton"
          ],
          [
           "Danbom, Master. Gilbert Sigvard Emanuel",
           3,
           "Southampton"
          ],
          [
           "Danbom, Mr. Ernst Gilbert",
           3,
           "Southampton"
          ],
          [
           "Danbom, Mrs. Ernst Gilbert (Anna Sigrid Maria Brogren)",
           3,
           "Southampton"
          ],
          [
           "Danoff, Mr. Yoto",
           3,
           "Southampton"
          ],
          [
           "Dantcheff, Mr. Ristiu",
           3,
           "Southampton"
          ],
          [
           "Davies, Mr. Alfred J",
           3,
           "Southampton"
          ],
          [
           "Davies, Mr. Evan",
           3,
           "Southampton"
          ],
          [
           "Davies, Mr. John Samuel",
           3,
           "Southampton"
          ],
          [
           "Davies, Mr. Joseph",
           3,
           "Southampton"
          ],
          [
           "Davison, Mr. Thomas Henry",
           3,
           "Southampton"
          ],
          [
           "de Pelsmaeker, Mr. Alfons",
           3,
           "Southampton"
          ],
          [
           "Dean, Mr. Bertram Frank",
           3,
           "Southampton"
          ],
          [
           "Delalic, Mr. Redjo",
           3,
           "Southampton"
          ],
          [
           "Demetri, Mr. Marinko",
           3,
           "Southampton"
          ],
          [
           "Denkoff, Mr. Mitto",
           3,
           "Southampton"
          ],
          [
           "Dennis, Mr. Samuel",
           3,
           "Southampton"
          ],
          [
           "Dennis, Mr. William",
           3,
           "Southampton"
          ],
          [
           "Dika, Mr. Mirko",
           3,
           "Southampton"
          ],
          [
           "Dimic, Mr. Jovan",
           3,
           "Southampton"
          ],
          [
           "Dintcheff, Mr. Valtcho",
           3,
           "Southampton"
          ],
          [
           "Doharr, Mr. Tannous",
           3,
           "Cherbourg"
          ],
          [
           "Dooley, Mr. Patrick",
           3,
           "Queenstown"
          ],
          [
           "Doyle, Miss. Elizabeth",
           3,
           "Queenstown"
          ],
          [
           "Drazenoic, Mr. Jozef",
           3,
           "Cherbourg"
          ],
          [
           "Duane, Mr. Frank",
           3,
           "Queenstown"
          ],
          [
           "Dyker, Mr. Adolf Fredrik",
           3,
           "Southampton"
          ],
          [
           "Edvardsson, Mr. Gustaf Hjalmar",
           3,
           "Southampton"
          ],
          [
           "Eklund, Mr. Hans Linus",
           3,
           "Southampton"
          ],
          [
           "Ekstrom, Mr. Johan",
           3,
           "Southampton"
          ],
          [
           "Elias, Mr. Dibo",
           3,
           "Cherbourg"
          ],
          [
           "Elias, Mr. Joseph",
           3,
           "Cherbourg"
          ],
          [
           "Elias, Mr. Joseph Jr",
           3,
           "Cherbourg"
          ],
          [
           "Elias, Mr. Tannous",
           3,
           "Cherbourg"
          ],
          [
           "Elsbury, Mr. William James",
           3,
           "Southampton"
          ],
          [
           "Emir, Mr. Farred Chehab",
           3,
           "Cherbourg"
          ],
          [
           "Everett, Mr. Thomas James",
           3,
           "Southampton"
          ],
          [
           "Farrell, Mr. James",
           3,
           "Queenstown"
          ],
          [
           "Fischer, Mr. Eberhard Thelander",
           3,
           "Southampton"
          ],
          [
           "Fleming, Miss. Honora",
           3,
           "Queenstown"
          ],
          [
           "Flynn, Mr. James",
           3,
           "Queenstown"
          ],
          [
           "Flynn, Mr. John",
           3,
           "Queenstown"
          ],
          [
           "Foley, Mr. Joseph",
           3,
           "Queenstown"
          ],
          [
           "Foley, Mr. William",
           3,
           "Queenstown"
          ],
          [
           "Ford, Miss. Doolina Margaret \"Daisy\"",
           3,
           "Southampton"
          ],
          [
           "Ford, Miss. Robina Maggie \"Ruby\"",
           3,
           "Southampton"
          ],
          [
           "Ford, Mr. Arthur",
           3,
           "Southampton"
          ],
          [
           "Ford, Mr. Edward Watson",
           3,
           "Southampton"
          ],
          [
           "Ford, Mr. William Neal",
           3,
           "Southampton"
          ],
          [
           "Ford, Mrs. Edward (Margaret Ann Watson)",
           3,
           "Southampton"
          ],
          [
           "Fox, Mr. Patrick",
           3,
           "Queenstown"
          ],
          [
           "Franklin, Mr. Charles (Charles Fardon)",
           3,
           "Southampton"
          ],
          [
           "Gallagher, Mr. Martin",
           3,
           "Queenstown"
          ],
          [
           "Garfirth, Mr. John",
           3,
           "Southampton"
          ],
          [
           "Gheorgheff, Mr. Stanio",
           3,
           "Cherbourg"
          ],
          [
           "Gilinski, Mr. Eliezer",
           3,
           "Southampton"
          ],
          [
           "Goldsmith, Mr. Frank John",
           3,
           "Southampton"
          ],
          [
           "Goldsmith, Mr. Nathan",
           3,
           "Southampton"
          ],
          [
           "Goncalves, Mr. Manuel Estanslas",
           3,
           "Southampton"
          ],
          [
           "Goodwin, Master. Harold Victor",
           3,
           "Southampton"
          ],
          [
           "Goodwin, Master. Sidney Leonard",
           3,
           "Southampton"
          ],
          [
           "Goodwin, Master. William Frederick",
           3,
           "Southampton"
          ],
          [
           "Goodwin, Miss. Jessie Allis",
           3,
           "Southampton"
          ],
          [
           "Goodwin, Miss. Lillian Amy",
           3,
           "Southampton"
          ],
          [
           "Goodwin, Mr. Charles Edward",
           3,
           "Southampton"
          ],
          [
           "Goodwin, Mr. Charles Frederick",
           3,
           "Southampton"
          ],
          [
           "Goodwin, Mrs. Frederick (Augusta Tyler)",
           3,
           "Southampton"
          ],
          [
           "Green, Mr. George Henry",
           3,
           "Southampton"
          ],
          [
           "Gronnestad, Mr. Daniel Danielsen",
           3,
           "Southampton"
          ],
          [
           "Guest, Mr. Robert",
           3,
           "Southampton"
          ],
          [
           "Gustafsson, Mr. Alfred Ossian",
           3,
           "Southampton"
          ],
          [
           "Gustafsson, Mr. Anders Vilhelm",
           3,
           "Southampton"
          ],
          [
           "Gustafsson, Mr. Johan Birger",
           3,
           "Southampton"
          ],
          [
           "Gustafsson, Mr. Karl Gideon",
           3,
           "Southampton"
          ],
          [
           "Haas, Miss. Aloisia",
           3,
           "Southampton"
          ],
          [
           "Hagardon, Miss. Kate",
           3,
           "Queenstown"
          ],
          [
           "Hagland, Mr. Ingvald Olai Olsen",
           3,
           "Southampton"
          ],
          [
           "Hagland, Mr. Konrad Mathias Reiersen",
           3,
           "Southampton"
          ],
          [
           "Hakkarainen, Mr. Pekka Pietari",
           3,
           "Southampton"
          ],
          [
           "Hampe, Mr. Leon",
           3,
           "Southampton"
          ],
          [
           "Hanna, Mr. Mansour",
           3,
           "Cherbourg"
          ],
          [
           "Hansen, Mr. Claus Peter",
           3,
           "Southampton"
          ],
          [
           "Hansen, Mr. Henrik Juul",
           3,
           "Southampton"
          ],
          [
           "Hansen, Mr. Henry Damsgaard",
           3,
           "Southampton"
          ],
          [
           "Harknett, Miss. Alice Phoebe",
           3,
           "Southampton"
          ],
          [
           "Harmer, Mr. Abraham (David Lishin)",
           3,
           "Southampton"
          ],
          [
           "Hart, Mr. Henry",
           3,
           "Queenstown"
          ],
          [
           "Hassan, Mr. Houssein G N",
           3,
           "Cherbourg"
          ],
          [
           "Hegarty, Miss. Hanora \"Nora\"",
           3,
           "Queenstown"
          ],
          [
           "Heininen, Miss. Wendla Maria",
           3,
           "Southampton"
          ],
          [
           "Hendekovic, Mr. Ignjac",
           3,
           "Southampton"
          ],
          [
           "Henriksson, Miss. Jenny Lovisa",
           3,
           "Southampton"
          ],
          [
           "Henry, Miss. Delia",
           3,
           "Queenstown"
          ],
          [
           "Holm, Mr. John Fredrik Alexander",
           3,
           "Southampton"
          ],
          [
           "Holthen, Mr. Johan Martin",
           3,
           "Southampton"
          ],
          [
           "Horgan, Mr. John",
           3,
           "Queenstown"
          ],
          [
           "Humblen, Mr. Adolf Mathias Nicolai Olsen",
           3,
           "Southampton"
          ],
          [
           "Ibrahim Shawah, Mr. Yousseff",
           3,
           "Cherbourg"
          ],
          [
           "Ilieff, Mr. Ylio",
           3,
           "Southampton"
          ],
          [
           "Ilmakangas, Miss. Ida Livija",
           3,
           "Southampton"
          ],
          [
           "Ilmakangas, Miss. Pieta Sofia",
           3,
           "Southampton"
          ],
          [
           "Ivanoff, Mr. Kanio",
           3,
           "Southampton"
          ],
          [
           "Jardin, Mr. Jose Neto",
           3,
           "Southampton"
          ],
          [
           "Jensen, Mr. Hans Peder",
           3,
           "Southampton"
          ],
          [
           "Jensen, Mr. Niels Peder",
           3,
           "Southampton"
          ],
          [
           "Jensen, Mr. Svend Lauritz",
           3,
           "Southampton"
          ],
          [
           "Johanson, Mr. Jakob Alfred",
           3,
           "Southampton"
          ],
          [
           "Johansson, Mr. Erik",
           3,
           "Southampton"
          ],
          [
           "Johansson, Mr. Gustaf Joel",
           3,
           "Southampton"
          ],
          [
           "Johansson, Mr. Karl Johan",
           3,
           "Southampton"
          ],
          [
           "Johansson, Mr. Nils",
           3,
           "Southampton"
          ],
          [
           "Johnson, Mr. Alfred",
           3,
           "Southampton"
          ],
          [
           "Johnson, Mr. Malkolm Joackim",
           3,
           "Southampton"
          ],
          [
           "Johnson, Mr. William Cahoone Jr",
           3,
           "Southampton"
          ],
          [
           "Johnston, Master. William Arthur \"Willie\"",
           3,
           "Southampton"
          ],
          [
           "Johnston, Miss. Catherine Helen \"Carrie\"",
           3,
           "Southampton"
          ],
          [
           "Johnston, Mr. Andrew G",
           3,
           "Southampton"
          ],
          [
           "Johnston, Mrs. Andrew G (Elizabeth \"Lily\" Watson)",
           3,
           "Southampton"
          ],
          [
           "Jonkoff, Mr. Lalio",
           3,
           "Southampton"
          ],
          [
           "Jonsson, Mr. Nils Hilding",
           3,
           "Southampton"
          ],
          [
           "Jussila, Miss. Katriina",
           3,
           "Southampton"
          ],
          [
           "Jussila, Miss. Mari Aina",
           3,
           "Southampton"
          ],
          [
           "Kallio, Mr. Nikolai Erland",
           3,
           "Southampton"
          ],
          [
           "Kalvik, Mr. Johannes Halvorsen",
           3,
           "Southampton"
          ],
          [
           "Karaic, Mr. Milan",
           3,
           "Southampton"
          ],
          [
           "Karlsson, Mr. Julius Konrad Eugen",
           3,
           "Southampton"
          ],
          [
           "Karlsson, Mr. Nils August",
           3,
           "Southampton"
          ],
          [
           "Kassem, Mr. Fared",
           3,
           "Cherbourg"
          ],
          [
           "Katavelas, Mr. Vassilios (\"Catavelas Vassilios\")",
           3,
           "Cherbourg"
          ],
          [
           "Keane, Mr. Andrew \"Andy\"",
           3,
           "Queenstown"
          ],
          [
           "Keefe, Mr. Arthur",
           3,
           "Southampton"
          ],
          [
           "Kelly, Mr. James",
           3,
           "Queenstown"
          ],
          [
           "Kelly, Mr. James",
           3,
           "Southampton"
          ],
          [
           "Khalil, Mr. Betros",
           3,
           "Cherbourg"
          ],
          [
           "Khalil, Mrs. Betros (Zahie \"Maria\" Elias)",
           3,
           "Cherbourg"
          ],
          [
           "Kiernan, Mr. John",
           3,
           "Queenstown"
          ],
          [
           "Kiernan, Mr. Philip",
           3,
           "Queenstown"
          ],
          [
           "Kilgannon, Mr. Thomas J",
           3,
           "Queenstown"
          ],
          [
           "Kink, Miss. Maria",
           3,
           "Southampton"
          ],
          [
           "Kink, Mr. Vincenz",
           3,
           "Southampton"
          ],
          [
           "Klasen, Miss. Gertrud Emilia",
           3,
           "Southampton"
          ],
          [
           "Klasen, Mr. Klas Albin",
           3,
           "Southampton"
          ],
          [
           "Klasen, Mrs. (Hulda Kristina Eugenia Lofqvist)",
           3,
           "Southampton"
          ],
          [
           "Kraeff, Mr. Theodor",
           3,
           "Cherbourg"
          ],
          [
           "Lahoud, Mr. Sarkis",
           3,
           "Cherbourg"
          ],
          [
           "Laitinen, Miss. Kristina Sofia",
           3,
           "Southampton"
          ],
          [
           "Laleff, Mr. Kristo",
           3,
           "Southampton"
          ],
          [
           "Lam, Mr. Len",
           3,
           "Southampton"
          ],
          [
           "Lane, Mr. Patrick",
           3,
           "Queenstown"
          ],
          [
           "Larsson, Mr. August Viktor",
           3,
           "Southampton"
          ],
          [
           "Larsson, Mr. Bengt Edvin",
           3,
           "Southampton"
          ],
          [
           "Larsson-Rondberg, Mr. Edvard A",
           3,
           "Southampton"
          ],
          [
           "Lefebre, Master. Henry Forbes",
           3,
           "Southampton"
          ],
          [
           "Lefebre, Miss. Ida",
           3,
           "Southampton"
          ],
          [
           "Lefebre, Miss. Jeannie",
           3,
           "Southampton"
          ],
          [
           "Lefebre, Miss. Mathilde",
           3,
           "Southampton"
          ],
          [
           "Lefebre, Mrs. Frank (Frances)",
           3,
           "Southampton"
          ],
          [
           "Leinonen, Mr. Antti Gustaf",
           3,
           "Southampton"
          ],
          [
           "Lemberopolous, Mr. Peter L",
           3,
           "Cherbourg"
          ],
          [
           "Lennon, Miss. Mary",
           3,
           "Queenstown"
          ],
          [
           "Lennon, Mr. Denis",
           3,
           "Queenstown"
          ],
          [
           "Leonard, Mr. Lionel",
           3,
           "Southampton"
          ],
          [
           "Lester, Mr. James",
           3,
           "Southampton"
          ],
          [
           "Lievens, Mr. Rene Aime",
           3,
           "Southampton"
          ],
          [
           "Lindahl, Miss. Agda Thorilda Viktoria",
           3,
           "Southampton"
          ],
          [
           "Lindblom, Miss. Augusta Charlotta",
           3,
           "Southampton"
          ],
          [
           "Lindell, Mr. Edvard Bengtsson",
           3,
           "Southampton"
          ],
          [
           "Lindell, Mrs. Edvard Bengtsson (Elin Gerda Persson)",
           3,
           "Southampton"
          ],
          [
           "Linehan, Mr. Michael",
           3,
           "Queenstown"
          ],
          [
           "Ling, Mr. Lee",
           3,
           "Southampton"
          ],
          [
           "Lithman, Mr. Simon",
           3,
           "Southampton"
          ],
          [
           "Lobb, Mr. William Arthur",
           3,
           "Southampton"
          ],
          [
           "Lobb, Mrs. William Arthur (Cordelia K Stanlick)",
           3,
           "Southampton"
          ],
          [
           "Lockyer, Mr. Edward",
           3,
           "Southampton"
          ],
          [
           "Lovell, Mr. John Hall (\"Henry\")",
           3,
           "Southampton"
          ],
          [
           "Lundahl, Mr. Johan Svensson",
           3,
           "Southampton"
          ],
          [
           "Lyntakoff, Mr. Stanko",
           3,
           "Southampton"
          ],
          [
           "MacKay, Mr. George William",
           3,
           "Southampton"
          ],
          [
           "Maenpaa, Mr. Matti Alexanteri",
           3,
           "Southampton"
          ],
          [
           "Mahon, Miss. Bridget Delia",
           3,
           "Queenstown"
          ],
          [
           "Mahon, Mr. John",
           3,
           "Queenstown"
          ],
          [
           "Maisner, Mr. Simon",
           3,
           "Southampton"
          ],
          [
           "Makinen, Mr. Kalle Edvard",
           3,
           "Southampton"
          ],
          [
           "Mangan, Miss. Mary",
           3,
           "Queenstown"
          ],
          [
           "Mardirosian, Mr. Sarkis",
           3,
           "Cherbourg"
          ],
          [
           "Markoff, Mr. Marin",
           3,
           "Cherbourg"
          ],
          [
           "Markun, Mr. Johann",
           3,
           "Southampton"
          ],
          [
           "Matinoff, Mr. Nicola",
           3,
           "Cherbourg"
          ],
          [
           "McEvoy, Mr. Michael",
           3,
           "Queenstown"
          ],
          [
           "McGowan, Miss. Katherine",
           3,
           "Queenstown"
          ],
          [
           "McMahon, Mr. Martin",
           3,
           "Queenstown"
          ],
          [
           "McNamee, Mr. Neal",
           3,
           "Southampton"
          ],
          [
           "McNamee, Mrs. Neal (Eileen O'Leary)",
           3,
           "Southampton"
          ],
          [
           "McNeill, Miss. Bridget",
           3,
           "Queenstown"
          ],
          [
           "Meanwell, Miss. (Marion Ogden)",
           3,
           "Southampton"
          ],
          [
           "Meek, Mrs. Thomas (Annie Louise Rowley)",
           3,
           "Southampton"
          ],
          [
           "Meo, Mr. Alfonzo",
           3,
           "Southampton"
          ],
          [
           "Mernagh, Mr. Robert",
           3,
           "Queenstown"
          ],
          [
           "Miles, Mr. Frank",
           3,
           "Southampton"
          ],
          [
           "Mineff, Mr. Ivan",
           3,
           "Southampton"
          ],
          [
           "Minkoff, Mr. Lazar",
           3,
           "Southampton"
          ],
          [
           "Mionoff, Mr. Stoytcho",
           3,
           "Southampton"
          ],
          [
           "Mitkoff, Mr. Mito",
           3,
           "Southampton"
          ],
          [
           "Moen, Mr. Sigurd Hansen",
           3,
           "Southampton"
          ],
          [
           "Moore, Mr. Leonard Charles",
           3,
           "Southampton"
          ],
          [
           "Moran, Mr. Daniel J",
           3,
           "Queenstown"
          ],
          [
           "Moran, Mr. James",
           3,
           "Queenstown"
          ],
          [
           "Morley, Mr. William",
           3,
           "Southampton"
          ],
          [
           "Morrow, Mr. Thomas Rowan",
           3,
           "Queenstown"
          ],
          [
           "Moutal, Mr. Rahamin Haim",
           3,
           "Southampton"
          ],
          [
           "Murdlin, Mr. Joseph",
           3,
           "Southampton"
          ],
          [
           "Myhrman, Mr. Pehr Fabian Oliver Malkolm",
           3,
           "Southampton"
          ],
          [
           "Naidenoff, Mr. Penko",
           3,
           "Southampton"
          ],
          [
           "Nancarrow, Mr. William Henry",
           3,
           "Southampton"
          ],
          [
           "Nankoff, Mr. Minko",
           3,
           "Southampton"
          ],
          [
           "Nasr, Mr. Mustafa",
           3,
           "Cherbourg"
          ],
          [
           "Naughton, Miss. Hannah",
           3,
           "Queenstown"
          ],
          [
           "Nenkoff, Mr. Christo",
           3,
           "Southampton"
          ],
          [
           "Nieminen, Miss. Manta Josefina",
           3,
           "Southampton"
          ],
          [
           "Niklasson, Mr. Samuel",
           3,
           "Southampton"
          ],
          [
           "Nilsson, Mr. August Ferdinand",
           3,
           "Southampton"
          ],
          [
           "Nirva, Mr. Iisakki Antino Aijo",
           3,
           "Southampton"
          ],
          [
           "Nosworthy, Mr. Richard Cater",
           3,
           "Southampton"
          ],
          [
           "Novel, Mr. Mansouer",
           3,
           "Cherbourg"
          ],
          [
           "Nysveen, Mr. Johan Hansen",
           3,
           "Southampton"
          ],
          [
           "O'Brien, Mr. Thomas",
           3,
           "Queenstown"
          ],
          [
           "O'Brien, Mr. Timothy",
           3,
           "Queenstown"
          ],
          [
           "O'Connell, Mr. Patrick D",
           3,
           "Queenstown"
          ],
          [
           "O'Connor, Mr. Maurice",
           3,
           "Queenstown"
          ],
          [
           "O'Connor, Mr. Patrick",
           3,
           "Queenstown"
          ],
          [
           "Odahl, Mr. Nils Martin",
           3,
           "Southampton"
          ],
          [
           "O'Donoghue, Ms. Bridget",
           3,
           "Queenstown"
          ],
          [
           "Olsen, Mr. Henry Margido",
           3,
           "Southampton"
          ],
          [
           "Olsen, Mr. Karl Siegwart Andreas",
           3,
           "Southampton"
          ],
          [
           "Olsen, Mr. Ole Martin",
           3,
           "Southampton"
          ],
          [
           "Olsson, Miss. Elina",
           3,
           "Southampton"
          ],
          [
           "Olsson, Mr. Nils Johan Goransson",
           3,
           "Southampton"
          ],
          [
           "Olsvigen, Mr. Thor Anderson",
           3,
           "Southampton"
          ],
          [
           "Oreskovic, Miss. Jelka",
           3,
           "Southampton"
          ],
          [
           "Oreskovic, Miss. Marija",
           3,
           "Southampton"
          ],
          [
           "Oreskovic, Mr. Luka",
           3,
           "Southampton"
          ],
          [
           "Osen, Mr. Olaf Elon",
           3,
           "Southampton"
          ],
          [
           "O'Sullivan, Miss. Bridget Mary",
           3,
           "Queenstown"
          ],
          [
           "Palsson, Master. Gosta Leonard",
           3,
           "Southampton"
          ],
          [
           "Palsson, Master. Paul Folke",
           3,
           "Southampton"
          ],
          [
           "Palsson, Miss. Stina Viola",
           3,
           "Southampton"
          ],
          [
           "Palsson, Miss. Torborg Danira",
           3,
           "Southampton"
          ],
          [
           "Palsson, Mrs. Nils (Alma Cornelia Berglund)",
           3,
           "Southampton"
          ],
          [
           "Panula, Master. Eino Viljami",
           3,
           "Southampton"
          ],
          [
           "Panula, Master. Juha Niilo",
           3,
           "Southampton"
          ],
          [
           "Panula, Master. Urho Abraham",
           3,
           "Southampton"
          ],
          [
           "Panula, Mr. Ernesti Arvid",
           3,
           "Southampton"
          ],
          [
           "Panula, Mr. Jaako Arnold",
           3,
           "Southampton"
          ],
          [
           "Panula, Mrs. Juha (Maria Emilia Ojala)",
           3,
           "Southampton"
          ],
          [
           "Pasic, Mr. Jakob",
           3,
           "Southampton"
          ],
          [
           "Patchett, Mr. George",
           3,
           "Southampton"
          ],
          [
           "Paulner, Mr. Uscher",
           3,
           "Cherbourg"
          ],
          [
           "Pavlovic, Mr. Stefo",
           3,
           "Southampton"
          ],
          [
           "Peacock, Master. Alfred Edward",
           3,
           "Southampton"
          ],
          [
           "Peacock, Miss. Treasteall",
           3,
           "Southampton"
          ],
          [
           "Peacock, Mrs. Benjamin (Edith Nile)",
           3,
           "Southampton"
          ],
          [
           "Pearce, Mr. Ernest",
           3,
           "Southampton"
          ],
          [
           "Pedersen, Mr. Olaf",
           3,
           "Southampton"
          ],
          [
           "Peduzzi, Mr. Joseph",
           3,
           "Southampton"
          ],
          [
           "Pekoniemi, Mr. Edvard",
           3,
           "Southampton"
          ],
          [
           "Peltomaki, Mr. Nikolai Johannes",
           3,
           "Southampton"
          ],
          [
           "Perkin, Mr. John Henry",
           3,
           "Southampton"
          ],
          [
           "Peters, Miss. Katie",
           3,
           "Queenstown"
          ],
          [
           "Petersen, Mr. Marius",
           3,
           "Southampton"
          ],
          [
           "Petranec, Miss. Matilda",
           3,
           "Southampton"
          ],
          [
           "Petroff, Mr. Nedelio",
           3,
           "Southampton"
          ],
          [
           "Petroff, Mr. Pastcho (\"Pentcho\")",
           3,
           "Southampton"
          ],
          [
           "Petterson, Mr. Johan Emil",
           3,
           "Southampton"
          ],
          [
           "Pettersson, Miss. Ellen Natalia",
           3,
           "Southampton"
          ],
          [
           "Plotcharsky, Mr. Vasil",
           3,
           "Southampton"
          ],
          [
           "Pokrnic, Mr. Mate",
           3,
           "Southampton"
          ],
          [
           "Pokrnic, Mr. Tome",
           3,
           "Southampton"
          ],
          [
           "Radeff, Mr. Alexander",
           3,
           "Southampton"
          ],
          [
           "Rasmussen, Mrs. (Lena Jacobsen Solvang)",
           3,
           "Southampton"
          ],
          [
           "Razi, Mr. Raihed",
           3,
           "Cherbourg"
          ],
          [
           "Reed, Mr. James George",
           3,
           "Southampton"
          ],
          [
           "Rekic, Mr. Tido",
           3,
           "Southampton"
          ],
          [
           "Reynolds, Mr. Harold J",
           3,
           "Southampton"
          ],
          [
           "Rice, Master. Albert",
           3,
           "Queenstown"
          ],
          [
           "Rice, Master. Arthur",
           3,
           "Queenstown"
          ],
          [
           "Rice, Master. Eric",
           3,
           "Queenstown"
          ],
          [
           "Rice, Master. Eugene",
           3,
           "Queenstown"
          ],
          [
           "Rice, Master. George Hugh",
           3,
           "Queenstown"
          ],
          [
           "Rice, Mrs. William (Margaret Norton)",
           3,
           "Queenstown"
          ],
          [
           "Riihivouri, Miss. Susanna Juhantytar \"Sanni\"",
           3,
           "Southampton"
          ],
          [
           "Rintamaki, Mr. Matti",
           3,
           "Southampton"
          ],
          [
           "Risien, Mr. Samuel Beard",
           3,
           "Southampton"
          ],
          [
           "Risien, Mrs. Samuel (Emma)",
           3,
           "Southampton"
          ],
          [
           "Robins, Mr. Alexander A",
           3,
           "Southampton"
          ],
          [
           "Robins, Mrs. Alexander A (Grace Charity Laury)",
           3,
           "Southampton"
          ],
          [
           "Rogers, Mr. William John",
           3,
           "Southampton"
          ],
          [
           "Rommetvedt, Mr. Knud Paust",
           3,
           "Southampton"
          ],
          [
           "Rosblom, Miss. Salli Helena",
           3,
           "Southampton"
          ],
          [
           "Rosblom, Mr. Viktor Richard",
           3,
           "Southampton"
          ],
          [
           "Rosblom, Mrs. Viktor (Helena Wilhelmina)",
           3,
           "Southampton"
          ],
          [
           "Rouse, Mr. Richard Henry",
           3,
           "Southampton"
          ],
          [
           "Rush, Mr. Alfred George John",
           3,
           "Southampton"
          ],
          [
           "Ryan, Mr. Patrick",
           3,
           "Queenstown"
          ],
          [
           "Saad, Mr. Amin",
           3,
           "Cherbourg"
          ],
          [
           "Saad, Mr. Khalil",
           3,
           "Cherbourg"
          ],
          [
           "Saade, Mr. Jean Nassr",
           3,
           "Cherbourg"
          ],
          [
           "Sadlier, Mr. Matthew",
           3,
           "Queenstown"
          ],
          [
           "Sadowitz, Mr. Harry",
           3,
           "Southampton"
          ],
          [
           "Saether, Mr. Simon Sivertsen",
           3,
           "Southampton"
          ],
          [
           "Sage, Master. Thomas Henry",
           3,
           "Southampton"
          ],
          [
           "Sage, Master. William Henry",
           3,
           "Southampton"
          ],
          [
           "Sage, Miss. Ada",
           3,
           "Southampton"
          ],
          [
           "Sage, Miss. Constance Gladys",
           3,
           "Southampton"
          ],
          [
           "Sage, Miss. Dorothy Edith \"Dolly\"",
           3,
           "Southampton"
          ],
          [
           "Sage, Miss. Stella Anna",
           3,
           "Southampton"
          ],
          [
           "Sage, Mr. Douglas Bullen",
           3,
           "Southampton"
          ],
          [
           "Sage, Mr. Frederick",
           3,
           "Southampton"
          ],
          [
           "Sage, Mr. George John Jr",
           3,
           "Southampton"
          ],
          [
           "Sage, Mr. John George",
           3,
           "Southampton"
          ],
          [
           "Sage, Mrs. John (Annie Bullen)",
           3,
           "Southampton"
          ],
          [
           "Salander, Mr. Karl Johan",
           3,
           "Southampton"
          ],
          [
           "Salonen, Mr. Johan Werner",
           3,
           "Southampton"
          ],
          [
           "Samaan, Mr. Elias",
           3,
           "Cherbourg"
          ],
          [
           "Samaan, Mr. Hanna",
           3,
           "Cherbourg"
          ],
          [
           "Samaan, Mr. Youssef",
           3,
           "Cherbourg"
          ],
          [
           "Saundercock, Mr. William Henry",
           3,
           "Southampton"
          ],
          [
           "Sawyer, Mr. Frederick Charles",
           3,
           "Southampton"
          ],
          [
           "Scanlan, Mr. James",
           3,
           "Queenstown"
          ],
          [
           "Sdycoff, Mr. Todor",
           3,
           "Southampton"
          ],
          [
           "Shaughnessy, Mr. Patrick",
           3,
           "Queenstown"
          ],
          [
           "Shellard, Mr. Frederick William",
           3,
           "Southampton"
          ],
          [
           "Shorney, Mr. Charles Joseph",
           3,
           "Southampton"
          ],
          [
           "Simmons, Mr. John",
           3,
           "Southampton"
          ],
          [
           "Sirayanian, Mr. Orsen",
           3,
           "Cherbourg"
          ],
          [
           "Sirota, Mr. Maurice",
           3,
           "Southampton"
          ],
          [
           "Sivic, Mr. Husein",
           3,
           "Southampton"
          ],
          [
           "Sivola, Mr. Antti Wilhelm",
           3,
           "Southampton"
          ],
          [
           "Skoog, Master. Harald",
           3,
           "Southampton"
          ],
          [
           "Skoog, Master. Karl Thorsten",
           3,
           "Southampton"
          ],
          [
           "Skoog, Miss. Mabel",
           3,
           "Southampton"
          ],
          [
           "Skoog, Miss. Margit Elizabeth",
           3,
           "Southampton"
          ],
          [
           "Skoog, Mr. Wilhelm",
           3,
           "Southampton"
          ],
          [
           "Skoog, Mrs. William (Anna Bernhardina Karlsson)",
           3,
           "Southampton"
          ],
          [
           "Slabenoff, Mr. Petco",
           3,
           "Southampton"
          ],
          [
           "Slocovski, Mr. Selman Francis",
           3,
           "Southampton"
          ],
          [
           "Smiljanic, Mr. Mile",
           3,
           "Southampton"
          ],
          [
           "Smith, Mr. Thomas",
           3,
           "Queenstown"
          ],
          [
           "Soholt, Mr. Peter Andreas Lauritz Andersen",
           3,
           "Southampton"
          ],
          [
           "Somerton, Mr. Francis William",
           3,
           "Southampton"
          ],
          [
           "Spector, Mr. Woolf",
           3,
           "Southampton"
          ],
          [
           "Spinner, Mr. Henry John",
           3,
           "Southampton"
          ],
          [
           "Staneff, Mr. Ivan",
           3,
           "Southampton"
          ],
          [
           "Stankovic, Mr. Ivan",
           3,
           "Cherbourg"
          ],
          [
           "Stanley, Mr. Edward Roland",
           3,
           "Southampton"
          ],
          [
           "Storey, Mr. Thomas",
           3,
           "Southampton"
          ],
          [
           "Stoytcheff, Mr. Ilia",
           3,
           "Southampton"
          ],
          [
           "Strandberg, Miss. Ida Sofia",
           3,
           "Southampton"
          ],
          [
           "Strilic, Mr. Ivan",
           3,
           "Southampton"
          ],
          [
           "Strom, Miss. Telma Matilda",
           3,
           "Southampton"
          ],
          [
           "Strom, Mrs. Wilhelm (Elna Matilda Persson)",
           3,
           "Southampton"
          ],
          [
           "Sutehall, Mr. Henry Jr",
           3,
           "Southampton"
          ],
          [
           "Svensson, Mr. Johan",
           3,
           "Southampton"
          ],
          [
           "Svensson, Mr. Olof",
           3,
           "Southampton"
          ],
          [
           "Theobald, Mr. Thomas Leonard",
           3,
           "Southampton"
          ],
          [
           "Thomas, Mr. Charles P",
           3,
           "Cherbourg"
          ],
          [
           "Thomas, Mr. John",
           3,
           "Cherbourg"
          ],
          [
           "Thomas, Mr. Tannous",
           3,
           "Cherbourg"
          ],
          [
           "Thomson, Mr. Alexander Morrison",
           3,
           "Southampton"
          ],
          [
           "Thorneycroft, Mr. Percival",
           3,
           "Southampton"
          ],
          [
           "Tikkanen, Mr. Juho",
           3,
           "Southampton"
          ],
          [
           "Tobin, Mr. Roger",
           3,
           "Queenstown"
          ],
          [
           "Todoroff, Mr. Lalio",
           3,
           "Southampton"
          ],
          [
           "Tomlin, Mr. Ernest Portage",
           3,
           "Southampton"
          ],
          [
           "Torber, Mr. Ernst William",
           3,
           "Southampton"
          ],
          [
           "Torfa, Mr. Assad",
           3,
           "Cherbourg"
          ],
          [
           "Toufik, Mr. Nakli",
           3,
           "Cherbourg"
          ],
          [
           "Turcin, Mr. Stjepan",
           3,
           "Southampton"
          ],
          [
           "van Billiard, Master. James William",
           3,
           "Southampton"
          ],
          [
           "van Billiard, Master. Walter John",
           3,
           "Southampton"
          ],
          [
           "van Billiard, Mr. Austin Blyler",
           3,
           "Southampton"
          ],
          [
           "Van Impe, Miss. Catharina",
           3,
           "Southampton"
          ],
          [
           "Van Impe, Mr. Jean Baptiste",
           3,
           "Southampton"
          ],
          [
           "Van Impe, Mrs. Jean Baptiste (Rosalie Paula Govaert)",
           3,
           "Southampton"
          ],
          [
           "van Melkebeke, Mr. Philemon",
           3,
           "Southampton"
          ],
          [
           "Vande Velde, Mr. Johannes Joseph",
           3,
           "Southampton"
          ],
          [
           "Vande Walle, Mr. Nestor Cyriel",
           3,
           "Southampton"
          ],
          [
           "Vanden Steen, Mr. Leo Peter",
           3,
           "Southampton"
          ],
          [
           "Vander Cruyssen, Mr. Victor",
           3,
           "Southampton"
          ],
          [
           "Vander Planke, Miss. Augusta Maria",
           3,
           "Southampton"
          ],
          [
           "Vander Planke, Mr. Julius",
           3,
           "Southampton"
          ],
          [
           "Vander Planke, Mr. Leo Edmondus",
           3,
           "Southampton"
          ],
          [
           "Vander Planke, Mrs. Julius (Emelia Maria Vandemoortele)",
           3,
           "Southampton"
          ],
          [
           "Vendel, Mr. Olof Edvin",
           3,
           "Southampton"
          ],
          [
           "Vestrom, Miss. Hulda Amanda Adolfina",
           3,
           "Southampton"
          ],
          [
           "Vovk, Mr. Janko",
           3,
           "Southampton"
          ],
          [
           "Waelens, Mr. Achille",
           3,
           "Southampton"
          ],
          [
           "Ware, Mr. Frederick",
           3,
           "Southampton"
          ],
          [
           "Warren, Mr. Charles William",
           3,
           "Southampton"
          ],
          [
           "Webber, Mr. James",
           3,
           "Southampton"
          ],
          [
           "Wenzel, Mr. Linhart",
           3,
           "Southampton"
          ],
          [
           "Widegren, Mr. Carl/Charles Peter",
           3,
           "Southampton"
          ],
          [
           "Wiklund, Mr. Jakob Alfred",
           3,
           "Southampton"
          ],
          [
           "Wiklund, Mr. Karl Johan",
           3,
           "Southampton"
          ],
          [
           "Willer, Mr. Aaron (\"Abi Weller\")",
           3,
           "Southampton"
          ],
          [
           "Willey, Mr. Edward",
           3,
           "Southampton"
          ],
          [
           "Williams, Mr. Howard Hugh \"Harry\"",
           3,
           "Southampton"
          ],
          [
           "Williams, Mr. Leslie",
           3,
           "Southampton"
          ],
          [
           "Windelov, Mr. Einar",
           3,
           "Southampton"
          ],
          [
           "Wirz, Mr. Albert",
           3,
           "Southampton"
          ],
          [
           "Wiseman, Mr. Phillippe",
           3,
           "Southampton"
          ],
          [
           "Wittevrongel, Mr. Camille",
           3,
           "Southampton"
          ],
          [
           "Yasbeck, Mr. Antoni",
           3,
           "Cherbourg"
          ],
          [
           "Youseff, Mr. Gerious",
           3,
           "Cherbourg"
          ],
          [
           "Yousif, Mr. Wazli",
           3,
           "Cherbourg"
          ],
          [
           "Yousseff, Mr. Gerious",
           3,
           "Cherbourg"
          ],
          [
           "Zabour, Miss. Hileni",
           3,
           "Cherbourg"
          ],
          [
           "Zabour, Miss. Thamine",
           3,
           "Cherbourg"
          ],
          [
           "Zakarian, Mr. Mapriededer",
           3,
           "Cherbourg"
          ],
          [
           "Zakarian, Mr. Ortin",
           3,
           "Cherbourg"
          ],
          [
           "Zimmerman, Mr. Leo",
           3,
           "Southampton"
          ]
         ],
         "fillcolor": "rgba(255,255,255,0)",
         "hoveron": "points",
         "hovertemplate": "<b>%{customdata[0]}</b><br>Sex: %{customdata[1]}<br>Age: %{customdata[2]}<br>Class: %{customdata[3]}<br>Embarked: %{customdata[4]}<br>%{yaxis.title.text}: %{y}<br><extra></extra>",
         "legendgroup": "Died",
         "line": {
          "color": "rgba(255,255,255,0)"
         },
         "marker": {
          "color": "#DC143C",
          "line": {
           "color": "white",
           "width": 0.5
          },
          "opacity": 0.6,
          "size": 6
         },
         "name": "Died",
         "offsetgroup": "Died",
         "orientation": "v",
         "pointpos": 0,
         "showlegend": true,
         "type": "box",
         "x": [
          "female",
          "male",
          "female",
          "male",
          "male",
          "male",
          "male",
          "male",
          "male",
          "male",
          "male",
          "male",
          "male",
          "male",
          "male",
          "male",
          "male",
          "male",
          "male",
          "male",
          "male",
          "male",
          "male",
          "male",
          "male",
          "male",
          "male",
          "male",
          "male",
          "male",
          "male",
          "male",
          "male",
          "male",
          "female",
          "male",
          "male",
          "male",
          "male",
          "male",
          "male",
          "male",
          "male",
          "male",
          "male",
          "male",
          "male",
          "male",
          "male",
          "male",
          "male",
          "male",
          "male",
          "male",
          "male",
          "male",
          "female",
          "male",
          "male",
          "male",
          "male",
          "male",
          "male",
          "male",
          "male",
          "male",
          "male",
          "male",
          "male",
          "male",
          "male",
          "male",
          "male",
          "male",
          "male",
          "male",
          "male",
          "male",
          "male",
          "male",
          "male",
          "male",
          "male",
          "male",
          "male",
          "male",
          "male",
          "male",
          "male",
          "male",
          "male",
          "male",
          "male",
          "male",
          "male",
          "male",
          "male",
          "male",
          "male",
          "male",
          "male",
          "male",
          "male",
          "male",
          "male",
          "male",
          "female",
          "male",
          "male",
          "male",
          "male",
          "male",
          "male",
          "male",
          "male",
          "male",
          "male",
          "male",
          "male",
          "male",
          "male",
          "male",
          "male",
          "male",
          "male",
          "male",
          "male",
          "male",
          "male",
          "male",
          "male",
          "male",
          "male",
          "male",
          "male",
          "male",
          "male",
          "male",
          "male",
          "male",
          "male",
          "male",
          "male",
          "male",
          "female",
          "male",
          "male",
          "male",
          "female",
          "male",
          "male",
          "male",
          "male",
          "female",
          "female",
          "male",
          "male",
          "male",
          "male",
          "male",
          "male",
          "male",
          "male",
          "male",
          "male",
          "male",
          "male",
          "male",
          "male",
          "male",
          "male",
          "male",
          "female",
          "male",
          "male",
          "male",
          "male",
          "male",
          "male",
          "male",
          "male",
          "male",
          "male",
          "male",
          "male",
          "male",
          "male",
          "male",
          "male",
          "male",
          "male",
          "male",
          "male",
          "male",
          "male",
          "female",
          "male",
          "male",
          "male",
          "male",
          "male",
          "male",
          "female",
          "male",
          "male",
          "male",
          "male",
          "male",
          "male",
          "male",
          "female",
          "male",
          "male",
          "male",
          "male",
          "female",
          "male",
          "male",
          "male",
          "male",
          "male",
          "male",
          "male",
          "female",
          "male",
          "male",
          "male",
          "male",
          "male",
          "male",
          "male",
          "male",
          "male",
          "male",
          "male",
          "male",
          "male",
          "male",
          "male",
          "male",
          "male",
          "male",
          "male",
          "male",
          "male",
          "male",
          "male",
          "male",
          "male",
          "male",
          "male",
          "male",
          "male",
          "male",
          "male",
          "male",
          "male",
          "male",
          "male",
          "male",
          "male",
          "male",
          "male",
          "male",
          "male",
          "male",
          "male",
          "male",
          "male",
          "male",
          "male",
          "female",
          "male",
          "male",
          "male",
          "male",
          "male",
          "male",
          "male",
          "male",
          "female",
          "male",
          "male",
          "male",
          "male",
          "male",
          "female",
          "male",
          "male",
          "male",
          "male",
          "male",
          "male",
          "male",
          "male",
          "female",
          "female",
          "female",
          "female",
          "female",
          "male",
          "male",
          "female",
          "male",
          "male",
          "male",
          "female",
          "male",
          "male",
          "male",
          "male",
          "male",
          "male",
          "male",
          "male",
          "female",
          "male",
          "male",
          "male",
          "male",
          "male",
          "male",
          "female",
          "female",
          "female",
          "male",
          "male",
          "male",
          "male",
          "male",
          "male",
          "male",
          "male",
          "male",
          "male",
          "female",
          "male",
          "female",
          "female",
          "male",
          "female",
          "male",
          "female",
          "male",
          "male",
          "male",
          "male",
          "female",
          "male",
          "female",
          "female",
          "female",
          "male",
          "male",
          "male",
          "male",
          "female",
          "male",
          "male",
          "male",
          "female",
          "male",
          "male",
          "female",
          "male",
          "male",
          "male",
          "male",
          "male",
          "male",
          "male",
          "male",
          "male",
          "male",
          "male",
          "male",
          "female",
          "male",
          "male",
          "male",
          "male",
          "male",
          "male",
          "male",
          "male",
          "male",
          "male",
          "male",
          "female",
          "male",
          "male",
          "male",
          "female",
          "male",
          "male",
          "male",
          "male",
          "male",
          "male",
          "male",
          "male",
          "male",
          "male",
          "male",
          "male",
          "male",
          "male",
          "male",
          "male",
          "male",
          "male",
          "male",
          "female",
          "male",
          "male",
          "male",
          "male",
          "male",
          "male",
          "male",
          "male",
          "male",
          "male",
          "male",
          "male",
          "male",
          "male",
          "male",
          "female",
          "male",
          "male",
          "male",
          "male",
          "female",
          "female",
          "male",
          "male",
          "male",
          "female",
          "male",
          "male",
          "male",
          "male",
          "male",
          "male",
          "male",
          "male",
          "male",
          "male",
          "male",
          "male",
          "female",
          "female",
          "male",
          "male",
          "female",
          "male",
          "male",
          "male",
          "male",
          "male",
          "male",
          "male",
          "female",
          "female",
          "male",
          "male",
          "male",
          "male",
          "male",
          "male",
          "male",
          "male",
          "female",
          "male",
          "male",
          "male",
          "female",
          "female",
          "male",
          "female",
          "female",
          "male",
          "male",
          "male",
          "male",
          "male",
          "male",
          "female",
          "female",
          "male",
          "male",
          "male",
          "male",
          "male",
          "male",
          "male",
          "male",
          "male",
          "male",
          "male",
          "male",
          "male",
          "male",
          "female",
          "male",
          "female",
          "male",
          "male",
          "female",
          "female",
          "male",
          "male",
          "male",
          "male",
          "male",
          "male",
          "male",
          "male",
          "male",
          "male",
          "male",
          "male",
          "female",
          "male",
          "male",
          "male",
          "female",
          "male",
          "female",
          "male",
          "female",
          "male",
          "male",
          "female",
          "male",
          "male",
          "male",
          "male",
          "male",
          "male",
          "male",
          "female",
          "female",
          "female",
          "female",
          "male",
          "male",
          "female",
          "male",
          "male",
          "male",
          "male",
          "female",
          "female",
          "male",
          "female",
          "male",
          "male",
          "male",
          "male",
          "female",
          "male",
          "male",
          "male",
          "male",
          "male",
          "male",
          "female",
          "male",
          "male",
          "male",
          "female",
          "male",
          "male",
          "male",
          "male",
          "male",
          "female",
          "male",
          "male",
          "female",
          "female",
          "female",
          "female",
          "male",
          "male",
          "male",
          "male",
          "male",
          "male",
          "male",
          "male",
          "male",
          "male",
          "male",
          "male",
          "male",
          "male",
          "male",
          "male",
          "male",
          "male",
          "male",
          "male",
          "female",
          "male",
          "female",
          "male",
          "male",
          "male",
          "male",
          "male",
          "male",
          "male",
          "male",
          "male",
          "male",
          "male",
          "male",
          "female",
          "male",
          "male",
          "male",
          "female",
          "male",
          "male",
          "female",
          "female",
          "male",
          "male",
          "female",
          "male",
          "male",
          "female",
          "female",
          "female",
          "male",
          "male",
          "male",
          "male",
          "male",
          "female",
          "male",
          "male",
          "male",
          "male",
          "male",
          "female",
          "female",
          "male",
          "male",
          "male",
          "male",
          "male",
          "male",
          "female",
          "male",
          "female",
          "male",
          "male",
          "male",
          "female",
          "male",
          "male",
          "male",
          "male",
          "female",
          "male",
          "male",
          "male",
          "male",
          "male",
          "male",
          "male",
          "male",
          "male",
          "female",
          "female",
          "male",
          "male",
          "female",
          "male",
          "female",
          "male",
          "male",
          "female",
          "male",
          "female",
          "male",
          "male",
          "male",
          "male",
          "male",
          "male",
          "male",
          "male",
          "male",
          "male",
          "male",
          "female",
          "female",
          "female",
          "female",
          "male",
          "male",
          "male",
          "male",
          "female",
          "male",
          "male",
          "male",
          "male",
          "male",
          "male",
          "male",
          "male",
          "male",
          "male",
          "male",
          "male",
          "male",
          "male",
          "male",
          "male",
          "male",
          "male",
          "male",
          "female",
          "female",
          "male",
          "female",
          "male",
          "male",
          "male",
          "male",
          "male",
          "male",
          "male",
          "male",
          "male",
          "male",
          "male",
          "male",
          "male",
          "female",
          "male",
          "female",
          "female",
          "male",
          "male",
          "male",
          "male",
          "male",
          "male",
          "male",
          "male",
          "male",
          "male",
          "male",
          "male",
          "male",
          "male",
          "male",
          "male",
          "male",
          "male",
          "male",
          "male",
          "female",
          "male",
          "female",
          "male",
          "male",
          "male",
          "male",
          "male",
          "female",
          "male",
          "male",
          "female",
          "male",
          "female",
          "male",
          "male",
          "male",
          "male",
          "male",
          "male",
          "male",
          "male",
          "male",
          "male",
          "male",
          "male",
          "male",
          "male",
          "male",
          "male",
          "male",
          "male",
          "male",
          "male",
          "male",
          "female",
          "female",
          "male",
          "male",
          "male"
         ],
         "x0": " ",
         "xaxis": "x",
         "y": {
          "bdata": "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",
          "dtype": "f8"
         },
         "y0": " ",
         "yaxis": "y"
        },
        {
         "boxpoints": false,
         "fillcolor": "rgba(211,211,211,0.3)",
         "hoverinfo": "skip",
         "line": {
          "color": "black",
          "width": 1.5
         },
         "showlegend": false,
         "type": "box",
         "x": [
          "female",
          "female",
          "female",
          "female",
          "female",
          "female",
          "female",
          "female",
          "female",
          "female",
          "female",
          "female",
          "female",
          "female",
          "female",
          "female",
          "female",
          "female",
          "female",
          "female",
          "female",
          "female",
          "female",
          "female",
          "female",
          "female",
          "female",
          "female",
          "female",
          "female",
          "female",
          "female",
          "female",
          "female",
          "female",
          "female",
          "female",
          "female",
          "female",
          "female",
          "female",
          "female",
          "female",
          "female",
          "female",
          "female",
          "female",
          "female",
          "female",
          "female",
          "female",
          "female",
          "female",
          "female",
          "female",
          "female",
          "female",
          "female",
          "female",
          "female",
          "female",
          "female",
          "female",
          "female",
          "female",
          "female",
          "female",
          "female",
          "female",
          "female",
          "female",
          "female",
          "female",
          "female",
          "female",
          "female",
          "female",
          "female",
          "female",
          "female",
          "female",
          "female",
          "female",
          "female",
          "female",
          "female",
          "female",
          "female",
          "female",
          "female",
          "female",
          "female",
          "female",
          "female",
          "female",
          "female",
          "female",
          "female",
          "female",
          "female",
          "female",
          "female",
          "female",
          "female",
          "female",
          "female",
          "female",
          "female",
          "female",
          "female",
          "female",
          "female",
          "female",
          "female",
          "female",
          "female",
          "female",
          "female",
          "female",
          "female",
          "female",
          "female",
          "female",
          "female",
          "female",
          "female",
          "female",
          "female",
          "female",
          "female",
          "female",
          "female",
          "female",
          "female",
          "female",
          "female",
          "female",
          "female",
          "female",
          "female",
          "female",
          "female",
          "female",
          "female",
          "female",
          "female",
          "female",
          "female",
          "female",
          "female",
          "female",
          "female",
          "female",
          "female",
          "female",
          "female",
          "female",
          "female",
          "female",
          "female",
          "female",
          "female",
          "female",
          "female",
          "female",
          "female",
          "female",
          "female",
          "female",
          "female",
          "female",
          "female",
          "female",
          "female",
          "female",
          "female",
          "female",
          "female",
          "female",
          "female",
          "female",
          "female",
          "female",
          "female",
          "female",
          "female",
          "female",
          "female",
          "female",
          "female",
          "female",
          "female",
          "female",
          "female",
          "female",
          "female",
          "female",
          "female",
          "female",
          "female",
          "female",
          "female",
          "female",
          "female",
          "female",
          "female",
          "female",
          "female",
          "female",
          "female",
          "female",
          "female",
          "female",
          "female",
          "female",
          "female",
          "female",
          "female",
          "female",
          "female",
          "female",
          "female",
          "female",
          "female",
          "female",
          "female",
          "female",
          "female",
          "female",
          "female",
          "female",
          "female",
          "female",
          "female",
          "female",
          "female",
          "female",
          "female",
          "female",
          "female",
          "female",
          "female",
          "female",
          "female",
          "female",
          "female",
          "female",
          "female",
          "female",
          "female",
          "female",
          "female",
          "female",
          "female",
          "female",
          "female",
          "female",
          "female",
          "female",
          "female",
          "female",
          "female",
          "female",
          "female",
          "female",
          "female",
          "female",
          "female",
          "female",
          "female",
          "female",
          "female",
          "female",
          "female",
          "female",
          "female",
          "female",
          "female",
          "female",
          "female",
          "female",
          "female",
          "female",
          "female",
          "female",
          "female",
          "female",
          "female",
          "female",
          "female",
          "female",
          "female",
          "female",
          "female",
          "female",
          "female",
          "female",
          "female",
          "female",
          "female",
          "female",
          "female",
          "female",
          "female",
          "female",
          "female",
          "female",
          "female",
          "female",
          "female",
          "female",
          "female",
          "female",
          "female",
          "female",
          "female",
          "female",
          "female",
          "female",
          "female",
          "female",
          "female",
          "female",
          "female",
          "female",
          "female",
          "female",
          "female",
          "female",
          "female",
          "female",
          "female",
          "female",
          "female",
          "female",
          "female",
          "female",
          "female",
          "female",
          "female",
          "female",
          "female",
          "female",
          "female",
          "female",
          "female",
          "female",
          "female",
          "female",
          "female",
          "female",
          "female",
          "female",
          "female",
          "female",
          "female",
          "female",
          "female",
          "female",
          "female",
          "female",
          "female",
          "female",
          "female",
          "female",
          "female",
          "female",
          "female",
          "female",
          "female",
          "female",
          "female",
          "female",
          "female",
          "female",
          "female",
          "female",
          "female",
          "female",
          "female",
          "female",
          "female",
          "female",
          "female",
          "female",
          "female",
          "female",
          "female",
          "female",
          "female",
          "female",
          "female",
          "female",
          "female",
          "female",
          "female",
          "female",
          "female",
          "female",
          "female",
          "female",
          "female",
          "female",
          "female",
          "female",
          "female",
          "female",
          "female",
          "female",
          "female",
          "female",
          "female",
          "female",
          "female",
          "female",
          "female",
          "female",
          "female",
          "female",
          "female",
          "female",
          "female",
          "female",
          "female",
          "female",
          "female",
          "female",
          "female",
          "female",
          "female",
          "female",
          "female",
          "female",
          "female",
          "female",
          "female",
          "female",
          "female",
          "female",
          "female",
          "female",
          "female",
          "female",
          "female",
          "female",
          "female",
          "female",
          "female",
          "female",
          "female",
          "female",
          "female",
          "female",
          "female",
          "female",
          "female",
          "female",
          "female",
          "female",
          "female",
          "female",
          "female",
          "female",
          "female",
          "female",
          "female"
         ],
         "y": [
          29,
          2,
          25,
          63,
          53,
          18,
          24,
          26,
          50,
          32,
          47,
          42,
          29,
          19,
          35,
          30,
          58,
          45,
          22,
          44,
          59,
          60,
          41,
          53,
          58,
          14,
          36,
          36,
          76,
          47,
          33,
          36,
          30,
          36,
          26,
          22,
          39,
          64,
          55,
          36,
          64,
          38,
          33,
          27,
          17,
          54,
          27,
          48,
          48,
          23,
          38,
          54,
          36,
          36,
          21,
          24,
          28,
          23,
          60,
          30,
          36,
          22,
          48,
          35,
          35,
          22,
          45,
          36,
          19,
          58,
          45,
          25,
          49,
          35,
          24,
          52,
          16,
          44,
          51,
          35,
          35,
          38,
          50,
          36,
          45,
          39,
          49,
          30,
          55,
          16,
          51,
          21,
          58,
          15,
          16,
          18,
          24,
          36,
          33,
          37,
          31,
          23,
          19,
          39,
          22,
          22,
          17,
          30,
          56,
          43,
          33,
          33,
          54,
          18,
          21,
          48,
          24,
          35,
          30,
          40,
          39,
          18,
          23,
          40,
          36,
          43,
          52,
          62,
          63,
          48,
          18,
          39,
          36,
          39,
          36,
          35,
          60,
          55,
          31,
          45,
          50,
          21,
          31,
          36,
          28,
          36,
          36,
          19,
          4,
          12,
          36,
          19,
          24,
          15,
          40,
          20,
          36,
          42,
          22,
          35,
          44,
          29,
          25,
          45,
          28,
          8,
          31,
          22,
          30,
          36,
          48,
          28,
          24,
          18,
          34,
          34,
          27,
          30,
          29,
          38,
          34,
          24,
          6,
          7,
          45,
          24,
          24,
          48,
          55,
          18,
          20,
          54,
          29,
          60,
          17,
          24,
          23,
          24,
          22,
          21,
          45,
          26,
          1,
          3,
          22,
          17,
          21,
          34,
          42,
          57,
          24,
          13,
          41,
          14,
          29,
          50,
          21,
          19,
          32,
          2,
          8,
          33,
          30,
          28,
          24,
          50,
          21,
          25,
          18,
          20,
          30,
          30,
          40,
          50,
          28,
          27,
          27,
          31,
          31,
          12,
          40,
          32.5,
          29,
          4,
          29,
          0.9167,
          5,
          33,
          26,
          24,
          35,
          16,
          18,
          40,
          18,
          19,
          6,
          2,
          17,
          38,
          9,
          11,
          39,
          18,
          5,
          38,
          45,
          17,
          13,
          33,
          0.75,
          0.75,
          5,
          24,
          18,
          18,
          45,
          27,
          9,
          36,
          21,
          32,
          22,
          20,
          18.5,
          18,
          21,
          30,
          21,
          36,
          16,
          37,
          22,
          30,
          36,
          17,
          22,
          30,
          28,
          36,
          36,
          0.1667,
          33,
          19,
          30,
          24,
          23,
          22,
          5,
          21,
          21,
          9,
          48,
          16,
          21,
          31,
          10,
          16,
          43,
          24,
          17,
          24,
          45,
          21,
          21,
          18,
          26,
          23,
          22,
          28,
          21,
          2,
          22,
          27,
          21,
          27,
          25,
          21,
          1,
          27,
          21,
          36,
          20,
          21,
          4,
          21,
          21,
          36,
          22,
          4,
          26,
          1,
          36,
          37,
          22,
          21,
          21,
          21,
          36,
          21,
          25,
          45,
          30,
          26,
          23,
          21,
          21,
          30.5,
          21,
          36,
          21,
          21,
          21,
          21,
          21,
          15,
          35,
          19,
          21,
          21,
          36,
          21,
          27,
          21,
          36,
          36,
          21,
          24,
          21,
          21,
          21,
          15,
          1,
          19,
          21,
          14,
          29,
          18,
          26,
          22,
          36,
          43,
          21,
          21,
          22,
          21,
          31,
          23,
          20,
          31,
          21,
          3,
          8,
          29,
          41,
          3,
          26,
          21,
          36,
          21,
          28,
          18,
          36,
          39,
          22,
          21,
          36,
          47,
          2,
          41,
          21,
          21,
          21,
          21,
          21,
          36,
          21,
          1,
          24,
          4,
          21,
          18,
          9,
          2,
          45,
          21,
          23,
          22,
          2,
          29,
          16,
          36,
          9,
          29,
          18,
          63,
          10,
          30,
          18,
          31,
          14,
          38,
          47,
          15,
          14.5,
          21
         ]
        },
        {
         "boxpoints": false,
         "fillcolor": "rgba(211,211,211,0.3)",
         "hoverinfo": "skip",
         "line": {
          "color": "black",
          "width": 1.5
         },
         "showlegend": false,
         "type": "box",
         "x": [
          "male",
          "male",
          "male",
          "male",
          "male",
          "male",
          "male",
          "male",
          "male",
          "male",
          "male",
          "male",
          "male",
          "male",
          "male",
          "male",
          "male",
          "male",
          "male",
          "male",
          "male",
          "male",
          "male",
          "male",
          "male",
          "male",
          "male",
          "male",
          "male",
          "male",
          "male",
          "male",
          "male",
          "male",
          "male",
          "male",
          "male",
          "male",
          "male",
          "male",
          "male",
          "male",
          "male",
          "male",
          "male",
          "male",
          "male",
          "male",
          "male",
          "male",
          "male",
          "male",
          "male",
          "male",
          "male",
          "male",
          "male",
          "male",
          "male",
          "male",
          "male",
          "male",
          "male",
          "male",
          "male",
          "male",
          "male",
          "male",
          "male",
          "male",
          "male",
          "male",
          "male",
          "male",
          "male",
          "male",
          "male",
          "male",
          "male",
          "male",
          "male",
          "male",
          "male",
          "male",
          "male",
          "male",
          "male",
          "male",
          "male",
          "male",
          "male",
          "male",
          "male",
          "male",
          "male",
          "male",
          "male",
          "male",
          "male",
          "male",
          "male",
          "male",
          "male",
          "male",
          "male",
          "male",
          "male",
          "male",
          "male",
          "male",
          "male",
          "male",
          "male",
          "male",
          "male",
          "male",
          "male",
          "male",
          "male",
          "male",
          "male",
          "male",
          "male",
          "male",
          "male",
          "male",
          "male",
          "male",
          "male",
          "male",
          "male",
          "male",
          "male",
          "male",
          "male",
          "male",
          "male",
          "male",
          "male",
          "male",
          "male",
          "male",
          "male",
          "male",
          "male",
          "male",
          "male",
          "male",
          "male",
          "male",
          "male",
          "male",
          "male",
          "male",
          "male",
          "male",
          "male",
          "male",
          "male",
          "male",
          "male",
          "male",
          "male",
          "male",
          "male",
          "male",
          "male",
          "male",
          "male",
          "male",
          "male",
          "male",
          "male",
          "male",
          "male",
          "male",
          "male",
          "male",
          "male",
          "male",
          "male",
          "male",
          "male",
          "male",
          "male",
          "male",
          "male",
          "male",
          "male",
          "male",
          "male",
          "male",
          "male",
          "male",
          "male",
          "male",
          "male",
          "male",
          "male",
          "male",
          "male",
          "male",
          "male",
          "male",
          "male",
          "male",
          "male",
          "male",
          "male",
          "male",
          "male",
          "male",
          "male",
          "male",
          "male",
          "male",
          "male",
          "male",
          "male",
          "male",
          "male",
          "male",
          "male",
          "male",
          "male",
          "male",
          "male",
          "male",
          "male",
          "male",
          "male",
          "male",
          "male",
          "male",
          "male",
          "male",
          "male",
          "male",
          "male",
          "male",
          "male",
          "male",
          "male",
          "male",
          "male",
          "male",
          "male",
          "male",
          "male",
          "male",
          "male",
          "male",
          "male",
          "male",
          "male",
          "male",
          "male",
          "male",
          "male",
          "male",
          "male",
          "male",
          "male",
          "male",
          "male",
          "male",
          "male",
          "male",
          "male",
          "male",
          "male",
          "male",
          "male",
          "male",
          "male",
          "male",
          "male",
          "male",
          "male",
          "male",
          "male",
          "male",
          "male",
          "male",
          "male",
          "male",
          "male",
          "male",
          "male",
          "male",
          "male",
          "male",
          "male",
          "male",
          "male",
          "male",
          "male",
          "male",
          "male",
          "male",
          "male",
          "male",
          "male",
          "male",
          "male",
          "male",
          "male",
          "male",
          "male",
          "male",
          "male",
          "male",
          "male",
          "male",
          "male",
          "male",
          "male",
          "male",
          "male",
          "male",
          "male",
          "male",
          "male",
          "male",
          "male",
          "male",
          "male",
          "male",
          "male",
          "male",
          "male",
          "male",
          "male",
          "male",
          "male",
          "male",
          "male",
          "male",
          "male",
          "male",
          "male",
          "male",
          "male",
          "male",
          "male",
          "male",
          "male",
          "male",
          "male",
          "male",
          "male",
          "male",
          "male",
          "male",
          "male",
          "male",
          "male",
          "male",
          "male",
          "male",
          "male",
          "male",
          "male",
          "male",
          "male",
          "male",
          "male",
          "male",
          "male",
          "male",
          "male",
          "male",
          "male",
          "male",
          "male",
          "male",
          "male",
          "male",
          "male",
          "male",
          "male",
          "male",
          "male",
          "male",
          "male",
          "male",
          "male",
          "male",
          "male",
          "male",
          "male",
          "male",
          "male",
          "male",
          "male",
          "male",
          "male",
          "male",
          "male",
          "male",
          "male",
          "male",
          "male",
          "male",
          "male",
          "male",
          "male",
          "male",
          "male",
          "male",
          "male",
          "male",
          "male",
          "male",
          "male",
          "male",
          "male",
          "male",
          "male",
          "male",
          "male",
          "male",
          "male",
          "male",
          "male",
          "male",
          "male",
          "male",
          "male",
          "male",
          "male",
          "male",
          "male",
          "male",
          "male",
          "male",
          "male",
          "male",
          "male",
          "male",
          "male",
          "male",
          "male",
          "male",
          "male",
          "male",
          "male",
          "male",
          "male",
          "male",
          "male",
          "male",
          "male",
          "male",
          "male",
          "male",
          "male",
          "male",
          "male",
          "male",
          "male",
          "male",
          "male",
          "male",
          "male",
          "male",
          "male",
          "male",
          "male",
          "male",
          "male",
          "male",
          "male",
          "male",
          "male",
          "male",
          "male",
          "male",
          "male",
          "male",
          "male",
          "male",
          "male",
          "male",
          "male",
          "male",
          "male",
          "male",
          "male",
          "male",
          "male",
          "male",
          "male",
          "male",
          "male",
          "male",
          "male",
          "male",
          "male",
          "male",
          "male",
          "male",
          "male",
          "male",
          "male",
          "male",
          "male",
          "male",
          "male",
          "male",
          "male",
          "male",
          "male",
          "male",
          "male",
          "male",
          "male",
          "male",
          "male",
          "male",
          "male",
          "male",
          "male",
          "male",
          "male",
          "male",
          "male",
          "male",
          "male",
          "male",
          "male",
          "male",
          "male",
          "male",
          "male",
          "male",
          "male",
          "male",
          "male",
          "male",
          "male",
          "male",
          "male",
          "male",
          "male",
          "male",
          "male",
          "male",
          "male",
          "male",
          "male",
          "male",
          "male",
          "male",
          "male",
          "male",
          "male",
          "male",
          "male",
          "male",
          "male",
          "male",
          "male",
          "male",
          "male",
          "male",
          "male",
          "male",
          "male",
          "male",
          "male",
          "male",
          "male",
          "male",
          "male",
          "male",
          "male",
          "male",
          "male",
          "male",
          "male",
          "male",
          "male",
          "male",
          "male",
          "male",
          "male",
          "male",
          "male",
          "male",
          "male",
          "male",
          "male",
          "male",
          "male",
          "male",
          "male",
          "male",
          "male",
          "male",
          "male",
          "male",
          "male",
          "male",
          "male",
          "male",
          "male",
          "male",
          "male",
          "male",
          "male",
          "male",
          "male",
          "male",
          "male",
          "male",
          "male",
          "male",
          "male",
          "male",
          "male",
          "male",
          "male",
          "male",
          "male",
          "male",
          "male",
          "male",
          "male",
          "male",
          "male",
          "male",
          "male",
          "male",
          "male",
          "male",
          "male",
          "male",
          "male",
          "male",
          "male",
          "male",
          "male",
          "male",
          "male",
          "male",
          "male",
          "male",
          "male",
          "male",
          "male",
          "male",
          "male",
          "male",
          "male",
          "male",
          "male",
          "male",
          "male",
          "male",
          "male",
          "male",
          "male",
          "male",
          "male",
          "male",
          "male",
          "male",
          "male",
          "male",
          "male",
          "male",
          "male",
          "male",
          "male",
          "male",
          "male",
          "male",
          "male",
          "male",
          "male",
          "male",
          "male",
          "male",
          "male",
          "male",
          "male",
          "male",
          "male",
          "male",
          "male",
          "male",
          "male",
          "male",
          "male",
          "male",
          "male",
          "male",
          "male",
          "male",
          "male",
          "male",
          "male",
          "male",
          "male",
          "male",
          "male",
          "male",
          "male",
          "male",
          "male",
          "male",
          "male",
          "male",
          "male",
          "male",
          "male",
          "male",
          "male",
          "male",
          "male",
          "male",
          "male",
          "male",
          "male",
          "male",
          "male",
          "male",
          "male",
          "male",
          "male",
          "male",
          "male",
          "male",
          "male",
          "male",
          "male",
          "male",
          "male",
          "male",
          "male",
          "male",
          "male",
          "male",
          "male",
          "male",
          "male",
          "male",
          "male",
          "male",
          "male",
          "male",
          "male",
          "male",
          "male",
          "male",
          "male",
          "male",
          "male",
          "male",
          "male",
          "male",
          "male",
          "male",
          "male",
          "male",
          "male",
          "male",
          "male",
          "male",
          "male",
          "male",
          "male",
          "male",
          "male",
          "male",
          "male",
          "male",
          "male",
          "male",
          "male",
          "male",
          "male",
          "male",
          "male",
          "male",
          "male",
          "male",
          "male",
          "male",
          "male",
          "male",
          "male",
          "male",
          "male",
          "male",
          "male",
          "male",
          "male",
          "male",
          "male",
          "male",
          "male",
          "male",
          "male",
          "male",
          "male",
          "male",
          "male",
          "male",
          "male",
          "male",
          "male",
          "male",
          "male",
          "male",
          "male",
          "male",
          "male",
          "male",
          "male",
          "male",
          "male",
          "male",
          "male",
          "male",
          "male",
          "male",
          "male",
          "male",
          "male",
          "male",
          "male",
          "male",
          "male",
          "male",
          "male",
          "male",
          "male",
          "male",
          "male",
          "male",
          "male"
         ],
         "y": [
          0.9167,
          30,
          48,
          39,
          71,
          47,
          80,
          32,
          24,
          36,
          37,
          26,
          25,
          25,
          28,
          45,
          40,
          42,
          32,
          41,
          48,
          43,
          45,
          32,
          42,
          36,
          33,
          28,
          17,
          11,
          36,
          49,
          36,
          46,
          27,
          45,
          32,
          27,
          32,
          47,
          37,
          32,
          70,
          39,
          51,
          27,
          31,
          31,
          53,
          4,
          50,
          49,
          39,
          32,
          36,
          30,
          19,
          64,
          32,
          50,
          43,
          60,
          32,
          37,
          47,
          24,
          49,
          71,
          53,
          38,
          23,
          46,
          25,
          48,
          32,
          45,
          40,
          27,
          32,
          55,
          42,
          32,
          55,
          42,
          35,
          38,
          32,
          49,
          46,
          50,
          32.5,
          58,
          41,
          42,
          32,
          35,
          32,
          42,
          29,
          30,
          30,
          32,
          19,
          46,
          54,
          36,
          28,
          65,
          44,
          30,
          55,
          47,
          37,
          58,
          64,
          32,
          65,
          28.5,
          32,
          45.5,
          23,
          29,
          18,
          52,
          47,
          38,
          32,
          22,
          32,
          31,
          45,
          32,
          46,
          36,
          55,
          33,
          13,
          61,
          32,
          32,
          34,
          35,
          50,
          56,
          28,
          56,
          56,
          24,
          32,
          24,
          6,
          45,
          57,
          32,
          62,
          54,
          32,
          67,
          61,
          52,
          48,
          49,
          17,
          31,
          40,
          61,
          47,
          64,
          60,
          54,
          21,
          57,
          50,
          27,
          51,
          21,
          32,
          32,
          62,
          30,
          30,
          18,
          25,
          34,
          57,
          18,
          23,
          28,
          51,
          32,
          28,
          1,
          34,
          23,
          26,
          42,
          27,
          60,
          25,
          25,
          42,
          0.8333,
          26,
          32,
          19,
          54,
          52,
          37,
          29,
          29,
          28,
          24,
          31,
          21,
          32,
          8,
          18,
          32,
          17,
          29,
          25,
          18,
          54,
          8,
          42,
          23,
          21,
          18,
          40,
          18,
          36,
          32,
          35,
          38,
          34,
          16,
          26,
          47,
          21,
          21,
          24,
          24,
          34,
          30,
          52,
          30,
          0.6667,
          44,
          28,
          62,
          30,
          43,
          49,
          24,
          32,
          21,
          23,
          36,
          50,
          44,
          21,
          42,
          63,
          33,
          42,
          47,
          24,
          22,
          32,
          34,
          35,
          57,
          32,
          31,
          30,
          32,
          25,
          36,
          24,
          61,
          50,
          32,
          1,
          31,
          32,
          30,
          40,
          32,
          30,
          46,
          19,
          39,
          48,
          70,
          27,
          54,
          39,
          16,
          62,
          32.5,
          2,
          3,
          36.5,
          26,
          19,
          28,
          20,
          39,
          22,
          32,
          23,
          29,
          28,
          32,
          19,
          32,
          41,
          43,
          34,
          30,
          27,
          36,
          34,
          23,
          0.8333,
          3,
          19,
          26,
          25,
          27,
          59,
          35,
          25,
          41,
          25,
          18.5,
          14,
          23,
          29,
          40,
          30,
          23,
          32,
          27,
          2,
          36,
          66,
          32,
          31,
          32,
          42,
          13,
          16,
          25,
          20,
          30,
          26,
          0.8333,
          26,
          26,
          20,
          24,
          25,
          35,
          18,
          32,
          4,
          39,
          27,
          26,
          20,
          26,
          25,
          24,
          35,
          5,
          9,
          3,
          13,
          40,
          23,
          21,
          23,
          30,
          23,
          20,
          32,
          40,
          26,
          20,
          22,
          19,
          26,
          22,
          5,
          20,
          32,
          21,
          18,
          26,
          6,
          32,
          40,
          21,
          29,
          22,
          22,
          35,
          21,
          19,
          18,
          38,
          17,
          17,
          21,
          21,
          32,
          28,
          24,
          28,
          24,
          21,
          32,
          29,
          26,
          18,
          20,
          18,
          24,
          36,
          24,
          31,
          31,
          70.5,
          43,
          35,
          27,
          19,
          30,
          9,
          3,
          59,
          19,
          44,
          17,
          22.5,
          45,
          19,
          29,
          0.3333,
          34,
          27,
          25,
          24,
          22,
          21,
          17,
          32,
          36.5,
          30,
          16,
          1,
          26,
          25,
          32,
          32,
          22,
          36,
          17,
          42,
          43,
          32,
          32,
          19,
          33,
          65,
          24,
          23,
          18,
          16,
          45,
          32,
          39,
          17,
          15,
          47,
          32,
          40.5,
          40.5,
          32,
          18,
          32,
          32,
          26,
          32,
          32,
          32,
          18,
          16,
          32,
          32,
          25,
          32,
          32,
          22,
          9,
          33,
          41,
          38,
          9,
          1,
          11,
          14,
          40,
          51,
          32,
          32,
          20,
          37,
          28,
          19,
          32,
          32,
          28,
          20,
          23.5,
          41,
          26,
          21,
          25,
          32,
          11,
          27,
          32,
          28,
          43,
          28,
          32,
          42,
          32,
          30,
          32,
          32,
          29,
          21,
          32,
          20,
          48,
          17,
          32,
          34,
          26,
          22,
          33,
          31,
          29,
          4,
          49,
          33,
          19,
          5,
          32,
          23,
          32,
          27,
          32,
          17,
          21,
          30,
          21,
          33,
          22,
          39,
          32,
          18.5,
          32,
          32,
          34.5,
          44,
          32,
          32,
          32,
          32,
          32,
          26,
          29,
          18,
          32,
          25,
          32,
          32,
          32,
          32,
          32,
          26,
          29,
          29,
          22,
          22,
          5,
          32,
          34.5,
          32,
          36,
          39,
          24,
          36,
          20,
          32,
          28,
          32,
          30,
          32,
          20.5,
          27,
          51,
          32,
          32,
          32,
          24,
          22,
          32,
          32,
          29,
          32,
          32,
          35,
          33,
          32,
          32,
          32,
          32,
          32,
          24,
          55.5,
          32,
          21,
          32,
          24,
          21,
          28,
          32,
          25,
          6,
          32,
          32,
          32,
          34,
          32,
          32,
          5,
          5,
          32,
          32,
          18,
          22,
          20,
          33,
          32,
          32,
          32,
          12,
          28,
          21,
          41,
          39,
          21,
          28.5,
          61,
          32,
          32,
          32,
          32,
          32,
          23,
          32,
          9,
          28,
          42,
          32,
          28,
          32,
          20,
          20,
          16,
          2,
          6,
          1,
          7,
          2,
          16,
          14,
          21,
          19,
          32,
          32,
          0.75,
          32,
          32,
          32,
          21,
          25,
          22,
          25,
          5,
          24,
          19,
          32,
          25,
          32,
          32,
          17,
          24,
          32,
          32,
          32,
          38,
          21,
          10,
          4,
          7,
          2,
          8,
          35,
          32,
          50,
          32,
          32,
          18,
          50,
          16,
          32,
          32,
          32,
          25,
          32,
          32,
          32,
          38.5,
          5,
          14.5,
          32,
          32,
          32,
          32,
          24,
          39,
          32,
          32,
          32,
          25,
          20,
          24.5,
          32,
          32,
          32,
          29,
          32,
          32,
          32,
          22,
          32,
          40,
          21,
          4,
          10,
          40,
          32,
          32,
          32,
          32,
          19,
          30,
          32,
          32,
          32,
          33,
          21,
          60.5,
          19,
          31,
          27,
          16,
          44,
          25,
          74,
          14,
          24,
          25,
          34,
          0.4167,
          32,
          32,
          32,
          32,
          32,
          32,
          32,
          32,
          30.5,
          44,
          32,
          25,
          32,
          7,
          36,
          5,
          11.5,
          40.5,
          36,
          32,
          33,
          28,
          28,
          47,
          31,
          16,
          22,
          20,
          22,
          22,
          32,
          32,
          32,
          32.5,
          51,
          18,
          21,
          32,
          32,
          32,
          28.5,
          21,
          27,
          32,
          36,
          27,
          45.5,
          32,
          32,
          26.5,
          27,
          29
         ]
        }
       ],
       "layout": {
        "boxmode": "overlay",
        "height": 600,
        "legend": {
         "title": {
          "text": "Survived"
         },
         "tracegroupgap": 0
        },
        "margin": {
         "t": 60
        },
        "template": {
         "data": {
          "bar": [
           {
            "error_x": {
             "color": "#2a3f5f"
            },
            "error_y": {
             "color": "#2a3f5f"
            },
            "marker": {
             "line": {
              "color": "white",
              "width": 0.5
             },
             "pattern": {
              "fillmode": "overlay",
              "size": 10,
              "solidity": 0.2
             }
            },
            "type": "bar"
           }
          ],
          "barpolar": [
           {
            "marker": {
             "line": {
              "color": "white",
              "width": 0.5
             },
             "pattern": {
              "fillmode": "overlay",
              "size": 10,
              "solidity": 0.2
             }
            },
            "type": "barpolar"
           }
          ],
          "carpet": [
           {
            "aaxis": {
             "endlinecolor": "#2a3f5f",
             "gridcolor": "#C8D4E3",
             "linecolor": "#C8D4E3",
             "minorgridcolor": "#C8D4E3",
             "startlinecolor": "#2a3f5f"
            },
            "baxis": {
             "endlinecolor": "#2a3f5f",
             "gridcolor": "#C8D4E3",
             "linecolor": "#C8D4E3",
             "minorgridcolor": "#C8D4E3",
             "startlinecolor": "#2a3f5f"
            },
            "type": "carpet"
           }
          ],
          "choropleth": [
           {
            "colorbar": {
             "outlinewidth": 0,
             "ticks": ""
            },
            "type": "choropleth"
           }
          ],
          "contour": [
           {
            "colorbar": {
             "outlinewidth": 0,
             "ticks": ""
            },
            "colorscale": [
             [
              0,
              "#0d0887"
             ],
             [
              0.1111111111111111,
              "#46039f"
             ],
             [
              0.2222222222222222,
              "#7201a8"
             ],
             [
              0.3333333333333333,
              "#9c179e"
             ],
             [
              0.4444444444444444,
              "#bd3786"
             ],
             [
              0.5555555555555556,
              "#d8576b"
             ],
             [
              0.6666666666666666,
              "#ed7953"
             ],
             [
              0.7777777777777778,
              "#fb9f3a"
             ],
             [
              0.8888888888888888,
              "#fdca26"
             ],
             [
              1,
              "#f0f921"
             ]
            ],
            "type": "contour"
           }
          ],
          "contourcarpet": [
           {
            "colorbar": {
             "outlinewidth": 0,
             "ticks": ""
            },
            "type": "contourcarpet"
           }
          ],
          "heatmap": [
           {
            "colorbar": {
             "outlinewidth": 0,
             "ticks": ""
            },
            "colorscale": [
             [
              0,
              "#0d0887"
             ],
             [
              0.1111111111111111,
              "#46039f"
             ],
             [
              0.2222222222222222,
              "#7201a8"
             ],
             [
              0.3333333333333333,
              "#9c179e"
             ],
             [
              0.4444444444444444,
              "#bd3786"
             ],
             [
              0.5555555555555556,
              "#d8576b"
             ],
             [
              0.6666666666666666,
              "#ed7953"
             ],
             [
              0.7777777777777778,
              "#fb9f3a"
             ],
             [
              0.8888888888888888,
              "#fdca26"
             ],
             [
              1,
              "#f0f921"
             ]
            ],
            "type": "heatmap"
           }
          ],
          "histogram": [
           {
            "marker": {
             "pattern": {
              "fillmode": "overlay",
              "size": 10,
              "solidity": 0.2
             }
            },
            "type": "histogram"
           }
          ],
          "histogram2d": [
           {
            "colorbar": {
             "outlinewidth": 0,
             "ticks": ""
            },
            "colorscale": [
             [
              0,
              "#0d0887"
             ],
             [
              0.1111111111111111,
              "#46039f"
             ],
             [
              0.2222222222222222,
              "#7201a8"
             ],
             [
              0.3333333333333333,
              "#9c179e"
             ],
             [
              0.4444444444444444,
              "#bd3786"
             ],
             [
              0.5555555555555556,
              "#d8576b"
             ],
             [
              0.6666666666666666,
              "#ed7953"
             ],
             [
              0.7777777777777778,
              "#fb9f3a"
             ],
             [
              0.8888888888888888,
              "#fdca26"
             ],
             [
              1,
              "#f0f921"
             ]
            ],
            "type": "histogram2d"
           }
          ],
          "histogram2dcontour": [
           {
            "colorbar": {
             "outlinewidth": 0,
             "ticks": ""
            },
            "colorscale": [
             [
              0,
              "#0d0887"
             ],
             [
              0.1111111111111111,
              "#46039f"
             ],
             [
              0.2222222222222222,
              "#7201a8"
             ],
             [
              0.3333333333333333,
              "#9c179e"
             ],
             [
              0.4444444444444444,
              "#bd3786"
             ],
             [
              0.5555555555555556,
              "#d8576b"
             ],
             [
              0.6666666666666666,
              "#ed7953"
             ],
             [
              0.7777777777777778,
              "#fb9f3a"
             ],
             [
              0.8888888888888888,
              "#fdca26"
             ],
             [
              1,
              "#f0f921"
             ]
            ],
            "type": "histogram2dcontour"
           }
          ],
          "mesh3d": [
           {
            "colorbar": {
             "outlinewidth": 0,
             "ticks": ""
            },
            "type": "mesh3d"
           }
          ],
          "parcoords": [
           {
            "line": {
             "colorbar": {
              "outlinewidth": 0,
              "ticks": ""
             }
            },
            "type": "parcoords"
           }
          ],
          "pie": [
           {
            "automargin": true,
            "type": "pie"
           }
          ],
          "scatter": [
           {
            "fillpattern": {
             "fillmode": "overlay",
             "size": 10,
             "solidity": 0.2
            },
            "type": "scatter"
           }
          ],
          "scatter3d": [
           {
            "line": {
             "colorbar": {
              "outlinewidth": 0,
              "ticks": ""
             }
            },
            "marker": {
             "colorbar": {
              "outlinewidth": 0,
              "ticks": ""
             }
            },
            "type": "scatter3d"
           }
          ],
          "scattercarpet": [
           {
            "marker": {
             "colorbar": {
              "outlinewidth": 0,
              "ticks": ""
             }
            },
            "type": "scattercarpet"
           }
          ],
          "scattergeo": [
           {
            "marker": {
             "colorbar": {
              "outlinewidth": 0,
              "ticks": ""
             }
            },
            "type": "scattergeo"
           }
          ],
          "scattergl": [
           {
            "marker": {
             "colorbar": {
              "outlinewidth": 0,
              "ticks": ""
             }
            },
            "type": "scattergl"
           }
          ],
          "scattermap": [
           {
            "marker": {
             "colorbar": {
              "outlinewidth": 0,
              "ticks": ""
             }
            },
            "type": "scattermap"
           }
          ],
          "scattermapbox": [
           {
            "marker": {
             "colorbar": {
              "outlinewidth": 0,
              "ticks": ""
             }
            },
            "type": "scattermapbox"
           }
          ],
          "scatterpolar": [
           {
            "marker": {
             "colorbar": {
              "outlinewidth": 0,
              "ticks": ""
             }
            },
            "type": "scatterpolar"
           }
          ],
          "scatterpolargl": [
           {
            "marker": {
             "colorbar": {
              "outlinewidth": 0,
              "ticks": ""
             }
            },
            "type": "scatterpolargl"
           }
          ],
          "scatterternary": [
           {
            "marker": {
             "colorbar": {
              "outlinewidth": 0,
              "ticks": ""
             }
            },
            "type": "scatterternary"
           }
          ],
          "surface": [
           {
            "colorbar": {
             "outlinewidth": 0,
             "ticks": ""
            },
            "colorscale": [
             [
              0,
              "#0d0887"
             ],
             [
              0.1111111111111111,
              "#46039f"
             ],
             [
              0.2222222222222222,
              "#7201a8"
             ],
             [
              0.3333333333333333,
              "#9c179e"
             ],
             [
              0.4444444444444444,
              "#bd3786"
             ],
             [
              0.5555555555555556,
              "#d8576b"
             ],
             [
              0.6666666666666666,
              "#ed7953"
             ],
             [
              0.7777777777777778,
              "#fb9f3a"
             ],
             [
              0.8888888888888888,
              "#fdca26"
             ],
             [
              1,
              "#f0f921"
             ]
            ],
            "type": "surface"
           }
          ],
          "table": [
           {
            "cells": {
             "fill": {
              "color": "#EBF0F8"
             },
             "line": {
              "color": "white"
             }
            },
            "header": {
             "fill": {
              "color": "#C8D4E3"
             },
             "line": {
              "color": "white"
             }
            },
            "type": "table"
           }
          ]
         },
         "layout": {
          "annotationdefaults": {
           "arrowcolor": "#2a3f5f",
           "arrowhead": 0,
           "arrowwidth": 1
          },
          "autotypenumbers": "strict",
          "coloraxis": {
           "colorbar": {
            "outlinewidth": 0,
            "ticks": ""
           }
          },
          "colorscale": {
           "diverging": [
            [
             0,
             "#8e0152"
            ],
            [
             0.1,
             "#c51b7d"
            ],
            [
             0.2,
             "#de77ae"
            ],
            [
             0.3,
             "#f1b6da"
            ],
            [
             0.4,
             "#fde0ef"
            ],
            [
             0.5,
             "#f7f7f7"
            ],
            [
             0.6,
             "#e6f5d0"
            ],
            [
             0.7,
             "#b8e186"
            ],
            [
             0.8,
             "#7fbc41"
            ],
            [
             0.9,
             "#4d9221"
            ],
            [
             1,
             "#276419"
            ]
           ],
           "sequential": [
            [
             0,
             "#0d0887"
            ],
            [
             0.1111111111111111,
             "#46039f"
            ],
            [
             0.2222222222222222,
             "#7201a8"
            ],
            [
             0.3333333333333333,
             "#9c179e"
            ],
            [
             0.4444444444444444,
             "#bd3786"
            ],
            [
             0.5555555555555556,
             "#d8576b"
            ],
            [
             0.6666666666666666,
             "#ed7953"
            ],
            [
             0.7777777777777778,
             "#fb9f3a"
            ],
            [
             0.8888888888888888,
             "#fdca26"
            ],
            [
             1,
             "#f0f921"
            ]
           ],
           "sequentialminus": [
            [
             0,
             "#0d0887"
            ],
            [
             0.1111111111111111,
             "#46039f"
            ],
            [
             0.2222222222222222,
             "#7201a8"
            ],
            [
             0.3333333333333333,
             "#9c179e"
            ],
            [
             0.4444444444444444,
             "#bd3786"
            ],
            [
             0.5555555555555556,
             "#d8576b"
            ],
            [
             0.6666666666666666,
             "#ed7953"
            ],
            [
             0.7777777777777778,
             "#fb9f3a"
            ],
            [
             0.8888888888888888,
             "#fdca26"
            ],
            [
             1,
             "#f0f921"
            ]
           ]
          },
          "colorway": [
           "#636efa",
           "#EF553B",
           "#00cc96",
           "#ab63fa",
           "#FFA15A",
           "#19d3f3",
           "#FF6692",
           "#B6E880",
           "#FF97FF",
           "#FECB52"
          ],
          "font": {
           "color": "#2a3f5f"
          },
          "geo": {
           "bgcolor": "white",
           "lakecolor": "white",
           "landcolor": "white",
           "showlakes": true,
           "showland": true,
           "subunitcolor": "#C8D4E3"
          },
          "hoverlabel": {
           "align": "left"
          },
          "hovermode": "closest",
          "mapbox": {
           "style": "light"
          },
          "paper_bgcolor": "white",
          "plot_bgcolor": "white",
          "polar": {
           "angularaxis": {
            "gridcolor": "#EBF0F8",
            "linecolor": "#EBF0F8",
            "ticks": ""
           },
           "bgcolor": "white",
           "radialaxis": {
            "gridcolor": "#EBF0F8",
            "linecolor": "#EBF0F8",
            "ticks": ""
           }
          },
          "scene": {
           "xaxis": {
            "backgroundcolor": "white",
            "gridcolor": "#DFE8F3",
            "gridwidth": 2,
            "linecolor": "#EBF0F8",
            "showbackground": true,
            "ticks": "",
            "zerolinecolor": "#EBF0F8"
           },
           "yaxis": {
            "backgroundcolor": "white",
            "gridcolor": "#DFE8F3",
            "gridwidth": 2,
            "linecolor": "#EBF0F8",
            "showbackground": true,
            "ticks": "",
            "zerolinecolor": "#EBF0F8"
           },
           "zaxis": {
            "backgroundcolor": "white",
            "gridcolor": "#DFE8F3",
            "gridwidth": 2,
            "linecolor": "#EBF0F8",
            "showbackground": true,
            "ticks": "",
            "zerolinecolor": "#EBF0F8"
           }
          },
          "shapedefaults": {
           "line": {
            "color": "#2a3f5f"
           }
          },
          "ternary": {
           "aaxis": {
            "gridcolor": "#DFE8F3",
            "linecolor": "#A2B1C6",
            "ticks": ""
           },
           "baxis": {
            "gridcolor": "#DFE8F3",
            "linecolor": "#A2B1C6",
            "ticks": ""
           },
           "bgcolor": "white",
           "caxis": {
            "gridcolor": "#DFE8F3",
            "linecolor": "#A2B1C6",
            "ticks": ""
           }
          },
          "title": {
           "x": 0.05
          },
          "xaxis": {
           "automargin": true,
           "gridcolor": "#EBF0F8",
           "linecolor": "#EBF0F8",
           "ticks": "",
           "title": {
            "standoff": 15
           },
           "zerolinecolor": "#EBF0F8",
           "zerolinewidth": 2
          },
          "yaxis": {
           "automargin": true,
           "gridcolor": "#EBF0F8",
           "linecolor": "#EBF0F8",
           "ticks": "",
           "title": {
            "standoff": 15
           },
           "zerolinecolor": "#EBF0F8",
           "zerolinewidth": 2
          }
         }
        },
        "title": {
         "text": "Age (years) by Gender"
        },
        "width": 800,
        "xaxis": {
         "anchor": "y",
         "domain": [
          0,
          1
         ],
         "tickmode": "array",
         "ticktext": [
          "female<br>(n=466, s=72.7%)",
          "male<br>(n=843, s=19.1%)"
         ],
         "tickvals": [
          "female",
          "male"
         ],
         "title": {
          "text": "Gender"
         }
        },
        "yaxis": {
         "anchor": "x",
         "domain": [
          0,
          1
         ],
         "title": {
          "text": "Age (years)"
         }
        }
       }
      }
     },
     "metadata": {},
     "output_type": "display_data"
    }
   ],
   "source": [
    "ChartingHelper.create_strip_boxplot(titanic_passengers_cleaned, 'Sex', 'Age')"
   ]
  },
  {
   "cell_type": "markdown",
   "id": "c60465cb",
   "metadata": {},
   "source": [
    "### Did wealth have an influence?\n",
    "\n",
    "Survival rate overall is signfiicantly higher for first class versus third class."
   ]
  },
  {
   "cell_type": "code",
   "execution_count": 7,
   "id": "umkxge2xp6d",
   "metadata": {},
   "outputs": [
    {
     "data": {
      "application/vnd.plotly.v1+json": {
       "config": {
        "plotlyServerURL": "https://plot.ly"
       },
       "data": [
        {
         "alignmentgroup": "True",
         "boxpoints": "all",
         "customdata": [
          [
           "Allen, Miss. Elisabeth Walton",
           "female",
           29,
           "Southampton"
          ],
          [
           "Allison, Master. Hudson Trevor",
           "male",
           0.9167,
           "Southampton"
          ],
          [
           "Anderson, Mr. Harry",
           "male",
           48,
           "Southampton"
          ],
          [
           "Andrews, Miss. Kornelia Theodosia",
           "female",
           63,
           "Southampton"
          ],
          [
           "Appleton, Mrs. Edward Dale (Charlotte Lamson)",
           "female",
           53,
           "Southampton"
          ],
          [
           "Astor, Mrs. John Jacob (Madeleine Talmadge Force)",
           "female",
           18,
           "Cherbourg"
          ],
          [
           "Aubart, Mme. Leontine Pauline",
           "female",
           24,
           "Cherbourg"
          ],
          [
           "Barber, Miss. Ellen \"Nellie\"",
           "female",
           26,
           "Southampton"
          ],
          [
           "Barkworth, Mr. Algernon Henry Wilson",
           "male",
           80,
           "Southampton"
          ],
          [
           "Baxter, Mrs. James (Helene DeLaudeniere Chaput)",
           "female",
           50,
           "Cherbourg"
          ],
          [
           "Bazzani, Miss. Albina",
           "female",
           32,
           "Cherbourg"
          ],
          [
           "Beckwith, Mr. Richard Leonard",
           "male",
           37,
           "Southampton"
          ],
          [
           "Beckwith, Mrs. Richard Leonard (Sallie Monypeny)",
           "female",
           47,
           "Southampton"
          ],
          [
           "Behr, Mr. Karl Howell",
           "male",
           26,
           "Cherbourg"
          ],
          [
           "Bidois, Miss. Rosalie",
           "female",
           42,
           "Cherbourg"
          ],
          [
           "Bird, Miss. Ellen",
           "female",
           29,
           "Southampton"
          ],
          [
           "Bishop, Mr. Dickinson H",
           "male",
           25,
           "Cherbourg"
          ],
          [
           "Bishop, Mrs. Dickinson H (Helen Walton)",
           "female",
           19,
           "Cherbourg"
          ],
          [
           "Bissette, Miss. Amelia",
           "female",
           35,
           "Southampton"
          ],
          [
           "Bjornstrom-Steffansson, Mr. Mauritz Hakan",
           "male",
           28,
           "Southampton"
          ],
          [
           "Blank, Mr. Henry",
           "male",
           40,
           "Cherbourg"
          ],
          [
           "Bonnell, Miss. Caroline",
           "female",
           30,
           "Southampton"
          ],
          [
           "Bonnell, Miss. Elizabeth",
           "female",
           58,
           "Southampton"
          ],
          [
           "Bowen, Miss. Grace Scott",
           "female",
           45,
           "Cherbourg"
          ],
          [
           "Bowerman, Miss. Elsie Edith",
           "female",
           22,
           "Southampton"
          ],
          [
           "Bradley, Mr. George (\"George Arthur Brayton\")",
           "male",
           32,
           "Southampton"
          ],
          [
           "Brown, Mrs. James Joseph (Margaret Tobin)",
           "female",
           44,
           "Cherbourg"
          ],
          [
           "Brown, Mrs. John Murray (Caroline Lane Lamson)",
           "female",
           59,
           "Southampton"
          ],
          [
           "Bucknell, Mrs. William Robert (Emma Eliza Ward)",
           "female",
           60,
           "Cherbourg"
          ],
          [
           "Burns, Miss. Elizabeth Margaret",
           "female",
           41,
           "Cherbourg"
          ],
          [
           "Calderhead, Mr. Edward Pennington",
           "male",
           42,
           "Southampton"
          ],
          [
           "Candee, Mrs. Edward (Helen Churchill Hungerford)",
           "female",
           53,
           "Cherbourg"
          ],
          [
           "Cardeza, Mr. Thomas Drake Martinez",
           "male",
           36,
           "Cherbourg"
          ],
          [
           "Cardeza, Mrs. James Warburton Martinez (Charlotte Wardle Drake)",
           "female",
           58,
           "Cherbourg"
          ],
          [
           "Carter, Master. William Thornton II",
           "male",
           11,
           "Southampton"
          ],
          [
           "Carter, Miss. Lucile Polk",
           "female",
           14,
           "Southampton"
          ],
          [
           "Carter, Mr. William Ernest",
           "male",
           36,
           "Southampton"
          ],
          [
           "Carter, Mrs. William Ernest (Lucile Polk)",
           "female",
           36,
           "Southampton"
          ],
          [
           "Cassebeer, Mrs. Henry Arthur Jr (Eleanor Genevieve Fosdick)",
           "female",
           36,
           "Cherbourg"
          ],
          [
           "Cavendish, Mrs. Tyrell William (Julia Florence Siegel)",
           "female",
           76,
           "Southampton"
          ],
          [
           "Chaffee, Mrs. Herbert Fuller (Carrie Constance Toogood)",
           "female",
           47,
           "Southampton"
          ],
          [
           "Chambers, Mr. Norman Campbell",
           "male",
           27,
           "Southampton"
          ],
          [
           "Chambers, Mrs. Norman Campbell (Bertha Griggs)",
           "female",
           33,
           "Southampton"
          ],
          [
           "Chaudanson, Miss. Victorine",
           "female",
           36,
           "Cherbourg"
          ],
          [
           "Cherry, Miss. Gladys",
           "female",
           30,
           "Southampton"
          ],
          [
           "Chevre, Mr. Paul Romaine",
           "male",
           45,
           "Cherbourg"
          ],
          [
           "Chibnall, Mrs. (Edith Martha Bowerman)",
           "female",
           36,
           "Southampton"
          ],
          [
           "Clark, Mrs. Walter Miller (Virginia McDowell)",
           "female",
           26,
           "Cherbourg"
          ],
          [
           "Cleaver, Miss. Alice",
           "female",
           22,
           "Southampton"
          ],
          [
           "Compton, Miss. Sara Rebecca",
           "female",
           39,
           "Cherbourg"
          ],
          [
           "Compton, Mrs. Alexander Taylor (Mary Eliza Ingersoll)",
           "female",
           64,
           "Cherbourg"
          ],
          [
           "Cornell, Mrs. Robert Clifford (Malvina Helen Lamson)",
           "female",
           55,
           "Southampton"
          ],
          [
           "Crosby, Miss. Harriet R",
           "female",
           36,
           "Southampton"
          ],
          [
           "Crosby, Mrs. Edward Gifford (Catherine Elizabeth Halstead)",
           "female",
           64,
           "Southampton"
          ],
          [
           "Cumings, Mrs. John Bradley (Florence Briggs Thayer)",
           "female",
           38,
           "Cherbourg"
          ],
          [
           "Daly, Mr. Peter Denis ",
           "male",
           51,
           "Southampton"
          ],
          [
           "Daniel, Mr. Robert Williams",
           "male",
           27,
           "Southampton"
          ],
          [
           "Daniels, Miss. Sarah",
           "female",
           33,
           "Southampton"
          ],
          [
           "Davidson, Mrs. Thornton (Orian Hays)",
           "female",
           27,
           "Southampton"
          ],
          [
           "Dick, Mr. Albert Adrian",
           "male",
           31,
           "Southampton"
          ],
          [
           "Dick, Mrs. Albert Adrian (Vera Gillespie)",
           "female",
           17,
           "Southampton"
          ],
          [
           "Dodge, Dr. Washington",
           "male",
           53,
           "Southampton"
          ],
          [
           "Dodge, Master. Washington",
           "male",
           4,
           "Southampton"
          ],
          [
           "Dodge, Mrs. Washington (Ruth Vidaver)",
           "female",
           54,
           "Southampton"
          ],
          [
           "Douglas, Mrs. Frederick Charles (Mary Helene Baxter)",
           "female",
           27,
           "Cherbourg"
          ],
          [
           "Douglas, Mrs. Walter Donald (Mahala Dutton)",
           "female",
           48,
           "Cherbourg"
          ],
          [
           "Duff Gordon, Lady. (Lucille Christiana Sutherland) (\"Mrs Morgan\")",
           "female",
           48,
           "Cherbourg"
          ],
          [
           "Duff Gordon, Sir. Cosmo Edmund (\"Mr Morgan\")",
           "male",
           49,
           "Cherbourg"
          ],
          [
           "Earnshaw, Mrs. Boulton (Olive Potter)",
           "female",
           23,
           "Cherbourg"
          ],
          [
           "Endres, Miss. Caroline Louise",
           "female",
           38,
           "Cherbourg"
          ],
          [
           "Eustis, Miss. Elizabeth Mussey",
           "female",
           54,
           "Cherbourg"
          ],
          [
           "Flegenheim, Mrs. Alfred (Antoinette)",
           "female",
           36,
           "Southampton"
          ],
          [
           "Fleming, Miss. Margaret",
           "female",
           21,
           "Cherbourg"
          ],
          [
           "Flynn, Mr. John Irwin (\"Irving\")",
           "male",
           36,
           "Southampton"
          ],
          [
           "Fortune, Miss. Alice Elizabeth",
           "female",
           24,
           "Southampton"
          ],
          [
           "Fortune, Miss. Ethel Flora",
           "female",
           28,
           "Southampton"
          ],
          [
           "Fortune, Miss. Mabel Helen",
           "female",
           23,
           "Southampton"
          ],
          [
           "Fortune, Mrs. Mark (Mary McDougald)",
           "female",
           60,
           "Southampton"
          ],
          [
           "Francatelli, Miss. Laura Mabel",
           "female",
           30,
           "Cherbourg"
          ],
          [
           "Frauenthal, Dr. Henry William",
           "male",
           50,
           "Southampton"
          ],
          [
           "Frauenthal, Mr. Isaac Gerald",
           "male",
           43,
           "Cherbourg"
          ],
          [
           "Frauenthal, Mrs. Henry William (Clara Heinsheimer)",
           "female",
           36,
           "Southampton"
          ],
          [
           "Frolicher, Miss. Hedwig Margaritha",
           "female",
           22,
           "Cherbourg"
          ],
          [
           "Frolicher-Stehli, Mr. Maxmillian",
           "male",
           60,
           "Cherbourg"
          ],
          [
           "Frolicher-Stehli, Mrs. Maxmillian (Margaretha Emerentia Stehli)",
           "female",
           48,
           "Cherbourg"
          ],
          [
           "Futrelle, Mrs. Jacques Heath (Lily May Peel)",
           "female",
           35,
           "Southampton"
          ],
          [
           "Geiger, Miss. Amalie",
           "female",
           35,
           "Cherbourg"
          ],
          [
           "Gibson, Miss. Dorothy Winifred",
           "female",
           22,
           "Cherbourg"
          ],
          [
           "Gibson, Mrs. Leonard (Pauline C Boeson)",
           "female",
           45,
           "Cherbourg"
          ],
          [
           "Goldenberg, Mr. Samuel L",
           "male",
           49,
           "Cherbourg"
          ],
          [
           "Goldenberg, Mrs. Samuel L (Edwiga Grabowska)",
           "female",
           36,
           "Cherbourg"
          ],
          [
           "Gracie, Col. Archibald IV",
           "male",
           53,
           "Cherbourg"
          ],
          [
           "Graham, Miss. Margaret Edith",
           "female",
           19,
           "Southampton"
          ],
          [
           "Graham, Mrs. William Thompson (Edith Junkins)",
           "female",
           58,
           "Southampton"
          ],
          [
           "Greenfield, Mr. William Bertram",
           "male",
           23,
           "Cherbourg"
          ],
          [
           "Greenfield, Mrs. Leo David (Blanche Strouse)",
           "female",
           45,
           "Cherbourg"
          ],
          [
           "Harder, Mr. George Achilles",
           "male",
           25,
           "Cherbourg"
          ],
          [
           "Harder, Mrs. George Achilles (Dorothy Annan)",
           "female",
           25,
           "Cherbourg"
          ],
          [
           "Harper, Mr. Henry Sleeper",
           "male",
           48,
           "Cherbourg"
          ],
          [
           "Harper, Mrs. Henry Sleeper (Myna Haxtun)",
           "female",
           49,
           "Cherbourg"
          ],
          [
           "Harris, Mrs. Henry Birkhardt (Irene Wallach)",
           "female",
           35,
           "Southampton"
          ],
          [
           "Hassab, Mr. Hammad",
           "male",
           27,
           "Cherbourg"
          ],
          [
           "Hawksford, Mr. Walter James",
           "male",
           32,
           "Southampton"
          ],
          [
           "Hays, Miss. Margaret Bechstein",
           "female",
           24,
           "Cherbourg"
          ],
          [
           "Hays, Mrs. Charles Melville (Clara Jennings Gregg)",
           "female",
           52,
           "Southampton"
          ],
          [
           "Hippach, Miss. Jean Gertrude",
           "female",
           16,
           "Cherbourg"
          ],
          [
           "Hippach, Mrs. Louis Albert (Ida Sophia Fischer)",
           "female",
           44,
           "Cherbourg"
          ],
          [
           "Hogeboom, Mrs. John C (Anna Andrews)",
           "female",
           51,
           "Southampton"
          ],
          [
           "Holverson, Mrs. Alexander Oskar (Mary Aline Towner)",
           "female",
           35,
           "Southampton"
          ],
          [
           "Homer, Mr. Harry (\"Mr E Haven\")",
           "male",
           35,
           "Cherbourg"
          ],
          [
           "Hoyt, Mr. Frederick Maxfield",
           "male",
           38,
           "Southampton"
          ],
          [
           "Hoyt, Mrs. Frederick Maxfield (Jane Anne Forby)",
           "female",
           35,
           "Southampton"
          ],
          [
           "Icard, Miss. Amelie",
           "female",
           38,
           "Southampton"
          ],
          [
           "Ismay, Mr. Joseph Bruce",
           "male",
           49,
           "Southampton"
          ],
          [
           "Kenyon, Mrs. Frederick R (Marion)",
           "female",
           36,
           "Southampton"
          ],
          [
           "Kimball, Mr. Edwin Nelson Jr",
           "male",
           42,
           "Southampton"
          ],
          [
           "Kimball, Mrs. Edwin Nelson Jr (Gertrude Parsons)",
           "female",
           45,
           "Southampton"
          ],
          [
           "Kreuchen, Miss. Emilie",
           "female",
           39,
           "Southampton"
          ],
          [
           "Leader, Dr. Alice (Farnham)",
           "female",
           49,
           "Southampton"
          ],
          [
           "LeRoy, Miss. Bertha",
           "female",
           30,
           "Cherbourg"
          ],
          [
           "Lesurer, Mr. Gustave J",
           "male",
           35,
           "Cherbourg"
          ],
          [
           "Lindstrom, Mrs. Carl Johan (Sigrid Posse)",
           "female",
           55,
           "Cherbourg"
          ],
          [
           "Lines, Miss. Mary Conover",
           "female",
           16,
           "Southampton"
          ],
          [
           "Lines, Mrs. Ernest H (Elizabeth Lindsey James)",
           "female",
           51,
           "Southampton"
          ],
          [
           "Longley, Miss. Gretchen Fiske",
           "female",
           21,
           "Southampton"
          ],
          [
           "Lurette, Miss. Elise",
           "female",
           58,
           "Cherbourg"
          ],
          [
           "Madill, Miss. Georgette Alexandra",
           "female",
           15,
           "Southampton"
          ],
          [
           "Maioni, Miss. Roberta",
           "female",
           16,
           "Southampton"
          ],
          [
           "Marechal, Mr. Pierre",
           "male",
           32,
           "Cherbourg"
          ],
          [
           "Marvin, Mrs. Daniel Warner (Mary Graham Carmichael Farquarson)",
           "female",
           18,
           "Southampton"
          ],
          [
           "Mayne, Mlle. Berthe Antonine (\"Mrs de Villiers\")",
           "female",
           24,
           "Cherbourg"
          ],
          [
           "McGough, Mr. James Robert",
           "male",
           36,
           "Southampton"
          ],
          [
           "Meyer, Mrs. Edgar Joseph (Leila Saks)",
           "female",
           36,
           "Cherbourg"
          ],
          [
           "Minahan, Miss. Daisy E",
           "female",
           33,
           "Queenstown"
          ],
          [
           "Minahan, Mrs. William Edward (Lillian E Thorpe)",
           "female",
           37,
           "Queenstown"
          ],
          [
           "Mock, Mr. Philipp Edmund",
           "male",
           30,
           "Cherbourg"
          ],
          [
           "Newell, Miss. Madeleine",
           "female",
           31,
           "Cherbourg"
          ],
          [
           "Newell, Miss. Marjorie",
           "female",
           23,
           "Cherbourg"
          ],
          [
           "Newsom, Miss. Helen Monypeny",
           "female",
           19,
           "Southampton"
          ],
          [
           "Oliva y Ocana, Dona. Fermina",
           "female",
           39,
           "Cherbourg"
          ],
          [
           "Omont, Mr. Alfred Fernand",
           "male",
           32,
           "Cherbourg"
          ],
          [
           "Ostby, Miss. Helene Ragnhild",
           "female",
           22,
           "Cherbourg"
          ],
          [
           "Pears, Mrs. Thomas (Edith Wearne)",
           "female",
           22,
           "Southampton"
          ],
          [
           "Penasco y Castellana, Mrs. Victor de Satode (Maria Josefa Perez de Soto y Vallejo)",
           "female",
           17,
           "Cherbourg"
          ],
          [
           "Perreault, Miss. Anne",
           "female",
           30,
           "Southampton"
          ],
          [
           "Peuchen, Major. Arthur Godfrey",
           "male",
           52,
           "Southampton"
          ],
          [
           "Potter, Mrs. Thomas Jr (Lily Alexenia Wilson)",
           "female",
           56,
           "Cherbourg"
          ],
          [
           "Rheims, Mr. George Alexander Lucien",
           "male",
           32,
           "Southampton"
          ],
          [
           "Robert, Mrs. Edward Scott (Elisabeth Walton McMillan)",
           "female",
           43,
           "Southampton"
          ],
          [
           "Romaine, Mr. Charles Hallace (\"Mr C Rolmane\")",
           "male",
           45,
           "Southampton"
          ],
          [
           "Rosenbaum, Miss. Edith Louise",
           "female",
           33,
           "Cherbourg"
          ],
          [
           "Rothes, the Countess. of (Lucy Noel Martha Dyer-Edwards)",
           "female",
           33,
           "Southampton"
          ],
          [
           "Rothschild, Mrs. Martin (Elizabeth L. Barrett)",
           "female",
           54,
           "Cherbourg"
          ],
          [
           "Ryerson, Master. John Borie",
           "male",
           13,
           "Cherbourg"
          ],
          [
           "Ryerson, Miss. Emily Borie",
           "female",
           18,
           "Cherbourg"
          ],
          [
           "Ryerson, Miss. Susan Parker \"Suzette\"",
           "female",
           21,
           "Cherbourg"
          ],
          [
           "Ryerson, Mrs. Arthur Larned (Emily Maria Borie)",
           "female",
           48,
           "Cherbourg"
          ],
          [
           "Saalfeld, Mr. Adolphe",
           "male",
           32,
           "Southampton"
          ],
          [
           "Sagesser, Mlle. Emma",
           "female",
           24,
           "Cherbourg"
          ],
          [
           "Salomon, Mr. Abraham L",
           "male",
           32,
           "Southampton"
          ],
          [
           "Schabert, Mrs. Paul (Emma Mock)",
           "female",
           35,
           "Cherbourg"
          ],
          [
           "Serepeca, Miss. Augusta",
           "female",
           30,
           "Cherbourg"
          ],
          [
           "Seward, Mr. Frederic Kimber",
           "male",
           34,
           "Southampton"
          ],
          [
           "Shutes, Miss. Elizabeth W",
           "female",
           40,
           "Southampton"
          ],
          [
           "Silverthorne, Mr. Spencer Victor",
           "male",
           35,
           "Southampton"
          ],
          [
           "Silvey, Mrs. William Baird (Alice Munger)",
           "female",
           39,
           "Southampton"
          ],
          [
           "Simonius-Blumer, Col. Oberst Alfons",
           "male",
           56,
           "Cherbourg"
          ],
          [
           "Sloper, Mr. William Thompson",
           "male",
           28,
           "Southampton"
          ],
          [
           "Smith, Mrs. Lucien Philip (Mary Eloise Hughes)",
           "female",
           18,
           "Southampton"
          ],
          [
           "Snyder, Mr. John Pillsbury",
           "male",
           24,
           "Southampton"
          ],
          [
           "Snyder, Mrs. John Pillsbury (Nelle Stevenson)",
           "female",
           23,
           "Southampton"
          ],
          [
           "Spedden, Master. Robert Douglas",
           "male",
           6,
           "Cherbourg"
          ],
          [
           "Spedden, Mr. Frederic Oakley",
           "male",
           45,
           "Cherbourg"
          ],
          [
           "Spedden, Mrs. Frederic Oakley (Margaretta Corning Stone)",
           "female",
           40,
           "Cherbourg"
          ],
          [
           "Spencer, Mrs. William Augustus (Marie Eugenie)",
           "female",
           36,
           "Cherbourg"
          ],
          [
           "Stahelin-Maeglin, Dr. Max",
           "male",
           32,
           "Cherbourg"
          ],
          [
           "Stengel, Mr. Charles Emil Henry",
           "male",
           54,
           "Cherbourg"
          ],
          [
           "Stengel, Mrs. Charles Emil Henry (Annie May Morris)",
           "female",
           43,
           "Cherbourg"
          ],
          [
           "Stephenson, Mrs. Walter Bertram (Martha Eustis)",
           "female",
           52,
           "Cherbourg"
          ],
          [
           "Stone, Mrs. George Nelson (Martha Evelyn)",
           "female",
           62,
           "Southampton"
          ],
          [
           "Swift, Mrs. Frederick Joel (Margaret Welles Barron)",
           "female",
           48,
           "Southampton"
          ],
          [
           "Taussig, Miss. Ruth",
           "female",
           18,
           "Southampton"
          ],
          [
           "Taussig, Mrs. Emil (Tillie Mandelbaum)",
           "female",
           39,
           "Southampton"
          ],
          [
           "Taylor, Mr. Elmer Zebley",
           "male",
           48,
           "Southampton"
          ],
          [
           "Taylor, Mrs. Elmer Zebley (Juliet Cummins Wright)",
           "female",
           36,
           "Southampton"
          ],
          [
           "Thayer, Mr. John Borland Jr",
           "male",
           17,
           "Cherbourg"
          ],
          [
           "Thayer, Mrs. John Borland (Marian Longstreth Morris)",
           "female",
           39,
           "Cherbourg"
          ],
          [
           "Thorne, Mrs. Gertrude Maybelle",
           "female",
           36,
           "Cherbourg"
          ],
          [
           "Tucker, Mr. Gilbert Milligan Jr",
           "male",
           31,
           "Cherbourg"
          ],
          [
           "Ward, Miss. Anna",
           "female",
           35,
           "Cherbourg"
          ],
          [
           "Warren, Mrs. Frank Manley (Anna Sophia Atkinson)",
           "female",
           60,
           "Cherbourg"
          ],
          [
           "White, Mrs. John Stuart (Ella Holmes)",
           "female",
           55,
           "Cherbourg"
          ],
          [
           "Wick, Miss. Mary Natalie",
           "female",
           31,
           "Southampton"
          ],
          [
           "Wick, Mrs. George Dennick (Mary Hitchcock)",
           "female",
           45,
           "Southampton"
          ],
          [
           "Widener, Mrs. George Dunton (Eleanor Elkins)",
           "female",
           50,
           "Cherbourg"
          ],
          [
           "Willard, Miss. Constance",
           "female",
           21,
           "Southampton"
          ],
          [
           "Williams, Mr. Richard Norris II",
           "male",
           21,
           "Cherbourg"
          ],
          [
           "Wilson, Miss. Helen Alice",
           "female",
           31,
           "Cherbourg"
          ],
          [
           "Woolner, Mr. Hugh",
           "male",
           32,
           "Southampton"
          ],
          [
           "Young, Miss. Marie Grice",
           "female",
           36,
           "Cherbourg"
          ],
          [
           "Abelson, Mrs. Samuel (Hannah Wizosky)",
           "female",
           28,
           "Cherbourg"
          ],
          [
           "Angle, Mrs. William A (Florence \"Mary\" Agnes Hughes)",
           "female",
           36,
           "Southampton"
          ],
          [
           "Ball, Mrs. (Ada E Hall)",
           "female",
           36,
           "Southampton"
          ],
          [
           "Beane, Mr. Edward",
           "male",
           32,
           "Southampton"
          ],
          [
           "Beane, Mrs. Edward (Ethel Clarke)",
           "female",
           19,
           "Southampton"
          ],
          [
           "Becker, Master. Richard F",
           "male",
           1,
           "Southampton"
          ],
          [
           "Becker, Miss. Marion Louise",
           "female",
           4,
           "Southampton"
          ],
          [
           "Becker, Miss. Ruth Elizabeth",
           "female",
           12,
           "Southampton"
          ],
          [
           "Becker, Mrs. Allen Oliver (Nellie E Baumgardner)",
           "female",
           36,
           "Southampton"
          ],
          [
           "Beesley, Mr. Lawrence",
           "male",
           34,
           "Southampton"
          ],
          [
           "Bentham, Miss. Lilian W",
           "female",
           19,
           "Southampton"
          ],
          [
           "Brown, Miss. Amelia \"Mildred\"",
           "female",
           24,
           "Southampton"
          ],
          [
           "Brown, Miss. Edith Eileen",
           "female",
           15,
           "Southampton"
          ],
          [
           "Brown, Mrs. Thomas William Solomon (Elizabeth Catherine Ford)",
           "female",
           40,
           "Southampton"
          ],
          [
           "Bryhl, Miss. Dagmar Jenny Ingeborg ",
           "female",
           20,
           "Southampton"
          ],
          [
           "Buss, Miss. Kate",
           "female",
           36,
           "Southampton"
          ],
          [
           "Bystrom, Mrs. (Karolina)",
           "female",
           42,
           "Southampton"
          ],
          [
           "Caldwell, Master. Alden Gates",
           "male",
           0.8333,
           "Southampton"
          ],
          [
           "Caldwell, Mr. Albert Francis",
           "male",
           26,
           "Southampton"
          ],
          [
           "Caldwell, Mrs. Albert Francis (Sylvia Mae Harbaugh)",
           "female",
           22,
           "Southampton"
          ],
          [
           "Cameron, Miss. Clear Annie",
           "female",
           35,
           "Southampton"
          ],
          [
           "Christy, Miss. Julie Rachel",
           "female",
           25,
           "Southampton"
          ],
          [
           "Christy, Mrs. (Alice Frances)",
           "female",
           45,
           "Southampton"
          ],
          [
           "Clarke, Mrs. Charles V (Ada Maria Winfield)",
           "female",
           28,
           "Southampton"
          ],
          [
           "Collett, Mr. Sidney C Stuart",
           "male",
           24,
           "Southampton"
          ],
          [
           "Collyer, Miss. Marjorie \"Lottie\"",
           "female",
           8,
           "Southampton"
          ],
          [
           "Collyer, Mrs. Harvey (Charlotte Annie Tate)",
           "female",
           31,
           "Southampton"
          ],
          [
           "Cook, Mrs. (Selena Rogers)",
           "female",
           22,
           "Southampton"
          ],
          [
           "Davies, Master. John Morgan Jr",
           "male",
           8,
           "Southampton"
          ],
          [
           "Davies, Mrs. John Morgan (Elizabeth Agnes Mary White) ",
           "female",
           48,
           "Southampton"
          ],
          [
           "Davis, Miss. Mary",
           "female",
           28,
           "Southampton"
          ],
          [
           "del Carlo, Mrs. Sebastiano (Argenia Genovesi)",
           "female",
           24,
           "Cherbourg"
          ],
          [
           "Doling, Miss. Elsie",
           "female",
           18,
           "Southampton"
          ],
          [
           "Doling, Mrs. John T (Ada Julia Bone)",
           "female",
           34,
           "Southampton"
          ],
          [
           "Drew, Master. Marshall Brines",
           "male",
           8,
           "Southampton"
          ],
          [
           "Drew, Mrs. James Vivian (Lulu Thorne Christian)",
           "female",
           34,
           "Southampton"
          ],
          [
           "Duran y More, Miss. Asuncion",
           "female",
           27,
           "Cherbourg"
          ],
          [
           "Duran y More, Miss. Florentina",
           "female",
           30,
           "Cherbourg"
          ],
          [
           "Faunthorpe, Mrs. Lizzie (Elizabeth Anne Wilkinson)",
           "female",
           29,
           "Southampton"
          ],
          [
           "Garside, Miss. Ethel",
           "female",
           34,
           "Southampton"
          ],
          [
           "Hamalainen, Master. Viljo",
           "male",
           0.6667,
           "Southampton"
          ],
          [
           "Hamalainen, Mrs. William (Anna)",
           "female",
           24,
           "Southampton"
          ],
          [
           "Harper, Miss. Annie Jessie \"Nina\"",
           "female",
           6,
           "Southampton"
          ],
          [
           "Harris, Mr. George",
           "male",
           62,
           "Southampton"
          ],
          [
           "Hart, Miss. Eva Miriam",
           "female",
           7,
           "Southampton"
          ],
          [
           "Hart, Mrs. Benjamin (Esther Ada Bloomfield)",
           "female",
           45,
           "Southampton"
          ],
          [
           "Herman, Miss. Alice",
           "female",
           24,
           "Southampton"
          ],
          [
           "Herman, Miss. Kate",
           "female",
           24,
           "Southampton"
          ],
          [
           "Herman, Mrs. Samuel (Jane Laver)",
           "female",
           48,
           "Southampton"
          ],
          [
           "Hewlett, Mrs. (Mary D Kingcome) ",
           "female",
           55,
           "Southampton"
          ],
          [
           "Hocking, Miss. Ellen \"Nellie\"",
           "female",
           20,
           "Southampton"
          ],
          [
           "Hocking, Mrs. Elizabeth (Eliza Needs)",
           "female",
           54,
           "Southampton"
          ],
          [
           "Hold, Mrs. Stephen (Annie Margaret Hill)",
           "female",
           29,
           "Southampton"
          ],
          [
           "Hosono, Mr. Masabumi",
           "male",
           42,
           "Southampton"
          ],
          [
           "Ilett, Miss. Bertha",
           "female",
           17,
           "Southampton"
          ],
          [
           "Jacobsohn, Mrs. Sidney Samuel (Amy Frances Christy)",
           "female",
           24,
           "Southampton"
          ],
          [
           "Jerwan, Mrs. Amin S (Marie Marthe Thuillard)",
           "female",
           23,
           "Cherbourg"
          ],
          [
           "Kantor, Mrs. Sinai (Miriam Sternin)",
           "female",
           24,
           "Southampton"
          ],
          [
           "Keane, Miss. Nora A",
           "female",
           21,
           "Queenstown"
          ],
          [
           "Kelly, Mrs. Florence \"Fannie\"",
           "female",
           45,
           "Southampton"
          ],
          [
           "Laroche, Miss. Louise",
           "female",
           1,
           "Cherbourg"
          ],
          [
           "Laroche, Miss. Simonne Marie Anne Andree",
           "female",
           3,
           "Cherbourg"
          ],
          [
           "Laroche, Mrs. Joseph (Juliette Marie Louise Lafargue)",
           "female",
           22,
           "Cherbourg"
          ],
          [
           "Lehmann, Miss. Bertha",
           "female",
           17,
           "Cherbourg"
          ],
          [
           "Leitch, Miss. Jessie Wills",
           "female",
           21,
           "Southampton"
          ],
          [
           "Lemore, Mrs. (Amelia Milley)",
           "female",
           34,
           "Southampton"
          ],
          [
           "Louch, Mrs. Charles Alexander (Alice Adelaide Slow)",
           "female",
           42,
           "Southampton"
          ],
          [
           "Mallet, Master. Andre",
           "male",
           1,
           "Cherbourg"
          ],
          [
           "Mallet, Mrs. Albert (Antoinette Magnin)",
           "female",
           24,
           "Cherbourg"
          ],
          [
           "Mellinger, Miss. Madeleine Violet",
           "female",
           13,
           "Southampton"
          ],
          [
           "Mellinger, Mrs. (Elizabeth Anne Maidment)",
           "female",
           41,
           "Southampton"
          ],
          [
           "Mellors, Mr. William John",
           "male",
           19,
           "Southampton"
          ],
          [
           "Nasser, Mrs. Nicholas (Adele Achem)",
           "female",
           14,
           "Cherbourg"
          ],
          [
           "Navratil, Master. Edmond Roger",
           "male",
           2,
           "Southampton"
          ],
          [
           "Navratil, Master. Michel M",
           "male",
           3,
           "Southampton"
          ],
          [
           "Nourney, Mr. Alfred (\"Baron von Drachstedt\")",
           "male",
           20,
           "Cherbourg"
          ],
          [
           "Nye, Mrs. (Elizabeth Ramell)",
           "female",
           29,
           "Southampton"
          ],
          [
           "Oxenham, Mr. Percy Thomas",
           "male",
           22,
           "Southampton"
          ],
          [
           "Padro y Manent, Mr. Julian",
           "male",
           32,
           "Cherbourg"
          ],
          [
           "Pallas y Castello, Mr. Emilio",
           "male",
           29,
           "Cherbourg"
          ],
          [
           "Parrish, Mrs. (Lutie Davis)",
           "female",
           50,
           "Southampton"
          ],
          [
           "Phillips, Miss. Alice Frances Louisa",
           "female",
           21,
           "Southampton"
          ],
          [
           "Phillips, Miss. Kate Florence (\"Mrs Kate Louise Phillips Marshall\")",
           "female",
           19,
           "Southampton"
          ],
          [
           "Pinsky, Mrs. (Rosa)",
           "female",
           32,
           "Southampton"
          ],
          [
           "Portaluppi, Mr. Emilio Ilario Giuseppe",
           "male",
           30,
           "Cherbourg"
          ],
          [
           "Quick, Miss. Phyllis May",
           "female",
           2,
           "Southampton"
          ],
          [
           "Quick, Miss. Winifred Vera",
           "female",
           8,
           "Southampton"
          ],
          [
           "Quick, Mrs. Frederick Charles (Jane Richards)",
           "female",
           33,
           "Southampton"
          ],
          [
           "Renouf, Mrs. Peter Henry (Lillian Jefferys)",
           "female",
           30,
           "Southampton"
          ],
          [
           "Reynaldo, Ms. Encarnacion",
           "female",
           28,
           "Southampton"
          ],
          [
           "Richards, Master. George Sibley",
           "male",
           0.8333,
           "Southampton"
          ],
          [
           "Richards, Master. William Rowe",
           "male",
           3,
           "Southampton"
          ],
          [
           "Richards, Mrs. Sidney (Emily Hocking)",
           "female",
           24,
           "Southampton"
          ],
          [
           "Ridsdale, Miss. Lucy",
           "female",
           50,
           "Southampton"
          ],
          [
           "Rugg, Miss. Emily",
           "female",
           21,
           "Southampton"
          ],
          [
           "Shelley, Mrs. William (Imanita Parrish Hall)",
           "female",
           25,
           "Southampton"
          ],
          [
           "Silven, Miss. Lyyli Karoliina",
           "female",
           18,
           "Southampton"
          ],
          [
           "Sincock, Miss. Maude",
           "female",
           20,
           "Southampton"
          ],
          [
           "Sinkkonen, Miss. Anna",
           "female",
           30,
           "Southampton"
          ],
          [
           "Slayter, Miss. Hilda Mary",
           "female",
           30,
           "Queenstown"
          ],
          [
           "Smith, Miss. Marion Elsie",
           "female",
           40,
           "Southampton"
          ],
          [
           "Toomey, Miss. Ellen",
           "female",
           50,
           "Southampton"
          ],
          [
           "Trout, Mrs. William H (Jessie L)",
           "female",
           28,
           "Southampton"
          ],
          [
           "Troutt, Miss. Edwina Celia \"Winnie\"",
           "female",
           27,
           "Southampton"
          ],
          [
           "Walcroft, Miss. Nellie",
           "female",
           31,
           "Southampton"
          ],
          [
           "Ware, Mrs. John James (Florence Louise Long)",
           "female",
           31,
           "Southampton"
          ],
          [
           "Watt, Miss. Bertha J",
           "female",
           12,
           "Southampton"
          ],
          [
           "Watt, Mrs. James (Elizabeth \"Bessie\" Inglis Milne)",
           "female",
           40,
           "Southampton"
          ],
          [
           "Webber, Miss. Susan",
           "female",
           32.5,
           "Southampton"
          ],
          [
           "Weisz, Mrs. Leopold (Mathilde Francoise Pede)",
           "female",
           29,
           "Southampton"
          ],
          [
           "Wells, Master. Ralph Lester",
           "male",
           2,
           "Southampton"
          ],
          [
           "Wells, Miss. Joan",
           "female",
           4,
           "Southampton"
          ],
          [
           "Wells, Mrs. Arthur Henry (\"Addie\" Dart Trevaskis)",
           "female",
           29,
           "Southampton"
          ],
          [
           "West, Miss. Barbara J",
           "female",
           0.9167,
           "Southampton"
          ],
          [
           "West, Miss. Constance Mirium",
           "female",
           5,
           "Southampton"
          ],
          [
           "West, Mrs. Edwy Arthur (Ada Mary Worth)",
           "female",
           33,
           "Southampton"
          ],
          [
           "Wilhelms, Mr. Charles",
           "male",
           31,
           "Southampton"
          ],
          [
           "Williams, Mr. Charles Eugene",
           "male",
           32,
           "Southampton"
          ],
          [
           "Wright, Miss. Marion",
           "female",
           26,
           "Southampton"
          ],
          [
           "Abbott, Mrs. Stanton (Rosa Hunt)",
           "female",
           35,
           "Southampton"
          ],
          [
           "Abelseth, Miss. Karen Marie",
           "female",
           16,
           "Southampton"
          ],
          [
           "Abelseth, Mr. Olaus Jorgensen",
           "male",
           25,
           "Southampton"
          ],
          [
           "Abrahamsson, Mr. Abraham August Johannes",
           "male",
           20,
           "Southampton"
          ],
          [
           "Abrahim, Mrs. Joseph (Sophie Halaut Easu)",
           "female",
           18,
           "Cherbourg"
          ],
          [
           "Aks, Master. Philip Frank",
           "male",
           0.8333,
           "Southampton"
          ],
          [
           "Aks, Mrs. Sam (Leah Rosen)",
           "female",
           18,
           "Southampton"
          ],
          [
           "Albimona, Mr. Nassef Cassem",
           "male",
           26,
           "Cherbourg"
          ],
          [
           "Andersen-Jensen, Miss. Carla Christine Nielsine",
           "female",
           19,
           "Southampton"
          ],
          [
           "Andersson, Miss. Erna Alexandra",
           "female",
           17,
           "Southampton"
          ],
          [
           "Andersson, Mr. August Edvard (\"Wennerstrom\")",
           "male",
           27,
           "Southampton"
          ],
          [
           "Asplund, Master. Edvin Rojj Felix",
           "male",
           3,
           "Southampton"
          ],
          [
           "Asplund, Miss. Lillian Gertrud",
           "female",
           5,
           "Southampton"
          ],
          [
           "Asplund, Mr. Johan Charles",
           "male",
           23,
           "Southampton"
          ],
          [
           "Asplund, Mrs. Carl Oscar (Selma Augusta Emilia Johansson)",
           "female",
           38,
           "Southampton"
          ],
          [
           "Assaf Khalil, Mrs. Mariana (\"Miriam\")",
           "female",
           45,
           "Cherbourg"
          ],
          [
           "Ayoub, Miss. Banoura",
           "female",
           13,
           "Cherbourg"
          ],
          [
           "Backstrom, Mrs. Karl Alfred (Maria Mathilda Gustafsson)",
           "female",
           33,
           "Southampton"
          ],
          [
           "Baclini, Miss. Eugenie",
           "female",
           0.75,
           "Cherbourg"
          ],
          [
           "Baclini, Miss. Helene Barbara",
           "female",
           0.75,
           "Cherbourg"
          ],
          [
           "Baclini, Miss. Marie Catherine",
           "female",
           5,
           "Cherbourg"
          ],
          [
           "Baclini, Mrs. Solomon (Latifa Qurban)",
           "female",
           24,
           "Cherbourg"
          ],
          [
           "Badman, Miss. Emily Louisa",
           "female",
           18,
           "Southampton"
          ],
          [
           "Barah, Mr. Hanna Assi",
           "male",
           20,
           "Cherbourg"
          ],
          [
           "Bing, Mr. Lee",
           "male",
           32,
           "Southampton"
          ],
          [
           "Bradley, Miss. Bridget Delia",
           "female",
           22,
           "Queenstown"
          ],
          [
           "Buckley, Mr. Daniel",
           "male",
           21,
           "Queenstown"
          ],
          [
           "Carr, Miss. Helen \"Ellen\"",
           "female",
           16,
           "Queenstown"
          ],
          [
           "Chip, Mr. Chang",
           "male",
           32,
           "Southampton"
          ],
          [
           "Cohen, Mr. Gurshon \"Gus\"",
           "male",
           18,
           "Southampton"
          ],
          [
           "Connolly, Miss. Kate",
           "female",
           22,
           "Queenstown"
          ],
          [
           "Coutts, Master. Eden Leslie \"Neville\"",
           "male",
           9,
           "Southampton"
          ],
          [
           "Coutts, Master. William Loch \"William\"",
           "male",
           3,
           "Southampton"
          ],
          [
           "Coutts, Mrs. William (Winnie \"Minnie\" Treanor)",
           "female",
           36,
           "Southampton"
          ],
          [
           "Cribb, Miss. Laura Alice",
           "female",
           17,
           "Southampton"
          ],
          [
           "Dahl, Mr. Karl Edwart",
           "male",
           45,
           "Southampton"
          ],
          [
           "Daly, Miss. Margaret Marcella \"Maggie\"",
           "female",
           30,
           "Queenstown"
          ],
          [
           "Daly, Mr. Eugene Patrick",
           "male",
           29,
           "Queenstown"
          ],
          [
           "Davison, Mrs. Thomas Henry (Mary E Finck)",
           "female",
           36,
           "Southampton"
          ],
          [
           "de Messemaeker, Mr. Guillaume Joseph",
           "male",
           36.5,
           "Southampton"
          ],
          [
           "de Messemaeker, Mrs. Guillaume Joseph (Emma)",
           "female",
           36,
           "Southampton"
          ],
          [
           "de Mulder, Mr. Theodore",
           "male",
           30,
           "Southampton"
          ],
          [
           "Dean, Master. Bertram Vere",
           "male",
           1,
           "Southampton"
          ],
          [
           "Dean, Miss. Elizabeth Gladys \"Millvina\"",
           "female",
           0.1667,
           "Southampton"
          ],
          [
           "Dean, Mrs. Bertram (Eva Georgetta Light)",
           "female",
           33,
           "Southampton"
          ],
          [
           "Devaney, Miss. Margaret Delia",
           "female",
           19,
           "Queenstown"
          ],
          [
           "Dorking, Mr. Edward Arthur",
           "male",
           19,
           "Southampton"
          ],
          [
           "Dowdell, Miss. Elizabeth",
           "female",
           30,
           "Southampton"
          ],
          [
           "Drapkin, Miss. Jennie",
           "female",
           23,
           "Southampton"
          ],
          [
           "Duquemin, Mr. Joseph",
           "male",
           24,
           "Southampton"
          ],
          [
           "Dyker, Mrs. Adolf Fredrik (Anna Elisabeth Judith Andersson)",
           "female",
           22,
           "Southampton"
          ],
          [
           "Emanuel, Miss. Virginia Ethel",
           "female",
           5,
           "Southampton"
          ],
          [
           "Finoli, Mr. Luigi",
           "male",
           32,
           "Southampton"
          ],
          [
           "Foo, Mr. Choong",
           "male",
           32,
           "Southampton"
          ],
          [
           "Gilnagh, Miss. Katherine \"Katie\"",
           "female",
           16,
           "Queenstown"
          ],
          [
           "Glynn, Miss. Mary Agatha",
           "female",
           21,
           "Queenstown"
          ],
          [
           "Goldsmith, Master. Frank John William \"Frankie\"",
           "male",
           9,
           "Southampton"
          ],
          [
           "Goldsmith, Mrs. Frank John (Emily Alice Brown)",
           "female",
           31,
           "Southampton"
          ],
          [
           "Hakkarainen, Mrs. Pekka Pietari (Elin Matilda Dolck)",
           "female",
           24,
           "Southampton"
          ],
          [
           "Hansen, Mrs. Claus Peter (Jennie L Howard)",
           "female",
           45,
           "Southampton"
          ],
          [
           "Healy, Miss. Hanora \"Nora\"",
           "female",
           21,
           "Queenstown"
          ],
          [
           "Hedman, Mr. Oskar Arvid",
           "male",
           27,
           "Southampton"
          ],
          [
           "Hee, Mr. Ling",
           "male",
           32,
           "Southampton"
          ],
          [
           "Heikkinen, Miss. Laina",
           "female",
           26,
           "Southampton"
          ],
          [
           "Hellstrom, Miss. Hilda Maria",
           "female",
           22,
           "Southampton"
          ],
          [
           "Hirvonen, Miss. Hildur E",
           "female",
           2,
           "Southampton"
          ],
          [
           "Hirvonen, Mrs. Alexander (Helga E Lindqvist)",
           "female",
           22,
           "Southampton"
          ],
          [
           "Honkanen, Miss. Eliina",
           "female",
           27,
           "Southampton"
          ],
          [
           "Howard, Miss. May Elizabeth",
           "female",
           21,
           "Southampton"
          ],
          [
           "Hyman, Mr. Abraham",
           "male",
           32,
           "Southampton"
          ],
          [
           "Jalsevac, Mr. Ivan",
           "male",
           29,
           "Cherbourg"
          ],
          [
           "Jansson, Mr. Carl Olof",
           "male",
           21,
           "Southampton"
          ],
          [
           "Jermyn, Miss. Annie",
           "female",
           21,
           "Queenstown"
          ],
          [
           "Johannesen-Bratthammer, Mr. Bernt",
           "male",
           32,
           "Southampton"
          ],
          [
           "Johansson Palmquist, Mr. Oskar Leander",
           "male",
           26,
           "Southampton"
          ],
          [
           "Johnson, Master. Harold Theodor",
           "male",
           4,
           "Southampton"
          ],
          [
           "Johnson, Miss. Eleanor Ileen",
           "female",
           1,
           "Southampton"
          ],
          [
           "Johnson, Mrs. Oscar W (Elisabeth Vilhelmina Berg)",
           "female",
           27,
           "Southampton"
          ],
          [
           "Jonsson, Mr. Carl",
           "male",
           32,
           "Southampton"
          ],
          [
           "Jussila, Mr. Eiriik",
           "male",
           32,
           "Southampton"
          ],
          [
           "Karlsson, Mr. Einar Gervasius",
           "male",
           21,
           "Southampton"
          ],
          [
           "Karun, Miss. Manca",
           "female",
           4,
           "Cherbourg"
          ],
          [
           "Karun, Mr. Franz",
           "male",
           39,
           "Cherbourg"
          ],
          [
           "Kelly, Miss. Anna Katherine \"Annie Kate\"",
           "female",
           21,
           "Queenstown"
          ],
          [
           "Kelly, Miss. Mary",
           "female",
           21,
           "Queenstown"
          ],
          [
           "Kennedy, Mr. John",
           "male",
           32,
           "Queenstown"
          ],
          [
           "Kink-Heilmann, Miss. Luise Gretchen",
           "female",
           4,
           "Southampton"
          ],
          [
           "Kink-Heilmann, Mr. Anton",
           "male",
           29,
           "Southampton"
          ],
          [
           "Kink-Heilmann, Mrs. Anton (Luise Heilmann)",
           "female",
           26,
           "Southampton"
          ],
          [
           "Krekorian, Mr. Neshan",
           "male",
           25,
           "Cherbourg"
          ],
          [
           "Lam, Mr. Ali",
           "male",
           32,
           "Southampton"
          ],
          [
           "Landergren, Miss. Aurora Adelia",
           "female",
           22,
           "Southampton"
          ],
          [
           "Lang, Mr. Fang",
           "male",
           26,
           "Southampton"
          ],
          [
           "Leeni, Mr. Fahim (\"Philip Zenni\")",
           "male",
           22,
           "Cherbourg"
          ],
          [
           "Lindqvist, Mr. Eino William",
           "male",
           20,
           "Southampton"
          ],
          [
           "Lulic, Mr. Nikola",
           "male",
           27,
           "Southampton"
          ],
          [
           "Lundin, Miss. Olga Elida",
           "female",
           23,
           "Southampton"
          ],
          [
           "Lundstrom, Mr. Thure Edvin",
           "male",
           32,
           "Southampton"
          ],
          [
           "Madigan, Miss. Margaret \"Maggie\"",
           "female",
           21,
           "Queenstown"
          ],
          [
           "Madsen, Mr. Fridtjof Arne",
           "male",
           24,
           "Southampton"
          ],
          [
           "Mamee, Mr. Hanna",
           "male",
           32,
           "Cherbourg"
          ],
          [
           "Mannion, Miss. Margareth",
           "female",
           21,
           "Queenstown"
          ],
          [
           "Masselmani, Mrs. Fatima",
           "female",
           36,
           "Cherbourg"
          ],
          [
           "McCarthy, Miss. Catherine \"Katie\"",
           "female",
           21,
           "Queenstown"
          ],
          [
           "McCormack, Mr. Thomas Joseph",
           "male",
           32,
           "Queenstown"
          ],
          [
           "McCoy, Miss. Agnes",
           "female",
           21,
           "Queenstown"
          ],
          [
           "McCoy, Miss. Alicia",
           "female",
           21,
           "Queenstown"
          ],
          [
           "McCoy, Mr. Bernard",
           "male",
           32,
           "Queenstown"
          ],
          [
           "McDermott, Miss. Brigdet Delia",
           "female",
           21,
           "Queenstown"
          ],
          [
           "McGovern, Miss. Mary",
           "female",
           21,
           "Queenstown"
          ],
          [
           "McGowan, Miss. Anna \"Annie\"",
           "female",
           15,
           "Queenstown"
          ],
          [
           "Midtsjo, Mr. Karl Albert",
           "male",
           21,
           "Southampton"
          ],
          [
           "Mockler, Miss. Helen Mary \"Ellie\"",
           "female",
           21,
           "Queenstown"
          ],
          [
           "Moor, Master. Meier",
           "male",
           6,
           "Southampton"
          ],
          [
           "Moor, Mrs. (Beila)",
           "female",
           27,
           "Southampton"
          ],
          [
           "Moran, Miss. Bertha",
           "female",
           21,
           "Queenstown"
          ],
          [
           "Moss, Mr. Albert Johan",
           "male",
           32,
           "Southampton"
          ],
          [
           "Moubarek, Master. Gerios",
           "male",
           5,
           "Cherbourg"
          ],
          [
           "Moubarek, Master. Halim Gonios (\"William George\")",
           "male",
           5,
           "Cherbourg"
          ],
          [
           "Moubarek, Mrs. George (Omine \"Amenia\" Alexander)",
           "female",
           36,
           "Cherbourg"
          ],
          [
           "Moussa, Mrs. (Mantoura Boulos)",
           "female",
           36,
           "Cherbourg"
          ],
          [
           "Mullens, Miss. Katherine \"Katie\"",
           "female",
           21,
           "Queenstown"
          ],
          [
           "Mulvihill, Miss. Bertha E",
           "female",
           24,
           "Queenstown"
          ],
          [
           "Murphy, Miss. Katherine \"Kate\"",
           "female",
           21,
           "Queenstown"
          ],
          [
           "Murphy, Miss. Margaret Jane",
           "female",
           21,
           "Queenstown"
          ],
          [
           "Murphy, Miss. Nora",
           "female",
           21,
           "Queenstown"
          ],
          [
           "Najib, Miss. Adele Kiamie \"Jane\"",
           "female",
           15,
           "Cherbourg"
          ],
          [
           "Nakid, Miss. Maria (\"Mary\")",
           "female",
           1,
           "Cherbourg"
          ],
          [
           "Nakid, Mr. Sahid",
           "male",
           20,
           "Cherbourg"
          ],
          [
           "Nakid, Mrs. Said (Waika \"Mary\" Mowad)",
           "female",
           19,
           "Cherbourg"
          ],
          [
           "Nicola-Yarred, Master. Elias",
           "male",
           12,
           "Cherbourg"
          ],
          [
           "Nicola-Yarred, Miss. Jamila",
           "female",
           14,
           "Cherbourg"
          ],
          [
           "Nilsson, Miss. Berta Olivia",
           "female",
           18,
           "Southampton"
          ],
          [
           "Nilsson, Miss. Helmina Josefina",
           "female",
           26,
           "Southampton"
          ],
          [
           "Niskanen, Mr. Juha",
           "male",
           39,
           "Southampton"
          ],
          [
           "Nysten, Miss. Anna Sofia",
           "female",
           22,
           "Southampton"
          ],
          [
           "O'Brien, Mrs. Thomas (Johanna \"Hannah\" Godfrey)",
           "female",
           36,
           "Queenstown"
          ],
          [
           "O'Driscoll, Miss. Bridget",
           "female",
           21,
           "Queenstown"
          ],
          [
           "O'Dwyer, Miss. Ellen \"Nellie\"",
           "female",
           21,
           "Queenstown"
          ],
          [
           "Ohman, Miss. Velin",
           "female",
           22,
           "Southampton"
          ],
          [
           "O'Keefe, Mr. Patrick",
           "male",
           32,
           "Queenstown"
          ],
          [
           "O'Leary, Miss. Hanora \"Norah\"",
           "female",
           21,
           "Queenstown"
          ],
          [
           "Olsen, Master. Artur Karl",
           "male",
           9,
           "Southampton"
          ],
          [
           "Olsson, Mr. Oscar Wilhelm",
           "male",
           32,
           "Southampton"
          ],
          [
           "Osman, Mrs. Mara",
           "female",
           31,
           "Southampton"
          ],
          [
           "Persson, Mr. Ernst Ulrik",
           "male",
           25,
           "Southampton"
          ],
          [
           "Peter, Master. Michael J",
           "male",
           5,
           "Cherbourg"
          ],
          [
           "Peter, Miss. Anna",
           "female",
           21,
           "Cherbourg"
          ],
          [
           "Peter, Mrs. Catherine (Catherine Rizk)",
           "female",
           36,
           "Cherbourg"
          ],
          [
           "Pickard, Mr. Berk (Berk Trembisky)",
           "male",
           32,
           "Southampton"
          ],
          [
           "Riordan, Miss. Johanna \"Hannah\"",
           "female",
           21,
           "Queenstown"
          ],
          [
           "Roth, Miss. Sarah A",
           "female",
           21,
           "Southampton"
          ],
          [
           "Ryan, Mr. Edward",
           "male",
           32,
           "Queenstown"
          ],
          [
           "Salkjelsvik, Miss. Anna Kristine",
           "female",
           21,
           "Southampton"
          ],
          [
           "Sandstrom, Miss. Beatrice Irene",
           "female",
           1,
           "Southampton"
          ],
          [
           "Sandstrom, Mrs. Hjalmar (Agnes Charlotta Bengtsson)",
           "female",
           24,
           "Southampton"
          ],
          [
           "Sandstrom, Miss. Marguerite Rut",
           "female",
           4,
           "Southampton"
          ],
          [
           "Sap, Mr. Julius",
           "male",
           25,
           "Southampton"
          ],
          [
           "Sheerlinck, Mr. Jan Baptist",
           "male",
           29,
           "Southampton"
          ],
          [
           "Shine, Miss. Ellen Natalia",
           "female",
           21,
           "Queenstown"
          ],
          [
           "Sjoblom, Miss. Anna Sofia",
           "female",
           18,
           "Southampton"
          ],
          [
           "Smyth, Miss. Julia",
           "female",
           21,
           "Queenstown"
          ],
          [
           "Stanley, Miss. Amy Zillah Elsie",
           "female",
           23,
           "Southampton"
          ],
          [
           "Stranden, Mr. Juho",
           "male",
           31,
           "Southampton"
          ],
          [
           "Sunderland, Mr. Victor Francis",
           "male",
           16,
           "Southampton"
          ],
          [
           "Sundman, Mr. Johan Julian",
           "male",
           44,
           "Southampton"
          ],
          [
           "Svensson, Mr. Johan Cervin",
           "male",
           14,
           "Southampton"
          ],
          [
           "Tenglin, Mr. Gunnar Isidor",
           "male",
           25,
           "Southampton"
          ],
          [
           "Thomas, Master. Assad Alexander",
           "male",
           0.4167,
           "Cherbourg"
          ],
          [
           "Thomas, Mrs. Alexander (Thamine \"Thelma\")",
           "female",
           16,
           "Cherbourg"
          ],
          [
           "Thorneycroft, Mrs. Percival (Florence Kate White)",
           "female",
           36,
           "Southampton"
          ],
          [
           "Tornquist, Mr. William Henry",
           "male",
           25,
           "Southampton"
          ],
          [
           "Touma, Master. Georges Youssef",
           "male",
           7,
           "Cherbourg"
          ],
          [
           "Touma, Miss. Maria Youssef",
           "female",
           9,
           "Cherbourg"
          ],
          [
           "Touma, Mrs. Darwis (Hanne Youssef Razi)",
           "female",
           29,
           "Cherbourg"
          ],
          [
           "Turja, Miss. Anna Sofia",
           "female",
           18,
           "Southampton"
          ],
          [
           "Turkula, Mrs. (Hedwig)",
           "female",
           63,
           "Southampton"
          ],
          [
           "Vartanian, Mr. David",
           "male",
           22,
           "Cherbourg"
          ],
          [
           "Whabee, Mrs. George Joseph (Shawneene Abi-Saab)",
           "female",
           38,
           "Cherbourg"
          ],
          [
           "Wilkes, Mrs. James (Ellen Needs)",
           "female",
           47,
           "Southampton"
          ],
          [
           "Yasbeck, Mrs. Antoni (Selini Alexander)",
           "female",
           15,
           "Cherbourg"
          ]
         ],
         "fillcolor": "rgba(255,255,255,0)",
         "hoveron": "points",
         "hovertemplate": "<b>%{customdata[0]}</b><br>Sex: %{customdata[1]}<br>Age: %{customdata[2]}<br>Class: %{customdata[3]}<br>Embarked: %{customdata[4]}<br>%{yaxis.title.text}: %{y}<br><extra></extra>",
         "legendgroup": "Survived",
         "line": {
          "color": "rgba(255,255,255,0)"
         },
         "marker": {
          "color": "#2E8B57",
          "line": {
           "color": "white",
           "width": 0.5
          },
          "opacity": 0.6,
          "size": 6
         },
         "name": "Survived",
         "offsetgroup": "Survived",
         "orientation": "v",
         "pointpos": 0,
         "showlegend": true,
         "type": "box",
         "x": {
          "bdata": "AQAAAAEAAAABAAAAAQAAAAEAAAABAAAAAQAAAAEAAAABAAAAAQAAAAEAAAABAAAAAQAAAAEAAAABAAAAAQAAAAEAAAABAAAAAQAAAAEAAAABAAAAAQAAAAEAAAABAAAAAQAAAAEAAAABAAAAAQAAAAEAAAABAAAAAQAAAAEAAAABAAAAAQAAAAEAAAABAAAAAQAAAAEAAAABAAAAAQAAAAEAAAABAAAAAQAAAAEAAAABAAAAAQAAAAEAAAABAAAAAQAAAAEAAAABAAAAAQAAAAEAAAABAAAAAQAAAAEAAAABAAAAAQAAAAEAAAABAAAAAQAAAAEAAAABAAAAAQAAAAEAAAABAAAAAQAAAAEAAAABAAAAAQAAAAEAAAABAAAAAQAAAAEAAAABAAAAAQAAAAEAAAABAAAAAQAAAAEAAAABAAAAAQAAAAEAAAABAAAAAQAAAAEAAAABAAAAAQAAAAEAAAABAAAAAQAAAAEAAAABAAAAAQAAAAEAAAABAAAAAQAAAAEAAAABAAAAAQAAAAEAAAABAAAAAQAAAAEAAAABAAAAAQAAAAEAAAABAAAAAQAAAAEAAAABAAAAAQAAAAEAAAABAAAAAQAAAAEAAAABAAAAAQAAAAEAAAABAAAAAQAAAAEAAAABAAAAAQAAAAEAAAABAAAAAQAAAAEAAAABAAAAAQAAAAEAAAABAAAAAQAAAAEAAAABAAAAAQAAAAEAAAABAAAAAQAAAAEAAAABAAAAAQAAAAEAAAABAAAAAQAAAAEAAAABAAAAAQAAAAEAAAABAAAAAQAAAAEAAAABAAAAAQAAAAEAAAABAAAAAQAAAAEAAAABAAAAAQAAAAEAAAABAAAAAQAAAAEAAAABAAAAAQAAAAEAAAABAAAAAQAAAAEAAAABAAAAAQAAAAEAAAABAAAAAQAAAAEAAAABAAAAAQAAAAEAAAABAAAAAQAAAAEAAAABAAAAAQAAAAEAAAABAAAAAQAAAAEAAAABAAAAAQAAAAEAAAABAAAAAQAAAAEAAAABAAAAAQAAAAEAAAABAAAAAQAAAAEAAAACAAAAAgAAAAIAAAACAAAAAgAAAAIAAAACAAAAAgAAAAIAAAACAAAAAgAAAAIAAAACAAAAAgAAAAIAAAACAAAAAgAAAAIAAAACAAAAAgAAAAIAAAACAAAAAgAAAAIAAAACAAAAAgAAAAIAAAACAAAAAgAAAAIAAAACAAAAAgAAAAIAAAACAAAAAgAAAAIAAAACAAAAAgAAAAIAAAACAAAAAgAAAAIAAAACAAAAAgAAAAIAAAACAAAAAgAAAAIAAAACAAAAAgAAAAIAAAACAAAAAgAAAAIAAAACAAAAAgAAAAIAAAACAAAAAgAAAAIAAAACAAAAAgAAAAIAAAACAAAAAgAAAAIAAAACAAAAAgAAAAIAAAACAAAAAgAAAAIAAAACAAAAAgAAAAIAAAACAAAAAgAAAAIAAAACAAAAAgAAAAIAAAACAAAAAgAAAAIAAAACAAAAAgAAAAIAAAACAAAAAgAAAAIAAAACAAAAAgAAAAIAAAACAAAAAgAAAAIAAAACAAAAAgAAAAIAAAACAAAAAgAAAAIAAAACAAAAAgAAAAIAAAACAAAAAgAAAAIAAAACAAAAAgAAAAIAAAACAAAAAgAAAAIAAAACAAAAAgAAAAIAAAACAAAAAgAAAAMAAAADAAAAAwAAAAMAAAADAAAAAwAAAAMAAAADAAAAAwAAAAMAAAADAAAAAwAAAAMAAAADAAAAAwAAAAMAAAADAAAAAwAAAAMAAAADAAAAAwAAAAMAAAADAAAAAwAAAAMAAAADAAAAAwAAAAMAAAADAAAAAwAAAAMAAAADAAAAAwAAAAMAAAADAAAAAwAAAAMAAAADAAAAAwAAAAMAAAADAAAAAwAAAAMAAAADAAAAAwAAAAMAAAADAAAAAwAAAAMAAAADAAAAAwAAAAMAAAADAAAAAwAAAAMAAAADAAAAAwAAAAMAAAADAAAAAwAAAAMAAAADAAAAAwAAAAMAAAADAAAAAwAAAAMAAAADAAAAAwAAAAMAAAADAAAAAwAAAAMAAAADAAAAAwAAAAMAAAADAAAAAwAAAAMAAAADAAAAAwAAAAMAAAADAAAAAwAAAAMAAAADAAAAAwAAAAMAAAADAAAAAwAAAAMAAAADAAAAAwAAAAMAAAADAAAAAwAAAAMAAAADAAAAAwAAAAMAAAADAAAAAwAAAAMAAAADAAAAAwAAAAMAAAADAAAAAwAAAAMAAAADAAAAAwAAAAMAAAADAAAAAwAAAAMAAAADAAAAAwAAAAMAAAADAAAAAwAAAAMAAAADAAAAAwAAAAMAAAADAAAAAwAAAAMAAAADAAAAAwAAAAMAAAADAAAAAwAAAAMAAAADAAAAAwAAAAMAAAADAAAAAwAAAAMAAAADAAAAAwAAAAMAAAADAAAAAwAAAAMAAAADAAAAAwAAAAMAAAADAAAAAwAAAAMAAAADAAAAAwAAAAMAAAADAAAAAwAAAAMAAAADAAAAAwAAAAMAAAADAAAAAwAAAAMAAAADAAAAAwAAAAMAAAADAAAAAwAAAAMAAAADAAAAAwAAAAMAAAADAAAAAwAAAAMAAAADAAAAAwAAAAMAAAADAAAAAwAAAAMAAAA=",
          "dtype": "i4"
         },
         "x0": " ",
         "xaxis": "x",
         "y": {
          "bdata": "DgRMUI2ZAkB/XSNQx3EBQGz9QOL3yPY/IyRSdxFF/j9hENkD2GL7PytkuRUy2wJAixY1saRz/T9ofae8TFn+P3/1k+VJovc/D0MX5B0mA0CsImGCoB7+P1HQ7aebh/s/UdDtp5uH+z9/9ZPlSaL3PytkuRUy2wJA/YiHIXLEAkBCkGj0x1n/P0KQaPTHWf8/bJjcExYPAUBs/UDi98j2P+ZnWBSe3Pc/XCaRMrC8AUBs/UDi98j2PxUhqQP0WQNA7+YojIbY+z9s/UDi98j2Pzk6+X27Ffc/YRDZA9hi+z+sImGCoB7+P+j/i4yfBwFANjrpBku39j8hzJ9M/wP3P8ROURUorQVAxE5RFSitBUA/2fHGKaIAQD/Z8cYpogBAP9nxximiAEA/2fHGKaIAQDk6+X27Ffc/aH2nvExZ/j+L83eYzpX8P+zbaLb8mfs/7NtotvyZ+z8VIakD9FkDQIIvFpoE/v4/7KUMEWmQ9z/v5iiMhtj7P+vPUa+RFgFAf10jUMdxAUAu9uHv7rf+Py724e/ut/4/qRTkCBaP9j9SIAMTwZ79P2z9QOL3yPY/EpAxiNal/T9s/UDi98j2P289NzCxv/c/f10jUMdxAUBOzwvsv3T7P4+2jzsQGPw/j7aPOxAY/D8Fp+in55v+PwWn6Kfnm/4/Bafop+eb/j8PQxfkHSYDQDGScqpiNwBAbG3I0yiQ+T+vq+A82hX8Py724e/ut/4/K2S5FTLbAkAvd5drF0z+P6sfX79mA/g/8hm2x+JbAECoSGgWDL72P+U+bMIRXANA5T5swhFcA0DlPmzCEVwDQOU+bMIRXANAr6vgPNoV/D81WQYE/AEBQDk6+X27Ffc/NVkGBPwBAUDt0VBXGh37P+tL8KctYf4/60vwpy1h/j/s22i2/Jn7P45j/FI8mgJAa4Q05W1h/D9rhDTlbWH8P+9n2m3IMv8/72fabcgy/z8P2GdnC0f3P3/1k+VJovc/KpHtwe58AUDeY23sL9T8P95jbewv1Pw/24tnJMHm+z/bi2ckweb7Py6XCIXMKP4/LpcIhcwo/j9hDujzsb7+Py6XCIXMKP4/f/WT5Umi9z8u9uHv7rf+P4VkdMFxiP8/xT4Q7lw2/D/FPhDuXDb8PyMkUncRRf4/Ts8L7L90+z9s/UDi98j2P/7qJ8uTRP8//uony5NE/z9+m3d8DnP+PwAAAAAAAAAAP0k+Kwpw+z9R0O2nm4f7P1HQ7aebh/s/DgRMUI2ZAkCaPXdW4Z72PzGScqpiNwBAxE5RFSitBUA5Ovl9uxX3P1Ee2gsnh/k/UR7aCyeH+T8jJFJ3EUX+P7u3mgDDUwFADgRMUI2ZAkCCLxaaBP7+P+ylDBFpkPc/7NtotvyZ+z+tHYn6QB37PzY66QZLt/Y/aT5O1a6i/j/+6ifLk0T/P/7qJ8uTRP8/DmRRI1Ev/D8pPv/X3W4AQCk+/9fdbgBAN845QwK39j/tuuRF1UsAQGLTpFb4kfY/gIc3Gwqt/D/9KTZQ8yz9P+265EXVSwBAhWR0wXGI/z9vPTcwsb/3Py724e/ut/4/bG3I0yiQ+T8OBExQjZkCQGz9QOL3yPY/OTr5fbsV9z+CLxaaBP7+P2uENOVtYfw/FSGpA/RZA0AVIakD9FkDQBUhqQP0WQNAFSGpA/RZA0BvPTcwsb/3P4sWNbGkc/0/z/DjF7uj9j8OZFEjUS/8P+ZnWBSe3Pc/bP1A4vfI9j8qke3B7nwBQDY66QZLt/Y/Q0N4FWb1+z/TQds+vM34P9NB2z68zfg//tO7uU5z/D8t8lgAwqT+Py3yWADCpP4/6P+LjJ8HAUDo/4uMnwcBQOj/i4yfBwFAu7eaAMNTAUBvPTcwsb/3P9uLZyTB5vs/24tnJMHm+z8vd5drF0z+P36bd3wOc/4/mj13VuGe9j/r8tTHQWv+P+vy1MdBa/4/Ts8L7L90+z9Ozwvsv3T7P/IZtsfiWwBA8hm2x+JbAEDrS/CnLWH+P6jDXDViSfc/xE5RFSitBUAW2iivKwb+P2yY3BMWDwFAXCaRMrC8AUBcJpEysLwBQI5j/FI8mgJAbP1A4vfI9j8RcYIkvJv8P+j/i4yfBwFA00HbPrzN+D9smNwTFg8BQP6QC2JYFfY/z/DjF7uj9j9PErxDttLxP8/w4xe7o/Y/z/DjF7uj9j/OB1ApAHX5P84HUCkAdfk/zgdQKQB1+T/OB1ApAHX5P08SvEO20vE/TxK8Q7bS8T9PErxDttLxP84HUCkAdfk/zgdQKQB1+T/P8OMXu6P2P08SvEO20vE/TxK8Q7bS8T/qY2tx+2X3P+pja3H7Zfc/6mNrcftl9z+eW1Brzyf1P3/1k+VJovc/f/WT5Umi9z/P8OMXu6P2Px99KJfKVvA/H8DY7sC09j8fwNjuwLT2Px99KJfKVvA/vgS9SEsL+T++BL1ISwv5P08SvEO20vE/OTr5fbsV9z9/+Zsgo8n1P3/5myCjyfU/T1Vsm6ww+D9PVWybrDD4PyvrWKlxRPI/K+tYqXFE8j/P8OMXu6P2P08SvEO20vE/aoVDnfaU8j9qhUOd9pTyP+265EXVS/g/H30ol8pW8D8fwNjuwLT2Px/A2O7AtPY/zjOUb7EB/T/OM5RvsQH9P84zlG+xAf0//nmfUBNE8z9/+Zsgo8n1P3/5myCjyfU/z/DjF7uj9j9PErxDttLxPx99KJfKVvA/feC7sN3m9j8JCUXg3zvyP8/w4xe7o/Y/3/SPxXd38T/9AZTc2BXyP9PW6qfq5vk/09bqp+rm+T/T1uqn6ub5P36y441TRPE/7brkRdVL+D8ffSiXylbwP8/w4xe7o/Y/IfuOYY4X+T8h+45hjhf5P04pKFX7o/Q/TikoVfuj9D8ffSiXylbwP/DhUlp7pvc/z/DjF7uj9j/P8OMXu6P2P8qznKf7RPI/H30ol8pW8D8ffSiXylbwP8qznKf7RPI/K+tYqXFE8j/P8OMXu6P2P55bUGvPJ/U/z/DjF7uj9j9PErxDttLxP9gOWMRsrvE/z/DjF7uj9j/P8OMXu6P2P8/w4xe7o/Y/nltQa88n9T9PErxDttLxP4B79JQ2XvQ/gHv0lDZe9D+Ae/SUNl70Px99KJfKVvA/H30ol8pW8D/P8OMXu6P2P08SvEO20vE/vgS9SEsL+T9PErxDttLxP9/0j8V3d/E/TxK8Q7bS8T8ffSiXylbwP27gxKwpovE/H30ol8pW8D+eW1Brzyf1P55bUGvPJ/U/HpSUqA8o8z8elJSoDyjzP08SvEO20vE/z/DjF7uj9j9/+Zsgo8n1P3/5myCjyfU/f/mbIKPJ9T//mCrumhf3P/+YKu6aF/c//5gq7poX9z9PErxDttLxP08SvEO20vE//QGU3NgV8j/9GADuHef0PysUl1j0Ruw/KxSXWPRG7D8EL3MemsTsPy/JmNCqfes/C8noguMQ7z8LyeiC4xDvP5cPLnTEYfQ/M3Fx26yk7D8EL3MemsTsP4ELZG0fiuw/Y6IwLrfy9z9jojAut/L3P4ELZG0fiuw/Y6IwLrfy9z9dfI6EmXvrPy/JmNCqfes/AXZh41Ez8z+TwpWMy430P5PClYzLjfQ/k8KVjMuN9D+TwpWMy430Pz4CYaRH/Ow/L8mY0Kp96z88YpMZQgj8P7lnEReqaew/1sSXf4OV7D/MVRHYKHXsPzxikxlCCPw/PgJhpEf87D/MVRHYKHXsP8Nv5zDsOPM/w2/nMOw48z/Db+cw7DjzP55fWKYoT/M/PgJhpEf87D8RMe4divHqP8xVEdgodew/nl9YpihP8z/oNycrStnzP+g3JytK2fM/IcWnA4NJ7z8AReCjcAP1PwBF4KNwA/U/AEXgo3AD9T/XhL1H+6/sPz4CYaRH/Ow//5380WGJ8T8+AmGkR/zsPybZmzQkGOw/CPce48lJ8j//nfzRYYnxPzqjyYBdJOs/PGKTGUII/D/PcJ0jfG3sP8xVEdgodew/5KYCohz/9D/kpgKiHP/0PwF2YeNRM/M/GNZ8kT9k8j/MVRHYKHXsP8orYW5Q/uo/PGKTGUII/D8EL3MemsTsP0UEZ7xMeu4/AUuyT3Fu8T8BS7JPcW7xPwQvcx6axOw/PgJhpEf87D95LMoyurPsP3lWpxt4t+w/gQtkbR+K7D/MVRHYKHXsP7k1NJ7LF+0/3NPUHp6A7D+ExAa3+L7wP4TEBrf4vvA/hMQGt/i+8D8zcXHbrKTsPwQvcx6axOw/gQtkbR+K7D9gYhg61gryP2BiGDrWCvI/zFUR2Ch17D/MVRHYKHXsP8xVEdgodew/w3aSZpV89T/DdpJmlXz1P8N2kmaVfPU/L8mY0Kp96z88YpMZQgj8P9RNN5Ljh+s/PGKTGUII/D9dfI6EmXvrPwQvcx6axOw/GvZ6aSwB7j8zcXHbrKTsP9rBduffJew/zFUR2Ch17D8Whzm9V1LrPy/JmNCqfes/vK3Tp2pv7D9dfI6EmXvrP8xVEdgodew/zFUR2Ch17D9moJxR3tz1P2agnFHe3PU/ZqCcUd7c9T+Moj85VYbsP9eEvUf7r+w/BIzWRRPz7D/c09QenoDsP9eEvUf7r+w//5380WGJ8T//nfzRYYnxP552xLdtIPY/3NPUHp6A7D8vVFnsLu7yPy9UWewu7vI/L1RZ7C7u8j8vyZjQqn3rP89wnSN8bew/zFUR2Ch17D9miTBAmQvzP2aJMECZC/M/ZokwQJkL8z9dfI6EmXvrP1rDjpwfJ/M/WsOOnB8n8z9aw46cHyfzP1O4yDQ10PA/U7jINDXQ8D/c09QenoDsPzNxcduspOw/BC9zHprE7D/MVRHYKHXsP2aJMECZC/M/zFUR2Ch17D/XhL1H+6/sP9zT1B6egOw/zFUR2Ch17D/7INw0VZnsP3L7TkGTCeA/3NPUHp6A7D+aFb+3tAnuP9zT1B6egOw/bk8GHk2X9T9uTwYeTZf1P25PBh5Nl/U/PgJhpEf87D9vwfPFumfsPz4CYaRH/Ow/zFUR2Ch17D8rFJdY9EbsPxjAfSU/kPM/GMB9JT+Q8z8YwH0lP5DzPyHFpwODSe8/IcWnA4NJ7z+nWz/8iYLsPzVsUUyC/us/z3CdI3xt7D8m2Zs0JBjsPwQvcx6axOw/PgJhpEf87D8EL3MemsTsP610tCkB4e4/gQtkbR+K7D9Ec9RryMTtP0Rz1GvIxO0/nl9YpihP8z8AAAAAAAAAAC9UWewu7vI/L1RZ7C7u8j8vVFnsLu7yP6frWP46x+8/fM8KZSFq7z9dfI6EmXvrPy/JmNCqfes/Psx4CwsL6z+lnF3uVY/yPw==",
          "dtype": "f8"
         },
         "y0": " ",
         "yaxis": "y"
        },
        {
         "alignmentgroup": "True",
         "boxpoints": "all",
         "customdata": [
          [
           "Allison, Miss. Helen Loraine",
           "female",
           2,
           "Southampton"
          ],
          [
           "Allison, Mr. Hudson Joshua Creighton",
           "male",
           30,
           "Southampton"
          ],
          [
           "Allison, Mrs. Hudson J C (Bessie Waldo Daniels)",
           "female",
           25,
           "Southampton"
          ],
          [
           "Andrews, Mr. Thomas Jr",
           "male",
           39,
           "Southampton"
          ],
          [
           "Artagaveytia, Mr. Ramon",
           "male",
           71,
           "Cherbourg"
          ],
          [
           "Astor, Col. John Jacob",
           "male",
           47,
           "Cherbourg"
          ],
          [
           "Baumann, Mr. John D",
           "male",
           32,
           "Southampton"
          ],
          [
           "Baxter, Mr. Quigg Edmond",
           "male",
           24,
           "Cherbourg"
          ],
          [
           "Beattie, Mr. Thomson",
           "male",
           36,
           "Cherbourg"
          ],
          [
           "Birnbaum, Mr. Jakob",
           "male",
           25,
           "Cherbourg"
          ],
          [
           "Blackwell, Mr. Stephen Weart",
           "male",
           45,
           "Southampton"
          ],
          [
           "Borebank, Mr. John James",
           "male",
           42,
           "Southampton"
          ],
          [
           "Brady, Mr. John Bertram",
           "male",
           41,
           "Southampton"
          ],
          [
           "Brandeis, Mr. Emil",
           "male",
           48,
           "Cherbourg"
          ],
          [
           "Brewe, Dr. Arthur Jackson",
           "male",
           43,
           "Cherbourg"
          ],
          [
           "Butt, Major. Archibald Willingham",
           "male",
           45,
           "Southampton"
          ],
          [
           "Cairns, Mr. Alexander",
           "male",
           32,
           "Southampton"
          ],
          [
           "Carlsson, Mr. Frans Olof",
           "male",
           33,
           "Southampton"
          ],
          [
           "Carrau, Mr. Francisco M",
           "male",
           28,
           "Southampton"
          ],
          [
           "Carrau, Mr. Jose Pedro",
           "male",
           17,
           "Southampton"
          ],
          [
           "Case, Mr. Howard Brown",
           "male",
           49,
           "Southampton"
          ],
          [
           "Cavendish, Mr. Tyrell William",
           "male",
           36,
           "Southampton"
          ],
          [
           "Chaffee, Mr. Herbert Fuller",
           "male",
           46,
           "Southampton"
          ],
          [
           "Chisholm, Mr. Roderick Robert Crispin",
           "male",
           32,
           "Southampton"
          ],
          [
           "Clark, Mr. Walter Miller",
           "male",
           27,
           "Cherbourg"
          ],
          [
           "Clifford, Mr. George Quincy",
           "male",
           32,
           "Southampton"
          ],
          [
           "Colley, Mr. Edward Pomeroy",
           "male",
           47,
           "Southampton"
          ],
          [
           "Compton, Mr. Alexander Taylor Jr",
           "male",
           37,
           "Cherbourg"
          ],
          [
           "Crafton, Mr. John Bertram",
           "male",
           32,
           "Southampton"
          ],
          [
           "Crosby, Capt. Edward Gifford",
           "male",
           70,
           "Southampton"
          ],
          [
           "Cumings, Mr. John Bradley",
           "male",
           39,
           "Cherbourg"
          ],
          [
           "Davidson, Mr. Thornton",
           "male",
           31,
           "Southampton"
          ],
          [
           "Douglas, Mr. Walter Donald",
           "male",
           50,
           "Cherbourg"
          ],
          [
           "Dulles, Mr. William Crothers",
           "male",
           39,
           "Cherbourg"
          ],
          [
           "Evans, Miss. Edith Corse",
           "female",
           36,
           "Cherbourg"
          ],
          [
           "Farthing, Mr. John",
           "male",
           32,
           "Southampton"
          ],
          [
           "Foreman, Mr. Benjamin Laventall",
           "male",
           30,
           "Cherbourg"
          ],
          [
           "Fortune, Mr. Charles Alexander",
           "male",
           19,
           "Southampton"
          ],
          [
           "Fortune, Mr. Mark",
           "male",
           64,
           "Southampton"
          ],
          [
           "Franklin, Mr. Thomas Parham",
           "male",
           32,
           "Southampton"
          ],
          [
           "Fry, Mr. Richard",
           "male",
           32,
           "Southampton"
          ],
          [
           "Futrelle, Mr. Jacques Heath",
           "male",
           37,
           "Southampton"
          ],
          [
           "Gee, Mr. Arthur H",
           "male",
           47,
           "Southampton"
          ],
          [
           "Giglio, Mr. Victor",
           "male",
           24,
           "Cherbourg"
          ],
          [
           "Goldschmidt, Mr. George B",
           "male",
           71,
           "Cherbourg"
          ],
          [
           "Graham, Mr. George Edward",
           "male",
           38,
           "Southampton"
          ],
          [
           "Guggenheim, Mr. Benjamin",
           "male",
           46,
           "Cherbourg"
          ],
          [
           "Harrington, Mr. Charles H",
           "male",
           32,
           "Southampton"
          ],
          [
           "Harris, Mr. Henry Birkhardt",
           "male",
           45,
           "Southampton"
          ],
          [
           "Harrison, Mr. William",
           "male",
           40,
           "Southampton"
          ],
          [
           "Hays, Mr. Charles Melville",
           "male",
           55,
           "Southampton"
          ],
          [
           "Head, Mr. Christopher",
           "male",
           42,
           "Southampton"
          ],
          [
           "Hilliard, Mr. Herbert Henry",
           "male",
           32,
           "Southampton"
          ],
          [
           "Hipkins, Mr. William Edward",
           "male",
           55,
           "Southampton"
          ],
          [
           "Holverson, Mr. Alexander Oskar",
           "male",
           42,
           "Southampton"
          ],
          [
           "Hoyt, Mr. William Fisher",
           "male",
           32,
           "Cherbourg"
          ],
          [
           "Isham, Miss. Ann Elizabeth",
           "female",
           50,
           "Cherbourg"
          ],
          [
           "Jones, Mr. Charles Cresson",
           "male",
           46,
           "Southampton"
          ],
          [
           "Julian, Mr. Henry Forbes",
           "male",
           50,
           "Southampton"
          ],
          [
           "Keeping, Mr. Edwin",
           "male",
           32.5,
           "Cherbourg"
          ],
          [
           "Kent, Mr. Edward Austin",
           "male",
           58,
           "Cherbourg"
          ],
          [
           "Kenyon, Mr. Frederick R",
           "male",
           41,
           "Southampton"
          ],
          [
           "Klaber, Mr. Herman",
           "male",
           32,
           "Southampton"
          ],
          [
           "Lewy, Mr. Ervin G",
           "male",
           32,
           "Cherbourg"
          ],
          [
           "Lindeberg-Lind, Mr. Erik Gustaf (\"Mr Edward Lingrey\")",
           "male",
           42,
           "Southampton"
          ],
          [
           "Long, Mr. Milton Clyde",
           "male",
           29,
           "Southampton"
          ],
          [
           "Loring, Mr. Joseph Holland",
           "male",
           30,
           "Southampton"
          ],
          [
           "Maguire, Mr. John Edward",
           "male",
           30,
           "Southampton"
          ],
          [
           "Marvin, Mr. Daniel Warner",
           "male",
           19,
           "Southampton"
          ],
          [
           "McCaffry, Mr. Thomas Francis",
           "male",
           46,
           "Cherbourg"
          ],
          [
           "McCarthy, Mr. Timothy J",
           "male",
           54,
           "Southampton"
          ],
          [
           "Meyer, Mr. Edgar Joseph",
           "male",
           28,
           "Cherbourg"
          ],
          [
           "Millet, Mr. Francis Davis",
           "male",
           65,
           "Southampton"
          ],
          [
           "Minahan, Dr. William Edward",
           "male",
           44,
           "Queenstown"
          ],
          [
           "Molson, Mr. Harry Markland",
           "male",
           55,
           "Southampton"
          ],
          [
           "Moore, Mr. Clarence Bloomfield",
           "male",
           47,
           "Southampton"
          ],
          [
           "Natsch, Mr. Charles H",
           "male",
           37,
           "Cherbourg"
          ],
          [
           "Newell, Mr. Arthur Webster",
           "male",
           58,
           "Cherbourg"
          ],
          [
           "Nicholson, Mr. Arthur Ernest",
           "male",
           64,
           "Southampton"
          ],
          [
           "Ostby, Mr. Engelhart Cornelius",
           "male",
           65,
           "Cherbourg"
          ],
          [
           "Ovies y Rodriguez, Mr. Servando",
           "male",
           28.5,
           "Cherbourg"
          ],
          [
           "Parr, Mr. William Henry Marsh",
           "male",
           32,
           "Southampton"
          ],
          [
           "Partner, Mr. Austen",
           "male",
           45.5,
           "Southampton"
          ],
          [
           "Payne, Mr. Vivian Ponsonby",
           "male",
           23,
           "Southampton"
          ],
          [
           "Pears, Mr. Thomas Clinton",
           "male",
           29,
           "Southampton"
          ],
          [
           "Penasco y Castellana, Mr. Victor de Satode",
           "male",
           18,
           "Cherbourg"
          ],
          [
           "Porter, Mr. Walter Chamberlain",
           "male",
           47,
           "Southampton"
          ],
          [
           "Reuchlin, Jonkheer. John George",
           "male",
           38,
           "Southampton"
          ],
          [
           "Ringhini, Mr. Sante",
           "male",
           22,
           "Cherbourg"
          ],
          [
           "Robbins, Mr. Victor",
           "male",
           32,
           "Cherbourg"
          ],
          [
           "Roebling, Mr. Washington Augustus II",
           "male",
           31,
           "Southampton"
          ],
          [
           "Rood, Mr. Hugh Roscoe",
           "male",
           32,
           "Southampton"
          ],
          [
           "Rosenshine, Mr. George (\"Mr George Thorne\")",
           "male",
           46,
           "Cherbourg"
          ],
          [
           "Ross, Mr. John Hugo",
           "male",
           36,
           "Cherbourg"
          ],
          [
           "Rothschild, Mr. Martin",
           "male",
           55,
           "Cherbourg"
          ],
          [
           "Rowe, Mr. Alfred G",
           "male",
           33,
           "Southampton"
          ],
          [
           "Ryerson, Mr. Arthur Larned",
           "male",
           61,
           "Cherbourg"
          ],
          [
           "Silvey, Mr. William Baird",
           "male",
           50,
           "Southampton"
          ],
          [
           "Smart, Mr. John Montgomery",
           "male",
           56,
           "Southampton"
          ],
          [
           "Smith, Mr. James Clinch",
           "male",
           56,
           "Cherbourg"
          ],
          [
           "Smith, Mr. Lucien Philip",
           "male",
           24,
           "Southampton"
          ],
          [
           "Smith, Mr. Richard William",
           "male",
           32,
           "Southampton"
          ],
          [
           "Spencer, Mr. William Augustus",
           "male",
           57,
           "Cherbourg"
          ],
          [
           "Stead, Mr. William Thomas",
           "male",
           62,
           "Southampton"
          ],
          [
           "Stewart, Mr. Albert A",
           "male",
           32,
           "Cherbourg"
          ],
          [
           "Straus, Mr. Isidor",
           "male",
           67,
           "Southampton"
          ],
          [
           "Straus, Mrs. Isidor (Rosalie Ida Blun)",
           "female",
           63,
           "Southampton"
          ],
          [
           "Sutton, Mr. Frederick",
           "male",
           61,
           "Southampton"
          ],
          [
           "Taussig, Mr. Emil",
           "male",
           52,
           "Southampton"
          ],
          [
           "Thayer, Mr. John Borland",
           "male",
           49,
           "Cherbourg"
          ],
          [
           "Uruchurtu, Don. Manuel E",
           "male",
           40,
           "Cherbourg"
          ],
          [
           "Van der hoef, Mr. Wyckoff",
           "male",
           61,
           "Southampton"
          ],
          [
           "Walker, Mr. William Anderson",
           "male",
           47,
           "Southampton"
          ],
          [
           "Warren, Mr. Frank Manley",
           "male",
           64,
           "Cherbourg"
          ],
          [
           "Weir, Col. John",
           "male",
           60,
           "Southampton"
          ],
          [
           "White, Mr. Percival Wayland",
           "male",
           54,
           "Southampton"
          ],
          [
           "White, Mr. Richard Frasar",
           "male",
           21,
           "Southampton"
          ],
          [
           "Wick, Mr. George Dennick",
           "male",
           57,
           "Southampton"
          ],
          [
           "Widener, Mr. George Dunton",
           "male",
           50,
           "Cherbourg"
          ],
          [
           "Widener, Mr. Harry Elkins",
           "male",
           27,
           "Cherbourg"
          ],
          [
           "Williams, Mr. Charles Duane",
           "male",
           51,
           "Cherbourg"
          ],
          [
           "Williams-Lambert, Mr. Fletcher Fellows",
           "male",
           32,
           "Southampton"
          ],
          [
           "Wright, Mr. George",
           "male",
           62,
           "Southampton"
          ],
          [
           "Abelson, Mr. Samuel",
           "male",
           30,
           "Cherbourg"
          ],
          [
           "Aldworth, Mr. Charles Augustus",
           "male",
           30,
           "Southampton"
          ],
          [
           "Andrew, Mr. Edgardo Samuel",
           "male",
           18,
           "Southampton"
          ],
          [
           "Andrew, Mr. Frank Thomas",
           "male",
           25,
           "Southampton"
          ],
          [
           "Angle, Mr. William A",
           "male",
           34,
           "Southampton"
          ],
          [
           "Ashby, Mr. John",
           "male",
           57,
           "Southampton"
          ],
          [
           "Bailey, Mr. Percy Andrew",
           "male",
           18,
           "Southampton"
          ],
          [
           "Baimbrigge, Mr. Charles Robert",
           "male",
           23,
           "Southampton"
          ],
          [
           "Banfield, Mr. Frederick James",
           "male",
           28,
           "Southampton"
          ],
          [
           "Bateman, Rev. Robert James",
           "male",
           51,
           "Southampton"
          ],
          [
           "Beauchamp, Mr. Henry James",
           "male",
           28,
           "Southampton"
          ],
          [
           "Berriman, Mr. William John",
           "male",
           23,
           "Southampton"
          ],
          [
           "Botsford, Mr. William Hull",
           "male",
           26,
           "Southampton"
          ],
          [
           "Bowenur, Mr. Solomon",
           "male",
           42,
           "Southampton"
          ],
          [
           "Bracken, Mr. James H",
           "male",
           27,
           "Southampton"
          ],
          [
           "Brown, Mr. Thomas William Solomon",
           "male",
           60,
           "Southampton"
          ],
          [
           "Bryhl, Mr. Kurt Arnold Gottfrid",
           "male",
           25,
           "Southampton"
          ],
          [
           "Butler, Mr. Reginald Fenton",
           "male",
           25,
           "Southampton"
          ],
          [
           "Byles, Rev. Thomas Roussel Davids",
           "male",
           42,
           "Southampton"
          ],
          [
           "Campbell, Mr. William",
           "male",
           32,
           "Southampton"
          ],
          [
           "Carbines, Mr. William",
           "male",
           19,
           "Southampton"
          ],
          [
           "Carter, Mrs. Ernest Courtenay (Lilian Hughes)",
           "female",
           44,
           "Southampton"
          ],
          [
           "Carter, Rev. Ernest Courtenay",
           "male",
           54,
           "Southampton"
          ],
          [
           "Chapman, Mr. Charles Henry",
           "male",
           52,
           "Southampton"
          ],
          [
           "Chapman, Mr. John Henry",
           "male",
           37,
           "Southampton"
          ],
          [
           "Chapman, Mrs. John Henry (Sara Elizabeth Lawry)",
           "female",
           29,
           "Southampton"
          ],
          [
           "Clarke, Mr. Charles Valentine",
           "male",
           29,
           "Southampton"
          ],
          [
           "Coleridge, Mr. Reginald Charles",
           "male",
           29,
           "Southampton"
          ],
          [
           "Collander, Mr. Erik Gustaf",
           "male",
           28,
           "Southampton"
          ],
          [
           "Collyer, Mr. Harvey",
           "male",
           31,
           "Southampton"
          ],
          [
           "Corbett, Mrs. Walter H (Irene Colvin)",
           "female",
           30,
           "Southampton"
          ],
          [
           "Corey, Mrs. Percy C (Mary Phyllis Elizabeth Miller)",
           "female",
           36,
           "Southampton"
          ],
          [
           "Cotterill, Mr. Henry \"Harry\"",
           "male",
           21,
           "Southampton"
          ],
          [
           "Cunningham, Mr. Alfred Fleming",
           "male",
           32,
           "Southampton"
          ],
          [
           "Davies, Mr. Charles Henry",
           "male",
           18,
           "Southampton"
          ],
          [
           "de Brito, Mr. Jose Joaquim",
           "male",
           32,
           "Southampton"
          ],
          [
           "Deacon, Mr. Percy William",
           "male",
           17,
           "Southampton"
          ],
          [
           "del Carlo, Mr. Sebastiano",
           "male",
           29,
           "Cherbourg"
          ],
          [
           "Denbury, Mr. Herbert",
           "male",
           25,
           "Southampton"
          ],
          [
           "Dibden, Mr. William",
           "male",
           18,
           "Southampton"
          ],
          [
           "Downton, Mr. William James",
           "male",
           54,
           "Southampton"
          ],
          [
           "Drew, Mr. James Vivian",
           "male",
           42,
           "Southampton"
          ],
          [
           "Eitemiller, Mr. George Floyd",
           "male",
           23,
           "Southampton"
          ],
          [
           "Enander, Mr. Ingvar",
           "male",
           21,
           "Southampton"
          ],
          [
           "Fahlstrom, Mr. Arne Jonas",
           "male",
           18,
           "Southampton"
          ],
          [
           "Faunthorpe, Mr. Harry",
           "male",
           40,
           "Southampton"
          ],
          [
           "Fillbrook, Mr. Joseph Charles",
           "male",
           18,
           "Southampton"
          ],
          [
           "Fox, Mr. Stanley Hubert",
           "male",
           36,
           "Southampton"
          ],
          [
           "Frost, Mr. Anthony Wood \"Archie\"",
           "male",
           32,
           "Southampton"
          ],
          [
           "Funk, Miss. Annie Clemmer",
           "female",
           38,
           "Southampton"
          ],
          [
           "Fynney, Mr. Joseph J",
           "male",
           35,
           "Southampton"
          ],
          [
           "Gale, Mr. Harry",
           "male",
           38,
           "Southampton"
          ],
          [
           "Gale, Mr. Shadrach",
           "male",
           34,
           "Southampton"
          ],
          [
           "Gaskell, Mr. Alfred",
           "male",
           16,
           "Southampton"
          ],
          [
           "Gavey, Mr. Lawrence",
           "male",
           26,
           "Southampton"
          ],
          [
           "Gilbert, Mr. William",
           "male",
           47,
           "Southampton"
          ],
          [
           "Giles, Mr. Edgar",
           "male",
           21,
           "Southampton"
          ],
          [
           "Giles, Mr. Frederick Edward",
           "male",
           21,
           "Southampton"
          ],
          [
           "Giles, Mr. Ralph",
           "male",
           24,
           "Southampton"
          ],
          [
           "Gill, Mr. John William",
           "male",
           24,
           "Southampton"
          ],
          [
           "Gillespie, Mr. William Henry",
           "male",
           34,
           "Southampton"
          ],
          [
           "Givard, Mr. Hans Kristensen",
           "male",
           30,
           "Southampton"
          ],
          [
           "Greenberg, Mr. Samuel",
           "male",
           52,
           "Southampton"
          ],
          [
           "Hale, Mr. Reginald",
           "male",
           30,
           "Southampton"
          ],
          [
           "Harbeck, Mr. William H",
           "male",
           44,
           "Southampton"
          ],
          [
           "Harper, Rev. John",
           "male",
           28,
           "Southampton"
          ],
          [
           "Harris, Mr. Walter",
           "male",
           30,
           "Southampton"
          ],
          [
           "Hart, Mr. Benjamin",
           "male",
           43,
           "Southampton"
          ],
          [
           "Herman, Mr. Samuel",
           "male",
           49,
           "Southampton"
          ],
          [
           "Hickman, Mr. Leonard Mark",
           "male",
           24,
           "Southampton"
          ],
          [
           "Hickman, Mr. Lewis",
           "male",
           32,
           "Southampton"
          ],
          [
           "Hickman, Mr. Stanley George",
           "male",
           21,
           "Southampton"
          ],
          [
           "Hiltunen, Miss. Marta",
           "female",
           18,
           "Southampton"
          ],
          [
           "Hocking, Mr. Richard George",
           "male",
           23,
           "Southampton"
          ],
          [
           "Hocking, Mr. Samuel James Metcalfe",
           "male",
           36,
           "Southampton"
          ],
          [
           "Hodges, Mr. Henry Price",
           "male",
           50,
           "Southampton"
          ],
          [
           "Hold, Mr. Stephen",
           "male",
           44,
           "Southampton"
          ],
          [
           "Hood, Mr. Ambrose Jr",
           "male",
           21,
           "Southampton"
          ],
          [
           "Howard, Mr. Benjamin",
           "male",
           63,
           "Southampton"
          ],
          [
           "Howard, Mrs. Benjamin (Ellen Truelove Arman)",
           "female",
           60,
           "Southampton"
          ],
          [
           "Hunt, Mr. George Henry",
           "male",
           33,
           "Southampton"
          ],
          [
           "Jacobsohn, Mr. Sidney Samuel",
           "male",
           42,
           "Southampton"
          ],
          [
           "Jarvis, Mr. John Denzil",
           "male",
           47,
           "Southampton"
          ],
          [
           "Jefferys, Mr. Clifford Thomas",
           "male",
           24,
           "Southampton"
          ],
          [
           "Jefferys, Mr. Ernest Wilfred",
           "male",
           22,
           "Southampton"
          ],
          [
           "Jenkin, Mr. Stephen Curnow",
           "male",
           32,
           "Southampton"
          ],
          [
           "Kantor, Mr. Sinai",
           "male",
           34,
           "Southampton"
          ],
          [
           "Karnes, Mrs. J Frank (Claire Bennett)",
           "female",
           22,
           "Southampton"
          ],
          [
           "Keane, Mr. Daniel",
           "male",
           35,
           "Queenstown"
          ],
          [
           "Kirkland, Rev. Charles Leonard",
           "male",
           57,
           "Queenstown"
          ],
          [
           "Knight, Mr. Robert J",
           "male",
           32,
           "Southampton"
          ],
          [
           "Kvillner, Mr. Johan Henrik Johannesson",
           "male",
           31,
           "Southampton"
          ],
          [
           "Lahtinen, Mrs. William (Anna Sylfven)",
           "female",
           26,
           "Southampton"
          ],
          [
           "Lahtinen, Rev. William",
           "male",
           30,
           "Southampton"
          ],
          [
           "Lamb, Mr. John Joseph",
           "male",
           32,
           "Queenstown"
          ],
          [
           "Laroche, Mr. Joseph Philippe Lemercier",
           "male",
           25,
           "Cherbourg"
          ],
          [
           "Levy, Mr. Rene Jacques",
           "male",
           36,
           "Cherbourg"
          ],
          [
           "Leyson, Mr. Robert William Norman",
           "male",
           24,
           "Southampton"
          ],
          [
           "Lingane, Mr. John",
           "male",
           61,
           "Queenstown"
          ],
          [
           "Louch, Mr. Charles Alexander",
           "male",
           50,
           "Southampton"
          ],
          [
           "Mack, Mrs. (Mary)",
           "female",
           57,
           "Southampton"
          ],
          [
           "Malachard, Mr. Noel",
           "male",
           32,
           "Cherbourg"
          ],
          [
           "Mallet, Mr. Albert",
           "male",
           31,
           "Cherbourg"
          ],
          [
           "Mangiavacchi, Mr. Serafino Emilio",
           "male",
           32,
           "Cherbourg"
          ],
          [
           "Matthews, Mr. William John",
           "male",
           30,
           "Southampton"
          ],
          [
           "Maybery, Mr. Frank Hubert",
           "male",
           40,
           "Southampton"
          ],
          [
           "McCrae, Mr. Arthur Gordon",
           "male",
           32,
           "Southampton"
          ],
          [
           "McCrie, Mr. James Matthew",
           "male",
           30,
           "Southampton"
          ],
          [
           "McKane, Mr. Peter David",
           "male",
           46,
           "Southampton"
          ],
          [
           "Meyer, Mr. August",
           "male",
           39,
           "Southampton"
          ],
          [
           "Milling, Mr. Jacob Christian",
           "male",
           48,
           "Southampton"
          ],
          [
           "Mitchell, Mr. Henry Michael",
           "male",
           70,
           "Southampton"
          ],
          [
           "Montvila, Rev. Juozas",
           "male",
           27,
           "Southampton"
          ],
          [
           "Moraweck, Dr. Ernest",
           "male",
           54,
           "Southampton"
          ],
          [
           "Morley, Mr. Henry Samuel (\"Mr Henry Marshall\")",
           "male",
           39,
           "Southampton"
          ],
          [
           "Mudd, Mr. Thomas Charles",
           "male",
           16,
           "Southampton"
          ],
          [
           "Myles, Mr. Thomas Francis",
           "male",
           62,
           "Queenstown"
          ],
          [
           "Nasser, Mr. Nicholas",
           "male",
           32.5,
           "Cherbourg"
          ],
          [
           "Navratil, Mr. Michel (\"Louis M Hoffman\")",
           "male",
           36.5,
           "Southampton"
          ],
          [
           "Nesson, Mr. Israel",
           "male",
           26,
           "Southampton"
          ],
          [
           "Nicholls, Mr. Joseph Charles",
           "male",
           19,
           "Southampton"
          ],
          [
           "Norman, Mr. Robert Douglas",
           "male",
           28,
           "Southampton"
          ],
          [
           "Otter, Mr. Richard",
           "male",
           39,
           "Southampton"
          ],
          [
           "Pain, Dr. Alfred",
           "male",
           23,
           "Southampton"
          ],
          [
           "Parker, Mr. Clifford Richard",
           "male",
           28,
           "Southampton"
          ],
          [
           "Parkes, Mr. Francis \"Frank\"",
           "male",
           32,
           "Southampton"
          ],
          [
           "Pengelly, Mr. Frederick William",
           "male",
           19,
           "Southampton"
          ],
          [
           "Pernot, Mr. Rene",
           "male",
           32,
           "Cherbourg"
          ],
          [
           "Peruschitz, Rev. Joseph Maria",
           "male",
           41,
           "Southampton"
          ],
          [
           "Phillips, Mr. Escott Robert",
           "male",
           43,
           "Southampton"
          ],
          [
           "Ponesell, Mr. Martin",
           "male",
           34,
           "Southampton"
          ],
          [
           "Pulbaum, Mr. Franz",
           "male",
           27,
           "Cherbourg"
          ],
          [
           "Reeves, Mr. David",
           "male",
           36,
           "Southampton"
          ],
          [
           "Renouf, Mr. Peter Henry",
           "male",
           34,
           "Southampton"
          ],
          [
           "Richard, Mr. Emile",
           "male",
           23,
           "Cherbourg"
          ],
          [
           "Rogers, Mr. Reginald Harry",
           "male",
           19,
           "Southampton"
          ],
          [
           "Schmidt, Mr. August",
           "male",
           26,
           "Southampton"
          ],
          [
           "Sedgwick, Mr. Charles Frederick Waddington",
           "male",
           25,
           "Southampton"
          ],
          [
           "Sharp, Mr. Percival James R",
           "male",
           27,
           "Southampton"
          ],
          [
           "Sjostedt, Mr. Ernst Adolf",
           "male",
           59,
           "Southampton"
          ],
          [
           "Slemen, Mr. Richard James",
           "male",
           35,
           "Southampton"
          ],
          [
           "Sobey, Mr. Samuel James Hayden",
           "male",
           25,
           "Southampton"
          ],
          [
           "Stanton, Mr. Samuel Ward",
           "male",
           41,
           "Cherbourg"
          ],
          [
           "Stokes, Mr. Philip Joseph",
           "male",
           25,
           "Southampton"
          ],
          [
           "Swane, Mr. George",
           "male",
           18.5,
           "Southampton"
          ],
          [
           "Sweet, Mr. George Frederick",
           "male",
           14,
           "Southampton"
          ],
          [
           "Troupiansky, Mr. Moses Aaron",
           "male",
           23,
           "Southampton"
          ],
          [
           "Turpin, Mr. William John Robert",
           "male",
           29,
           "Southampton"
          ],
          [
           "Turpin, Mrs. William John Robert (Dorothy Ann Wonnacott)",
           "female",
           27,
           "Southampton"
          ],
          [
           "Veal, Mr. James",
           "male",
           40,
           "Southampton"
          ],
          [
           "Ware, Mr. John James",
           "male",
           30,
           "Southampton"
          ],
          [
           "Ware, Mr. William Jeffery",
           "male",
           23,
           "Southampton"
          ],
          [
           "Watson, Mr. Ennis Hastings",
           "male",
           32,
           "Southampton"
          ],
          [
           "Weisz, Mr. Leopold",
           "male",
           27,
           "Southampton"
          ],
          [
           "West, Mr. Edwy Arthur",
           "male",
           36,
           "Southampton"
          ],
          [
           "Wheadon, Mr. Edward H",
           "male",
           66,
           "Southampton"
          ],
          [
           "Wheeler, Mr. Edwin \"Frederick\"",
           "male",
           32,
           "Southampton"
          ],
          [
           "Yrois, Miss. Henriette (\"Mrs Harbeck\")",
           "female",
           24,
           "Southampton"
          ],
          [
           "Abbing, Mr. Anthony",
           "male",
           42,
           "Southampton"
          ],
          [
           "Abbott, Master. Eugene Joseph",
           "male",
           13,
           "Southampton"
          ],
          [
           "Abbott, Mr. Rossmore Edward",
           "male",
           16,
           "Southampton"
          ],
          [
           "Adahl, Mr. Mauritz Nils Martin",
           "male",
           30,
           "Southampton"
          ],
          [
           "Adams, Mr. John",
           "male",
           26,
           "Southampton"
          ],
          [
           "Ahlin, Mrs. Johan (Johanna Persdotter Larsson)",
           "female",
           40,
           "Southampton"
          ],
          [
           "Alexander, Mr. William",
           "male",
           26,
           "Southampton"
          ],
          [
           "Alhomaki, Mr. Ilmari Rudolf",
           "male",
           20,
           "Southampton"
          ],
          [
           "Ali, Mr. Ahmed",
           "male",
           24,
           "Southampton"
          ],
          [
           "Ali, Mr. William",
           "male",
           25,
           "Southampton"
          ],
          [
           "Allen, Mr. William Henry",
           "male",
           35,
           "Southampton"
          ],
          [
           "Allum, Mr. Owen George",
           "male",
           18,
           "Southampton"
          ],
          [
           "Andersen, Mr. Albert Karvin",
           "male",
           32,
           "Southampton"
          ],
          [
           "Andersson, Master. Sigvard Harald Elias",
           "male",
           4,
           "Southampton"
          ],
          [
           "Andersson, Miss. Ebba Iris Alfrida",
           "female",
           6,
           "Southampton"
          ],
          [
           "Andersson, Miss. Ellis Anna Maria",
           "female",
           2,
           "Southampton"
          ],
          [
           "Andersson, Miss. Ida Augusta Margareta",
           "female",
           38,
           "Southampton"
          ],
          [
           "Andersson, Miss. Ingeborg Constanzia",
           "female",
           9,
           "Southampton"
          ],
          [
           "Andersson, Miss. Sigrid Elisabeth",
           "female",
           11,
           "Southampton"
          ],
          [
           "Andersson, Mr. Anders Johan",
           "male",
           39,
           "Southampton"
          ],
          [
           "Andersson, Mr. Johan Samuel",
           "male",
           26,
           "Southampton"
          ],
          [
           "Andersson, Mrs. Anders Johan (Alfrida Konstantia Brogren)",
           "female",
           39,
           "Southampton"
          ],
          [
           "Andreasson, Mr. Paul Edvin",
           "male",
           20,
           "Southampton"
          ],
          [
           "Angheloff, Mr. Minko",
           "male",
           26,
           "Southampton"
          ],
          [
           "Arnold-Franchi, Mr. Josef",
           "male",
           25,
           "Southampton"
          ],
          [
           "Arnold-Franchi, Mrs. Josef (Josefine Franchi)",
           "female",
           18,
           "Southampton"
          ],
          [
           "Aronsson, Mr. Ernst Axel Algot",
           "male",
           24,
           "Southampton"
          ],
          [
           "Asim, Mr. Adola",
           "male",
           35,
           "Southampton"
          ],
          [
           "Asplund, Master. Carl Edgar",
           "male",
           5,
           "Southampton"
          ],
          [
           "Asplund, Master. Clarence Gustaf Hugo",
           "male",
           9,
           "Southampton"
          ],
          [
           "Asplund, Master. Filip Oscar",
           "male",
           13,
           "Southampton"
          ],
          [
           "Asplund, Mr. Carl Oscar Vilhelm Gustafsson",
           "male",
           40,
           "Southampton"
          ],
          [
           "Assaf, Mr. Gerios",
           "male",
           21,
           "Cherbourg"
          ],
          [
           "Assam, Mr. Ali",
           "male",
           23,
           "Southampton"
          ],
          [
           "Attalah, Miss. Malake",
           "female",
           17,
           "Cherbourg"
          ],
          [
           "Attalah, Mr. Sleiman",
           "male",
           30,
           "Cherbourg"
          ],
          [
           "Augustsson, Mr. Albert",
           "male",
           23,
           "Southampton"
          ],
          [
           "Baccos, Mr. Raffull",
           "male",
           20,
           "Cherbourg"
          ],
          [
           "Backstrom, Mr. Karl Alfred",
           "male",
           32,
           "Southampton"
          ],
          [
           "Badt, Mr. Mohamed",
           "male",
           40,
           "Cherbourg"
          ],
          [
           "Balkic, Mr. Cerin",
           "male",
           26,
           "Southampton"
          ],
          [
           "Barbara, Miss. Saiide",
           "female",
           18,
           "Cherbourg"
          ],
          [
           "Barbara, Mrs. (Catherine David)",
           "female",
           45,
           "Cherbourg"
          ],
          [
           "Barry, Miss. Julia",
           "female",
           27,
           "Queenstown"
          ],
          [
           "Barton, Mr. David John",
           "male",
           22,
           "Southampton"
          ],
          [
           "Beavan, Mr. William Thomas",
           "male",
           19,
           "Southampton"
          ],
          [
           "Bengtsson, Mr. John Viktor",
           "male",
           26,
           "Southampton"
          ],
          [
           "Berglund, Mr. Karl Ivar Sven",
           "male",
           22,
           "Southampton"
          ],
          [
           "Betros, Master. Seman",
           "male",
           5,
           "Cherbourg"
          ],
          [
           "Betros, Mr. Tannous",
           "male",
           20,
           "Cherbourg"
          ],
          [
           "Birkeland, Mr. Hans Martin Monsen",
           "male",
           21,
           "Southampton"
          ],
          [
           "Bjorklund, Mr. Ernst Herbert",
           "male",
           18,
           "Southampton"
          ],
          [
           "Bostandyeff, Mr. Guentcho",
           "male",
           26,
           "Southampton"
          ],
          [
           "Boulos, Master. Akar",
           "male",
           6,
           "Cherbourg"
          ],
          [
           "Boulos, Miss. Nourelain",
           "female",
           9,
           "Cherbourg"
          ],
          [
           "Boulos, Mr. Hanna",
           "male",
           32,
           "Cherbourg"
          ],
          [
           "Boulos, Mrs. Joseph (Sultana)",
           "female",
           36,
           "Cherbourg"
          ],
          [
           "Bourke, Miss. Mary",
           "female",
           21,
           "Queenstown"
          ],
          [
           "Bourke, Mr. John",
           "male",
           40,
           "Queenstown"
          ],
          [
           "Bourke, Mrs. John (Catherine)",
           "female",
           32,
           "Queenstown"
          ],
          [
           "Bowen, Mr. David John \"Dai\"",
           "male",
           21,
           "Southampton"
          ],
          [
           "Braf, Miss. Elin Ester Maria",
           "female",
           20,
           "Southampton"
          ],
          [
           "Braund, Mr. Lewis Richard",
           "male",
           29,
           "Southampton"
          ],
          [
           "Braund, Mr. Owen Harris",
           "male",
           22,
           "Southampton"
          ],
          [
           "Brobeck, Mr. Karl Rudolf",
           "male",
           22,
           "Southampton"
          ],
          [
           "Brocklebank, Mr. William Alfred",
           "male",
           35,
           "Southampton"
          ],
          [
           "Buckley, Miss. Katherine",
           "female",
           18.5,
           "Queenstown"
          ],
          [
           "Burke, Mr. Jeremiah",
           "male",
           19,
           "Queenstown"
          ],
          [
           "Burns, Miss. Mary Delia",
           "female",
           18,
           "Queenstown"
          ],
          [
           "Cacic, Miss. Manda",
           "female",
           21,
           "Southampton"
          ],
          [
           "Cacic, Miss. Marija",
           "female",
           30,
           "Southampton"
          ],
          [
           "Cacic, Mr. Jego Grga",
           "male",
           18,
           "Southampton"
          ],
          [
           "Cacic, Mr. Luka",
           "male",
           38,
           "Southampton"
          ],
          [
           "Calic, Mr. Jovo",
           "male",
           17,
           "Southampton"
          ],
          [
           "Calic, Mr. Petar",
           "male",
           17,
           "Southampton"
          ],
          [
           "Canavan, Miss. Mary",
           "female",
           21,
           "Queenstown"
          ],
          [
           "Canavan, Mr. Patrick",
           "male",
           21,
           "Queenstown"
          ],
          [
           "Cann, Mr. Ernest Charles",
           "male",
           21,
           "Southampton"
          ],
          [
           "Caram, Mr. Joseph",
           "male",
           32,
           "Cherbourg"
          ],
          [
           "Caram, Mrs. Joseph (Maria Elias)",
           "female",
           36,
           "Cherbourg"
          ],
          [
           "Carlsson, Mr. August Sigfrid",
           "male",
           28,
           "Southampton"
          ],
          [
           "Carlsson, Mr. Carl Robert",
           "male",
           24,
           "Southampton"
          ],
          [
           "Carr, Miss. Jeannie",
           "female",
           37,
           "Queenstown"
          ],
          [
           "Carver, Mr. Alfred John",
           "male",
           28,
           "Southampton"
          ],
          [
           "Celotti, Mr. Francesco",
           "male",
           24,
           "Southampton"
          ],
          [
           "Charters, Mr. David",
           "male",
           21,
           "Queenstown"
          ],
          [
           "Christmann, Mr. Emil",
           "male",
           29,
           "Southampton"
          ],
          [
           "Chronopoulos, Mr. Apostolos",
           "male",
           26,
           "Cherbourg"
          ],
          [
           "Chronopoulos, Mr. Demetrios",
           "male",
           18,
           "Cherbourg"
          ],
          [
           "Coelho, Mr. Domingos Fernandeo",
           "male",
           20,
           "Southampton"
          ],
          [
           "Colbert, Mr. Patrick",
           "male",
           24,
           "Queenstown"
          ],
          [
           "Coleff, Mr. Peju",
           "male",
           36,
           "Southampton"
          ],
          [
           "Coleff, Mr. Satio",
           "male",
           24,
           "Southampton"
          ],
          [
           "Conlon, Mr. Thomas Henry",
           "male",
           31,
           "Queenstown"
          ],
          [
           "Connaghton, Mr. Michael",
           "male",
           31,
           "Queenstown"
          ],
          [
           "Connolly, Miss. Kate",
           "female",
           30,
           "Queenstown"
          ],
          [
           "Connors, Mr. Patrick",
           "male",
           70.5,
           "Queenstown"
          ],
          [
           "Cook, Mr. Jacob",
           "male",
           43,
           "Southampton"
          ],
          [
           "Cor, Mr. Bartol",
           "male",
           35,
           "Southampton"
          ],
          [
           "Cor, Mr. Ivan",
           "male",
           27,
           "Southampton"
          ],
          [
           "Cor, Mr. Liudevit",
           "male",
           19,
           "Southampton"
          ],
          [
           "Corn, Mr. Harry",
           "male",
           30,
           "Southampton"
          ],
          [
           "Coxon, Mr. Daniel",
           "male",
           59,
           "Southampton"
          ],
          [
           "Crease, Mr. Ernest James",
           "male",
           19,
           "Southampton"
          ],
          [
           "Cribb, Mr. John Hatfield",
           "male",
           44,
           "Southampton"
          ],
          [
           "Culumovic, Mr. Jeso",
           "male",
           17,
           "Southampton"
          ],
          [
           "Daher, Mr. Shedid",
           "male",
           22.5,
           "Cherbourg"
          ],
          [
           "Dahlberg, Miss. Gerda Ulrika",
           "female",
           22,
           "Southampton"
          ],
          [
           "Dakic, Mr. Branko",
           "male",
           19,
           "Southampton"
          ],
          [
           "Danbom, Master. Gilbert Sigvard Emanuel",
           "male",
           0.3333,
           "Southampton"
          ],
          [
           "Danbom, Mr. Ernst Gilbert",
           "male",
           34,
           "Southampton"
          ],
          [
           "Danbom, Mrs. Ernst Gilbert (Anna Sigrid Maria Brogren)",
           "female",
           28,
           "Southampton"
          ],
          [
           "Danoff, Mr. Yoto",
           "male",
           27,
           "Southampton"
          ],
          [
           "Dantcheff, Mr. Ristiu",
           "male",
           25,
           "Southampton"
          ],
          [
           "Davies, Mr. Alfred J",
           "male",
           24,
           "Southampton"
          ],
          [
           "Davies, Mr. Evan",
           "male",
           22,
           "Southampton"
          ],
          [
           "Davies, Mr. John Samuel",
           "male",
           21,
           "Southampton"
          ],
          [
           "Davies, Mr. Joseph",
           "male",
           17,
           "Southampton"
          ],
          [
           "Davison, Mr. Thomas Henry",
           "male",
           32,
           "Southampton"
          ],
          [
           "de Pelsmaeker, Mr. Alfons",
           "male",
           16,
           "Southampton"
          ],
          [
           "Dean, Mr. Bertram Frank",
           "male",
           26,
           "Southampton"
          ],
          [
           "Delalic, Mr. Redjo",
           "male",
           25,
           "Southampton"
          ],
          [
           "Demetri, Mr. Marinko",
           "male",
           32,
           "Southampton"
          ],
          [
           "Denkoff, Mr. Mitto",
           "male",
           32,
           "Southampton"
          ],
          [
           "Dennis, Mr. Samuel",
           "male",
           22,
           "Southampton"
          ],
          [
           "Dennis, Mr. William",
           "male",
           36,
           "Southampton"
          ],
          [
           "Dika, Mr. Mirko",
           "male",
           17,
           "Southampton"
          ],
          [
           "Dimic, Mr. Jovan",
           "male",
           42,
           "Southampton"
          ],
          [
           "Dintcheff, Mr. Valtcho",
           "male",
           43,
           "Southampton"
          ],
          [
           "Doharr, Mr. Tannous",
           "male",
           32,
           "Cherbourg"
          ],
          [
           "Dooley, Mr. Patrick",
           "male",
           32,
           "Queenstown"
          ],
          [
           "Doyle, Miss. Elizabeth",
           "female",
           24,
           "Queenstown"
          ],
          [
           "Drazenoic, Mr. Jozef",
           "male",
           33,
           "Cherbourg"
          ],
          [
           "Duane, Mr. Frank",
           "male",
           65,
           "Queenstown"
          ],
          [
           "Dyker, Mr. Adolf Fredrik",
           "male",
           23,
           "Southampton"
          ],
          [
           "Edvardsson, Mr. Gustaf Hjalmar",
           "male",
           18,
           "Southampton"
          ],
          [
           "Eklund, Mr. Hans Linus",
           "male",
           16,
           "Southampton"
          ],
          [
           "Ekstrom, Mr. Johan",
           "male",
           45,
           "Southampton"
          ],
          [
           "Elias, Mr. Dibo",
           "male",
           32,
           "Cherbourg"
          ],
          [
           "Elias, Mr. Joseph",
           "male",
           39,
           "Cherbourg"
          ],
          [
           "Elias, Mr. Joseph Jr",
           "male",
           17,
           "Cherbourg"
          ],
          [
           "Elias, Mr. Tannous",
           "male",
           15,
           "Cherbourg"
          ],
          [
           "Elsbury, Mr. William James",
           "male",
           47,
           "Southampton"
          ],
          [
           "Emir, Mr. Farred Chehab",
           "male",
           32,
           "Cherbourg"
          ],
          [
           "Everett, Mr. Thomas James",
           "male",
           40.5,
           "Southampton"
          ],
          [
           "Farrell, Mr. James",
           "male",
           40.5,
           "Queenstown"
          ],
          [
           "Fischer, Mr. Eberhard Thelander",
           "male",
           18,
           "Southampton"
          ],
          [
           "Fleming, Miss. Honora",
           "female",
           21,
           "Queenstown"
          ],
          [
           "Flynn, Mr. James",
           "male",
           32,
           "Queenstown"
          ],
          [
           "Flynn, Mr. John",
           "male",
           32,
           "Queenstown"
          ],
          [
           "Foley, Mr. Joseph",
           "male",
           26,
           "Queenstown"
          ],
          [
           "Foley, Mr. William",
           "male",
           32,
           "Queenstown"
          ],
          [
           "Ford, Miss. Doolina Margaret \"Daisy\"",
           "female",
           21,
           "Southampton"
          ],
          [
           "Ford, Miss. Robina Maggie \"Ruby\"",
           "female",
           9,
           "Southampton"
          ],
          [
           "Ford, Mr. Arthur",
           "male",
           32,
           "Southampton"
          ],
          [
           "Ford, Mr. Edward Watson",
           "male",
           18,
           "Southampton"
          ],
          [
           "Ford, Mr. William Neal",
           "male",
           16,
           "Southampton"
          ],
          [
           "Ford, Mrs. Edward (Margaret Ann Watson)",
           "female",
           48,
           "Southampton"
          ],
          [
           "Fox, Mr. Patrick",
           "male",
           32,
           "Queenstown"
          ],
          [
           "Franklin, Mr. Charles (Charles Fardon)",
           "male",
           32,
           "Southampton"
          ],
          [
           "Gallagher, Mr. Martin",
           "male",
           25,
           "Queenstown"
          ],
          [
           "Garfirth, Mr. John",
           "male",
           32,
           "Southampton"
          ],
          [
           "Gheorgheff, Mr. Stanio",
           "male",
           32,
           "Cherbourg"
          ],
          [
           "Gilinski, Mr. Eliezer",
           "male",
           22,
           "Southampton"
          ],
          [
           "Goldsmith, Mr. Frank John",
           "male",
           33,
           "Southampton"
          ],
          [
           "Goldsmith, Mr. Nathan",
           "male",
           41,
           "Southampton"
          ],
          [
           "Goncalves, Mr. Manuel Estanslas",
           "male",
           38,
           "Southampton"
          ],
          [
           "Goodwin, Master. Harold Victor",
           "male",
           9,
           "Southampton"
          ],
          [
           "Goodwin, Master. Sidney Leonard",
           "male",
           1,
           "Southampton"
          ],
          [
           "Goodwin, Master. William Frederick",
           "male",
           11,
           "Southampton"
          ],
          [
           "Goodwin, Miss. Jessie Allis",
           "female",
           10,
           "Southampton"
          ],
          [
           "Goodwin, Miss. Lillian Amy",
           "female",
           16,
           "Southampton"
          ],
          [
           "Goodwin, Mr. Charles Edward",
           "male",
           14,
           "Southampton"
          ],
          [
           "Goodwin, Mr. Charles Frederick",
           "male",
           40,
           "Southampton"
          ],
          [
           "Goodwin, Mrs. Frederick (Augusta Tyler)",
           "female",
           43,
           "Southampton"
          ],
          [
           "Green, Mr. George Henry",
           "male",
           51,
           "Southampton"
          ],
          [
           "Gronnestad, Mr. Daniel Danielsen",
           "male",
           32,
           "Southampton"
          ],
          [
           "Guest, Mr. Robert",
           "male",
           32,
           "Southampton"
          ],
          [
           "Gustafsson, Mr. Alfred Ossian",
           "male",
           20,
           "Southampton"
          ],
          [
           "Gustafsson, Mr. Anders Vilhelm",
           "male",
           37,
           "Southampton"
          ],
          [
           "Gustafsson, Mr. Johan Birger",
           "male",
           28,
           "Southampton"
          ],
          [
           "Gustafsson, Mr. Karl Gideon",
           "male",
           19,
           "Southampton"
          ],
          [
           "Haas, Miss. Aloisia",
           "female",
           24,
           "Southampton"
          ],
          [
           "Hagardon, Miss. Kate",
           "female",
           17,
           "Queenstown"
          ],
          [
           "Hagland, Mr. Ingvald Olai Olsen",
           "male",
           32,
           "Southampton"
          ],
          [
           "Hagland, Mr. Konrad Mathias Reiersen",
           "male",
           32,
           "Southampton"
          ],
          [
           "Hakkarainen, Mr. Pekka Pietari",
           "male",
           28,
           "Southampton"
          ],
          [
           "Hampe, Mr. Leon",
           "male",
           20,
           "Southampton"
          ],
          [
           "Hanna, Mr. Mansour",
           "male",
           23.5,
           "Cherbourg"
          ],
          [
           "Hansen, Mr. Claus Peter",
           "male",
           41,
           "Southampton"
          ],
          [
           "Hansen, Mr. Henrik Juul",
           "male",
           26,
           "Southampton"
          ],
          [
           "Hansen, Mr. Henry Damsgaard",
           "male",
           21,
           "Southampton"
          ],
          [
           "Harknett, Miss. Alice Phoebe",
           "female",
           21,
           "Southampton"
          ],
          [
           "Harmer, Mr. Abraham (David Lishin)",
           "male",
           25,
           "Southampton"
          ],
          [
           "Hart, Mr. Henry",
           "male",
           32,
           "Queenstown"
          ],
          [
           "Hassan, Mr. Houssein G N",
           "male",
           11,
           "Cherbourg"
          ],
          [
           "Hegarty, Miss. Hanora \"Nora\"",
           "female",
           18,
           "Queenstown"
          ],
          [
           "Heininen, Miss. Wendla Maria",
           "female",
           23,
           "Southampton"
          ],
          [
           "Hendekovic, Mr. Ignjac",
           "male",
           28,
           "Southampton"
          ],
          [
           "Henriksson, Miss. Jenny Lovisa",
           "female",
           28,
           "Southampton"
          ],
          [
           "Henry, Miss. Delia",
           "female",
           21,
           "Queenstown"
          ],
          [
           "Holm, Mr. John Fredrik Alexander",
           "male",
           43,
           "Southampton"
          ],
          [
           "Holthen, Mr. Johan Martin",
           "male",
           28,
           "Southampton"
          ],
          [
           "Horgan, Mr. John",
           "male",
           32,
           "Queenstown"
          ],
          [
           "Humblen, Mr. Adolf Mathias Nicolai Olsen",
           "male",
           42,
           "Southampton"
          ],
          [
           "Ibrahim Shawah, Mr. Yousseff",
           "male",
           30,
           "Cherbourg"
          ],
          [
           "Ilieff, Mr. Ylio",
           "male",
           32,
           "Southampton"
          ],
          [
           "Ilmakangas, Miss. Ida Livija",
           "female",
           27,
           "Southampton"
          ],
          [
           "Ilmakangas, Miss. Pieta Sofia",
           "female",
           25,
           "Southampton"
          ],
          [
           "Ivanoff, Mr. Kanio",
           "male",
           32,
           "Southampton"
          ],
          [
           "Jardin, Mr. Jose Neto",
           "male",
           32,
           "Southampton"
          ],
          [
           "Jensen, Mr. Hans Peder",
           "male",
           20,
           "Southampton"
          ],
          [
           "Jensen, Mr. Niels Peder",
           "male",
           48,
           "Southampton"
          ],
          [
           "Jensen, Mr. Svend Lauritz",
           "male",
           17,
           "Southampton"
          ],
          [
           "Johanson, Mr. Jakob Alfred",
           "male",
           34,
           "Southampton"
          ],
          [
           "Johansson, Mr. Erik",
           "male",
           22,
           "Southampton"
          ],
          [
           "Johansson, Mr. Gustaf Joel",
           "male",
           33,
           "Southampton"
          ],
          [
           "Johansson, Mr. Karl Johan",
           "male",
           31,
           "Southampton"
          ],
          [
           "Johansson, Mr. Nils",
           "male",
           29,
           "Southampton"
          ],
          [
           "Johnson, Mr. Alfred",
           "male",
           49,
           "Southampton"
          ],
          [
           "Johnson, Mr. Malkolm Joackim",
           "male",
           33,
           "Southampton"
          ],
          [
           "Johnson, Mr. William Cahoone Jr",
           "male",
           19,
           "Southampton"
          ],
          [
           "Johnston, Master. William Arthur \"Willie\"",
           "male",
           5,
           "Southampton"
          ],
          [
           "Johnston, Miss. Catherine Helen \"Carrie\"",
           "female",
           21,
           "Southampton"
          ],
          [
           "Johnston, Mr. Andrew G",
           "male",
           32,
           "Southampton"
          ],
          [
           "Johnston, Mrs. Andrew G (Elizabeth \"Lily\" Watson)",
           "female",
           36,
           "Southampton"
          ],
          [
           "Jonkoff, Mr. Lalio",
           "male",
           23,
           "Southampton"
          ],
          [
           "Jonsson, Mr. Nils Hilding",
           "male",
           27,
           "Southampton"
          ],
          [
           "Jussila, Miss. Katriina",
           "female",
           20,
           "Southampton"
          ],
          [
           "Jussila, Miss. Mari Aina",
           "female",
           21,
           "Southampton"
          ],
          [
           "Kallio, Mr. Nikolai Erland",
           "male",
           17,
           "Southampton"
          ],
          [
           "Kalvik, Mr. Johannes Halvorsen",
           "male",
           21,
           "Southampton"
          ],
          [
           "Karaic, Mr. Milan",
           "male",
           30,
           "Southampton"
          ],
          [
           "Karlsson, Mr. Julius Konrad Eugen",
           "male",
           33,
           "Southampton"
          ],
          [
           "Karlsson, Mr. Nils August",
           "male",
           22,
           "Southampton"
          ],
          [
           "Kassem, Mr. Fared",
           "male",
           32,
           "Cherbourg"
          ],
          [
           "Katavelas, Mr. Vassilios (\"Catavelas Vassilios\")",
           "male",
           18.5,
           "Cherbourg"
          ],
          [
           "Keane, Mr. Andrew \"Andy\"",
           "male",
           32,
           "Queenstown"
          ],
          [
           "Keefe, Mr. Arthur",
           "male",
           32,
           "Southampton"
          ],
          [
           "Kelly, Mr. James",
           "male",
           34.5,
           "Queenstown"
          ],
          [
           "Kelly, Mr. James",
           "male",
           44,
           "Southampton"
          ],
          [
           "Khalil, Mr. Betros",
           "male",
           32,
           "Cherbourg"
          ],
          [
           "Khalil, Mrs. Betros (Zahie \"Maria\" Elias)",
           "female",
           36,
           "Cherbourg"
          ],
          [
           "Kiernan, Mr. John",
           "male",
           32,
           "Queenstown"
          ],
          [
           "Kiernan, Mr. Philip",
           "male",
           32,
           "Queenstown"
          ],
          [
           "Kilgannon, Mr. Thomas J",
           "male",
           32,
           "Queenstown"
          ],
          [
           "Kink, Miss. Maria",
           "female",
           22,
           "Southampton"
          ],
          [
           "Kink, Mr. Vincenz",
           "male",
           26,
           "Southampton"
          ],
          [
           "Klasen, Miss. Gertrud Emilia",
           "female",
           1,
           "Southampton"
          ],
          [
           "Klasen, Mr. Klas Albin",
           "male",
           18,
           "Southampton"
          ],
          [
           "Klasen, Mrs. (Hulda Kristina Eugenia Lofqvist)",
           "female",
           36,
           "Southampton"
          ],
          [
           "Kraeff, Mr. Theodor",
           "male",
           32,
           "Cherbourg"
          ],
          [
           "Lahoud, Mr. Sarkis",
           "male",
           32,
           "Cherbourg"
          ],
          [
           "Laitinen, Miss. Kristina Sofia",
           "female",
           37,
           "Southampton"
          ],
          [
           "Laleff, Mr. Kristo",
           "male",
           32,
           "Southampton"
          ],
          [
           "Lam, Mr. Len",
           "male",
           32,
           "Southampton"
          ],
          [
           "Lane, Mr. Patrick",
           "male",
           32,
           "Queenstown"
          ],
          [
           "Larsson, Mr. August Viktor",
           "male",
           29,
           "Southampton"
          ],
          [
           "Larsson, Mr. Bengt Edvin",
           "male",
           29,
           "Southampton"
          ],
          [
           "Larsson-Rondberg, Mr. Edvard A",
           "male",
           22,
           "Southampton"
          ],
          [
           "Lefebre, Master. Henry Forbes",
           "male",
           5,
           "Southampton"
          ],
          [
           "Lefebre, Miss. Ida",
           "female",
           21,
           "Southampton"
          ],
          [
           "Lefebre, Miss. Jeannie",
           "female",
           21,
           "Southampton"
          ],
          [
           "Lefebre, Miss. Mathilde",
           "female",
           21,
           "Southampton"
          ],
          [
           "Lefebre, Mrs. Frank (Frances)",
           "female",
           36,
           "Southampton"
          ],
          [
           "Leinonen, Mr. Antti Gustaf",
           "male",
           32,
           "Southampton"
          ],
          [
           "Lemberopolous, Mr. Peter L",
           "male",
           34.5,
           "Cherbourg"
          ],
          [
           "Lennon, Miss. Mary",
           "female",
           21,
           "Queenstown"
          ],
          [
           "Lennon, Mr. Denis",
           "male",
           32,
           "Queenstown"
          ],
          [
           "Leonard, Mr. Lionel",
           "male",
           36,
           "Southampton"
          ],
          [
           "Lester, Mr. James",
           "male",
           39,
           "Southampton"
          ],
          [
           "Lievens, Mr. Rene Aime",
           "male",
           24,
           "Southampton"
          ],
          [
           "Lindahl, Miss. Agda Thorilda Viktoria",
           "female",
           25,
           "Southampton"
          ],
          [
           "Lindblom, Miss. Augusta Charlotta",
           "female",
           45,
           "Southampton"
          ],
          [
           "Lindell, Mr. Edvard Bengtsson",
           "male",
           36,
           "Southampton"
          ],
          [
           "Lindell, Mrs. Edvard Bengtsson (Elin Gerda Persson)",
           "female",
           30,
           "Southampton"
          ],
          [
           "Linehan, Mr. Michael",
           "male",
           32,
           "Queenstown"
          ],
          [
           "Ling, Mr. Lee",
           "male",
           28,
           "Southampton"
          ],
          [
           "Lithman, Mr. Simon",
           "male",
           32,
           "Southampton"
          ],
          [
           "Lobb, Mr. William Arthur",
           "male",
           30,
           "Southampton"
          ],
          [
           "Lobb, Mrs. William Arthur (Cordelia K Stanlick)",
           "female",
           26,
           "Southampton"
          ],
          [
           "Lockyer, Mr. Edward",
           "male",
           32,
           "Southampton"
          ],
          [
           "Lovell, Mr. John Hall (\"Henry\")",
           "male",
           20.5,
           "Southampton"
          ],
          [
           "Lundahl, Mr. Johan Svensson",
           "male",
           51,
           "Southampton"
          ],
          [
           "Lyntakoff, Mr. Stanko",
           "male",
           32,
           "Southampton"
          ],
          [
           "MacKay, Mr. George William",
           "male",
           32,
           "Southampton"
          ],
          [
           "Maenpaa, Mr. Matti Alexanteri",
           "male",
           22,
           "Southampton"
          ],
          [
           "Mahon, Miss. Bridget Delia",
           "female",
           21,
           "Queenstown"
          ],
          [
           "Mahon, Mr. John",
           "male",
           32,
           "Queenstown"
          ],
          [
           "Maisner, Mr. Simon",
           "male",
           32,
           "Southampton"
          ],
          [
           "Makinen, Mr. Kalle Edvard",
           "male",
           29,
           "Southampton"
          ],
          [
           "Mangan, Miss. Mary",
           "female",
           30.5,
           "Queenstown"
          ],
          [
           "Mardirosian, Mr. Sarkis",
           "male",
           32,
           "Cherbourg"
          ],
          [
           "Markoff, Mr. Marin",
           "male",
           35,
           "Cherbourg"
          ],
          [
           "Markun, Mr. Johann",
           "male",
           33,
           "Southampton"
          ],
          [
           "Matinoff, Mr. Nicola",
           "male",
           32,
           "Cherbourg"
          ],
          [
           "McEvoy, Mr. Michael",
           "male",
           32,
           "Queenstown"
          ],
          [
           "McGowan, Miss. Katherine",
           "female",
           35,
           "Queenstown"
          ],
          [
           "McMahon, Mr. Martin",
           "male",
           32,
           "Queenstown"
          ],
          [
           "McNamee, Mr. Neal",
           "male",
           24,
           "Southampton"
          ],
          [
           "McNamee, Mrs. Neal (Eileen O'Leary)",
           "female",
           19,
           "Southampton"
          ],
          [
           "McNeill, Miss. Bridget",
           "female",
           21,
           "Queenstown"
          ],
          [
           "Meanwell, Miss. (Marion Ogden)",
           "female",
           21,
           "Southampton"
          ],
          [
           "Meek, Mrs. Thomas (Annie Louise Rowley)",
           "female",
           36,
           "Southampton"
          ],
          [
           "Meo, Mr. Alfonzo",
           "male",
           55.5,
           "Southampton"
          ],
          [
           "Mernagh, Mr. Robert",
           "male",
           32,
           "Queenstown"
          ],
          [
           "Miles, Mr. Frank",
           "male",
           32,
           "Southampton"
          ],
          [
           "Mineff, Mr. Ivan",
           "male",
           24,
           "Southampton"
          ],
          [
           "Minkoff, Mr. Lazar",
           "male",
           21,
           "Southampton"
          ],
          [
           "Mionoff, Mr. Stoytcho",
           "male",
           28,
           "Southampton"
          ],
          [
           "Mitkoff, Mr. Mito",
           "male",
           32,
           "Southampton"
          ],
          [
           "Moen, Mr. Sigurd Hansen",
           "male",
           25,
           "Southampton"
          ],
          [
           "Moore, Mr. Leonard Charles",
           "male",
           32,
           "Southampton"
          ],
          [
           "Moran, Mr. Daniel J",
           "male",
           32,
           "Queenstown"
          ],
          [
           "Moran, Mr. James",
           "male",
           32,
           "Queenstown"
          ],
          [
           "Morley, Mr. William",
           "male",
           34,
           "Southampton"
          ],
          [
           "Morrow, Mr. Thomas Rowan",
           "male",
           32,
           "Queenstown"
          ],
          [
           "Moutal, Mr. Rahamin Haim",
           "male",
           32,
           "Southampton"
          ],
          [
           "Murdlin, Mr. Joseph",
           "male",
           32,
           "Southampton"
          ],
          [
           "Myhrman, Mr. Pehr Fabian Oliver Malkolm",
           "male",
           18,
           "Southampton"
          ],
          [
           "Naidenoff, Mr. Penko",
           "male",
           22,
           "Southampton"
          ],
          [
           "Nancarrow, Mr. William Henry",
           "male",
           33,
           "Southampton"
          ],
          [
           "Nankoff, Mr. Minko",
           "male",
           32,
           "Southampton"
          ],
          [
           "Nasr, Mr. Mustafa",
           "male",
           32,
           "Cherbourg"
          ],
          [
           "Naughton, Miss. Hannah",
           "female",
           21,
           "Queenstown"
          ],
          [
           "Nenkoff, Mr. Christo",
           "male",
           32,
           "Southampton"
          ],
          [
           "Nieminen, Miss. Manta Josefina",
           "female",
           29,
           "Southampton"
          ],
          [
           "Niklasson, Mr. Samuel",
           "male",
           28,
           "Southampton"
          ],
          [
           "Nilsson, Mr. August Ferdinand",
           "male",
           21,
           "Southampton"
          ],
          [
           "Nirva, Mr. Iisakki Antino Aijo",
           "male",
           41,
           "Southampton"
          ],
          [
           "Nosworthy, Mr. Richard Cater",
           "male",
           21,
           "Southampton"
          ],
          [
           "Novel, Mr. Mansouer",
           "male",
           28.5,
           "Cherbourg"
          ],
          [
           "Nysveen, Mr. Johan Hansen",
           "male",
           61,
           "Southampton"
          ],
          [
           "O'Brien, Mr. Thomas",
           "male",
           32,
           "Queenstown"
          ],
          [
           "O'Brien, Mr. Timothy",
           "male",
           32,
           "Queenstown"
          ],
          [
           "O'Connell, Mr. Patrick D",
           "male",
           32,
           "Queenstown"
          ],
          [
           "O'Connor, Mr. Maurice",
           "male",
           32,
           "Queenstown"
          ],
          [
           "O'Connor, Mr. Patrick",
           "male",
           32,
           "Queenstown"
          ],
          [
           "Odahl, Mr. Nils Martin",
           "male",
           23,
           "Southampton"
          ],
          [
           "O'Donoghue, Ms. Bridget",
           "female",
           43,
           "Queenstown"
          ],
          [
           "Olsen, Mr. Henry Margido",
           "male",
           28,
           "Southampton"
          ],
          [
           "Olsen, Mr. Karl Siegwart Andreas",
           "male",
           42,
           "Southampton"
          ],
          [
           "Olsen, Mr. Ole Martin",
           "male",
           32,
           "Southampton"
          ],
          [
           "Olsson, Miss. Elina",
           "female",
           31,
           "Southampton"
          ],
          [
           "Olsson, Mr. Nils Johan Goransson",
           "male",
           28,
           "Southampton"
          ],
          [
           "Olsvigen, Mr. Thor Anderson",
           "male",
           20,
           "Southampton"
          ],
          [
           "Oreskovic, Miss. Jelka",
           "female",
           23,
           "Southampton"
          ],
          [
           "Oreskovic, Miss. Marija",
           "female",
           20,
           "Southampton"
          ],
          [
           "Oreskovic, Mr. Luka",
           "male",
           20,
           "Southampton"
          ],
          [
           "Osen, Mr. Olaf Elon",
           "male",
           16,
           "Southampton"
          ],
          [
           "O'Sullivan, Miss. Bridget Mary",
           "female",
           21,
           "Queenstown"
          ],
          [
           "Palsson, Master. Gosta Leonard",
           "male",
           2,
           "Southampton"
          ],
          [
           "Palsson, Master. Paul Folke",
           "male",
           6,
           "Southampton"
          ],
          [
           "Palsson, Miss. Stina Viola",
           "female",
           3,
           "Southampton"
          ],
          [
           "Palsson, Miss. Torborg Danira",
           "female",
           8,
           "Southampton"
          ],
          [
           "Palsson, Mrs. Nils (Alma Cornelia Berglund)",
           "female",
           29,
           "Southampton"
          ],
          [
           "Panula, Master. Eino Viljami",
           "male",
           1,
           "Southampton"
          ],
          [
           "Panula, Master. Juha Niilo",
           "male",
           7,
           "Southampton"
          ],
          [
           "Panula, Master. Urho Abraham",
           "male",
           2,
           "Southampton"
          ],
          [
           "Panula, Mr. Ernesti Arvid",
           "male",
           16,
           "Southampton"
          ],
          [
           "Panula, Mr. Jaako Arnold",
           "male",
           14,
           "Southampton"
          ],
          [
           "Panula, Mrs. Juha (Maria Emilia Ojala)",
           "female",
           41,
           "Southampton"
          ],
          [
           "Pasic, Mr. Jakob",
           "male",
           21,
           "Southampton"
          ],
          [
           "Patchett, Mr. George",
           "male",
           19,
           "Southampton"
          ],
          [
           "Paulner, Mr. Uscher",
           "male",
           32,
           "Cherbourg"
          ],
          [
           "Pavlovic, Mr. Stefo",
           "male",
           32,
           "Southampton"
          ],
          [
           "Peacock, Master. Alfred Edward",
           "male",
           0.75,
           "Southampton"
          ],
          [
           "Peacock, Miss. Treasteall",
           "female",
           3,
           "Southampton"
          ],
          [
           "Peacock, Mrs. Benjamin (Edith Nile)",
           "female",
           26,
           "Southampton"
          ],
          [
           "Pearce, Mr. Ernest",
           "male",
           32,
           "Southampton"
          ],
          [
           "Pedersen, Mr. Olaf",
           "male",
           32,
           "Southampton"
          ],
          [
           "Peduzzi, Mr. Joseph",
           "male",
           32,
           "Southampton"
          ],
          [
           "Pekoniemi, Mr. Edvard",
           "male",
           21,
           "Southampton"
          ],
          [
           "Peltomaki, Mr. Nikolai Johannes",
           "male",
           25,
           "Southampton"
          ],
          [
           "Perkin, Mr. John Henry",
           "male",
           22,
           "Southampton"
          ],
          [
           "Peters, Miss. Katie",
           "female",
           21,
           "Queenstown"
          ],
          [
           "Petersen, Mr. Marius",
           "male",
           24,
           "Southampton"
          ],
          [
           "Petranec, Miss. Matilda",
           "female",
           28,
           "Southampton"
          ],
          [
           "Petroff, Mr. Nedelio",
           "male",
           19,
           "Southampton"
          ],
          [
           "Petroff, Mr. Pastcho (\"Pentcho\")",
           "male",
           32,
           "Southampton"
          ],
          [
           "Petterson, Mr. Johan Emil",
           "male",
           25,
           "Southampton"
          ],
          [
           "Pettersson, Miss. Ellen Natalia",
           "female",
           18,
           "Southampton"
          ],
          [
           "Plotcharsky, Mr. Vasil",
           "male",
           32,
           "Southampton"
          ],
          [
           "Pokrnic, Mr. Mate",
           "male",
           17,
           "Southampton"
          ],
          [
           "Pokrnic, Mr. Tome",
           "male",
           24,
           "Southampton"
          ],
          [
           "Radeff, Mr. Alexander",
           "male",
           32,
           "Southampton"
          ],
          [
           "Rasmussen, Mrs. (Lena Jacobsen Solvang)",
           "female",
           36,
           "Southampton"
          ],
          [
           "Razi, Mr. Raihed",
           "male",
           32,
           "Cherbourg"
          ],
          [
           "Reed, Mr. James George",
           "male",
           32,
           "Southampton"
          ],
          [
           "Rekic, Mr. Tido",
           "male",
           38,
           "Southampton"
          ],
          [
           "Reynolds, Mr. Harold J",
           "male",
           21,
           "Southampton"
          ],
          [
           "Rice, Master. Albert",
           "male",
           10,
           "Queenstown"
          ],
          [
           "Rice, Master. Arthur",
           "male",
           4,
           "Queenstown"
          ],
          [
           "Rice, Master. Eric",
           "male",
           7,
           "Queenstown"
          ],
          [
           "Rice, Master. Eugene",
           "male",
           2,
           "Queenstown"
          ],
          [
           "Rice, Master. George Hugh",
           "male",
           8,
           "Queenstown"
          ],
          [
           "Rice, Mrs. William (Margaret Norton)",
           "female",
           39,
           "Queenstown"
          ],
          [
           "Riihivouri, Miss. Susanna Juhantytar \"Sanni\"",
           "female",
           22,
           "Southampton"
          ],
          [
           "Rintamaki, Mr. Matti",
           "male",
           35,
           "Southampton"
          ],
          [
           "Risien, Mr. Samuel Beard",
           "male",
           32,
           "Southampton"
          ],
          [
           "Risien, Mrs. Samuel (Emma)",
           "female",
           36,
           "Southampton"
          ],
          [
           "Robins, Mr. Alexander A",
           "male",
           50,
           "Southampton"
          ],
          [
           "Robins, Mrs. Alexander A (Grace Charity Laury)",
           "female",
           47,
           "Southampton"
          ],
          [
           "Rogers, Mr. William John",
           "male",
           32,
           "Southampton"
          ],
          [
           "Rommetvedt, Mr. Knud Paust",
           "male",
           32,
           "Southampton"
          ],
          [
           "Rosblom, Miss. Salli Helena",
           "female",
           2,
           "Southampton"
          ],
          [
           "Rosblom, Mr. Viktor Richard",
           "male",
           18,
           "Southampton"
          ],
          [
           "Rosblom, Mrs. Viktor (Helena Wilhelmina)",
           "female",
           41,
           "Southampton"
          ],
          [
           "Rouse, Mr. Richard Henry",
           "male",
           50,
           "Southampton"
          ],
          [
           "Rush, Mr. Alfred George John",
           "male",
           16,
           "Southampton"
          ],
          [
           "Ryan, Mr. Patrick",
           "male",
           32,
           "Queenstown"
          ],
          [
           "Saad, Mr. Amin",
           "male",
           32,
           "Cherbourg"
          ],
          [
           "Saad, Mr. Khalil",
           "male",
           25,
           "Cherbourg"
          ],
          [
           "Saade, Mr. Jean Nassr",
           "male",
           32,
           "Cherbourg"
          ],
          [
           "Sadlier, Mr. Matthew",
           "male",
           32,
           "Queenstown"
          ],
          [
           "Sadowitz, Mr. Harry",
           "male",
           32,
           "Southampton"
          ],
          [
           "Saether, Mr. Simon Sivertsen",
           "male",
           38.5,
           "Southampton"
          ],
          [
           "Sage, Master. Thomas Henry",
           "male",
           5,
           "Southampton"
          ],
          [
           "Sage, Master. William Henry",
           "male",
           14.5,
           "Southampton"
          ],
          [
           "Sage, Miss. Ada",
           "female",
           21,
           "Southampton"
          ],
          [
           "Sage, Miss. Constance Gladys",
           "female",
           21,
           "Southampton"
          ],
          [
           "Sage, Miss. Dorothy Edith \"Dolly\"",
           "female",
           21,
           "Southampton"
          ],
          [
           "Sage, Miss. Stella Anna",
           "female",
           21,
           "Southampton"
          ],
          [
           "Sage, Mr. Douglas Bullen",
           "male",
           32,
           "Southampton"
          ],
          [
           "Sage, Mr. Frederick",
           "male",
           32,
           "Southampton"
          ],
          [
           "Sage, Mr. George John Jr",
           "male",
           32,
           "Southampton"
          ],
          [
           "Sage, Mr. John George",
           "male",
           32,
           "Southampton"
          ],
          [
           "Sage, Mrs. John (Annie Bullen)",
           "female",
           36,
           "Southampton"
          ],
          [
           "Salander, Mr. Karl Johan",
           "male",
           24,
           "Southampton"
          ],
          [
           "Salonen, Mr. Johan Werner",
           "male",
           39,
           "Southampton"
          ],
          [
           "Samaan, Mr. Elias",
           "male",
           32,
           "Cherbourg"
          ],
          [
           "Samaan, Mr. Hanna",
           "male",
           32,
           "Cherbourg"
          ],
          [
           "Samaan, Mr. Youssef",
           "male",
           32,
           "Cherbourg"
          ],
          [
           "Saundercock, Mr. William Henry",
           "male",
           20,
           "Southampton"
          ],
          [
           "Sawyer, Mr. Frederick Charles",
           "male",
           24.5,
           "Southampton"
          ],
          [
           "Scanlan, Mr. James",
           "male",
           32,
           "Queenstown"
          ],
          [
           "Sdycoff, Mr. Todor",
           "male",
           32,
           "Southampton"
          ],
          [
           "Shaughnessy, Mr. Patrick",
           "male",
           32,
           "Queenstown"
          ],
          [
           "Shellard, Mr. Frederick William",
           "male",
           32,
           "Southampton"
          ],
          [
           "Shorney, Mr. Charles Joseph",
           "male",
           32,
           "Southampton"
          ],
          [
           "Simmons, Mr. John",
           "male",
           32,
           "Southampton"
          ],
          [
           "Sirayanian, Mr. Orsen",
           "male",
           22,
           "Cherbourg"
          ],
          [
           "Sirota, Mr. Maurice",
           "male",
           32,
           "Southampton"
          ],
          [
           "Sivic, Mr. Husein",
           "male",
           40,
           "Southampton"
          ],
          [
           "Sivola, Mr. Antti Wilhelm",
           "male",
           21,
           "Southampton"
          ],
          [
           "Skoog, Master. Harald",
           "male",
           4,
           "Southampton"
          ],
          [
           "Skoog, Master. Karl Thorsten",
           "male",
           10,
           "Southampton"
          ],
          [
           "Skoog, Miss. Mabel",
           "female",
           9,
           "Southampton"
          ],
          [
           "Skoog, Miss. Margit Elizabeth",
           "female",
           2,
           "Southampton"
          ],
          [
           "Skoog, Mr. Wilhelm",
           "male",
           40,
           "Southampton"
          ],
          [
           "Skoog, Mrs. William (Anna Bernhardina Karlsson)",
           "female",
           45,
           "Southampton"
          ],
          [
           "Slabenoff, Mr. Petco",
           "male",
           32,
           "Southampton"
          ],
          [
           "Slocovski, Mr. Selman Francis",
           "male",
           32,
           "Southampton"
          ],
          [
           "Smiljanic, Mr. Mile",
           "male",
           32,
           "Southampton"
          ],
          [
           "Smith, Mr. Thomas",
           "male",
           32,
           "Queenstown"
          ],
          [
           "Soholt, Mr. Peter Andreas Lauritz Andersen",
           "male",
           19,
           "Southampton"
          ],
          [
           "Somerton, Mr. Francis William",
           "male",
           30,
           "Southampton"
          ],
          [
           "Spector, Mr. Woolf",
           "male",
           32,
           "Southampton"
          ],
          [
           "Spinner, Mr. Henry John",
           "male",
           32,
           "Southampton"
          ],
          [
           "Staneff, Mr. Ivan",
           "male",
           32,
           "Southampton"
          ],
          [
           "Stankovic, Mr. Ivan",
           "male",
           33,
           "Cherbourg"
          ],
          [
           "Stanley, Mr. Edward Roland",
           "male",
           21,
           "Southampton"
          ],
          [
           "Storey, Mr. Thomas",
           "male",
           60.5,
           "Southampton"
          ],
          [
           "Stoytcheff, Mr. Ilia",
           "male",
           19,
           "Southampton"
          ],
          [
           "Strandberg, Miss. Ida Sofia",
           "female",
           22,
           "Southampton"
          ],
          [
           "Strilic, Mr. Ivan",
           "male",
           27,
           "Southampton"
          ],
          [
           "Strom, Miss. Telma Matilda",
           "female",
           2,
           "Southampton"
          ],
          [
           "Strom, Mrs. Wilhelm (Elna Matilda Persson)",
           "female",
           29,
           "Southampton"
          ],
          [
           "Sutehall, Mr. Henry Jr",
           "male",
           25,
           "Southampton"
          ],
          [
           "Svensson, Mr. Johan",
           "male",
           74,
           "Southampton"
          ],
          [
           "Svensson, Mr. Olof",
           "male",
           24,
           "Southampton"
          ],
          [
           "Theobald, Mr. Thomas Leonard",
           "male",
           34,
           "Southampton"
          ],
          [
           "Thomas, Mr. Charles P",
           "male",
           32,
           "Cherbourg"
          ],
          [
           "Thomas, Mr. John",
           "male",
           32,
           "Cherbourg"
          ],
          [
           "Thomas, Mr. Tannous",
           "male",
           32,
           "Cherbourg"
          ],
          [
           "Thomson, Mr. Alexander Morrison",
           "male",
           32,
           "Southampton"
          ],
          [
           "Thorneycroft, Mr. Percival",
           "male",
           32,
           "Southampton"
          ],
          [
           "Tikkanen, Mr. Juho",
           "male",
           32,
           "Southampton"
          ],
          [
           "Tobin, Mr. Roger",
           "male",
           32,
           "Queenstown"
          ],
          [
           "Todoroff, Mr. Lalio",
           "male",
           32,
           "Southampton"
          ],
          [
           "Tomlin, Mr. Ernest Portage",
           "male",
           30.5,
           "Southampton"
          ],
          [
           "Torber, Mr. Ernst William",
           "male",
           44,
           "Southampton"
          ],
          [
           "Torfa, Mr. Assad",
           "male",
           32,
           "Cherbourg"
          ],
          [
           "Toufik, Mr. Nakli",
           "male",
           32,
           "Cherbourg"
          ],
          [
           "Turcin, Mr. Stjepan",
           "male",
           36,
           "Southampton"
          ],
          [
           "van Billiard, Master. James William",
           "male",
           5,
           "Southampton"
          ],
          [
           "van Billiard, Master. Walter John",
           "male",
           11.5,
           "Southampton"
          ],
          [
           "van Billiard, Mr. Austin Blyler",
           "male",
           40.5,
           "Southampton"
          ],
          [
           "Van Impe, Miss. Catharina",
           "female",
           10,
           "Southampton"
          ],
          [
           "Van Impe, Mr. Jean Baptiste",
           "male",
           36,
           "Southampton"
          ],
          [
           "Van Impe, Mrs. Jean Baptiste (Rosalie Paula Govaert)",
           "female",
           30,
           "Southampton"
          ],
          [
           "van Melkebeke, Mr. Philemon",
           "male",
           32,
           "Southampton"
          ],
          [
           "Vande Velde, Mr. Johannes Joseph",
           "male",
           33,
           "Southampton"
          ],
          [
           "Vande Walle, Mr. Nestor Cyriel",
           "male",
           28,
           "Southampton"
          ],
          [
           "Vanden Steen, Mr. Leo Peter",
           "male",
           28,
           "Southampton"
          ],
          [
           "Vander Cruyssen, Mr. Victor",
           "male",
           47,
           "Southampton"
          ],
          [
           "Vander Planke, Miss. Augusta Maria",
           "female",
           18,
           "Southampton"
          ],
          [
           "Vander Planke, Mr. Julius",
           "male",
           31,
           "Southampton"
          ],
          [
           "Vander Planke, Mr. Leo Edmondus",
           "male",
           16,
           "Southampton"
          ],
          [
           "Vander Planke, Mrs. Julius (Emelia Maria Vandemoortele)",
           "female",
           31,
           "Southampton"
          ],
          [
           "Vendel, Mr. Olof Edvin",
           "male",
           20,
           "Southampton"
          ],
          [
           "Vestrom, Miss. Hulda Amanda Adolfina",
           "female",
           14,
           "Southampton"
          ],
          [
           "Vovk, Mr. Janko",
           "male",
           22,
           "Southampton"
          ],
          [
           "Waelens, Mr. Achille",
           "male",
           22,
           "Southampton"
          ],
          [
           "Ware, Mr. Frederick",
           "male",
           32,
           "Southampton"
          ],
          [
           "Warren, Mr. Charles William",
           "male",
           32,
           "Southampton"
          ],
          [
           "Webber, Mr. James",
           "male",
           32,
           "Southampton"
          ],
          [
           "Wenzel, Mr. Linhart",
           "male",
           32.5,
           "Southampton"
          ],
          [
           "Widegren, Mr. Carl/Charles Peter",
           "male",
           51,
           "Southampton"
          ],
          [
           "Wiklund, Mr. Jakob Alfred",
           "male",
           18,
           "Southampton"
          ],
          [
           "Wiklund, Mr. Karl Johan",
           "male",
           21,
           "Southampton"
          ],
          [
           "Willer, Mr. Aaron (\"Abi Weller\")",
           "male",
           32,
           "Southampton"
          ],
          [
           "Willey, Mr. Edward",
           "male",
           32,
           "Southampton"
          ],
          [
           "Williams, Mr. Howard Hugh \"Harry\"",
           "male",
           32,
           "Southampton"
          ],
          [
           "Williams, Mr. Leslie",
           "male",
           28.5,
           "Southampton"
          ],
          [
           "Windelov, Mr. Einar",
           "male",
           21,
           "Southampton"
          ],
          [
           "Wirz, Mr. Albert",
           "male",
           27,
           "Southampton"
          ],
          [
           "Wiseman, Mr. Phillippe",
           "male",
           32,
           "Southampton"
          ],
          [
           "Wittevrongel, Mr. Camille",
           "male",
           36,
           "Southampton"
          ],
          [
           "Yasbeck, Mr. Antoni",
           "male",
           27,
           "Cherbourg"
          ],
          [
           "Youseff, Mr. Gerious",
           "male",
           45.5,
           "Cherbourg"
          ],
          [
           "Yousif, Mr. Wazli",
           "male",
           32,
           "Cherbourg"
          ],
          [
           "Yousseff, Mr. Gerious",
           "male",
           32,
           "Cherbourg"
          ],
          [
           "Zabour, Miss. Hileni",
           "female",
           14.5,
           "Cherbourg"
          ],
          [
           "Zabour, Miss. Thamine",
           "female",
           21,
           "Cherbourg"
          ],
          [
           "Zakarian, Mr. Mapriededer",
           "male",
           26.5,
           "Cherbourg"
          ],
          [
           "Zakarian, Mr. Ortin",
           "male",
           27,
           "Cherbourg"
          ],
          [
           "Zimmerman, Mr. Leo",
           "male",
           29,
           "Southampton"
          ]
         ],
         "fillcolor": "rgba(255,255,255,0)",
         "hoveron": "points",
         "hovertemplate": "<b>%{customdata[0]}</b><br>Sex: %{customdata[1]}<br>Age: %{customdata[2]}<br>Class: %{customdata[3]}<br>Embarked: %{customdata[4]}<br>%{yaxis.title.text}: %{y}<br><extra></extra>",
         "legendgroup": "Died",
         "line": {
          "color": "rgba(255,255,255,0)"
         },
         "marker": {
          "color": "#DC143C",
          "line": {
           "color": "white",
           "width": 0.5
          },
          "opacity": 0.6,
          "size": 6
         },
         "name": "Died",
         "offsetgroup": "Died",
         "orientation": "v",
         "pointpos": 0,
         "showlegend": true,
         "type": "box",
         "x": {
          "bdata": "AQAAAAEAAAABAAAAAQAAAAEAAAABAAAAAQAAAAEAAAABAAAAAQAAAAEAAAABAAAAAQAAAAEAAAABAAAAAQAAAAEAAAABAAAAAQAAAAEAAAABAAAAAQAAAAEAAAABAAAAAQAAAAEAAAABAAAAAQAAAAEAAAABAAAAAQAAAAEAAAABAAAAAQAAAAEAAAABAAAAAQAAAAEAAAABAAAAAQAAAAEAAAABAAAAAQAAAAEAAAABAAAAAQAAAAEAAAABAAAAAQAAAAEAAAABAAAAAQAAAAEAAAABAAAAAQAAAAEAAAABAAAAAQAAAAEAAAABAAAAAQAAAAEAAAABAAAAAQAAAAEAAAABAAAAAQAAAAEAAAABAAAAAQAAAAEAAAABAAAAAQAAAAEAAAABAAAAAQAAAAEAAAABAAAAAQAAAAEAAAABAAAAAQAAAAEAAAABAAAAAQAAAAEAAAABAAAAAQAAAAEAAAABAAAAAQAAAAEAAAABAAAAAQAAAAEAAAABAAAAAQAAAAEAAAABAAAAAQAAAAEAAAABAAAAAQAAAAEAAAABAAAAAQAAAAEAAAABAAAAAQAAAAEAAAABAAAAAQAAAAEAAAABAAAAAQAAAAEAAAABAAAAAQAAAAEAAAABAAAAAQAAAAEAAAABAAAAAgAAAAIAAAACAAAAAgAAAAIAAAACAAAAAgAAAAIAAAACAAAAAgAAAAIAAAACAAAAAgAAAAIAAAACAAAAAgAAAAIAAAACAAAAAgAAAAIAAAACAAAAAgAAAAIAAAACAAAAAgAAAAIAAAACAAAAAgAAAAIAAAACAAAAAgAAAAIAAAACAAAAAgAAAAIAAAACAAAAAgAAAAIAAAACAAAAAgAAAAIAAAACAAAAAgAAAAIAAAACAAAAAgAAAAIAAAACAAAAAgAAAAIAAAACAAAAAgAAAAIAAAACAAAAAgAAAAIAAAACAAAAAgAAAAIAAAACAAAAAgAAAAIAAAACAAAAAgAAAAIAAAACAAAAAgAAAAIAAAACAAAAAgAAAAIAAAACAAAAAgAAAAIAAAACAAAAAgAAAAIAAAACAAAAAgAAAAIAAAACAAAAAgAAAAIAAAACAAAAAgAAAAIAAAACAAAAAgAAAAIAAAACAAAAAgAAAAIAAAACAAAAAgAAAAIAAAACAAAAAgAAAAIAAAACAAAAAgAAAAIAAAACAAAAAgAAAAIAAAACAAAAAgAAAAIAAAACAAAAAgAAAAIAAAACAAAAAgAAAAIAAAACAAAAAgAAAAIAAAACAAAAAgAAAAIAAAACAAAAAgAAAAIAAAACAAAAAgAAAAIAAAACAAAAAgAAAAIAAAACAAAAAgAAAAIAAAACAAAAAgAAAAIAAAACAAAAAgAAAAIAAAACAAAAAgAAAAIAAAACAAAAAgAAAAIAAAACAAAAAgAAAAIAAAACAAAAAgAAAAIAAAACAAAAAgAAAAIAAAACAAAAAgAAAAIAAAACAAAAAgAAAAIAAAADAAAAAwAAAAMAAAADAAAAAwAAAAMAAAADAAAAAwAAAAMAAAADAAAAAwAAAAMAAAADAAAAAwAAAAMAAAADAAAAAwAAAAMAAAADAAAAAwAAAAMAAAADAAAAAwAAAAMAAAADAAAAAwAAAAMAAAADAAAAAwAAAAMAAAADAAAAAwAAAAMAAAADAAAAAwAAAAMAAAADAAAAAwAAAAMAAAADAAAAAwAAAAMAAAADAAAAAwAAAAMAAAADAAAAAwAAAAMAAAADAAAAAwAAAAMAAAADAAAAAwAAAAMAAAADAAAAAwAAAAMAAAADAAAAAwAAAAMAAAADAAAAAwAAAAMAAAADAAAAAwAAAAMAAAADAAAAAwAAAAMAAAADAAAAAwAAAAMAAAADAAAAAwAAAAMAAAADAAAAAwAAAAMAAAADAAAAAwAAAAMAAAADAAAAAwAAAAMAAAADAAAAAwAAAAMAAAADAAAAAwAAAAMAAAADAAAAAwAAAAMAAAADAAAAAwAAAAMAAAADAAAAAwAAAAMAAAADAAAAAwAAAAMAAAADAAAAAwAAAAMAAAADAAAAAwAAAAMAAAADAAAAAwAAAAMAAAADAAAAAwAAAAMAAAADAAAAAwAAAAMAAAADAAAAAwAAAAMAAAADAAAAAwAAAAMAAAADAAAAAwAAAAMAAAADAAAAAwAAAAMAAAADAAAAAwAAAAMAAAADAAAAAwAAAAMAAAADAAAAAwAAAAMAAAADAAAAAwAAAAMAAAADAAAAAwAAAAMAAAADAAAAAwAAAAMAAAADAAAAAwAAAAMAAAADAAAAAwAAAAMAAAADAAAAAwAAAAMAAAADAAAAAwAAAAMAAAADAAAAAwAAAAMAAAADAAAAAwAAAAMAAAADAAAAAwAAAAMAAAADAAAAAwAAAAMAAAADAAAAAwAAAAMAAAADAAAAAwAAAAMAAAADAAAAAwAAAAMAAAADAAAAAwAAAAMAAAADAAAAAwAAAAMAAAADAAAAAwAAAAMAAAADAAAAAwAAAAMAAAADAAAAAwAAAAMAAAADAAAAAwAAAAMAAAADAAAAAwAAAAMAAAADAAAAAwAAAAMAAAADAAAAAwAAAAMAAAADAAAAAwAAAAMAAAADAAAAAwAAAAMAAAADAAAAAwAAAAMAAAADAAAAAwAAAAMAAAADAAAAAwAAAAMAAAADAAAAAwAAAAMAAAADAAAAAwAAAAMAAAADAAAAAwAAAAMAAAADAAAAAwAAAAMAAAADAAAAAwAAAAMAAAADAAAAAwAAAAMAAAADAAAAAwAAAAMAAAADAAAAAwAAAAMAAAADAAAAAwAAAAMAAAADAAAAAwAAAAMAAAADAAAAAwAAAAMAAAADAAAAAwAAAAMAAAADAAAAAwAAAAMAAAADAAAAAwAAAAMAAAADAAAAAwAAAAMAAAADAAAAAwAAAAMAAAADAAAAAwAAAAMAAAADAAAAAwAAAAMAAAADAAAAAwAAAAMAAAADAAAAAwAAAAMAAAADAAAAAwAAAAMAAAADAAAAAwAAAAMAAAADAAAAAwAAAAMAAAADAAAAAwAAAAMAAAADAAAAAwAAAAMAAAADAAAAAwAAAAMAAAADAAAAAwAAAAMAAAADAAAAAwAAAAMAAAADAAAAAwAAAAMAAAADAAAAAwAAAAMAAAADAAAAAwAAAAMAAAADAAAAAwAAAAMAAAADAAAAAwAAAAMAAAADAAAAAwAAAAMAAAADAAAAAwAAAAMAAAADAAAAAwAAAAMAAAADAAAAAwAAAAMAAAADAAAAAwAAAAMAAAADAAAAAwAAAAMAAAADAAAAAwAAAAMAAAADAAAAAwAAAAMAAAADAAAAAwAAAAMAAAADAAAAAwAAAAMAAAADAAAAAwAAAAMAAAADAAAAAwAAAAMAAAADAAAAAwAAAAMAAAADAAAAAwAAAAMAAAADAAAAAwAAAAMAAAADAAAAAwAAAAMAAAADAAAAAwAAAAMAAAADAAAAAwAAAAMAAAADAAAAAwAAAAMAAAADAAAAAwAAAAMAAAADAAAAAwAAAAMAAAADAAAAAwAAAAMAAAADAAAAAwAAAAMAAAADAAAAAwAAAAMAAAADAAAAAwAAAAMAAAADAAAAAwAAAAMAAAADAAAAAwAAAAMAAAADAAAAAwAAAAMAAAADAAAAAwAAAAMAAAADAAAAAwAAAAMAAAADAAAAAwAAAAMAAAADAAAAAwAAAAMAAAADAAAAAwAAAAMAAAADAAAAAwAAAAMAAAADAAAAAwAAAAMAAAADAAAAAwAAAAMAAAADAAAAAwAAAAMAAAADAAAAAwAAAAMAAAADAAAAAwAAAAMAAAADAAAAAwAAAAMAAAADAAAAAwAAAAMAAAADAAAAAwAAAAMAAAADAAAAAwAAAAMAAAADAAAAAwAAAAMAAAADAAAAAwAAAAMAAAADAAAAAwAAAAMAAAADAAAAAwAAAAMAAAADAAAAAwAAAAMAAAADAAAAAwAAAAMAAAADAAAAAwAAAAMAAAADAAAAAwAAAAMAAAADAAAAAwAAAAMAAAADAAAAAwAAAAMAAAADAAAAAwAAAAMAAAADAAAAAwAAAAMAAAADAAAAAwAAAAMAAAADAAAAAwAAAAMAAAADAAAAAwAAAAMAAAADAAAAAwAAAAMAAAADAAAAAwAAAAMAAAADAAAAAwAAAAMAAAADAAAAAwAAAAMAAAADAAAAAwAAAAMAAAADAAAAAwAAAAMAAAADAAAAAwAAAAMAAAADAAAAAwAAAAMAAAADAAAAAwAAAAMAAAADAAAAAwAAAAMAAAADAAAAAwAAAAMAAAA=",
          "dtype": "i4"
         },
         "x0": " ",
         "xaxis": "x",
         "y": {
          "bdata": "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",
          "dtype": "f8"
         },
         "y0": " ",
         "yaxis": "y"
        },
        {
         "boxpoints": false,
         "fillcolor": "rgba(211,211,211,0.3)",
         "hoverinfo": "skip",
         "line": {
          "color": "black",
          "width": 1.5
         },
         "showlegend": false,
         "type": "box",
         "x": [
          1,
          1,
          1,
          1,
          1,
          1,
          1,
          1,
          1,
          1,
          1,
          1,
          1,
          1,
          1,
          1,
          1,
          1,
          1,
          1,
          1,
          1,
          1,
          1,
          1,
          1,
          1,
          1,
          1,
          1,
          1,
          1,
          1,
          1,
          1,
          1,
          1,
          1,
          1,
          1,
          1,
          1,
          1,
          1,
          1,
          1,
          1,
          1,
          1,
          1,
          1,
          1,
          1,
          1,
          1,
          1,
          1,
          1,
          1,
          1,
          1,
          1,
          1,
          1,
          1,
          1,
          1,
          1,
          1,
          1,
          1,
          1,
          1,
          1,
          1,
          1,
          1,
          1,
          1,
          1,
          1,
          1,
          1,
          1,
          1,
          1,
          1,
          1,
          1,
          1,
          1,
          1,
          1,
          1,
          1,
          1,
          1,
          1,
          1,
          1,
          1,
          1,
          1,
          1,
          1,
          1,
          1,
          1,
          1,
          1,
          1,
          1,
          1,
          1,
          1,
          1,
          1,
          1,
          1,
          1,
          1,
          1,
          1,
          1,
          1,
          1,
          1,
          1,
          1,
          1,
          1,
          1,
          1,
          1,
          1,
          1,
          1,
          1,
          1,
          1,
          1,
          1,
          1,
          1,
          1,
          1,
          1,
          1,
          1,
          1,
          1,
          1,
          1,
          1,
          1,
          1,
          1,
          1,
          1,
          1,
          1,
          1,
          1,
          1,
          1,
          1,
          1,
          1,
          1,
          1,
          1,
          1,
          1,
          1,
          1,
          1,
          1,
          1,
          1,
          1,
          1,
          1,
          1,
          1,
          1,
          1,
          1,
          1,
          1,
          1,
          1,
          1,
          1,
          1,
          1,
          1,
          1,
          1,
          1,
          1,
          1,
          1,
          1,
          1,
          1,
          1,
          1,
          1,
          1,
          1,
          1,
          1,
          1,
          1,
          1,
          1,
          1,
          1,
          1,
          1,
          1,
          1,
          1,
          1,
          1,
          1,
          1,
          1,
          1,
          1,
          1,
          1,
          1,
          1,
          1,
          1,
          1,
          1,
          1,
          1,
          1,
          1,
          1,
          1,
          1,
          1,
          1,
          1,
          1,
          1,
          1,
          1,
          1,
          1,
          1,
          1,
          1,
          1,
          1,
          1,
          1,
          1,
          1,
          1,
          1,
          1,
          1,
          1,
          1,
          1,
          1,
          1,
          1,
          1,
          1,
          1,
          1,
          1,
          1,
          1,
          1,
          1,
          1,
          1,
          1,
          1,
          1,
          1,
          1,
          1,
          1,
          1,
          1,
          1,
          1,
          1,
          1,
          1,
          1,
          1,
          1,
          1,
          1,
          1,
          1,
          1,
          1,
          1,
          1,
          1,
          1,
          1,
          1,
          1,
          1,
          1,
          1,
          1,
          1,
          1,
          1,
          1,
          1
         ],
         "y": [
          2.3249765656660264,
          2.180555940703641,
          2.180555940703641,
          2.180555940703641,
          2.180555940703641,
          1.4240645254174877,
          1.8918623600932356,
          0,
          1.7116317892369113,
          1.6946420465991239,
          2.3570291230394296,
          2.3570291230394296,
          1.8407332346118064,
          1.8968016976649213,
          1.4771212547196624,
          1.4137187650610785,
          2.3936117000197394,
          2.3936117000197394,
          1.8824772923418704,
          1.8764585993753988,
          1.7206074294781681,
          1.7206074294781681,
          1.4771212547196624,
          2.3570291230394296,
          2.345920812557891,
          1.414973347970818,
          1.959419207306397,
          1.959419207306397,
          2.1323663284011243,
          1.4240645254174877,
          1.550228353055094,
          1.4913616938342726,
          2.217132945112821,
          1.4240645254174877,
          1.4240645254174877,
          2.4189224515904564,
          1.7403626894942439,
          1.4240645254174877,
          1.4842998393467857,
          1.703255257075508,
          1.5976951859255122,
          1.4428057595101917,
          1.7116317892369113,
          1.8824772923418704,
          2.1287222843384264,
          1.4240645254174877,
          1.4913616938342726,
          1.4197492856943774,
          1.4384758942731042,
          2.70954910902387,
          2.70954910902387,
          0.6989700043360187,
          1.6730209071288962,
          1.6730209071288962,
          2.0791812460476247,
          2.0791812460476247,
          2.0791812460476247,
          2.0791812460476247,
          1.414973347970818,
          1.4428057595101917,
          1.8968016976649213,
          1.8968016976649213,
          1.7865739780238268,
          1.7865739780238268,
          1.725094521081469,
          1.725094521081469,
          2.4189224515904564,
          1.9370161074648142,
          1.4727564493172123,
          1.7403626894942439,
          0,
          2.13602005928441,
          2.13602005928441,
          2.180555940703641,
          1.716003343634799,
          1.4080278556705619,
          1.9199056024948606,
          1.9199056024948606,
          1.9199056024948606,
          1.4099331233312944,
          1.4240645254174877,
          1.851258348719075,
          1.851258348719075,
          1.4240645254174877,
          1.8529877967894248,
          1.8529877967894248,
          1.4240645254174877,
          1.4842998393467857,
          2.180555940703641,
          1.716003343634799,
          1.716003343634799,
          1.7558748556724912,
          1.7558748556724912,
          1.913062721151108,
          1.913062721151108,
          1.913062721151108,
          2.027043658849174,
          2.3936117000197394,
          2.027043658849174,
          1.5976951859255122,
          1.7553350809127826,
          1.4727564493172123,
          1.9199056024948606,
          2.3570291230394296,
          1.8935770228194533,
          1.5007742057466094,
          2.345920812557891,
          1.5008304095699525,
          2.044866142506401,
          1.4213982463157127,
          1.4432629874586949,
          2.4199557484897576,
          2.4199557484897576,
          2.4199557484897576,
          2.4199557484897576,
          2.4199557484897576,
          2.4199557484897576,
          1.7553350809127826,
          1.4240645254174877,
          2.125968963092556,
          1.4428057595101917,
          2.125968963092556,
          1.6946051989335686,
          1.8987251815894932,
          1.8987251815894932,
          0,
          1.725094521081469,
          1.725094521081469,
          1.5854607295085006,
          2.325310371711061,
          1.7737864449811933,
          1.7737864449811933,
          1.8987251815894932,
          1.9498981753481492,
          1.9498981753481492,
          1.539755877513056,
          1.45484486000851,
          1.4771212547196624,
          2.1860022688507756,
          2.1860022688507756,
          1.801803515953217,
          1.801803515953217,
          1.8987251815894932,
          1.7438365385103143,
          1.7438365385103143,
          1.8849606701491655,
          1.8849606701491655,
          1.6273658565927325,
          1.9215564277264081,
          1.9215564277264081,
          0,
          1.8849606701491655,
          1.4771212547196624,
          1.9199056024948606,
          1.9708116108725175,
          1.9708116108725175,
          1.6283889300503114,
          1.7148534478370292,
          1.6989700043360185,
          1.763272218642599,
          1.763272218642599,
          1.8918623600932356,
          1.716003343634799,
          1.716003343634799,
          1.4240645254174877,
          1.9542425094393248,
          1.4870789565323452,
          1.9542425094393248,
          1.9030899869919433,
          1.4580710082030823,
          0,
          1.414973347970818,
          1.414973347970818,
          2.325310371711061,
          1.4727564493172123,
          1.7148534478370292,
          1.7148534478370292,
          1.7206074294781681,
          1.7206074294781681,
          1.4240645254174877,
          2.3249765656660264,
          1.4137891175813366,
          2.027043658849174,
          2.70954910902387,
          1.4428057595101917,
          1.4240645254174877,
          1.4428057595101917,
          1.595496221825574,
          1.595496221825574,
          1.4771212547196624,
          1.8918623600932356,
          1.6580113966571122,
          2.165899281236276,
          2.3249765656660264,
          1.414973347970818,
          1.9370161074648142,
          1.4727564493172123,
          1.725094521081469,
          1.725094521081469,
          1.6946420465991239,
          1.8764585993753988,
          1.7148534478370292,
          1.4197492856943774,
          1.9147175152064853,
          1.9147175152064853,
          1.4240645254174877,
          1.9542425094393248,
          1.9542425094393248,
          1.9542425094393248,
          1.761551988564182,
          1.4842998393467857,
          1.6273658565927325,
          1.4727564493172123,
          2.0541340708512235,
          2.0541340708512235,
          2.0541340708512235,
          1.419679892159264,
          1.414973347970818,
          2.0370278797557746,
          1.4106372246289642,
          1.7922459662590597,
          1.7922459662590597,
          1.4428057595101917,
          0,
          1.45484486000851,
          1.9708116108725175,
          1.8234742291703008,
          1.8234742291703008,
          2.0370278797557746,
          2.0370278797557746,
          1.9708116108725175,
          1.4842998393467857,
          1.716003343634799,
          1.9199056024948606,
          0,
          1.5976951859255122,
          2.1323663284011243,
          2.3570291230394296,
          2.3249765656660264,
          1.703255257075508,
          1.4240645254174877,
          1.6989700043360185,
          1.4428057595101917,
          1.8987251815894932,
          1.6034150454129283,
          1.9370161074648142,
          1.7737864449811933,
          1.7737864449811933,
          1.4240645254174877,
          2.4189224515904564,
          2.4189224515904564,
          2.4189224515904564,
          2.4189224515904564,
          2.4189224515904564,
          1.4842998393467857,
          1.8407332346118064,
          1.414973347970818,
          1.761551988564182,
          1.4913616938342726,
          1.4240645254174877,
          2.1860022688507756,
          1.4197492856943774,
          1.747411807886423,
          1.747411807886423,
          1.550228353055094,
          1.550228353055094,
          1.4240645254174877,
          1.4870789565323452,
          1.7781512503836434,
          1.414973347970818,
          1.7781512503836434,
          1.9152240766117175,
          1.9152240766117175,
          2.1287222843384264,
          2.1287222843384264,
          2.1287222843384264,
          2.165899281236276,
          2.165899281236276,
          1.4842998393467857,
          1.4240645254174877,
          1.7438365385103143,
          1.7438365385103143,
          1.8935770228194533,
          1.4428057595101917,
          1.9030899869919433,
          2.345920812557891,
          2.345920812557891,
          1.5094821018329212,
          1.4137891175813366,
          1.9011857801371501,
          1.9011857801371501,
          1.9011857801371501,
          1.716003343634799,
          1.716003343634799,
          2.044866142506401,
          2.044866142506401,
          2.044866142506401,
          1.8987251815894932,
          1.4554159244982916,
          1.4428057595101917,
          1.5250448070368452,
          1.5317445218427028,
          2.70954910902387,
          1.876506504265881,
          1.876506504265881,
          1.4240645254174877,
          1.8881092595069315,
          1.8881092595069315,
          2.1323663284011243,
          2.217132945112821,
          2.217132945112821,
          2.217132945112821,
          2.325310371711061,
          2.325310371711061,
          2.325310371711061,
          1.4240645254174877,
          1.7880212236551112,
          1.7880212236551112,
          1.5440680443502754,
          2.1287222843384264,
          1.550228353055094,
          1.4240645254174877,
          2.1323663284011243
         ]
        },
        {
         "boxpoints": false,
         "fillcolor": "rgba(211,211,211,0.3)",
         "hoverinfo": "skip",
         "line": {
          "color": "black",
          "width": 1.5
         },
         "showlegend": false,
         "type": "box",
         "x": [
          2,
          2,
          2,
          2,
          2,
          2,
          2,
          2,
          2,
          2,
          2,
          2,
          2,
          2,
          2,
          2,
          2,
          2,
          2,
          2,
          2,
          2,
          2,
          2,
          2,
          2,
          2,
          2,
          2,
          2,
          2,
          2,
          2,
          2,
          2,
          2,
          2,
          2,
          2,
          2,
          2,
          2,
          2,
          2,
          2,
          2,
          2,
          2,
          2,
          2,
          2,
          2,
          2,
          2,
          2,
          2,
          2,
          2,
          2,
          2,
          2,
          2,
          2,
          2,
          2,
          2,
          2,
          2,
          2,
          2,
          2,
          2,
          2,
          2,
          2,
          2,
          2,
          2,
          2,
          2,
          2,
          2,
          2,
          2,
          2,
          2,
          2,
          2,
          2,
          2,
          2,
          2,
          2,
          2,
          2,
          2,
          2,
          2,
          2,
          2,
          2,
          2,
          2,
          2,
          2,
          2,
          2,
          2,
          2,
          2,
          2,
          2,
          2,
          2,
          2,
          2,
          2,
          2,
          2,
          2,
          2,
          2,
          2,
          2,
          2,
          2,
          2,
          2,
          2,
          2,
          2,
          2,
          2,
          2,
          2,
          2,
          2,
          2,
          2,
          2,
          2,
          2,
          2,
          2,
          2,
          2,
          2,
          2,
          2,
          2,
          2,
          2,
          2,
          2,
          2,
          2,
          2,
          2,
          2,
          2,
          2,
          2,
          2,
          2,
          2,
          2,
          2,
          2,
          2,
          2,
          2,
          2,
          2,
          2,
          2,
          2,
          2,
          2,
          2,
          2,
          2,
          2,
          2,
          2,
          2,
          2,
          2,
          2,
          2,
          2,
          2,
          2,
          2,
          2,
          2,
          2,
          2,
          2,
          2,
          2,
          2,
          2,
          2,
          2,
          2,
          2,
          2,
          2,
          2,
          2,
          2,
          2,
          2,
          2,
          2,
          2,
          2,
          2,
          2,
          2,
          2,
          2,
          2,
          2,
          2,
          2,
          2,
          2,
          2,
          2,
          2,
          2,
          2,
          2,
          2,
          2,
          2,
          2,
          2,
          2,
          2,
          2,
          2,
          2,
          2,
          2,
          2,
          2,
          2,
          2,
          2,
          2,
          2,
          2,
          2,
          2,
          2,
          2,
          2,
          2,
          2,
          2,
          2,
          2,
          2,
          2,
          2,
          2,
          2,
          2,
          2,
          2,
          2,
          2,
          2,
          2,
          2
         ],
         "y": [
          1.380211241711606,
          1.380211241711606,
          1.1139433523068367,
          1.0606978403536116,
          1.021189299069938,
          1.414973347970818,
          1.414973347970818,
          1.1139433523068367,
          1.0606978403536116,
          1.021189299069938,
          1.1139433523068367,
          1.021189299069938,
          1.0977777345392832,
          1.414973347970818,
          1.414973347970818,
          1.414973347970818,
          1.591064607026499,
          1.591064607026499,
          1.591064607026499,
          1.591064607026499,
          1.1139433523068367,
          1.1139433523068367,
          1.1139433523068367,
          1.1139433523068367,
          1.1139433523068367,
          1.1139433523068367,
          1.1139433523068367,
          1.591064607026499,
          1.591064607026499,
          1.591064607026499,
          1.414973347970818,
          1.414973347970818,
          1.1139433523068367,
          1.1139433523068367,
          1.1139433523068367,
          1.1139433523068367,
          1.462397997898956,
          1.462397997898956,
          1.462397997898956,
          1.322219294733919,
          0,
          1.1139433523068367,
          1.414973347970818,
          1.414973347970818,
          1.1303337684950059,
          1.414973347970818,
          1.414973347970818,
          1.4771212547196624,
          1.4771212547196624,
          1.414973347970818,
          1.414973347970818,
          1.021189299069938,
          1.1139433523068367,
          1.021189299069938,
          1.4191293077419755,
          1.4191293077419755,
          1.4191293077419755,
          1.021189299069938,
          1.1139433523068367,
          1.322219294733919,
          1.0606978403536116,
          0,
          1.5652573434202135,
          1.8662873390841945,
          1.5652573434202135,
          1.1139433523068367,
          1.1139433523068367,
          1.8662873390841945,
          1.4428057595101917,
          1.4428057595101917,
          1.4983105537896002,
          1.8662873390841945,
          1.3617278360175928,
          1.3617278360175928,
          1.414973347970818,
          1.5118833609788742,
          1.5118833609788742,
          1.5118833609788742,
          1.1417099585657506,
          1.1417099585657506,
          1.1139433523068367,
          1.1139433523068367,
          1.1139433523068367,
          1.414973347970818,
          1.414973347970818,
          1.021189299069938,
          1.1139433523068367,
          0,
          1.1139433523068367,
          1.414973347970818,
          1.322219294733919,
          1.322219294733919,
          1.1139433523068367,
          1.414973347970818,
          1.021189299069938,
          1.021189299069938,
          1.0606978403536116,
          1.0606978403536116,
          1.1303337684950059,
          1.1139433523068367,
          1.1139433523068367,
          1.1139433523068367,
          1.1139433523068367,
          1.1139433523068367,
          1.1613680022349748,
          1.1613680022349748,
          1.1139433523068367,
          1.5185139398778873,
          1.5185139398778873,
          1.021189299069938,
          1.021189299069938,
          1.4191293077419755,
          1.4191293077419755,
          1.4191293077419755,
          1.8129133566428552,
          1.8129133566428552,
          1.8129133566428552,
          1.8129133566428552,
          1.2041199826559246,
          1.8662873390841945,
          1.8662873390841945,
          1.8662873390841945,
          1.1139433523068367,
          1.3617278360175928,
          1.0606978403536116,
          1.1139433523068367,
          1.3617278360175928,
          1.1139433523068367,
          1.414973347970818,
          1.414973347970818,
          1.8662873390841945,
          1.1139433523068367,
          1.414973347970818,
          1.414973347970818,
          1.089021500795006,
          1.021189299069938,
          1.4313637641589871,
          1.4313637641589871,
          1.1760912590556811,
          1.4983105537896002,
          1.4983105537896002,
          1.021189299069938,
          1.1396178017171812,
          1.414973347970818,
          1.414973347970818,
          1.322219294733919,
          1.0916669575956843,
          1.0916669575956843,
          1.1303337684950059,
          1.0916669575956843,
          0,
          1.021189299069938,
          1.414973347970818,
          1.414973347970818,
          1.0297205297281464,
          1.6188761290808784,
          1.6188761290808784,
          1.6188761290808784,
          1.6188761290808784,
          1.0791812460476247,
          1.5185139398778873,
          1.021189299069938,
          1.1097472377132285,
          1.021189299069938,
          1.0916669575956843,
          1.414973347970818,
          1.414973347970818,
          1.021189299069938,
          1.177415284555236,
          1.5682510195617356,
          1.5682510195617356,
          1.5682510195617356,
          1.192545152662228,
          1.1139433523068367,
          1.2041199826559246,
          1.1303337684950059,
          1.1139433523068367,
          1.414973347970818,
          1.2900346113625178,
          1.2900346113625178,
          1.021189299069938,
          1.1139433523068367,
          1.1139433523068367,
          1.021189299069938,
          1.1139433523068367,
          1.1461280356782377,
          1.414973347970818,
          1.021189299069938,
          0.9862117155143665,
          1.478144982173145,
          1.478144982173145,
          1.414973347970818,
          1.414973347970818,
          1.414973347970818,
          1.1139433523068367,
          1.5652573434202135,
          1.1303337684950059,
          1.1418415591572164,
          1.021189299069938,
          1.1139433523068367,
          1.021189299069938,
          1.1418415591572164,
          1.021189299069938,
          1.1417099585657506,
          1.021189299069938,
          0,
          1.414973347970818,
          1.021189299069938,
          1.177536499929862,
          1.1139433523068367,
          1.322219294733919,
          1.414973347970818,
          1.322219294733919,
          1.1139433523068367,
          1.1139433523068367,
          1.1050841970144827,
          1.1770543241982905,
          1.414973347970818,
          1.414973347970818,
          1.414973347970818,
          1.021189299069938,
          1.322219294733919,
          1.322219294733919,
          1.1139433523068367,
          1.177415284555236,
          1.2730012720637376,
          1.2730012720637376,
          1.2730012720637376,
          1.021189299069938,
          1.021189299069938,
          1.021189299069938,
          1.1139433523068367,
          1.1139433523068367,
          1.414973347970818,
          1.414973347970818,
          1.1139433523068367,
          1.5652573434202135,
          1.1139433523068367,
          1.1303337684950059,
          1.0916669575956843,
          1.021189299069938,
          1.1139433523068367,
          1.1139433523068367,
          1.177415284555236,
          1.021189299069938,
          1.1139433523068367,
          1.8129133566428552,
          1.021189299069938,
          1.1139433523068367,
          1.1020905255118367,
          1.021189299069938,
          1.322219294733919,
          1.322219294733919,
          1.1139433523068367,
          1.322219294733919,
          1.322219294733919,
          1.021189299069938,
          1.322219294733919,
          0,
          1.1972805581256192,
          1.1972805581256192,
          1.1139433523068367,
          1.414973347970818,
          1.414973347970818,
          1.3617278360175928,
          1.3617278360175928,
          1.3617278360175928,
          1.4432629874586949,
          1.4432629874586949,
          1.4432629874586949,
          1.4432629874586949,
          1.021189299069938,
          1.1097472377132285,
          1.1139433523068367,
          1.1139433523068367,
          1.1303337684950059,
          1.1139433523068367
         ]
        },
        {
         "boxpoints": false,
         "fillcolor": "rgba(211,211,211,0.3)",
         "hoverinfo": "skip",
         "line": {
          "color": "black",
          "width": 1.5
         },
         "showlegend": false,
         "type": "box",
         "x": [
          3,
          3,
          3,
          3,
          3,
          3,
          3,
          3,
          3,
          3,
          3,
          3,
          3,
          3,
          3,
          3,
          3,
          3,
          3,
          3,
          3,
          3,
          3,
          3,
          3,
          3,
          3,
          3,
          3,
          3,
          3,
          3,
          3,
          3,
          3,
          3,
          3,
          3,
          3,
          3,
          3,
          3,
          3,
          3,
          3,
          3,
          3,
          3,
          3,
          3,
          3,
          3,
          3,
          3,
          3,
          3,
          3,
          3,
          3,
          3,
          3,
          3,
          3,
          3,
          3,
          3,
          3,
          3,
          3,
          3,
          3,
          3,
          3,
          3,
          3,
          3,
          3,
          3,
          3,
          3,
          3,
          3,
          3,
          3,
          3,
          3,
          3,
          3,
          3,
          3,
          3,
          3,
          3,
          3,
          3,
          3,
          3,
          3,
          3,
          3,
          3,
          3,
          3,
          3,
          3,
          3,
          3,
          3,
          3,
          3,
          3,
          3,
          3,
          3,
          3,
          3,
          3,
          3,
          3,
          3,
          3,
          3,
          3,
          3,
          3,
          3,
          3,
          3,
          3,
          3,
          3,
          3,
          3,
          3,
          3,
          3,
          3,
          3,
          3,
          3,
          3,
          3,
          3,
          3,
          3,
          3,
          3,
          3,
          3,
          3,
          3,
          3,
          3,
          3,
          3,
          3,
          3,
          3,
          3,
          3,
          3,
          3,
          3,
          3,
          3,
          3,
          3,
          3,
          3,
          3,
          3,
          3,
          3,
          3,
          3,
          3,
          3,
          3,
          3,
          3,
          3,
          3,
          3,
          3,
          3,
          3,
          3,
          3,
          3,
          3,
          3,
          3,
          3,
          3,
          3,
          3,
          3,
          3,
          3,
          3,
          3,
          3,
          3,
          3,
          3,
          3,
          3,
          3,
          3,
          3,
          3,
          3,
          3,
          3,
          3,
          3,
          3,
          3,
          3,
          3,
          3,
          3,
          3,
          3,
          3,
          3,
          3,
          3,
          3,
          3,
          3,
          3,
          3,
          3,
          3,
          3,
          3,
          3,
          3,
          3,
          3,
          3,
          3,
          3,
          3,
          3,
          3,
          3,
          3,
          3,
          3,
          3,
          3,
          3,
          3,
          3,
          3,
          3,
          3,
          3,
          3,
          3,
          3,
          3,
          3,
          3,
          3,
          3,
          3,
          3,
          3,
          3,
          3,
          3,
          3,
          3,
          3,
          3,
          3,
          3,
          3,
          3,
          3,
          3,
          3,
          3,
          3,
          3,
          3,
          3,
          3,
          3,
          3,
          3,
          3,
          3,
          3,
          3,
          3,
          3,
          3,
          3,
          3,
          3,
          3,
          3,
          3,
          3,
          3,
          3,
          3,
          3,
          3,
          3,
          3,
          3,
          3,
          3,
          3,
          3,
          3,
          3,
          3,
          3,
          3,
          3,
          3,
          3,
          3,
          3,
          3,
          3,
          3,
          3,
          3,
          3,
          3,
          3,
          3,
          3,
          3,
          3,
          3,
          3,
          3,
          3,
          3,
          3,
          3,
          3,
          3,
          3,
          3,
          3,
          3,
          3,
          3,
          3,
          3,
          3,
          3,
          3,
          3,
          3,
          3,
          3,
          3,
          3,
          3,
          3,
          3,
          3,
          3,
          3,
          3,
          3,
          3,
          3,
          3,
          3,
          3,
          3,
          3,
          3,
          3,
          3,
          3,
          3,
          3,
          3,
          3,
          3,
          3,
          3,
          3,
          3,
          3,
          3,
          3,
          3,
          3,
          3,
          3,
          3,
          3,
          3,
          3,
          3,
          3,
          3,
          3,
          3,
          3,
          3,
          3,
          3,
          3,
          3,
          3,
          3,
          3,
          3,
          3,
          3,
          3,
          3,
          3,
          3,
          3,
          3,
          3,
          3,
          3,
          3,
          3,
          3,
          3,
          3,
          3,
          3,
          3,
          3,
          3,
          3,
          3,
          3,
          3,
          3,
          3,
          3,
          3,
          3,
          3,
          3,
          3,
          3,
          3,
          3,
          3,
          3,
          3,
          3,
          3,
          3,
          3,
          3,
          3,
          3,
          3,
          3,
          3,
          3,
          3,
          3,
          3,
          3,
          3,
          3,
          3,
          3,
          3,
          3,
          3,
          3,
          3,
          3,
          3,
          3,
          3,
          3,
          3,
          3,
          3,
          3,
          3,
          3,
          3,
          3,
          3,
          3,
          3,
          3,
          3,
          3,
          3,
          3,
          3,
          3,
          3,
          3,
          3,
          3,
          3,
          3,
          3,
          3,
          3,
          3,
          3,
          3,
          3,
          3,
          3,
          3,
          3,
          3,
          3,
          3,
          3,
          3,
          3,
          3,
          3,
          3,
          3,
          3,
          3,
          3,
          3,
          3,
          3,
          3,
          3,
          3,
          3,
          3,
          3,
          3,
          3,
          3,
          3,
          3,
          3,
          3,
          3,
          3,
          3,
          3,
          3,
          3,
          3,
          3,
          3,
          3,
          3,
          3,
          3,
          3,
          3,
          3,
          3,
          3,
          3,
          3,
          3,
          3,
          3,
          3,
          3,
          3,
          3,
          3,
          3,
          3,
          3,
          3,
          3,
          3,
          3,
          3,
          3,
          3,
          3,
          3,
          3,
          3,
          3,
          3,
          3,
          3,
          3,
          3,
          3,
          3,
          3,
          3,
          3,
          3,
          3,
          3,
          3,
          3,
          3,
          3,
          3,
          3,
          3,
          3,
          3,
          3,
          3,
          3,
          3,
          3,
          3,
          3,
          3,
          3,
          3,
          3,
          3,
          3,
          3,
          3,
          3,
          3,
          3,
          3,
          3,
          3,
          3,
          3,
          3,
          3,
          3,
          3,
          3,
          3,
          3,
          3,
          3,
          3,
          3,
          3,
          3,
          3,
          3,
          3,
          3,
          3,
          3,
          3,
          3,
          3,
          3,
          3,
          3,
          3,
          3,
          3,
          3,
          3,
          3,
          3,
          3,
          3,
          3,
          3,
          3,
          3,
          3,
          3,
          3,
          3,
          3,
          3,
          3,
          3,
          3,
          3,
          3,
          3,
          3,
          3,
          3,
          3,
          3,
          3,
          3,
          3,
          3,
          3,
          3,
          3,
          3,
          3,
          3,
          3,
          3
         ],
         "y": [
          0.8779469516291882,
          1.3064250275506872,
          1.3064250275506872,
          1.3064250275506872,
          0.8836614351536175,
          0.8836614351536175,
          0.8989992708897891,
          0.8590902399212491,
          0.8603380065709936,
          0.9057958803678685,
          0.9765792186401099,
          0.9708116108725177,
          0.9708116108725177,
          1.2738689935949645,
          0.8969393722521907,
          0.8989992708897891,
          0.8481891169913987,
          0.8481891169913987,
          0.9057958803678685,
          0.9190780923760739,
          1.3526647996511003,
          0.8951019559858991,
          1.4951973183654574,
          1.4951973183654574,
          1.4951973183654574,
          0.8989992708897891,
          0.890700397698875,
          1.4951973183654574,
          1.4951973183654574,
          1.4951973183654574,
          0.8918606888331483,
          0.890700397698875,
          1.4951973183654574,
          0.8951019559858991,
          0.897396139155446,
          1.2504200023088938,
          1.2504200023088938,
          0.890700397698875,
          0.8481891169913987,
          1.4967567257209786,
          1.4967567257209786,
          1.4967567257209786,
          1.4967567257209786,
          1.4967567257209786,
          1.4967567257209786,
          0.8918606888331483,
          1.4967567257209786,
          0.8588378514285854,
          0.8588378514285854,
          0.8481891169913987,
          1.160117231822824,
          0.8588378514285854,
          0.8951019559858991,
          0.8590902399212491,
          0.8588378514285854,
          1.2000292665537702,
          1.2000292665537702,
          1.2846179477311679,
          1.2846179477311679,
          1.2846179477311679,
          1.2846179477311679,
          0.9057958803678685,
          0.8588378514285854,
          0.897396139155446,
          0.8590902399212491,
          1.159994059673218,
          1.159994059673218,
          0.8964821244409461,
          0.9057958803678685,
          0.9057958803678685,
          0.890700397698875,
          0.9708116108725177,
          0.8590902399212491,
          0.6034150454129285,
          1.7520161627818558,
          0.890700397698875,
          0.8893017025063101,
          0.897396139155446,
          1.1831502182369709,
          1.1831502182369709,
          0.8588378514285854,
          1.1831502182369709,
          0.8893017025063101,
          1.1903316981702914,
          1.1903316981702914,
          1.2068258760318495,
          0.8878984880968722,
          0.8951019559858991,
          0.8479303112651576,
          0.8603380065709936,
          0.8918606888331483,
          0.9057958803678685,
          0.8623281989644636,
          0.8932511798904226,
          0.8293037728310249,
          0.8964821244409461,
          0.9376432476198631,
          0.9376432476198631,
          0.9376432476198631,
          0.9376432476198631,
          0.9376432476198631,
          0.9376432476198631,
          0.8893017025063101,
          0.8893017025063101,
          0.9057958803678685,
          1.160117231822824,
          1.160117231822824,
          0.8918606888331483,
          0.8951019559858991,
          0.8893017025063101,
          0.8893017025063101,
          0.8603380065709936,
          0.9057958803678685,
          0.888364858208229,
          1.7520161627818558,
          0.9057958803678685,
          1.159994059673218,
          1.159994059673218,
          0.8481891169913987,
          0.9057958803678685,
          0.8603380065709936,
          0.8748179903590257,
          0.8748179903590257,
          0.888364858208229,
          0.8893017025063101,
          0.8893017025063101,
          0.882479000104162,
          0.8893017025063101,
          0.9057958803678685,
          0.897396139155446,
          0.897396139155446,
          0.897396139155446,
          0.9057958803678685,
          1.2013971243204515,
          1.2013971243204515,
          1.2013971243204515,
          0.8603380065709936,
          0.9115996713106952,
          1.2068258760318495,
          1.2068258760318495,
          0.9376432476198631,
          0.8588378514285854,
          0.9057958803678685,
          1.0218794853859854,
          1.0073551143702493,
          0.8419848045901138,
          0.8893017025063101,
          1.1583624920952496,
          1.1583624920952496,
          1.1583624920952496,
          0.897396139155446,
          0.897396139155446,
          1.382917135087531,
          0.9057958803678685,
          1.382917135087531,
          0.9057958803678685,
          1.2068258760318495,
          1.2068258760318495,
          1.2405492482825995,
          1.2405492482825995,
          0.9777236052888477,
          0.9777236052888477,
          1.3133398438843074,
          1.3133398438843074,
          1.3133398438843074,
          1.3133398438843074,
          0.897396139155446,
          0.897396139155446,
          0.897396139155446,
          0.8603380065709936,
          0.8603380065709936,
          0.8964821244409461,
          0.897396139155446,
          0.9376432476198631,
          0.897396139155446,
          0.8590902399212491,
          0.8893017025063101,
          0.9057958803678685,
          1.0960405542954275,
          0.8893017025063101,
          0.9057958803678685,
          0.897396139155446,
          0.8893017025063101,
          0.8779469516291882,
          1.143014800254095,
          1.143014800254095,
          0.890700397698875,
          0.890700397698875,
          0.8435442119456351,
          0.8588378514285854,
          0.8590902399212491,
          0.8590902399212491,
          0.8590902399212491,
          0.8603380065709936,
          1.0960405542954275,
          0.8588378514285854,
          1.1789769472931695,
          0.8893017025063101,
          0.8481891169913987,
          0.8918606888331483,
          0.8893017025063101,
          0.8893017025063101,
          0.8419848045901138,
          0.8964821244409461,
          0.8893017025063101,
          1.7520161627818558,
          1.5362427068383189,
          1.5362427068383189,
          0.9057958803678685,
          1.5362427068383189,
          1.5362427068383189,
          1.5362427068383189,
          0.8893017025063101,
          0.8603380065709936,
          0.888836337885939,
          1.1613680022349748,
          0.897396139155446,
          0.9057958803678685,
          0.888364858208229,
          0.8893017025063101,
          1.3122831657914782,
          1.3122831657914782,
          0.8948696567452523,
          1.3122831657914782,
          0.8481891169913987,
          1.6711728427150832,
          1.6711728427150832,
          1.6711728427150832,
          1.6711728427150832,
          1.6711728427150832,
          1.6711728427150832,
          1.6711728427150832,
          1.6711728427150832,
          0.9057958803678685,
          0.9223361307758794,
          0.9057958803678685,
          0.9932510096026348,
          0.8989992708897891,
          0.8989992708897891,
          0.890700397698875,
          0.9469432706978252,
          0.888364858208229,
          1.3003062927015676,
          1.3003062927015676,
          1.2000292665537702,
          1.2000292665537702,
          0.9777236052888477,
          0.8590902399212491,
          1.1494746859656342,
          0.8951019559858991,
          0.8951019559858991,
          1.1494746859656342,
          0.8779469516291882,
          0.8603380065709936,
          0.83621647837224,
          1.2738689935949645,
          0.8893017025063101,
          0.8435442119456351,
          1.7520161627818558,
          0.8293037728310249,
          0.8989992708897891,
          0.8989992708897891,
          0.9524291686758565,
          0.897396139155446,
          0.890700397698875,
          0.8893017025063101,
          1.0894635308401919,
          1.0894635308401919,
          0.8095597146352677,
          1.3526647996511003,
          0.8989992708897891,
          0.8893017025063101,
          0.9057958803678685,
          0.8836614351536175,
          0.8969393722521907,
          0.8590902399212491,
          0.897396139155446,
          0.8989992708897891,
          0.8989992708897891,
          0.897396139155446,
          0.897396139155446,
          0.8918606888331483,
          0.8481891169913987,
          0.8951019559858991,
          0.8951019559858991,
          0.8484477685814086,
          0.8893017025063101,
          0.9091547098084255,
          0.8126326448917516,
          0.890700397698875,
          0.8918606888331483,
          0.9372269275963212,
          0.890700397698875,
          0.8951019559858991,
          1.0466239118070755,
          1.0466239118070755,
          0,
          0.890700397698875,
          0,
          1.0466239118070755,
          1.370142847051102,
          1.370142847051102,
          1.370142847051102,
          1.370142847051102,
          0.897396139155446,
          0.8951019559858991,
          0.8951019559858991,
          0.9923325590474642,
          0.9923325590474642,
          0.8989992708897891,
          0.8527848686805478,
          0.9259975498737829,
          0.897396139155446,
          0.8918606888331483,
          0.8951019559858991,
          0.8762640396749157,
          1.1276457089753862,
          1.1276457089753862,
          0.8590902399212491,
          0.8590902399212491,
          0.8893017025063101,
          0.8603380065709936,
          0.8893017025063101,
          0.8893017025063101,
          0.8937173874301431,
          0.9057958803678685,
          0.8893017025063101,
          1.159994059673218,
          1.159994059673218,
          0.8893017025063101,
          0.8893017025063101,
          0.8886006620281743,
          0.9376432476198631,
          0.9376432476198631,
          1.3429159170840854,
          1.3429159170840854,
          1.3429159170840854,
          1.0857649383523946,
          0.8951019559858991,
          1.0857649383523946,
          0.897396139155446,
          0.8590902399212491,
          0.8588378514285854,
          0.9817053769570374,
          0.897396139155446,
          1.7520161627818558,
          1.7520161627818558,
          0.8603380065709936,
          0.8893017025063101,
          1.7520161627818558,
          0.9769594894903549,
          0.890700397698875,
          0.890700397698875,
          0.8588378514285854,
          1.40597267230393,
          1.40597267230393,
          1.40597267230393,
          1.40597267230393,
          1.40597267230393,
          0.8989992708897891,
          0.8087172420492473,
          1.1903316981702914,
          1.1903316981702914,
          0,
          1.382917135087531,
          0.9777236052888477,
          0.890700397698875,
          0.8893017025063101,
          1.1917303933628562,
          1.1917303933628562,
          0.8989992708897891,
          0.8964821244409461,
          1.7520161627818558,
          0.8779469516291882,
          1.2068258760318495,
          1.2068258760318495,
          0.8964821244409461,
          0.8603380065709936,
          0.9376432476198631,
          0.8484477685814086,
          0.8951019559858991,
          0.8796233673838814,
          0.897396139155446,
          0.8779469516291882,
          0.8893017025063101,
          0.8538016029162658,
          0.8527848686805478,
          0.8964821244409461,
          0.8893017025063101,
          0.9057958803678685,
          0.8989992708897891,
          0.8590902399212491,
          0.8893017025063101,
          0.8886006620281743,
          0.8590902399212491,
          0.897396139155446,
          0.897396139155446,
          0.8588378514285854,
          0.897396139155446,
          0.8893017025063101,
          0.8893017025063101,
          1.3664229572259727,
          1.3664229572259727,
          1.3664229572259727,
          0.891398059667226,
          1.1903316981702914,
          0.8964821244409461,
          0.9046722759270556,
          0.8893017025063101,
          0.8893017025063101,
          1.2068258760318495,
          1.2068258760318495,
          0.8893017025063101,
          0.9057958803678685,
          0.9057958803678685,
          0.9057958803678685,
          0.8893017025063101,
          0.890700397698875,
          0.9057958803678685,
          0.897396139155446,
          0.897396139155446,
          0.897396139155446,
          0.897396139155446,
          0.8964821244409461,
          0.8836614351536175,
          1.0960405542954275,
          1.0960405542954275,
          0.9057958803678685,
          1.382917135087531,
          1.382917135087531,
          0.927283084692887,
          0.9057958803678685,
          0.8893017025063101,
          0.890700397698875,
          1.1831502182369709,
          1.1831502182369709,
          1.1831502182369709,
          0.8590902399212491,
          0.9057958803678685,
          0.888364858208229,
          0.8893017025063101,
          0.9057958803678685,
          1.1903316981702914,
          1.1903316981702914,
          1.1903316981702914,
          0.8893017025063101,
          0.897396139155446,
          0.8588378514285854,
          1.1970516315015716,
          1.1970516315015716,
          1.1970516315015716,
          0.9057958803678685,
          0.897396139155446,
          0.8590902399212491,
          0.8893017025063101,
          0.897396139155446,
          1.0508319913747257,
          1.0508319913747257,
          0.8989992708897891,
          0.9057958803678685,
          0.890700397698875,
          0.8951019559858991,
          0.8951019559858991,
          0.8527848686805478,
          0.8989992708897891,
          0.8920946026904804,
          0.8590902399212491,
          0.8893017025063101,
          0.7950105586314462,
          1.1903316981702914,
          0.8937173874301431,
          1.1903316981702914,
          0.888364858208229,
          0.8893017025063101,
          0.8893017025063101,
          0.9649663748310978,
          0.8893017025063101,
          0.8893017025063101,
          0.8964821244409461,
          0.890700397698875,
          0.8893017025063101,
          0.8937173874301431,
          0.5011688495213618,
          1.3526647996511003,
          0.9244963790341119,
          0.8640658790902368,
          0.8951019559858991,
          0.8951019559858991,
          0.890700397698875,
          0.9649663748310978,
          0.9376432476198631,
          0.9376432476198631,
          0.9376432476198631,
          0.9645754516035013,
          0.9386848057553607,
          0.882479000104162,
          1.32376758329678,
          1.32376758329678,
          1.32376758329678,
          1.32376758329678,
          1.32376758329678,
          1.5986537426360508,
          1.5986537426360508,
          1.5986537426360508,
          1.5986537426360508,
          1.5986537426360508,
          1.5986537426360508,
          0.9376432476198631,
          1.1613680022349748,
          0.9401427911060658,
          0.897396139155446,
          1.1390916075238224,
          1.1390916075238224,
          1.1390916075238224,
          0.8450980400142567,
          0.890700397698875,
          0.9057958803678685,
          0.8989992708897891,
          0.8989992708897891,
          0.8603380065709936,
          0.890700397698875,
          1.3494387791478988,
          1.3494387791478988,
          1.3494387791478988,
          0.9104910015762483,
          0.9057958803678685,
          0.897396139155446,
          0.897396139155446,
          0.897396139155446,
          0.890700397698875,
          0.890700397698875,
          0.9057958803678685,
          0.897396139155446,
          0.9376432476198631,
          0.9376432476198631,
          0.897396139155446,
          0.9091547098084255,
          0.8590902399212491,
          0.8603380065709936,
          0.897396139155446,
          0.9057958803678685,
          1.4642659340340753,
          1.4642659340340753,
          1.4642659340340753,
          1.4642659340340753,
          1.4642659340340753,
          1.4642659340340753,
          1.5986537426360508,
          0.8527848686805478,
          0.8876623026135756,
          1.1613680022349748,
          1.1613680022349748,
          1.1613680022349748,
          1.1613680022349748,
          0.9057958803678685,
          0.890700397698875,
          1.3056200329144574,
          1.3056200329144574,
          1.3056200329144574,
          0.9057958803678685,
          0.9057958803678685,
          0.9057958803678685,
          0.8893017025063101,
          1.382917135087531,
          0.8590902399212491,
          0.8588378514285854,
          0.8588378514285854,
          0.8881345452035359,
          0.8793826371743426,
          0.8603380065709936,
          1.842297134328065,
          1.842297134328065,
          1.842297134328065,
          1.842297134328065,
          1.842297134328065,
          1.842297134328065,
          1.842297134328065,
          1.842297134328065,
          1.842297134328065,
          1.842297134328065,
          1.842297134328065,
          0.9696488404807251,
          0.8836614351536175,
          0.8989992708897891,
          1.3360432519440277,
          1.3360432519440277,
          1.3360432519440277,
          1.2227164711475833,
          1.2227164711475833,
          1.2227164711475833,
          0.9777236052888477,
          0.9057958803678685,
          0.9057958803678685,
          0.8878984880968722,
          0.897396139155446,
          0.8893017025063101,
          0.9777236052888477,
          1.1789769472931695,
          0.8909349371632417,
          0.9057958803678685,
          0.9057958803678685,
          0.8590902399212491,
          0.9057958803678685,
          0.897396139155446,
          0.8989992708897891,
          0.8748179903590257,
          1.4456042032735974,
          1.4456042032735974,
          1.4456042032735974,
          1.4456042032735974,
          1.4456042032735974,
          1.4456042032735974,
          0.897396139155446,
          0.9057958803678685,
          0.9376432476198631,
          0.8893017025063101,
          0.888364858208229,
          0.8836614351536175,
          0.9057958803678685,
          0.9057958803678685,
          0.9057958803678685,
          0.897396139155446,
          0.9376432476198631,
          0.8779469516291882,
          0.9057958803678685,
          0,
          0.897396139155446,
          0.9928847453671208,
          0.8989992708897891,
          0.9376432476198631,
          1.0196354710013162,
          1.0196354710013162,
          0.9057958803678685,
          0.8989992708897891,
          0.8481891169913987,
          0.890700397698875,
          0.9649663748310978,
          0.8918606888331483,
          0.8918606888331483,
          0.9057958803678685,
          0.9302713495304507,
          0.8087172420492473,
          0.8087172420492473,
          0.8588378514285854,
          0.9302713495304507,
          0.9057958803678685,
          1.2068258760318495,
          1.2068258760318495,
          0.8989992708897891,
          0.8893017025063101,
          0.897396139155446,
          0.9057958803678685,
          0.9057958803678685,
          0.8590902399212491,
          0,
          0.8590902399212491,
          1.1831502182369709,
          1.1831502182369709,
          1.1831502182369709,
          0.897396139155446,
          0.9930701225015256,
          0.9817053769570374,
          1.1613680022349748,
          1.1613680022349748,
          1.1613680022349748,
          1.382917135087531,
          1.382917135087531,
          1.382917135087531,
          0.9777236052888477,
          0.9777236052888477,
          0.9777236052888477,
          0.9777236052888477,
          0.9542425094393249,
          1.2552725051033058,
          1.2552725051033058,
          1.2552725051033058,
          1.2552725051033058,
          0.8588378514285854,
          0.8951019559858991,
          0.8951019559858991,
          0.897396139155446,
          0.9542425094393249,
          0.9057958803678685,
          0.8779469516291882,
          0.9057958803678685,
          0.9777236052888477,
          0.8590902399212491,
          0.8893017025063101,
          0.8126326448917516,
          0.8126326448917516,
          0.8450980400142567,
          0.9401427911060658,
          0.8779469516291882,
          0.9057958803678685,
          1.2068258760318495,
          0.8603380065709936,
          0.9376432476198631,
          0.8603380065709936,
          0.9777236052888477,
          1.159994059673218,
          1.159994059673218,
          0.8588378514285854,
          0.8588378514285854,
          1.160117231822824,
          1.159994059673218,
          1.159994059673218,
          0.8588378514285854,
          0.8588378514285854,
          0.896250562461638
         ]
        }
       ],
       "layout": {
        "boxmode": "overlay",
        "height": 600,
        "legend": {
         "title": {
          "text": "Survived"
         },
         "tracegroupgap": 0
        },
        "margin": {
         "t": 60
        },
        "template": {
         "data": {
          "bar": [
           {
            "error_x": {
             "color": "#2a3f5f"
            },
            "error_y": {
             "color": "#2a3f5f"
            },
            "marker": {
             "line": {
              "color": "white",
              "width": 0.5
             },
             "pattern": {
              "fillmode": "overlay",
              "size": 10,
              "solidity": 0.2
             }
            },
            "type": "bar"
           }
          ],
          "barpolar": [
           {
            "marker": {
             "line": {
              "color": "white",
              "width": 0.5
             },
             "pattern": {
              "fillmode": "overlay",
              "size": 10,
              "solidity": 0.2
             }
            },
            "type": "barpolar"
           }
          ],
          "carpet": [
           {
            "aaxis": {
             "endlinecolor": "#2a3f5f",
             "gridcolor": "#C8D4E3",
             "linecolor": "#C8D4E3",
             "minorgridcolor": "#C8D4E3",
             "startlinecolor": "#2a3f5f"
            },
            "baxis": {
             "endlinecolor": "#2a3f5f",
             "gridcolor": "#C8D4E3",
             "linecolor": "#C8D4E3",
             "minorgridcolor": "#C8D4E3",
             "startlinecolor": "#2a3f5f"
            },
            "type": "carpet"
           }
          ],
          "choropleth": [
           {
            "colorbar": {
             "outlinewidth": 0,
             "ticks": ""
            },
            "type": "choropleth"
           }
          ],
          "contour": [
           {
            "colorbar": {
             "outlinewidth": 0,
             "ticks": ""
            },
            "colorscale": [
             [
              0,
              "#0d0887"
             ],
             [
              0.1111111111111111,
              "#46039f"
             ],
             [
              0.2222222222222222,
              "#7201a8"
             ],
             [
              0.3333333333333333,
              "#9c179e"
             ],
             [
              0.4444444444444444,
              "#bd3786"
             ],
             [
              0.5555555555555556,
              "#d8576b"
             ],
             [
              0.6666666666666666,
              "#ed7953"
             ],
             [
              0.7777777777777778,
              "#fb9f3a"
             ],
             [
              0.8888888888888888,
              "#fdca26"
             ],
             [
              1,
              "#f0f921"
             ]
            ],
            "type": "contour"
           }
          ],
          "contourcarpet": [
           {
            "colorbar": {
             "outlinewidth": 0,
             "ticks": ""
            },
            "type": "contourcarpet"
           }
          ],
          "heatmap": [
           {
            "colorbar": {
             "outlinewidth": 0,
             "ticks": ""
            },
            "colorscale": [
             [
              0,
              "#0d0887"
             ],
             [
              0.1111111111111111,
              "#46039f"
             ],
             [
              0.2222222222222222,
              "#7201a8"
             ],
             [
              0.3333333333333333,
              "#9c179e"
             ],
             [
              0.4444444444444444,
              "#bd3786"
             ],
             [
              0.5555555555555556,
              "#d8576b"
             ],
             [
              0.6666666666666666,
              "#ed7953"
             ],
             [
              0.7777777777777778,
              "#fb9f3a"
             ],
             [
              0.8888888888888888,
              "#fdca26"
             ],
             [
              1,
              "#f0f921"
             ]
            ],
            "type": "heatmap"
           }
          ],
          "histogram": [
           {
            "marker": {
             "pattern": {
              "fillmode": "overlay",
              "size": 10,
              "solidity": 0.2
             }
            },
            "type": "histogram"
           }
          ],
          "histogram2d": [
           {
            "colorbar": {
             "outlinewidth": 0,
             "ticks": ""
            },
            "colorscale": [
             [
              0,
              "#0d0887"
             ],
             [
              0.1111111111111111,
              "#46039f"
             ],
             [
              0.2222222222222222,
              "#7201a8"
             ],
             [
              0.3333333333333333,
              "#9c179e"
             ],
             [
              0.4444444444444444,
              "#bd3786"
             ],
             [
              0.5555555555555556,
              "#d8576b"
             ],
             [
              0.6666666666666666,
              "#ed7953"
             ],
             [
              0.7777777777777778,
              "#fb9f3a"
             ],
             [
              0.8888888888888888,
              "#fdca26"
             ],
             [
              1,
              "#f0f921"
             ]
            ],
            "type": "histogram2d"
           }
          ],
          "histogram2dcontour": [
           {
            "colorbar": {
             "outlinewidth": 0,
             "ticks": ""
            },
            "colorscale": [
             [
              0,
              "#0d0887"
             ],
             [
              0.1111111111111111,
              "#46039f"
             ],
             [
              0.2222222222222222,
              "#7201a8"
             ],
             [
              0.3333333333333333,
              "#9c179e"
             ],
             [
              0.4444444444444444,
              "#bd3786"
             ],
             [
              0.5555555555555556,
              "#d8576b"
             ],
             [
              0.6666666666666666,
              "#ed7953"
             ],
             [
              0.7777777777777778,
              "#fb9f3a"
             ],
             [
              0.8888888888888888,
              "#fdca26"
             ],
             [
              1,
              "#f0f921"
             ]
            ],
            "type": "histogram2dcontour"
           }
          ],
          "mesh3d": [
           {
            "colorbar": {
             "outlinewidth": 0,
             "ticks": ""
            },
            "type": "mesh3d"
           }
          ],
          "parcoords": [
           {
            "line": {
             "colorbar": {
              "outlinewidth": 0,
              "ticks": ""
             }
            },
            "type": "parcoords"
           }
          ],
          "pie": [
           {
            "automargin": true,
            "type": "pie"
           }
          ],
          "scatter": [
           {
            "fillpattern": {
             "fillmode": "overlay",
             "size": 10,
             "solidity": 0.2
            },
            "type": "scatter"
           }
          ],
          "scatter3d": [
           {
            "line": {
             "colorbar": {
              "outlinewidth": 0,
              "ticks": ""
             }
            },
            "marker": {
             "colorbar": {
              "outlinewidth": 0,
              "ticks": ""
             }
            },
            "type": "scatter3d"
           }
          ],
          "scattercarpet": [
           {
            "marker": {
             "colorbar": {
              "outlinewidth": 0,
              "ticks": ""
             }
            },
            "type": "scattercarpet"
           }
          ],
          "scattergeo": [
           {
            "marker": {
             "colorbar": {
              "outlinewidth": 0,
              "ticks": ""
             }
            },
            "type": "scattergeo"
           }
          ],
          "scattergl": [
           {
            "marker": {
             "colorbar": {
              "outlinewidth": 0,
              "ticks": ""
             }
            },
            "type": "scattergl"
           }
          ],
          "scattermap": [
           {
            "marker": {
             "colorbar": {
              "outlinewidth": 0,
              "ticks": ""
             }
            },
            "type": "scattermap"
           }
          ],
          "scattermapbox": [
           {
            "marker": {
             "colorbar": {
              "outlinewidth": 0,
              "ticks": ""
             }
            },
            "type": "scattermapbox"
           }
          ],
          "scatterpolar": [
           {
            "marker": {
             "colorbar": {
              "outlinewidth": 0,
              "ticks": ""
             }
            },
            "type": "scatterpolar"
           }
          ],
          "scatterpolargl": [
           {
            "marker": {
             "colorbar": {
              "outlinewidth": 0,
              "ticks": ""
             }
            },
            "type": "scatterpolargl"
           }
          ],
          "scatterternary": [
           {
            "marker": {
             "colorbar": {
              "outlinewidth": 0,
              "ticks": ""
             }
            },
            "type": "scatterternary"
           }
          ],
          "surface": [
           {
            "colorbar": {
             "outlinewidth": 0,
             "ticks": ""
            },
            "colorscale": [
             [
              0,
              "#0d0887"
             ],
             [
              0.1111111111111111,
              "#46039f"
             ],
             [
              0.2222222222222222,
              "#7201a8"
             ],
             [
              0.3333333333333333,
              "#9c179e"
             ],
             [
              0.4444444444444444,
              "#bd3786"
             ],
             [
              0.5555555555555556,
              "#d8576b"
             ],
             [
              0.6666666666666666,
              "#ed7953"
             ],
             [
              0.7777777777777778,
              "#fb9f3a"
             ],
             [
              0.8888888888888888,
              "#fdca26"
             ],
             [
              1,
              "#f0f921"
             ]
            ],
            "type": "surface"
           }
          ],
          "table": [
           {
            "cells": {
             "fill": {
              "color": "#EBF0F8"
             },
             "line": {
              "color": "white"
             }
            },
            "header": {
             "fill": {
              "color": "#C8D4E3"
             },
             "line": {
              "color": "white"
             }
            },
            "type": "table"
           }
          ]
         },
         "layout": {
          "annotationdefaults": {
           "arrowcolor": "#2a3f5f",
           "arrowhead": 0,
           "arrowwidth": 1
          },
          "autotypenumbers": "strict",
          "coloraxis": {
           "colorbar": {
            "outlinewidth": 0,
            "ticks": ""
           }
          },
          "colorscale": {
           "diverging": [
            [
             0,
             "#8e0152"
            ],
            [
             0.1,
             "#c51b7d"
            ],
            [
             0.2,
             "#de77ae"
            ],
            [
             0.3,
             "#f1b6da"
            ],
            [
             0.4,
             "#fde0ef"
            ],
            [
             0.5,
             "#f7f7f7"
            ],
            [
             0.6,
             "#e6f5d0"
            ],
            [
             0.7,
             "#b8e186"
            ],
            [
             0.8,
             "#7fbc41"
            ],
            [
             0.9,
             "#4d9221"
            ],
            [
             1,
             "#276419"
            ]
           ],
           "sequential": [
            [
             0,
             "#0d0887"
            ],
            [
             0.1111111111111111,
             "#46039f"
            ],
            [
             0.2222222222222222,
             "#7201a8"
            ],
            [
             0.3333333333333333,
             "#9c179e"
            ],
            [
             0.4444444444444444,
             "#bd3786"
            ],
            [
             0.5555555555555556,
             "#d8576b"
            ],
            [
             0.6666666666666666,
             "#ed7953"
            ],
            [
             0.7777777777777778,
             "#fb9f3a"
            ],
            [
             0.8888888888888888,
             "#fdca26"
            ],
            [
             1,
             "#f0f921"
            ]
           ],
           "sequentialminus": [
            [
             0,
             "#0d0887"
            ],
            [
             0.1111111111111111,
             "#46039f"
            ],
            [
             0.2222222222222222,
             "#7201a8"
            ],
            [
             0.3333333333333333,
             "#9c179e"
            ],
            [
             0.4444444444444444,
             "#bd3786"
            ],
            [
             0.5555555555555556,
             "#d8576b"
            ],
            [
             0.6666666666666666,
             "#ed7953"
            ],
            [
             0.7777777777777778,
             "#fb9f3a"
            ],
            [
             0.8888888888888888,
             "#fdca26"
            ],
            [
             1,
             "#f0f921"
            ]
           ]
          },
          "colorway": [
           "#636efa",
           "#EF553B",
           "#00cc96",
           "#ab63fa",
           "#FFA15A",
           "#19d3f3",
           "#FF6692",
           "#B6E880",
           "#FF97FF",
           "#FECB52"
          ],
          "font": {
           "color": "#2a3f5f"
          },
          "geo": {
           "bgcolor": "white",
           "lakecolor": "white",
           "landcolor": "white",
           "showlakes": true,
           "showland": true,
           "subunitcolor": "#C8D4E3"
          },
          "hoverlabel": {
           "align": "left"
          },
          "hovermode": "closest",
          "mapbox": {
           "style": "light"
          },
          "paper_bgcolor": "white",
          "plot_bgcolor": "white",
          "polar": {
           "angularaxis": {
            "gridcolor": "#EBF0F8",
            "linecolor": "#EBF0F8",
            "ticks": ""
           },
           "bgcolor": "white",
           "radialaxis": {
            "gridcolor": "#EBF0F8",
            "linecolor": "#EBF0F8",
            "ticks": ""
           }
          },
          "scene": {
           "xaxis": {
            "backgroundcolor": "white",
            "gridcolor": "#DFE8F3",
            "gridwidth": 2,
            "linecolor": "#EBF0F8",
            "showbackground": true,
            "ticks": "",
            "zerolinecolor": "#EBF0F8"
           },
           "yaxis": {
            "backgroundcolor": "white",
            "gridcolor": "#DFE8F3",
            "gridwidth": 2,
            "linecolor": "#EBF0F8",
            "showbackground": true,
            "ticks": "",
            "zerolinecolor": "#EBF0F8"
           },
           "zaxis": {
            "backgroundcolor": "white",
            "gridcolor": "#DFE8F3",
            "gridwidth": 2,
            "linecolor": "#EBF0F8",
            "showbackground": true,
            "ticks": "",
            "zerolinecolor": "#EBF0F8"
           }
          },
          "shapedefaults": {
           "line": {
            "color": "#2a3f5f"
           }
          },
          "ternary": {
           "aaxis": {
            "gridcolor": "#DFE8F3",
            "linecolor": "#A2B1C6",
            "ticks": ""
           },
           "baxis": {
            "gridcolor": "#DFE8F3",
            "linecolor": "#A2B1C6",
            "ticks": ""
           },
           "bgcolor": "white",
           "caxis": {
            "gridcolor": "#DFE8F3",
            "linecolor": "#A2B1C6",
            "ticks": ""
           }
          },
          "title": {
           "x": 0.05
          },
          "xaxis": {
           "automargin": true,
           "gridcolor": "#EBF0F8",
           "linecolor": "#EBF0F8",
           "ticks": "",
           "title": {
            "standoff": 15
           },
           "zerolinecolor": "#EBF0F8",
           "zerolinewidth": 2
          },
          "yaxis": {
           "automargin": true,
           "gridcolor": "#EBF0F8",
           "linecolor": "#EBF0F8",
           "ticks": "",
           "title": {
            "standoff": 15
           },
           "zerolinecolor": "#EBF0F8",
           "zerolinewidth": 2
          }
         }
        },
        "title": {
         "text": "Fare (log₁₀) by Passenger Class"
        },
        "width": 800,
        "xaxis": {
         "anchor": "y",
         "domain": [
          0,
          1
         ],
         "tickmode": "array",
         "ticktext": [
          "1<br>(n=323, s=61.9%)",
          "2<br>(n=277, s=43.0%)",
          "3<br>(n=709, s=25.5%)"
         ],
         "tickvals": [
          1,
          2,
          3
         ],
         "title": {
          "text": "Passenger Class"
         }
        },
        "yaxis": {
         "anchor": "x",
         "domain": [
          0,
          1
         ],
         "title": {
          "text": "Fare (log₁₀)"
         }
        }
       }
      }
     },
     "metadata": {},
     "output_type": "display_data"
    }
   ],
   "source": [
    "ChartingHelper.create_strip_boxplot(titanic_passengers_cleaned, 'Pclass', 'FareLog10')"
   ]
  },
  {
   "cell_type": "markdown",
   "id": "746181eb",
   "metadata": {},
   "source": [
    "### Was occupation a factor?\n",
    "\n",
    "Interesting that all 8 of the reverands on board perished."
   ]
  },
  {
   "cell_type": "code",
   "execution_count": 8,
   "id": "bjjxjwmzmjd",
   "metadata": {},
   "outputs": [
    {
     "data": {
      "application/vnd.plotly.v1+json": {
       "config": {
        "plotlyServerURL": "https://plot.ly"
       },
       "data": [
        {
         "alignmentgroup": "True",
         "boxpoints": "all",
         "customdata": [
          [
           "Allen, Miss. Elisabeth Walton",
           "female",
           1,
           "Southampton"
          ],
          [
           "Allison, Master. Hudson Trevor",
           "male",
           1,
           "Southampton"
          ],
          [
           "Anderson, Mr. Harry",
           "male",
           1,
           "Southampton"
          ],
          [
           "Andrews, Miss. Kornelia Theodosia",
           "female",
           1,
           "Southampton"
          ],
          [
           "Appleton, Mrs. Edward Dale (Charlotte Lamson)",
           "female",
           1,
           "Southampton"
          ],
          [
           "Astor, Mrs. John Jacob (Madeleine Talmadge Force)",
           "female",
           1,
           "Cherbourg"
          ],
          [
           "Aubart, Mme. Leontine Pauline",
           "female",
           1,
           "Cherbourg"
          ],
          [
           "Barber, Miss. Ellen \"Nellie\"",
           "female",
           1,
           "Southampton"
          ],
          [
           "Barkworth, Mr. Algernon Henry Wilson",
           "male",
           1,
           "Southampton"
          ],
          [
           "Baxter, Mrs. James (Helene DeLaudeniere Chaput)",
           "female",
           1,
           "Cherbourg"
          ],
          [
           "Bazzani, Miss. Albina",
           "female",
           1,
           "Cherbourg"
          ],
          [
           "Beckwith, Mr. Richard Leonard",
           "male",
           1,
           "Southampton"
          ],
          [
           "Beckwith, Mrs. Richard Leonard (Sallie Monypeny)",
           "female",
           1,
           "Southampton"
          ],
          [
           "Behr, Mr. Karl Howell",
           "male",
           1,
           "Cherbourg"
          ],
          [
           "Bidois, Miss. Rosalie",
           "female",
           1,
           "Cherbourg"
          ],
          [
           "Bird, Miss. Ellen",
           "female",
           1,
           "Southampton"
          ],
          [
           "Bishop, Mr. Dickinson H",
           "male",
           1,
           "Cherbourg"
          ],
          [
           "Bishop, Mrs. Dickinson H (Helen Walton)",
           "female",
           1,
           "Cherbourg"
          ],
          [
           "Bissette, Miss. Amelia",
           "female",
           1,
           "Southampton"
          ],
          [
           "Bjornstrom-Steffansson, Mr. Mauritz Hakan",
           "male",
           1,
           "Southampton"
          ],
          [
           "Blank, Mr. Henry",
           "male",
           1,
           "Cherbourg"
          ],
          [
           "Bonnell, Miss. Caroline",
           "female",
           1,
           "Southampton"
          ],
          [
           "Bonnell, Miss. Elizabeth",
           "female",
           1,
           "Southampton"
          ],
          [
           "Bowen, Miss. Grace Scott",
           "female",
           1,
           "Cherbourg"
          ],
          [
           "Bowerman, Miss. Elsie Edith",
           "female",
           1,
           "Southampton"
          ],
          [
           "Bradley, Mr. George (\"George Arthur Brayton\")",
           "male",
           1,
           "Southampton"
          ],
          [
           "Brown, Mrs. James Joseph (Margaret Tobin)",
           "female",
           1,
           "Cherbourg"
          ],
          [
           "Brown, Mrs. John Murray (Caroline Lane Lamson)",
           "female",
           1,
           "Southampton"
          ],
          [
           "Bucknell, Mrs. William Robert (Emma Eliza Ward)",
           "female",
           1,
           "Cherbourg"
          ],
          [
           "Burns, Miss. Elizabeth Margaret",
           "female",
           1,
           "Cherbourg"
          ],
          [
           "Calderhead, Mr. Edward Pennington",
           "male",
           1,
           "Southampton"
          ],
          [
           "Candee, Mrs. Edward (Helen Churchill Hungerford)",
           "female",
           1,
           "Cherbourg"
          ],
          [
           "Cardeza, Mr. Thomas Drake Martinez",
           "male",
           1,
           "Cherbourg"
          ],
          [
           "Cardeza, Mrs. James Warburton Martinez (Charlotte Wardle Drake)",
           "female",
           1,
           "Cherbourg"
          ],
          [
           "Carter, Master. William Thornton II",
           "male",
           1,
           "Southampton"
          ],
          [
           "Carter, Miss. Lucile Polk",
           "female",
           1,
           "Southampton"
          ],
          [
           "Carter, Mr. William Ernest",
           "male",
           1,
           "Southampton"
          ],
          [
           "Carter, Mrs. William Ernest (Lucile Polk)",
           "female",
           1,
           "Southampton"
          ],
          [
           "Cassebeer, Mrs. Henry Arthur Jr (Eleanor Genevieve Fosdick)",
           "female",
           1,
           "Cherbourg"
          ],
          [
           "Cavendish, Mrs. Tyrell William (Julia Florence Siegel)",
           "female",
           1,
           "Southampton"
          ],
          [
           "Chaffee, Mrs. Herbert Fuller (Carrie Constance Toogood)",
           "female",
           1,
           "Southampton"
          ],
          [
           "Chambers, Mr. Norman Campbell",
           "male",
           1,
           "Southampton"
          ],
          [
           "Chambers, Mrs. Norman Campbell (Bertha Griggs)",
           "female",
           1,
           "Southampton"
          ],
          [
           "Chaudanson, Miss. Victorine",
           "female",
           1,
           "Cherbourg"
          ],
          [
           "Cherry, Miss. Gladys",
           "female",
           1,
           "Southampton"
          ],
          [
           "Chevre, Mr. Paul Romaine",
           "male",
           1,
           "Cherbourg"
          ],
          [
           "Chibnall, Mrs. (Edith Martha Bowerman)",
           "female",
           1,
           "Southampton"
          ],
          [
           "Clark, Mrs. Walter Miller (Virginia McDowell)",
           "female",
           1,
           "Cherbourg"
          ],
          [
           "Cleaver, Miss. Alice",
           "female",
           1,
           "Southampton"
          ],
          [
           "Compton, Miss. Sara Rebecca",
           "female",
           1,
           "Cherbourg"
          ],
          [
           "Compton, Mrs. Alexander Taylor (Mary Eliza Ingersoll)",
           "female",
           1,
           "Cherbourg"
          ],
          [
           "Cornell, Mrs. Robert Clifford (Malvina Helen Lamson)",
           "female",
           1,
           "Southampton"
          ],
          [
           "Crosby, Miss. Harriet R",
           "female",
           1,
           "Southampton"
          ],
          [
           "Crosby, Mrs. Edward Gifford (Catherine Elizabeth Halstead)",
           "female",
           1,
           "Southampton"
          ],
          [
           "Cumings, Mrs. John Bradley (Florence Briggs Thayer)",
           "female",
           1,
           "Cherbourg"
          ],
          [
           "Daly, Mr. Peter Denis ",
           "male",
           1,
           "Southampton"
          ],
          [
           "Daniel, Mr. Robert Williams",
           "male",
           1,
           "Southampton"
          ],
          [
           "Daniels, Miss. Sarah",
           "female",
           1,
           "Southampton"
          ],
          [
           "Davidson, Mrs. Thornton (Orian Hays)",
           "female",
           1,
           "Southampton"
          ],
          [
           "Dick, Mr. Albert Adrian",
           "male",
           1,
           "Southampton"
          ],
          [
           "Dick, Mrs. Albert Adrian (Vera Gillespie)",
           "female",
           1,
           "Southampton"
          ],
          [
           "Dodge, Dr. Washington",
           "male",
           1,
           "Southampton"
          ],
          [
           "Dodge, Master. Washington",
           "male",
           1,
           "Southampton"
          ],
          [
           "Dodge, Mrs. Washington (Ruth Vidaver)",
           "female",
           1,
           "Southampton"
          ],
          [
           "Douglas, Mrs. Frederick Charles (Mary Helene Baxter)",
           "female",
           1,
           "Cherbourg"
          ],
          [
           "Douglas, Mrs. Walter Donald (Mahala Dutton)",
           "female",
           1,
           "Cherbourg"
          ],
          [
           "Duff Gordon, Lady. (Lucille Christiana Sutherland) (\"Mrs Morgan\")",
           "female",
           1,
           "Cherbourg"
          ],
          [
           "Duff Gordon, Sir. Cosmo Edmund (\"Mr Morgan\")",
           "male",
           1,
           "Cherbourg"
          ],
          [
           "Earnshaw, Mrs. Boulton (Olive Potter)",
           "female",
           1,
           "Cherbourg"
          ],
          [
           "Endres, Miss. Caroline Louise",
           "female",
           1,
           "Cherbourg"
          ],
          [
           "Eustis, Miss. Elizabeth Mussey",
           "female",
           1,
           "Cherbourg"
          ],
          [
           "Flegenheim, Mrs. Alfred (Antoinette)",
           "female",
           1,
           "Southampton"
          ],
          [
           "Fleming, Miss. Margaret",
           "female",
           1,
           "Cherbourg"
          ],
          [
           "Flynn, Mr. John Irwin (\"Irving\")",
           "male",
           1,
           "Southampton"
          ],
          [
           "Fortune, Miss. Alice Elizabeth",
           "female",
           1,
           "Southampton"
          ],
          [
           "Fortune, Miss. Ethel Flora",
           "female",
           1,
           "Southampton"
          ],
          [
           "Fortune, Miss. Mabel Helen",
           "female",
           1,
           "Southampton"
          ],
          [
           "Fortune, Mrs. Mark (Mary McDougald)",
           "female",
           1,
           "Southampton"
          ],
          [
           "Francatelli, Miss. Laura Mabel",
           "female",
           1,
           "Cherbourg"
          ],
          [
           "Frauenthal, Dr. Henry William",
           "male",
           1,
           "Southampton"
          ],
          [
           "Frauenthal, Mr. Isaac Gerald",
           "male",
           1,
           "Cherbourg"
          ],
          [
           "Frauenthal, Mrs. Henry William (Clara Heinsheimer)",
           "female",
           1,
           "Southampton"
          ],
          [
           "Frolicher, Miss. Hedwig Margaritha",
           "female",
           1,
           "Cherbourg"
          ],
          [
           "Frolicher-Stehli, Mr. Maxmillian",
           "male",
           1,
           "Cherbourg"
          ],
          [
           "Frolicher-Stehli, Mrs. Maxmillian (Margaretha Emerentia Stehli)",
           "female",
           1,
           "Cherbourg"
          ],
          [
           "Futrelle, Mrs. Jacques Heath (Lily May Peel)",
           "female",
           1,
           "Southampton"
          ],
          [
           "Geiger, Miss. Amalie",
           "female",
           1,
           "Cherbourg"
          ],
          [
           "Gibson, Miss. Dorothy Winifred",
           "female",
           1,
           "Cherbourg"
          ],
          [
           "Gibson, Mrs. Leonard (Pauline C Boeson)",
           "female",
           1,
           "Cherbourg"
          ],
          [
           "Goldenberg, Mr. Samuel L",
           "male",
           1,
           "Cherbourg"
          ],
          [
           "Goldenberg, Mrs. Samuel L (Edwiga Grabowska)",
           "female",
           1,
           "Cherbourg"
          ],
          [
           "Gracie, Col. Archibald IV",
           "male",
           1,
           "Cherbourg"
          ],
          [
           "Graham, Miss. Margaret Edith",
           "female",
           1,
           "Southampton"
          ],
          [
           "Graham, Mrs. William Thompson (Edith Junkins)",
           "female",
           1,
           "Southampton"
          ],
          [
           "Greenfield, Mr. William Bertram",
           "male",
           1,
           "Cherbourg"
          ],
          [
           "Greenfield, Mrs. Leo David (Blanche Strouse)",
           "female",
           1,
           "Cherbourg"
          ],
          [
           "Harder, Mr. George Achilles",
           "male",
           1,
           "Cherbourg"
          ],
          [
           "Harder, Mrs. George Achilles (Dorothy Annan)",
           "female",
           1,
           "Cherbourg"
          ],
          [
           "Harper, Mr. Henry Sleeper",
           "male",
           1,
           "Cherbourg"
          ],
          [
           "Harper, Mrs. Henry Sleeper (Myna Haxtun)",
           "female",
           1,
           "Cherbourg"
          ],
          [
           "Harris, Mrs. Henry Birkhardt (Irene Wallach)",
           "female",
           1,
           "Southampton"
          ],
          [
           "Hassab, Mr. Hammad",
           "male",
           1,
           "Cherbourg"
          ],
          [
           "Hawksford, Mr. Walter James",
           "male",
           1,
           "Southampton"
          ],
          [
           "Hays, Miss. Margaret Bechstein",
           "female",
           1,
           "Cherbourg"
          ],
          [
           "Hays, Mrs. Charles Melville (Clara Jennings Gregg)",
           "female",
           1,
           "Southampton"
          ],
          [
           "Hippach, Miss. Jean Gertrude",
           "female",
           1,
           "Cherbourg"
          ],
          [
           "Hippach, Mrs. Louis Albert (Ida Sophia Fischer)",
           "female",
           1,
           "Cherbourg"
          ],
          [
           "Hogeboom, Mrs. John C (Anna Andrews)",
           "female",
           1,
           "Southampton"
          ],
          [
           "Holverson, Mrs. Alexander Oskar (Mary Aline Towner)",
           "female",
           1,
           "Southampton"
          ],
          [
           "Homer, Mr. Harry (\"Mr E Haven\")",
           "male",
           1,
           "Cherbourg"
          ],
          [
           "Hoyt, Mr. Frederick Maxfield",
           "male",
           1,
           "Southampton"
          ],
          [
           "Hoyt, Mrs. Frederick Maxfield (Jane Anne Forby)",
           "female",
           1,
           "Southampton"
          ],
          [
           "Icard, Miss. Amelie",
           "female",
           1,
           "Southampton"
          ],
          [
           "Ismay, Mr. Joseph Bruce",
           "male",
           1,
           "Southampton"
          ],
          [
           "Kenyon, Mrs. Frederick R (Marion)",
           "female",
           1,
           "Southampton"
          ],
          [
           "Kimball, Mr. Edwin Nelson Jr",
           "male",
           1,
           "Southampton"
          ],
          [
           "Kimball, Mrs. Edwin Nelson Jr (Gertrude Parsons)",
           "female",
           1,
           "Southampton"
          ],
          [
           "Kreuchen, Miss. Emilie",
           "female",
           1,
           "Southampton"
          ],
          [
           "Leader, Dr. Alice (Farnham)",
           "female",
           1,
           "Southampton"
          ],
          [
           "LeRoy, Miss. Bertha",
           "female",
           1,
           "Cherbourg"
          ],
          [
           "Lesurer, Mr. Gustave J",
           "male",
           1,
           "Cherbourg"
          ],
          [
           "Lindstrom, Mrs. Carl Johan (Sigrid Posse)",
           "female",
           1,
           "Cherbourg"
          ],
          [
           "Lines, Miss. Mary Conover",
           "female",
           1,
           "Southampton"
          ],
          [
           "Lines, Mrs. Ernest H (Elizabeth Lindsey James)",
           "female",
           1,
           "Southampton"
          ],
          [
           "Longley, Miss. Gretchen Fiske",
           "female",
           1,
           "Southampton"
          ],
          [
           "Lurette, Miss. Elise",
           "female",
           1,
           "Cherbourg"
          ],
          [
           "Madill, Miss. Georgette Alexandra",
           "female",
           1,
           "Southampton"
          ],
          [
           "Maioni, Miss. Roberta",
           "female",
           1,
           "Southampton"
          ],
          [
           "Marechal, Mr. Pierre",
           "male",
           1,
           "Cherbourg"
          ],
          [
           "Marvin, Mrs. Daniel Warner (Mary Graham Carmichael Farquarson)",
           "female",
           1,
           "Southampton"
          ],
          [
           "Mayne, Mlle. Berthe Antonine (\"Mrs de Villiers\")",
           "female",
           1,
           "Cherbourg"
          ],
          [
           "McGough, Mr. James Robert",
           "male",
           1,
           "Southampton"
          ],
          [
           "Meyer, Mrs. Edgar Joseph (Leila Saks)",
           "female",
           1,
           "Cherbourg"
          ],
          [
           "Minahan, Miss. Daisy E",
           "female",
           1,
           "Queenstown"
          ],
          [
           "Minahan, Mrs. William Edward (Lillian E Thorpe)",
           "female",
           1,
           "Queenstown"
          ],
          [
           "Mock, Mr. Philipp Edmund",
           "male",
           1,
           "Cherbourg"
          ],
          [
           "Newell, Miss. Madeleine",
           "female",
           1,
           "Cherbourg"
          ],
          [
           "Newell, Miss. Marjorie",
           "female",
           1,
           "Cherbourg"
          ],
          [
           "Newsom, Miss. Helen Monypeny",
           "female",
           1,
           "Southampton"
          ],
          [
           "Oliva y Ocana, Dona. Fermina",
           "female",
           1,
           "Cherbourg"
          ],
          [
           "Omont, Mr. Alfred Fernand",
           "male",
           1,
           "Cherbourg"
          ],
          [
           "Ostby, Miss. Helene Ragnhild",
           "female",
           1,
           "Cherbourg"
          ],
          [
           "Pears, Mrs. Thomas (Edith Wearne)",
           "female",
           1,
           "Southampton"
          ],
          [
           "Penasco y Castellana, Mrs. Victor de Satode (Maria Josefa Perez de Soto y Vallejo)",
           "female",
           1,
           "Cherbourg"
          ],
          [
           "Perreault, Miss. Anne",
           "female",
           1,
           "Southampton"
          ],
          [
           "Peuchen, Major. Arthur Godfrey",
           "male",
           1,
           "Southampton"
          ],
          [
           "Potter, Mrs. Thomas Jr (Lily Alexenia Wilson)",
           "female",
           1,
           "Cherbourg"
          ],
          [
           "Rheims, Mr. George Alexander Lucien",
           "male",
           1,
           "Southampton"
          ],
          [
           "Robert, Mrs. Edward Scott (Elisabeth Walton McMillan)",
           "female",
           1,
           "Southampton"
          ],
          [
           "Romaine, Mr. Charles Hallace (\"Mr C Rolmane\")",
           "male",
           1,
           "Southampton"
          ],
          [
           "Rosenbaum, Miss. Edith Louise",
           "female",
           1,
           "Cherbourg"
          ],
          [
           "Rothes, the Countess. of (Lucy Noel Martha Dyer-Edwards)",
           "female",
           1,
           "Southampton"
          ],
          [
           "Rothschild, Mrs. Martin (Elizabeth L. Barrett)",
           "female",
           1,
           "Cherbourg"
          ],
          [
           "Ryerson, Master. John Borie",
           "male",
           1,
           "Cherbourg"
          ],
          [
           "Ryerson, Miss. Emily Borie",
           "female",
           1,
           "Cherbourg"
          ],
          [
           "Ryerson, Miss. Susan Parker \"Suzette\"",
           "female",
           1,
           "Cherbourg"
          ],
          [
           "Ryerson, Mrs. Arthur Larned (Emily Maria Borie)",
           "female",
           1,
           "Cherbourg"
          ],
          [
           "Saalfeld, Mr. Adolphe",
           "male",
           1,
           "Southampton"
          ],
          [
           "Sagesser, Mlle. Emma",
           "female",
           1,
           "Cherbourg"
          ],
          [
           "Salomon, Mr. Abraham L",
           "male",
           1,
           "Southampton"
          ],
          [
           "Schabert, Mrs. Paul (Emma Mock)",
           "female",
           1,
           "Cherbourg"
          ],
          [
           "Serepeca, Miss. Augusta",
           "female",
           1,
           "Cherbourg"
          ],
          [
           "Seward, Mr. Frederic Kimber",
           "male",
           1,
           "Southampton"
          ],
          [
           "Shutes, Miss. Elizabeth W",
           "female",
           1,
           "Southampton"
          ],
          [
           "Silverthorne, Mr. Spencer Victor",
           "male",
           1,
           "Southampton"
          ],
          [
           "Silvey, Mrs. William Baird (Alice Munger)",
           "female",
           1,
           "Southampton"
          ],
          [
           "Simonius-Blumer, Col. Oberst Alfons",
           "male",
           1,
           "Cherbourg"
          ],
          [
           "Sloper, Mr. William Thompson",
           "male",
           1,
           "Southampton"
          ],
          [
           "Smith, Mrs. Lucien Philip (Mary Eloise Hughes)",
           "female",
           1,
           "Southampton"
          ],
          [
           "Snyder, Mr. John Pillsbury",
           "male",
           1,
           "Southampton"
          ],
          [
           "Snyder, Mrs. John Pillsbury (Nelle Stevenson)",
           "female",
           1,
           "Southampton"
          ],
          [
           "Spedden, Master. Robert Douglas",
           "male",
           1,
           "Cherbourg"
          ],
          [
           "Spedden, Mr. Frederic Oakley",
           "male",
           1,
           "Cherbourg"
          ],
          [
           "Spedden, Mrs. Frederic Oakley (Margaretta Corning Stone)",
           "female",
           1,
           "Cherbourg"
          ],
          [
           "Spencer, Mrs. William Augustus (Marie Eugenie)",
           "female",
           1,
           "Cherbourg"
          ],
          [
           "Stahelin-Maeglin, Dr. Max",
           "male",
           1,
           "Cherbourg"
          ],
          [
           "Stengel, Mr. Charles Emil Henry",
           "male",
           1,
           "Cherbourg"
          ],
          [
           "Stengel, Mrs. Charles Emil Henry (Annie May Morris)",
           "female",
           1,
           "Cherbourg"
          ],
          [
           "Stephenson, Mrs. Walter Bertram (Martha Eustis)",
           "female",
           1,
           "Cherbourg"
          ],
          [
           "Stone, Mrs. George Nelson (Martha Evelyn)",
           "female",
           1,
           "Southampton"
          ],
          [
           "Swift, Mrs. Frederick Joel (Margaret Welles Barron)",
           "female",
           1,
           "Southampton"
          ],
          [
           "Taussig, Miss. Ruth",
           "female",
           1,
           "Southampton"
          ],
          [
           "Taussig, Mrs. Emil (Tillie Mandelbaum)",
           "female",
           1,
           "Southampton"
          ],
          [
           "Taylor, Mr. Elmer Zebley",
           "male",
           1,
           "Southampton"
          ],
          [
           "Taylor, Mrs. Elmer Zebley (Juliet Cummins Wright)",
           "female",
           1,
           "Southampton"
          ],
          [
           "Thayer, Mr. John Borland Jr",
           "male",
           1,
           "Cherbourg"
          ],
          [
           "Thayer, Mrs. John Borland (Marian Longstreth Morris)",
           "female",
           1,
           "Cherbourg"
          ],
          [
           "Thorne, Mrs. Gertrude Maybelle",
           "female",
           1,
           "Cherbourg"
          ],
          [
           "Tucker, Mr. Gilbert Milligan Jr",
           "male",
           1,
           "Cherbourg"
          ],
          [
           "Ward, Miss. Anna",
           "female",
           1,
           "Cherbourg"
          ],
          [
           "Warren, Mrs. Frank Manley (Anna Sophia Atkinson)",
           "female",
           1,
           "Cherbourg"
          ],
          [
           "White, Mrs. John Stuart (Ella Holmes)",
           "female",
           1,
           "Cherbourg"
          ],
          [
           "Wick, Miss. Mary Natalie",
           "female",
           1,
           "Southampton"
          ],
          [
           "Wick, Mrs. George Dennick (Mary Hitchcock)",
           "female",
           1,
           "Southampton"
          ],
          [
           "Widener, Mrs. George Dunton (Eleanor Elkins)",
           "female",
           1,
           "Cherbourg"
          ],
          [
           "Willard, Miss. Constance",
           "female",
           1,
           "Southampton"
          ],
          [
           "Williams, Mr. Richard Norris II",
           "male",
           1,
           "Cherbourg"
          ],
          [
           "Wilson, Miss. Helen Alice",
           "female",
           1,
           "Cherbourg"
          ],
          [
           "Woolner, Mr. Hugh",
           "male",
           1,
           "Southampton"
          ],
          [
           "Young, Miss. Marie Grice",
           "female",
           1,
           "Cherbourg"
          ],
          [
           "Abelson, Mrs. Samuel (Hannah Wizosky)",
           "female",
           2,
           "Cherbourg"
          ],
          [
           "Angle, Mrs. William A (Florence \"Mary\" Agnes Hughes)",
           "female",
           2,
           "Southampton"
          ],
          [
           "Ball, Mrs. (Ada E Hall)",
           "female",
           2,
           "Southampton"
          ],
          [
           "Beane, Mr. Edward",
           "male",
           2,
           "Southampton"
          ],
          [
           "Beane, Mrs. Edward (Ethel Clarke)",
           "female",
           2,
           "Southampton"
          ],
          [
           "Becker, Master. Richard F",
           "male",
           2,
           "Southampton"
          ],
          [
           "Becker, Miss. Marion Louise",
           "female",
           2,
           "Southampton"
          ],
          [
           "Becker, Miss. Ruth Elizabeth",
           "female",
           2,
           "Southampton"
          ],
          [
           "Becker, Mrs. Allen Oliver (Nellie E Baumgardner)",
           "female",
           2,
           "Southampton"
          ],
          [
           "Beesley, Mr. Lawrence",
           "male",
           2,
           "Southampton"
          ],
          [
           "Bentham, Miss. Lilian W",
           "female",
           2,
           "Southampton"
          ],
          [
           "Brown, Miss. Amelia \"Mildred\"",
           "female",
           2,
           "Southampton"
          ],
          [
           "Brown, Miss. Edith Eileen",
           "female",
           2,
           "Southampton"
          ],
          [
           "Brown, Mrs. Thomas William Solomon (Elizabeth Catherine Ford)",
           "female",
           2,
           "Southampton"
          ],
          [
           "Bryhl, Miss. Dagmar Jenny Ingeborg ",
           "female",
           2,
           "Southampton"
          ],
          [
           "Buss, Miss. Kate",
           "female",
           2,
           "Southampton"
          ],
          [
           "Bystrom, Mrs. (Karolina)",
           "female",
           2,
           "Southampton"
          ],
          [
           "Caldwell, Master. Alden Gates",
           "male",
           2,
           "Southampton"
          ],
          [
           "Caldwell, Mr. Albert Francis",
           "male",
           2,
           "Southampton"
          ],
          [
           "Caldwell, Mrs. Albert Francis (Sylvia Mae Harbaugh)",
           "female",
           2,
           "Southampton"
          ],
          [
           "Cameron, Miss. Clear Annie",
           "female",
           2,
           "Southampton"
          ],
          [
           "Christy, Miss. Julie Rachel",
           "female",
           2,
           "Southampton"
          ],
          [
           "Christy, Mrs. (Alice Frances)",
           "female",
           2,
           "Southampton"
          ],
          [
           "Clarke, Mrs. Charles V (Ada Maria Winfield)",
           "female",
           2,
           "Southampton"
          ],
          [
           "Collett, Mr. Sidney C Stuart",
           "male",
           2,
           "Southampton"
          ],
          [
           "Collyer, Miss. Marjorie \"Lottie\"",
           "female",
           2,
           "Southampton"
          ],
          [
           "Collyer, Mrs. Harvey (Charlotte Annie Tate)",
           "female",
           2,
           "Southampton"
          ],
          [
           "Cook, Mrs. (Selena Rogers)",
           "female",
           2,
           "Southampton"
          ],
          [
           "Davies, Master. John Morgan Jr",
           "male",
           2,
           "Southampton"
          ],
          [
           "Davies, Mrs. John Morgan (Elizabeth Agnes Mary White) ",
           "female",
           2,
           "Southampton"
          ],
          [
           "Davis, Miss. Mary",
           "female",
           2,
           "Southampton"
          ],
          [
           "del Carlo, Mrs. Sebastiano (Argenia Genovesi)",
           "female",
           2,
           "Cherbourg"
          ],
          [
           "Doling, Miss. Elsie",
           "female",
           2,
           "Southampton"
          ],
          [
           "Doling, Mrs. John T (Ada Julia Bone)",
           "female",
           2,
           "Southampton"
          ],
          [
           "Drew, Master. Marshall Brines",
           "male",
           2,
           "Southampton"
          ],
          [
           "Drew, Mrs. James Vivian (Lulu Thorne Christian)",
           "female",
           2,
           "Southampton"
          ],
          [
           "Duran y More, Miss. Asuncion",
           "female",
           2,
           "Cherbourg"
          ],
          [
           "Duran y More, Miss. Florentina",
           "female",
           2,
           "Cherbourg"
          ],
          [
           "Faunthorpe, Mrs. Lizzie (Elizabeth Anne Wilkinson)",
           "female",
           2,
           "Southampton"
          ],
          [
           "Garside, Miss. Ethel",
           "female",
           2,
           "Southampton"
          ],
          [
           "Hamalainen, Master. Viljo",
           "male",
           2,
           "Southampton"
          ],
          [
           "Hamalainen, Mrs. William (Anna)",
           "female",
           2,
           "Southampton"
          ],
          [
           "Harper, Miss. Annie Jessie \"Nina\"",
           "female",
           2,
           "Southampton"
          ],
          [
           "Harris, Mr. George",
           "male",
           2,
           "Southampton"
          ],
          [
           "Hart, Miss. Eva Miriam",
           "female",
           2,
           "Southampton"
          ],
          [
           "Hart, Mrs. Benjamin (Esther Ada Bloomfield)",
           "female",
           2,
           "Southampton"
          ],
          [
           "Herman, Miss. Alice",
           "female",
           2,
           "Southampton"
          ],
          [
           "Herman, Miss. Kate",
           "female",
           2,
           "Southampton"
          ],
          [
           "Herman, Mrs. Samuel (Jane Laver)",
           "female",
           2,
           "Southampton"
          ],
          [
           "Hewlett, Mrs. (Mary D Kingcome) ",
           "female",
           2,
           "Southampton"
          ],
          [
           "Hocking, Miss. Ellen \"Nellie\"",
           "female",
           2,
           "Southampton"
          ],
          [
           "Hocking, Mrs. Elizabeth (Eliza Needs)",
           "female",
           2,
           "Southampton"
          ],
          [
           "Hold, Mrs. Stephen (Annie Margaret Hill)",
           "female",
           2,
           "Southampton"
          ],
          [
           "Hosono, Mr. Masabumi",
           "male",
           2,
           "Southampton"
          ],
          [
           "Ilett, Miss. Bertha",
           "female",
           2,
           "Southampton"
          ],
          [
           "Jacobsohn, Mrs. Sidney Samuel (Amy Frances Christy)",
           "female",
           2,
           "Southampton"
          ],
          [
           "Jerwan, Mrs. Amin S (Marie Marthe Thuillard)",
           "female",
           2,
           "Cherbourg"
          ],
          [
           "Kantor, Mrs. Sinai (Miriam Sternin)",
           "female",
           2,
           "Southampton"
          ],
          [
           "Keane, Miss. Nora A",
           "female",
           2,
           "Queenstown"
          ],
          [
           "Kelly, Mrs. Florence \"Fannie\"",
           "female",
           2,
           "Southampton"
          ],
          [
           "Laroche, Miss. Louise",
           "female",
           2,
           "Cherbourg"
          ],
          [
           "Laroche, Miss. Simonne Marie Anne Andree",
           "female",
           2,
           "Cherbourg"
          ],
          [
           "Laroche, Mrs. Joseph (Juliette Marie Louise Lafargue)",
           "female",
           2,
           "Cherbourg"
          ],
          [
           "Lehmann, Miss. Bertha",
           "female",
           2,
           "Cherbourg"
          ],
          [
           "Leitch, Miss. Jessie Wills",
           "female",
           2,
           "Southampton"
          ],
          [
           "Lemore, Mrs. (Amelia Milley)",
           "female",
           2,
           "Southampton"
          ],
          [
           "Louch, Mrs. Charles Alexander (Alice Adelaide Slow)",
           "female",
           2,
           "Southampton"
          ],
          [
           "Mallet, Master. Andre",
           "male",
           2,
           "Cherbourg"
          ],
          [
           "Mallet, Mrs. Albert (Antoinette Magnin)",
           "female",
           2,
           "Cherbourg"
          ],
          [
           "Mellinger, Miss. Madeleine Violet",
           "female",
           2,
           "Southampton"
          ],
          [
           "Mellinger, Mrs. (Elizabeth Anne Maidment)",
           "female",
           2,
           "Southampton"
          ],
          [
           "Mellors, Mr. William John",
           "male",
           2,
           "Southampton"
          ],
          [
           "Nasser, Mrs. Nicholas (Adele Achem)",
           "female",
           2,
           "Cherbourg"
          ],
          [
           "Navratil, Master. Edmond Roger",
           "male",
           2,
           "Southampton"
          ],
          [
           "Navratil, Master. Michel M",
           "male",
           2,
           "Southampton"
          ],
          [
           "Nourney, Mr. Alfred (\"Baron von Drachstedt\")",
           "male",
           2,
           "Cherbourg"
          ],
          [
           "Nye, Mrs. (Elizabeth Ramell)",
           "female",
           2,
           "Southampton"
          ],
          [
           "Oxenham, Mr. Percy Thomas",
           "male",
           2,
           "Southampton"
          ],
          [
           "Padro y Manent, Mr. Julian",
           "male",
           2,
           "Cherbourg"
          ],
          [
           "Pallas y Castello, Mr. Emilio",
           "male",
           2,
           "Cherbourg"
          ],
          [
           "Parrish, Mrs. (Lutie Davis)",
           "female",
           2,
           "Southampton"
          ],
          [
           "Phillips, Miss. Alice Frances Louisa",
           "female",
           2,
           "Southampton"
          ],
          [
           "Phillips, Miss. Kate Florence (\"Mrs Kate Louise Phillips Marshall\")",
           "female",
           2,
           "Southampton"
          ],
          [
           "Pinsky, Mrs. (Rosa)",
           "female",
           2,
           "Southampton"
          ],
          [
           "Portaluppi, Mr. Emilio Ilario Giuseppe",
           "male",
           2,
           "Cherbourg"
          ],
          [
           "Quick, Miss. Phyllis May",
           "female",
           2,
           "Southampton"
          ],
          [
           "Quick, Miss. Winifred Vera",
           "female",
           2,
           "Southampton"
          ],
          [
           "Quick, Mrs. Frederick Charles (Jane Richards)",
           "female",
           2,
           "Southampton"
          ],
          [
           "Renouf, Mrs. Peter Henry (Lillian Jefferys)",
           "female",
           2,
           "Southampton"
          ],
          [
           "Reynaldo, Ms. Encarnacion",
           "female",
           2,
           "Southampton"
          ],
          [
           "Richards, Master. George Sibley",
           "male",
           2,
           "Southampton"
          ],
          [
           "Richards, Master. William Rowe",
           "male",
           2,
           "Southampton"
          ],
          [
           "Richards, Mrs. Sidney (Emily Hocking)",
           "female",
           2,
           "Southampton"
          ],
          [
           "Ridsdale, Miss. Lucy",
           "female",
           2,
           "Southampton"
          ],
          [
           "Rugg, Miss. Emily",
           "female",
           2,
           "Southampton"
          ],
          [
           "Shelley, Mrs. William (Imanita Parrish Hall)",
           "female",
           2,
           "Southampton"
          ],
          [
           "Silven, Miss. Lyyli Karoliina",
           "female",
           2,
           "Southampton"
          ],
          [
           "Sincock, Miss. Maude",
           "female",
           2,
           "Southampton"
          ],
          [
           "Sinkkonen, Miss. Anna",
           "female",
           2,
           "Southampton"
          ],
          [
           "Slayter, Miss. Hilda Mary",
           "female",
           2,
           "Queenstown"
          ],
          [
           "Smith, Miss. Marion Elsie",
           "female",
           2,
           "Southampton"
          ],
          [
           "Toomey, Miss. Ellen",
           "female",
           2,
           "Southampton"
          ],
          [
           "Trout, Mrs. William H (Jessie L)",
           "female",
           2,
           "Southampton"
          ],
          [
           "Troutt, Miss. Edwina Celia \"Winnie\"",
           "female",
           2,
           "Southampton"
          ],
          [
           "Walcroft, Miss. Nellie",
           "female",
           2,
           "Southampton"
          ],
          [
           "Ware, Mrs. John James (Florence Louise Long)",
           "female",
           2,
           "Southampton"
          ],
          [
           "Watt, Miss. Bertha J",
           "female",
           2,
           "Southampton"
          ],
          [
           "Watt, Mrs. James (Elizabeth \"Bessie\" Inglis Milne)",
           "female",
           2,
           "Southampton"
          ],
          [
           "Webber, Miss. Susan",
           "female",
           2,
           "Southampton"
          ],
          [
           "Weisz, Mrs. Leopold (Mathilde Francoise Pede)",
           "female",
           2,
           "Southampton"
          ],
          [
           "Wells, Master. Ralph Lester",
           "male",
           2,
           "Southampton"
          ],
          [
           "Wells, Miss. Joan",
           "female",
           2,
           "Southampton"
          ],
          [
           "Wells, Mrs. Arthur Henry (\"Addie\" Dart Trevaskis)",
           "female",
           2,
           "Southampton"
          ],
          [
           "West, Miss. Barbara J",
           "female",
           2,
           "Southampton"
          ],
          [
           "West, Miss. Constance Mirium",
           "female",
           2,
           "Southampton"
          ],
          [
           "West, Mrs. Edwy Arthur (Ada Mary Worth)",
           "female",
           2,
           "Southampton"
          ],
          [
           "Wilhelms, Mr. Charles",
           "male",
           2,
           "Southampton"
          ],
          [
           "Williams, Mr. Charles Eugene",
           "male",
           2,
           "Southampton"
          ],
          [
           "Wright, Miss. Marion",
           "female",
           2,
           "Southampton"
          ],
          [
           "Abbott, Mrs. Stanton (Rosa Hunt)",
           "female",
           3,
           "Southampton"
          ],
          [
           "Abelseth, Miss. Karen Marie",
           "female",
           3,
           "Southampton"
          ],
          [
           "Abelseth, Mr. Olaus Jorgensen",
           "male",
           3,
           "Southampton"
          ],
          [
           "Abrahamsson, Mr. Abraham August Johannes",
           "male",
           3,
           "Southampton"
          ],
          [
           "Abrahim, Mrs. Joseph (Sophie Halaut Easu)",
           "female",
           3,
           "Cherbourg"
          ],
          [
           "Aks, Master. Philip Frank",
           "male",
           3,
           "Southampton"
          ],
          [
           "Aks, Mrs. Sam (Leah Rosen)",
           "female",
           3,
           "Southampton"
          ],
          [
           "Albimona, Mr. Nassef Cassem",
           "male",
           3,
           "Cherbourg"
          ],
          [
           "Andersen-Jensen, Miss. Carla Christine Nielsine",
           "female",
           3,
           "Southampton"
          ],
          [
           "Andersson, Miss. Erna Alexandra",
           "female",
           3,
           "Southampton"
          ],
          [
           "Andersson, Mr. August Edvard (\"Wennerstrom\")",
           "male",
           3,
           "Southampton"
          ],
          [
           "Asplund, Master. Edvin Rojj Felix",
           "male",
           3,
           "Southampton"
          ],
          [
           "Asplund, Miss. Lillian Gertrud",
           "female",
           3,
           "Southampton"
          ],
          [
           "Asplund, Mr. Johan Charles",
           "male",
           3,
           "Southampton"
          ],
          [
           "Asplund, Mrs. Carl Oscar (Selma Augusta Emilia Johansson)",
           "female",
           3,
           "Southampton"
          ],
          [
           "Assaf Khalil, Mrs. Mariana (\"Miriam\")",
           "female",
           3,
           "Cherbourg"
          ],
          [
           "Ayoub, Miss. Banoura",
           "female",
           3,
           "Cherbourg"
          ],
          [
           "Backstrom, Mrs. Karl Alfred (Maria Mathilda Gustafsson)",
           "female",
           3,
           "Southampton"
          ],
          [
           "Baclini, Miss. Eugenie",
           "female",
           3,
           "Cherbourg"
          ],
          [
           "Baclini, Miss. Helene Barbara",
           "female",
           3,
           "Cherbourg"
          ],
          [
           "Baclini, Miss. Marie Catherine",
           "female",
           3,
           "Cherbourg"
          ],
          [
           "Baclini, Mrs. Solomon (Latifa Qurban)",
           "female",
           3,
           "Cherbourg"
          ],
          [
           "Badman, Miss. Emily Louisa",
           "female",
           3,
           "Southampton"
          ],
          [
           "Barah, Mr. Hanna Assi",
           "male",
           3,
           "Cherbourg"
          ],
          [
           "Bing, Mr. Lee",
           "male",
           3,
           "Southampton"
          ],
          [
           "Bradley, Miss. Bridget Delia",
           "female",
           3,
           "Queenstown"
          ],
          [
           "Buckley, Mr. Daniel",
           "male",
           3,
           "Queenstown"
          ],
          [
           "Carr, Miss. Helen \"Ellen\"",
           "female",
           3,
           "Queenstown"
          ],
          [
           "Chip, Mr. Chang",
           "male",
           3,
           "Southampton"
          ],
          [
           "Cohen, Mr. Gurshon \"Gus\"",
           "male",
           3,
           "Southampton"
          ],
          [
           "Connolly, Miss. Kate",
           "female",
           3,
           "Queenstown"
          ],
          [
           "Coutts, Master. Eden Leslie \"Neville\"",
           "male",
           3,
           "Southampton"
          ],
          [
           "Coutts, Master. William Loch \"William\"",
           "male",
           3,
           "Southampton"
          ],
          [
           "Coutts, Mrs. William (Winnie \"Minnie\" Treanor)",
           "female",
           3,
           "Southampton"
          ],
          [
           "Cribb, Miss. Laura Alice",
           "female",
           3,
           "Southampton"
          ],
          [
           "Dahl, Mr. Karl Edwart",
           "male",
           3,
           "Southampton"
          ],
          [
           "Daly, Miss. Margaret Marcella \"Maggie\"",
           "female",
           3,
           "Queenstown"
          ],
          [
           "Daly, Mr. Eugene Patrick",
           "male",
           3,
           "Queenstown"
          ],
          [
           "Davison, Mrs. Thomas Henry (Mary E Finck)",
           "female",
           3,
           "Southampton"
          ],
          [
           "de Messemaeker, Mr. Guillaume Joseph",
           "male",
           3,
           "Southampton"
          ],
          [
           "de Messemaeker, Mrs. Guillaume Joseph (Emma)",
           "female",
           3,
           "Southampton"
          ],
          [
           "de Mulder, Mr. Theodore",
           "male",
           3,
           "Southampton"
          ],
          [
           "Dean, Master. Bertram Vere",
           "male",
           3,
           "Southampton"
          ],
          [
           "Dean, Miss. Elizabeth Gladys \"Millvina\"",
           "female",
           3,
           "Southampton"
          ],
          [
           "Dean, Mrs. Bertram (Eva Georgetta Light)",
           "female",
           3,
           "Southampton"
          ],
          [
           "Devaney, Miss. Margaret Delia",
           "female",
           3,
           "Queenstown"
          ],
          [
           "Dorking, Mr. Edward Arthur",
           "male",
           3,
           "Southampton"
          ],
          [
           "Dowdell, Miss. Elizabeth",
           "female",
           3,
           "Southampton"
          ],
          [
           "Drapkin, Miss. Jennie",
           "female",
           3,
           "Southampton"
          ],
          [
           "Duquemin, Mr. Joseph",
           "male",
           3,
           "Southampton"
          ],
          [
           "Dyker, Mrs. Adolf Fredrik (Anna Elisabeth Judith Andersson)",
           "female",
           3,
           "Southampton"
          ],
          [
           "Emanuel, Miss. Virginia Ethel",
           "female",
           3,
           "Southampton"
          ],
          [
           "Finoli, Mr. Luigi",
           "male",
           3,
           "Southampton"
          ],
          [
           "Foo, Mr. Choong",
           "male",
           3,
           "Southampton"
          ],
          [
           "Gilnagh, Miss. Katherine \"Katie\"",
           "female",
           3,
           "Queenstown"
          ],
          [
           "Glynn, Miss. Mary Agatha",
           "female",
           3,
           "Queenstown"
          ],
          [
           "Goldsmith, Master. Frank John William \"Frankie\"",
           "male",
           3,
           "Southampton"
          ],
          [
           "Goldsmith, Mrs. Frank John (Emily Alice Brown)",
           "female",
           3,
           "Southampton"
          ],
          [
           "Hakkarainen, Mrs. Pekka Pietari (Elin Matilda Dolck)",
           "female",
           3,
           "Southampton"
          ],
          [
           "Hansen, Mrs. Claus Peter (Jennie L Howard)",
           "female",
           3,
           "Southampton"
          ],
          [
           "Healy, Miss. Hanora \"Nora\"",
           "female",
           3,
           "Queenstown"
          ],
          [
           "Hedman, Mr. Oskar Arvid",
           "male",
           3,
           "Southampton"
          ],
          [
           "Hee, Mr. Ling",
           "male",
           3,
           "Southampton"
          ],
          [
           "Heikkinen, Miss. Laina",
           "female",
           3,
           "Southampton"
          ],
          [
           "Hellstrom, Miss. Hilda Maria",
           "female",
           3,
           "Southampton"
          ],
          [
           "Hirvonen, Miss. Hildur E",
           "female",
           3,
           "Southampton"
          ],
          [
           "Hirvonen, Mrs. Alexander (Helga E Lindqvist)",
           "female",
           3,
           "Southampton"
          ],
          [
           "Honkanen, Miss. Eliina",
           "female",
           3,
           "Southampton"
          ],
          [
           "Howard, Miss. May Elizabeth",
           "female",
           3,
           "Southampton"
          ],
          [
           "Hyman, Mr. Abraham",
           "male",
           3,
           "Southampton"
          ],
          [
           "Jalsevac, Mr. Ivan",
           "male",
           3,
           "Cherbourg"
          ],
          [
           "Jansson, Mr. Carl Olof",
           "male",
           3,
           "Southampton"
          ],
          [
           "Jermyn, Miss. Annie",
           "female",
           3,
           "Queenstown"
          ],
          [
           "Johannesen-Bratthammer, Mr. Bernt",
           "male",
           3,
           "Southampton"
          ],
          [
           "Johansson Palmquist, Mr. Oskar Leander",
           "male",
           3,
           "Southampton"
          ],
          [
           "Johnson, Master. Harold Theodor",
           "male",
           3,
           "Southampton"
          ],
          [
           "Johnson, Miss. Eleanor Ileen",
           "female",
           3,
           "Southampton"
          ],
          [
           "Johnson, Mrs. Oscar W (Elisabeth Vilhelmina Berg)",
           "female",
           3,
           "Southampton"
          ],
          [
           "Jonsson, Mr. Carl",
           "male",
           3,
           "Southampton"
          ],
          [
           "Jussila, Mr. Eiriik",
           "male",
           3,
           "Southampton"
          ],
          [
           "Karlsson, Mr. Einar Gervasius",
           "male",
           3,
           "Southampton"
          ],
          [
           "Karun, Miss. Manca",
           "female",
           3,
           "Cherbourg"
          ],
          [
           "Karun, Mr. Franz",
           "male",
           3,
           "Cherbourg"
          ],
          [
           "Kelly, Miss. Anna Katherine \"Annie Kate\"",
           "female",
           3,
           "Queenstown"
          ],
          [
           "Kelly, Miss. Mary",
           "female",
           3,
           "Queenstown"
          ],
          [
           "Kennedy, Mr. John",
           "male",
           3,
           "Queenstown"
          ],
          [
           "Kink-Heilmann, Miss. Luise Gretchen",
           "female",
           3,
           "Southampton"
          ],
          [
           "Kink-Heilmann, Mr. Anton",
           "male",
           3,
           "Southampton"
          ],
          [
           "Kink-Heilmann, Mrs. Anton (Luise Heilmann)",
           "female",
           3,
           "Southampton"
          ],
          [
           "Krekorian, Mr. Neshan",
           "male",
           3,
           "Cherbourg"
          ],
          [
           "Lam, Mr. Ali",
           "male",
           3,
           "Southampton"
          ],
          [
           "Landergren, Miss. Aurora Adelia",
           "female",
           3,
           "Southampton"
          ],
          [
           "Lang, Mr. Fang",
           "male",
           3,
           "Southampton"
          ],
          [
           "Leeni, Mr. Fahim (\"Philip Zenni\")",
           "male",
           3,
           "Cherbourg"
          ],
          [
           "Lindqvist, Mr. Eino William",
           "male",
           3,
           "Southampton"
          ],
          [
           "Lulic, Mr. Nikola",
           "male",
           3,
           "Southampton"
          ],
          [
           "Lundin, Miss. Olga Elida",
           "female",
           3,
           "Southampton"
          ],
          [
           "Lundstrom, Mr. Thure Edvin",
           "male",
           3,
           "Southampton"
          ],
          [
           "Madigan, Miss. Margaret \"Maggie\"",
           "female",
           3,
           "Queenstown"
          ],
          [
           "Madsen, Mr. Fridtjof Arne",
           "male",
           3,
           "Southampton"
          ],
          [
           "Mamee, Mr. Hanna",
           "male",
           3,
           "Cherbourg"
          ],
          [
           "Mannion, Miss. Margareth",
           "female",
           3,
           "Queenstown"
          ],
          [
           "Masselmani, Mrs. Fatima",
           "female",
           3,
           "Cherbourg"
          ],
          [
           "McCarthy, Miss. Catherine \"Katie\"",
           "female",
           3,
           "Queenstown"
          ],
          [
           "McCormack, Mr. Thomas Joseph",
           "male",
           3,
           "Queenstown"
          ],
          [
           "McCoy, Miss. Agnes",
           "female",
           3,
           "Queenstown"
          ],
          [
           "McCoy, Miss. Alicia",
           "female",
           3,
           "Queenstown"
          ],
          [
           "McCoy, Mr. Bernard",
           "male",
           3,
           "Queenstown"
          ],
          [
           "McDermott, Miss. Brigdet Delia",
           "female",
           3,
           "Queenstown"
          ],
          [
           "McGovern, Miss. Mary",
           "female",
           3,
           "Queenstown"
          ],
          [
           "McGowan, Miss. Anna \"Annie\"",
           "female",
           3,
           "Queenstown"
          ],
          [
           "Midtsjo, Mr. Karl Albert",
           "male",
           3,
           "Southampton"
          ],
          [
           "Mockler, Miss. Helen Mary \"Ellie\"",
           "female",
           3,
           "Queenstown"
          ],
          [
           "Moor, Master. Meier",
           "male",
           3,
           "Southampton"
          ],
          [
           "Moor, Mrs. (Beila)",
           "female",
           3,
           "Southampton"
          ],
          [
           "Moran, Miss. Bertha",
           "female",
           3,
           "Queenstown"
          ],
          [
           "Moss, Mr. Albert Johan",
           "male",
           3,
           "Southampton"
          ],
          [
           "Moubarek, Master. Gerios",
           "male",
           3,
           "Cherbourg"
          ],
          [
           "Moubarek, Master. Halim Gonios (\"William George\")",
           "male",
           3,
           "Cherbourg"
          ],
          [
           "Moubarek, Mrs. George (Omine \"Amenia\" Alexander)",
           "female",
           3,
           "Cherbourg"
          ],
          [
           "Moussa, Mrs. (Mantoura Boulos)",
           "female",
           3,
           "Cherbourg"
          ],
          [
           "Mullens, Miss. Katherine \"Katie\"",
           "female",
           3,
           "Queenstown"
          ],
          [
           "Mulvihill, Miss. Bertha E",
           "female",
           3,
           "Queenstown"
          ],
          [
           "Murphy, Miss. Katherine \"Kate\"",
           "female",
           3,
           "Queenstown"
          ],
          [
           "Murphy, Miss. Margaret Jane",
           "female",
           3,
           "Queenstown"
          ],
          [
           "Murphy, Miss. Nora",
           "female",
           3,
           "Queenstown"
          ],
          [
           "Najib, Miss. Adele Kiamie \"Jane\"",
           "female",
           3,
           "Cherbourg"
          ],
          [
           "Nakid, Miss. Maria (\"Mary\")",
           "female",
           3,
           "Cherbourg"
          ],
          [
           "Nakid, Mr. Sahid",
           "male",
           3,
           "Cherbourg"
          ],
          [
           "Nakid, Mrs. Said (Waika \"Mary\" Mowad)",
           "female",
           3,
           "Cherbourg"
          ],
          [
           "Nicola-Yarred, Master. Elias",
           "male",
           3,
           "Cherbourg"
          ],
          [
           "Nicola-Yarred, Miss. Jamila",
           "female",
           3,
           "Cherbourg"
          ],
          [
           "Nilsson, Miss. Berta Olivia",
           "female",
           3,
           "Southampton"
          ],
          [
           "Nilsson, Miss. Helmina Josefina",
           "female",
           3,
           "Southampton"
          ],
          [
           "Niskanen, Mr. Juha",
           "male",
           3,
           "Southampton"
          ],
          [
           "Nysten, Miss. Anna Sofia",
           "female",
           3,
           "Southampton"
          ],
          [
           "O'Brien, Mrs. Thomas (Johanna \"Hannah\" Godfrey)",
           "female",
           3,
           "Queenstown"
          ],
          [
           "O'Driscoll, Miss. Bridget",
           "female",
           3,
           "Queenstown"
          ],
          [
           "O'Dwyer, Miss. Ellen \"Nellie\"",
           "female",
           3,
           "Queenstown"
          ],
          [
           "Ohman, Miss. Velin",
           "female",
           3,
           "Southampton"
          ],
          [
           "O'Keefe, Mr. Patrick",
           "male",
           3,
           "Queenstown"
          ],
          [
           "O'Leary, Miss. Hanora \"Norah\"",
           "female",
           3,
           "Queenstown"
          ],
          [
           "Olsen, Master. Artur Karl",
           "male",
           3,
           "Southampton"
          ],
          [
           "Olsson, Mr. Oscar Wilhelm",
           "male",
           3,
           "Southampton"
          ],
          [
           "Osman, Mrs. Mara",
           "female",
           3,
           "Southampton"
          ],
          [
           "Persson, Mr. Ernst Ulrik",
           "male",
           3,
           "Southampton"
          ],
          [
           "Peter, Master. Michael J",
           "male",
           3,
           "Cherbourg"
          ],
          [
           "Peter, Miss. Anna",
           "female",
           3,
           "Cherbourg"
          ],
          [
           "Peter, Mrs. Catherine (Catherine Rizk)",
           "female",
           3,
           "Cherbourg"
          ],
          [
           "Pickard, Mr. Berk (Berk Trembisky)",
           "male",
           3,
           "Southampton"
          ],
          [
           "Riordan, Miss. Johanna \"Hannah\"",
           "female",
           3,
           "Queenstown"
          ],
          [
           "Roth, Miss. Sarah A",
           "female",
           3,
           "Southampton"
          ],
          [
           "Ryan, Mr. Edward",
           "male",
           3,
           "Queenstown"
          ],
          [
           "Salkjelsvik, Miss. Anna Kristine",
           "female",
           3,
           "Southampton"
          ],
          [
           "Sandstrom, Miss. Beatrice Irene",
           "female",
           3,
           "Southampton"
          ],
          [
           "Sandstrom, Mrs. Hjalmar (Agnes Charlotta Bengtsson)",
           "female",
           3,
           "Southampton"
          ],
          [
           "Sandstrom, Miss. Marguerite Rut",
           "female",
           3,
           "Southampton"
          ],
          [
           "Sap, Mr. Julius",
           "male",
           3,
           "Southampton"
          ],
          [
           "Sheerlinck, Mr. Jan Baptist",
           "male",
           3,
           "Southampton"
          ],
          [
           "Shine, Miss. Ellen Natalia",
           "female",
           3,
           "Queenstown"
          ],
          [
           "Sjoblom, Miss. Anna Sofia",
           "female",
           3,
           "Southampton"
          ],
          [
           "Smyth, Miss. Julia",
           "female",
           3,
           "Queenstown"
          ],
          [
           "Stanley, Miss. Amy Zillah Elsie",
           "female",
           3,
           "Southampton"
          ],
          [
           "Stranden, Mr. Juho",
           "male",
           3,
           "Southampton"
          ],
          [
           "Sunderland, Mr. Victor Francis",
           "male",
           3,
           "Southampton"
          ],
          [
           "Sundman, Mr. Johan Julian",
           "male",
           3,
           "Southampton"
          ],
          [
           "Svensson, Mr. Johan Cervin",
           "male",
           3,
           "Southampton"
          ],
          [
           "Tenglin, Mr. Gunnar Isidor",
           "male",
           3,
           "Southampton"
          ],
          [
           "Thomas, Master. Assad Alexander",
           "male",
           3,
           "Cherbourg"
          ],
          [
           "Thomas, Mrs. Alexander (Thamine \"Thelma\")",
           "female",
           3,
           "Cherbourg"
          ],
          [
           "Thorneycroft, Mrs. Percival (Florence Kate White)",
           "female",
           3,
           "Southampton"
          ],
          [
           "Tornquist, Mr. William Henry",
           "male",
           3,
           "Southampton"
          ],
          [
           "Touma, Master. Georges Youssef",
           "male",
           3,
           "Cherbourg"
          ],
          [
           "Touma, Miss. Maria Youssef",
           "female",
           3,
           "Cherbourg"
          ],
          [
           "Touma, Mrs. Darwis (Hanne Youssef Razi)",
           "female",
           3,
           "Cherbourg"
          ],
          [
           "Turja, Miss. Anna Sofia",
           "female",
           3,
           "Southampton"
          ],
          [
           "Turkula, Mrs. (Hedwig)",
           "female",
           3,
           "Southampton"
          ],
          [
           "Vartanian, Mr. David",
           "male",
           3,
           "Cherbourg"
          ],
          [
           "Whabee, Mrs. George Joseph (Shawneene Abi-Saab)",
           "female",
           3,
           "Cherbourg"
          ],
          [
           "Wilkes, Mrs. James (Ellen Needs)",
           "female",
           3,
           "Southampton"
          ],
          [
           "Yasbeck, Mrs. Antoni (Selini Alexander)",
           "female",
           3,
           "Cherbourg"
          ]
         ],
         "fillcolor": "rgba(255,255,255,0)",
         "hoveron": "points",
         "hovertemplate": "<b>%{customdata[0]}</b><br>Sex: %{customdata[1]}<br>Age: %{customdata[2]}<br>Class: %{customdata[3]}<br>Embarked: %{customdata[4]}<br>%{yaxis.title.text}: %{y}<br><extra></extra>",
         "legendgroup": "Survived",
         "line": {
          "color": "rgba(255,255,255,0)"
         },
         "marker": {
          "color": "#2E8B57",
          "line": {
           "color": "white",
           "width": 0.5
          },
          "opacity": 0.6,
          "size": 6
         },
         "name": "Survived",
         "offsetgroup": "Survived",
         "orientation": "v",
         "pointpos": 0,
         "showlegend": true,
         "type": "box",
         "x": [
          "Miss",
          "Master",
          "Mr",
          "Miss",
          "Mrs",
          "Mrs",
          "Other",
          "Miss",
          "Mr",
          "Mrs",
          "Miss",
          "Mr",
          "Mrs",
          "Mr",
          "Miss",
          "Miss",
          "Mr",
          "Mrs",
          "Miss",
          "Mr",
          "Mr",
          "Miss",
          "Miss",
          "Miss",
          "Miss",
          "Mr",
          "Mrs",
          "Mrs",
          "Mrs",
          "Miss",
          "Mr",
          "Mrs",
          "Mr",
          "Mrs",
          "Master",
          "Miss",
          "Mr",
          "Mrs",
          "Mrs",
          "Mrs",
          "Mrs",
          "Mr",
          "Mrs",
          "Miss",
          "Miss",
          "Mr",
          "Mrs",
          "Mrs",
          "Miss",
          "Miss",
          "Mrs",
          "Mrs",
          "Miss",
          "Mrs",
          "Mrs",
          "Mr",
          "Mr",
          "Miss",
          "Mrs",
          "Mr",
          "Mrs",
          "Dr",
          "Master",
          "Mrs",
          "Mrs",
          "Mrs",
          "Other",
          "Other",
          "Mrs",
          "Miss",
          "Miss",
          "Mrs",
          "Miss",
          "Mr",
          "Miss",
          "Miss",
          "Miss",
          "Mrs",
          "Miss",
          "Dr",
          "Mr",
          "Mrs",
          "Miss",
          "Mr",
          "Mrs",
          "Mrs",
          "Miss",
          "Miss",
          "Mrs",
          "Mr",
          "Mrs",
          "Other",
          "Miss",
          "Mrs",
          "Mr",
          "Mrs",
          "Mr",
          "Mrs",
          "Mr",
          "Mrs",
          "Mrs",
          "Mr",
          "Mr",
          "Miss",
          "Mrs",
          "Miss",
          "Mrs",
          "Mrs",
          "Mrs",
          "Mr",
          "Mr",
          "Mrs",
          "Miss",
          "Mr",
          "Mrs",
          "Mr",
          "Mrs",
          "Miss",
          "Dr",
          "Miss",
          "Mr",
          "Mrs",
          "Miss",
          "Mrs",
          "Miss",
          "Miss",
          "Miss",
          "Miss",
          "Mr",
          "Mrs",
          "Other",
          "Mr",
          "Mrs",
          "Miss",
          "Mrs",
          "Mr",
          "Miss",
          "Miss",
          "Miss",
          "Other",
          "Mr",
          "Miss",
          "Mrs",
          "Mrs",
          "Miss",
          "Other",
          "Mrs",
          "Mr",
          "Mrs",
          "Mr",
          "Miss",
          "Other",
          "Other",
          "Master",
          "Miss",
          "Miss",
          "Mrs",
          "Mr",
          "Other",
          "Mr",
          "Mrs",
          "Miss",
          "Mr",
          "Miss",
          "Mr",
          "Mrs",
          "Other",
          "Mr",
          "Mrs",
          "Mr",
          "Mrs",
          "Master",
          "Mr",
          "Mrs",
          "Mrs",
          "Dr",
          "Mr",
          "Mrs",
          "Mrs",
          "Mrs",
          "Mrs",
          "Miss",
          "Mrs",
          "Mr",
          "Mrs",
          "Mr",
          "Mrs",
          "Mrs",
          "Mr",
          "Miss",
          "Mrs",
          "Mrs",
          "Miss",
          "Mrs",
          "Mrs",
          "Miss",
          "Mr",
          "Miss",
          "Mr",
          "Miss",
          "Mrs",
          "Mrs",
          "Mrs",
          "Mr",
          "Mrs",
          "Master",
          "Miss",
          "Miss",
          "Mrs",
          "Mr",
          "Miss",
          "Miss",
          "Miss",
          "Mrs",
          "Miss",
          "Miss",
          "Mrs",
          "Master",
          "Mr",
          "Mrs",
          "Miss",
          "Miss",
          "Mrs",
          "Mrs",
          "Mr",
          "Miss",
          "Mrs",
          "Mrs",
          "Master",
          "Mrs",
          "Miss",
          "Mrs",
          "Miss",
          "Mrs",
          "Master",
          "Mrs",
          "Miss",
          "Miss",
          "Mrs",
          "Miss",
          "Master",
          "Mrs",
          "Miss",
          "Mr",
          "Miss",
          "Mrs",
          "Miss",
          "Miss",
          "Mrs",
          "Mrs",
          "Miss",
          "Mrs",
          "Mrs",
          "Mr",
          "Miss",
          "Mrs",
          "Mrs",
          "Mrs",
          "Miss",
          "Mrs",
          "Miss",
          "Miss",
          "Mrs",
          "Miss",
          "Miss",
          "Mrs",
          "Mrs",
          "Master",
          "Mrs",
          "Miss",
          "Mrs",
          "Mr",
          "Mrs",
          "Master",
          "Master",
          "Mr",
          "Mrs",
          "Mr",
          "Mr",
          "Mr",
          "Mrs",
          "Miss",
          "Miss",
          "Mrs",
          "Mr",
          "Miss",
          "Miss",
          "Mrs",
          "Mrs",
          "Other",
          "Master",
          "Master",
          "Mrs",
          "Miss",
          "Miss",
          "Mrs",
          "Miss",
          "Miss",
          "Miss",
          "Miss",
          "Miss",
          "Miss",
          "Mrs",
          "Miss",
          "Miss",
          "Mrs",
          "Miss",
          "Mrs",
          "Miss",
          "Mrs",
          "Master",
          "Miss",
          "Mrs",
          "Miss",
          "Miss",
          "Mrs",
          "Mr",
          "Mr",
          "Miss",
          "Mrs",
          "Miss",
          "Mr",
          "Mr",
          "Mrs",
          "Master",
          "Mrs",
          "Mr",
          "Miss",
          "Miss",
          "Mr",
          "Master",
          "Miss",
          "Mr",
          "Mrs",
          "Mrs",
          "Miss",
          "Mrs",
          "Miss",
          "Miss",
          "Miss",
          "Mrs",
          "Miss",
          "Mr",
          "Mr",
          "Miss",
          "Mr",
          "Miss",
          "Mr",
          "Mr",
          "Miss",
          "Master",
          "Master",
          "Mrs",
          "Miss",
          "Mr",
          "Miss",
          "Mr",
          "Mrs",
          "Mr",
          "Mrs",
          "Mr",
          "Master",
          "Miss",
          "Mrs",
          "Miss",
          "Mr",
          "Miss",
          "Miss",
          "Mr",
          "Mrs",
          "Miss",
          "Mr",
          "Mr",
          "Miss",
          "Miss",
          "Master",
          "Mrs",
          "Mrs",
          "Mrs",
          "Miss",
          "Mr",
          "Mr",
          "Miss",
          "Miss",
          "Miss",
          "Mrs",
          "Miss",
          "Miss",
          "Mr",
          "Mr",
          "Mr",
          "Miss",
          "Mr",
          "Mr",
          "Master",
          "Miss",
          "Mrs",
          "Mr",
          "Mr",
          "Mr",
          "Miss",
          "Mr",
          "Miss",
          "Miss",
          "Mr",
          "Miss",
          "Mr",
          "Mrs",
          "Mr",
          "Mr",
          "Miss",
          "Mr",
          "Mr",
          "Mr",
          "Mr",
          "Miss",
          "Mr",
          "Miss",
          "Mr",
          "Mr",
          "Miss",
          "Mrs",
          "Miss",
          "Mr",
          "Miss",
          "Miss",
          "Mr",
          "Miss",
          "Miss",
          "Miss",
          "Mr",
          "Miss",
          "Master",
          "Mrs",
          "Miss",
          "Mr",
          "Master",
          "Master",
          "Mrs",
          "Mrs",
          "Miss",
          "Miss",
          "Miss",
          "Miss",
          "Miss",
          "Miss",
          "Miss",
          "Mr",
          "Mrs",
          "Master",
          "Miss",
          "Miss",
          "Miss",
          "Mr",
          "Miss",
          "Mrs",
          "Miss",
          "Miss",
          "Miss",
          "Mr",
          "Miss",
          "Master",
          "Mr",
          "Mrs",
          "Mr",
          "Master",
          "Miss",
          "Mrs",
          "Mr",
          "Miss",
          "Miss",
          "Mr",
          "Miss",
          "Miss",
          "Mrs",
          "Miss",
          "Mr",
          "Mr",
          "Miss",
          "Miss",
          "Miss",
          "Miss",
          "Mr",
          "Mr",
          "Mr",
          "Mr",
          "Mr",
          "Master",
          "Mrs",
          "Mrs",
          "Mr",
          "Master",
          "Miss",
          "Mrs",
          "Miss",
          "Mrs",
          "Mr",
          "Mrs",
          "Mrs",
          "Mrs"
         ],
         "x0": " ",
         "xaxis": "x",
         "y": {
          "bdata": "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",
          "dtype": "f8"
         },
         "y0": " ",
         "yaxis": "y"
        },
        {
         "alignmentgroup": "True",
         "boxpoints": "all",
         "customdata": [
          [
           "Allison, Miss. Helen Loraine",
           "female",
           1,
           "Southampton"
          ],
          [
           "Allison, Mr. Hudson Joshua Creighton",
           "male",
           1,
           "Southampton"
          ],
          [
           "Allison, Mrs. Hudson J C (Bessie Waldo Daniels)",
           "female",
           1,
           "Southampton"
          ],
          [
           "Andrews, Mr. Thomas Jr",
           "male",
           1,
           "Southampton"
          ],
          [
           "Artagaveytia, Mr. Ramon",
           "male",
           1,
           "Cherbourg"
          ],
          [
           "Astor, Col. John Jacob",
           "male",
           1,
           "Cherbourg"
          ],
          [
           "Baumann, Mr. John D",
           "male",
           1,
           "Southampton"
          ],
          [
           "Baxter, Mr. Quigg Edmond",
           "male",
           1,
           "Cherbourg"
          ],
          [
           "Beattie, Mr. Thomson",
           "male",
           1,
           "Cherbourg"
          ],
          [
           "Birnbaum, Mr. Jakob",
           "male",
           1,
           "Cherbourg"
          ],
          [
           "Blackwell, Mr. Stephen Weart",
           "male",
           1,
           "Southampton"
          ],
          [
           "Borebank, Mr. John James",
           "male",
           1,
           "Southampton"
          ],
          [
           "Brady, Mr. John Bertram",
           "male",
           1,
           "Southampton"
          ],
          [
           "Brandeis, Mr. Emil",
           "male",
           1,
           "Cherbourg"
          ],
          [
           "Brewe, Dr. Arthur Jackson",
           "male",
           1,
           "Cherbourg"
          ],
          [
           "Butt, Major. Archibald Willingham",
           "male",
           1,
           "Southampton"
          ],
          [
           "Cairns, Mr. Alexander",
           "male",
           1,
           "Southampton"
          ],
          [
           "Carlsson, Mr. Frans Olof",
           "male",
           1,
           "Southampton"
          ],
          [
           "Carrau, Mr. Francisco M",
           "male",
           1,
           "Southampton"
          ],
          [
           "Carrau, Mr. Jose Pedro",
           "male",
           1,
           "Southampton"
          ],
          [
           "Case, Mr. Howard Brown",
           "male",
           1,
           "Southampton"
          ],
          [
           "Cavendish, Mr. Tyrell William",
           "male",
           1,
           "Southampton"
          ],
          [
           "Chaffee, Mr. Herbert Fuller",
           "male",
           1,
           "Southampton"
          ],
          [
           "Chisholm, Mr. Roderick Robert Crispin",
           "male",
           1,
           "Southampton"
          ],
          [
           "Clark, Mr. Walter Miller",
           "male",
           1,
           "Cherbourg"
          ],
          [
           "Clifford, Mr. George Quincy",
           "male",
           1,
           "Southampton"
          ],
          [
           "Colley, Mr. Edward Pomeroy",
           "male",
           1,
           "Southampton"
          ],
          [
           "Compton, Mr. Alexander Taylor Jr",
           "male",
           1,
           "Cherbourg"
          ],
          [
           "Crafton, Mr. John Bertram",
           "male",
           1,
           "Southampton"
          ],
          [
           "Crosby, Capt. Edward Gifford",
           "male",
           1,
           "Southampton"
          ],
          [
           "Cumings, Mr. John Bradley",
           "male",
           1,
           "Cherbourg"
          ],
          [
           "Davidson, Mr. Thornton",
           "male",
           1,
           "Southampton"
          ],
          [
           "Douglas, Mr. Walter Donald",
           "male",
           1,
           "Cherbourg"
          ],
          [
           "Dulles, Mr. William Crothers",
           "male",
           1,
           "Cherbourg"
          ],
          [
           "Evans, Miss. Edith Corse",
           "female",
           1,
           "Cherbourg"
          ],
          [
           "Farthing, Mr. John",
           "male",
           1,
           "Southampton"
          ],
          [
           "Foreman, Mr. Benjamin Laventall",
           "male",
           1,
           "Cherbourg"
          ],
          [
           "Fortune, Mr. Charles Alexander",
           "male",
           1,
           "Southampton"
          ],
          [
           "Fortune, Mr. Mark",
           "male",
           1,
           "Southampton"
          ],
          [
           "Franklin, Mr. Thomas Parham",
           "male",
           1,
           "Southampton"
          ],
          [
           "Fry, Mr. Richard",
           "male",
           1,
           "Southampton"
          ],
          [
           "Futrelle, Mr. Jacques Heath",
           "male",
           1,
           "Southampton"
          ],
          [
           "Gee, Mr. Arthur H",
           "male",
           1,
           "Southampton"
          ],
          [
           "Giglio, Mr. Victor",
           "male",
           1,
           "Cherbourg"
          ],
          [
           "Goldschmidt, Mr. George B",
           "male",
           1,
           "Cherbourg"
          ],
          [
           "Graham, Mr. George Edward",
           "male",
           1,
           "Southampton"
          ],
          [
           "Guggenheim, Mr. Benjamin",
           "male",
           1,
           "Cherbourg"
          ],
          [
           "Harrington, Mr. Charles H",
           "male",
           1,
           "Southampton"
          ],
          [
           "Harris, Mr. Henry Birkhardt",
           "male",
           1,
           "Southampton"
          ],
          [
           "Harrison, Mr. William",
           "male",
           1,
           "Southampton"
          ],
          [
           "Hays, Mr. Charles Melville",
           "male",
           1,
           "Southampton"
          ],
          [
           "Head, Mr. Christopher",
           "male",
           1,
           "Southampton"
          ],
          [
           "Hilliard, Mr. Herbert Henry",
           "male",
           1,
           "Southampton"
          ],
          [
           "Hipkins, Mr. William Edward",
           "male",
           1,
           "Southampton"
          ],
          [
           "Holverson, Mr. Alexander Oskar",
           "male",
           1,
           "Southampton"
          ],
          [
           "Hoyt, Mr. William Fisher",
           "male",
           1,
           "Cherbourg"
          ],
          [
           "Isham, Miss. Ann Elizabeth",
           "female",
           1,
           "Cherbourg"
          ],
          [
           "Jones, Mr. Charles Cresson",
           "male",
           1,
           "Southampton"
          ],
          [
           "Julian, Mr. Henry Forbes",
           "male",
           1,
           "Southampton"
          ],
          [
           "Keeping, Mr. Edwin",
           "male",
           1,
           "Cherbourg"
          ],
          [
           "Kent, Mr. Edward Austin",
           "male",
           1,
           "Cherbourg"
          ],
          [
           "Kenyon, Mr. Frederick R",
           "male",
           1,
           "Southampton"
          ],
          [
           "Klaber, Mr. Herman",
           "male",
           1,
           "Southampton"
          ],
          [
           "Lewy, Mr. Ervin G",
           "male",
           1,
           "Cherbourg"
          ],
          [
           "Lindeberg-Lind, Mr. Erik Gustaf (\"Mr Edward Lingrey\")",
           "male",
           1,
           "Southampton"
          ],
          [
           "Long, Mr. Milton Clyde",
           "male",
           1,
           "Southampton"
          ],
          [
           "Loring, Mr. Joseph Holland",
           "male",
           1,
           "Southampton"
          ],
          [
           "Maguire, Mr. John Edward",
           "male",
           1,
           "Southampton"
          ],
          [
           "Marvin, Mr. Daniel Warner",
           "male",
           1,
           "Southampton"
          ],
          [
           "McCaffry, Mr. Thomas Francis",
           "male",
           1,
           "Cherbourg"
          ],
          [
           "McCarthy, Mr. Timothy J",
           "male",
           1,
           "Southampton"
          ],
          [
           "Meyer, Mr. Edgar Joseph",
           "male",
           1,
           "Cherbourg"
          ],
          [
           "Millet, Mr. Francis Davis",
           "male",
           1,
           "Southampton"
          ],
          [
           "Minahan, Dr. William Edward",
           "male",
           1,
           "Queenstown"
          ],
          [
           "Molson, Mr. Harry Markland",
           "male",
           1,
           "Southampton"
          ],
          [
           "Moore, Mr. Clarence Bloomfield",
           "male",
           1,
           "Southampton"
          ],
          [
           "Natsch, Mr. Charles H",
           "male",
           1,
           "Cherbourg"
          ],
          [
           "Newell, Mr. Arthur Webster",
           "male",
           1,
           "Cherbourg"
          ],
          [
           "Nicholson, Mr. Arthur Ernest",
           "male",
           1,
           "Southampton"
          ],
          [
           "Ostby, Mr. Engelhart Cornelius",
           "male",
           1,
           "Cherbourg"
          ],
          [
           "Ovies y Rodriguez, Mr. Servando",
           "male",
           1,
           "Cherbourg"
          ],
          [
           "Parr, Mr. William Henry Marsh",
           "male",
           1,
           "Southampton"
          ],
          [
           "Partner, Mr. Austen",
           "male",
           1,
           "Southampton"
          ],
          [
           "Payne, Mr. Vivian Ponsonby",
           "male",
           1,
           "Southampton"
          ],
          [
           "Pears, Mr. Thomas Clinton",
           "male",
           1,
           "Southampton"
          ],
          [
           "Penasco y Castellana, Mr. Victor de Satode",
           "male",
           1,
           "Cherbourg"
          ],
          [
           "Porter, Mr. Walter Chamberlain",
           "male",
           1,
           "Southampton"
          ],
          [
           "Reuchlin, Jonkheer. John George",
           "male",
           1,
           "Southampton"
          ],
          [
           "Ringhini, Mr. Sante",
           "male",
           1,
           "Cherbourg"
          ],
          [
           "Robbins, Mr. Victor",
           "male",
           1,
           "Cherbourg"
          ],
          [
           "Roebling, Mr. Washington Augustus II",
           "male",
           1,
           "Southampton"
          ],
          [
           "Rood, Mr. Hugh Roscoe",
           "male",
           1,
           "Southampton"
          ],
          [
           "Rosenshine, Mr. George (\"Mr George Thorne\")",
           "male",
           1,
           "Cherbourg"
          ],
          [
           "Ross, Mr. John Hugo",
           "male",
           1,
           "Cherbourg"
          ],
          [
           "Rothschild, Mr. Martin",
           "male",
           1,
           "Cherbourg"
          ],
          [
           "Rowe, Mr. Alfred G",
           "male",
           1,
           "Southampton"
          ],
          [
           "Ryerson, Mr. Arthur Larned",
           "male",
           1,
           "Cherbourg"
          ],
          [
           "Silvey, Mr. William Baird",
           "male",
           1,
           "Southampton"
          ],
          [
           "Smart, Mr. John Montgomery",
           "male",
           1,
           "Southampton"
          ],
          [
           "Smith, Mr. James Clinch",
           "male",
           1,
           "Cherbourg"
          ],
          [
           "Smith, Mr. Lucien Philip",
           "male",
           1,
           "Southampton"
          ],
          [
           "Smith, Mr. Richard William",
           "male",
           1,
           "Southampton"
          ],
          [
           "Spencer, Mr. William Augustus",
           "male",
           1,
           "Cherbourg"
          ],
          [
           "Stead, Mr. William Thomas",
           "male",
           1,
           "Southampton"
          ],
          [
           "Stewart, Mr. Albert A",
           "male",
           1,
           "Cherbourg"
          ],
          [
           "Straus, Mr. Isidor",
           "male",
           1,
           "Southampton"
          ],
          [
           "Straus, Mrs. Isidor (Rosalie Ida Blun)",
           "female",
           1,
           "Southampton"
          ],
          [
           "Sutton, Mr. Frederick",
           "male",
           1,
           "Southampton"
          ],
          [
           "Taussig, Mr. Emil",
           "male",
           1,
           "Southampton"
          ],
          [
           "Thayer, Mr. John Borland",
           "male",
           1,
           "Cherbourg"
          ],
          [
           "Uruchurtu, Don. Manuel E",
           "male",
           1,
           "Cherbourg"
          ],
          [
           "Van der hoef, Mr. Wyckoff",
           "male",
           1,
           "Southampton"
          ],
          [
           "Walker, Mr. William Anderson",
           "male",
           1,
           "Southampton"
          ],
          [
           "Warren, Mr. Frank Manley",
           "male",
           1,
           "Cherbourg"
          ],
          [
           "Weir, Col. John",
           "male",
           1,
           "Southampton"
          ],
          [
           "White, Mr. Percival Wayland",
           "male",
           1,
           "Southampton"
          ],
          [
           "White, Mr. Richard Frasar",
           "male",
           1,
           "Southampton"
          ],
          [
           "Wick, Mr. George Dennick",
           "male",
           1,
           "Southampton"
          ],
          [
           "Widener, Mr. George Dunton",
           "male",
           1,
           "Cherbourg"
          ],
          [
           "Widener, Mr. Harry Elkins",
           "male",
           1,
           "Cherbourg"
          ],
          [
           "Williams, Mr. Charles Duane",
           "male",
           1,
           "Cherbourg"
          ],
          [
           "Williams-Lambert, Mr. Fletcher Fellows",
           "male",
           1,
           "Southampton"
          ],
          [
           "Wright, Mr. George",
           "male",
           1,
           "Southampton"
          ],
          [
           "Abelson, Mr. Samuel",
           "male",
           2,
           "Cherbourg"
          ],
          [
           "Aldworth, Mr. Charles Augustus",
           "male",
           2,
           "Southampton"
          ],
          [
           "Andrew, Mr. Edgardo Samuel",
           "male",
           2,
           "Southampton"
          ],
          [
           "Andrew, Mr. Frank Thomas",
           "male",
           2,
           "Southampton"
          ],
          [
           "Angle, Mr. William A",
           "male",
           2,
           "Southampton"
          ],
          [
           "Ashby, Mr. John",
           "male",
           2,
           "Southampton"
          ],
          [
           "Bailey, Mr. Percy Andrew",
           "male",
           2,
           "Southampton"
          ],
          [
           "Baimbrigge, Mr. Charles Robert",
           "male",
           2,
           "Southampton"
          ],
          [
           "Banfield, Mr. Frederick James",
           "male",
           2,
           "Southampton"
          ],
          [
           "Bateman, Rev. Robert James",
           "male",
           2,
           "Southampton"
          ],
          [
           "Beauchamp, Mr. Henry James",
           "male",
           2,
           "Southampton"
          ],
          [
           "Berriman, Mr. William John",
           "male",
           2,
           "Southampton"
          ],
          [
           "Botsford, Mr. William Hull",
           "male",
           2,
           "Southampton"
          ],
          [
           "Bowenur, Mr. Solomon",
           "male",
           2,
           "Southampton"
          ],
          [
           "Bracken, Mr. James H",
           "male",
           2,
           "Southampton"
          ],
          [
           "Brown, Mr. Thomas William Solomon",
           "male",
           2,
           "Southampton"
          ],
          [
           "Bryhl, Mr. Kurt Arnold Gottfrid",
           "male",
           2,
           "Southampton"
          ],
          [
           "Butler, Mr. Reginald Fenton",
           "male",
           2,
           "Southampton"
          ],
          [
           "Byles, Rev. Thomas Roussel Davids",
           "male",
           2,
           "Southampton"
          ],
          [
           "Campbell, Mr. William",
           "male",
           2,
           "Southampton"
          ],
          [
           "Carbines, Mr. William",
           "male",
           2,
           "Southampton"
          ],
          [
           "Carter, Mrs. Ernest Courtenay (Lilian Hughes)",
           "female",
           2,
           "Southampton"
          ],
          [
           "Carter, Rev. Ernest Courtenay",
           "male",
           2,
           "Southampton"
          ],
          [
           "Chapman, Mr. Charles Henry",
           "male",
           2,
           "Southampton"
          ],
          [
           "Chapman, Mr. John Henry",
           "male",
           2,
           "Southampton"
          ],
          [
           "Chapman, Mrs. John Henry (Sara Elizabeth Lawry)",
           "female",
           2,
           "Southampton"
          ],
          [
           "Clarke, Mr. Charles Valentine",
           "male",
           2,
           "Southampton"
          ],
          [
           "Coleridge, Mr. Reginald Charles",
           "male",
           2,
           "Southampton"
          ],
          [
           "Collander, Mr. Erik Gustaf",
           "male",
           2,
           "Southampton"
          ],
          [
           "Collyer, Mr. Harvey",
           "male",
           2,
           "Southampton"
          ],
          [
           "Corbett, Mrs. Walter H (Irene Colvin)",
           "female",
           2,
           "Southampton"
          ],
          [
           "Corey, Mrs. Percy C (Mary Phyllis Elizabeth Miller)",
           "female",
           2,
           "Southampton"
          ],
          [
           "Cotterill, Mr. Henry \"Harry\"",
           "male",
           2,
           "Southampton"
          ],
          [
           "Cunningham, Mr. Alfred Fleming",
           "male",
           2,
           "Southampton"
          ],
          [
           "Davies, Mr. Charles Henry",
           "male",
           2,
           "Southampton"
          ],
          [
           "de Brito, Mr. Jose Joaquim",
           "male",
           2,
           "Southampton"
          ],
          [
           "Deacon, Mr. Percy William",
           "male",
           2,
           "Southampton"
          ],
          [
           "del Carlo, Mr. Sebastiano",
           "male",
           2,
           "Cherbourg"
          ],
          [
           "Denbury, Mr. Herbert",
           "male",
           2,
           "Southampton"
          ],
          [
           "Dibden, Mr. William",
           "male",
           2,
           "Southampton"
          ],
          [
           "Downton, Mr. William James",
           "male",
           2,
           "Southampton"
          ],
          [
           "Drew, Mr. James Vivian",
           "male",
           2,
           "Southampton"
          ],
          [
           "Eitemiller, Mr. George Floyd",
           "male",
           2,
           "Southampton"
          ],
          [
           "Enander, Mr. Ingvar",
           "male",
           2,
           "Southampton"
          ],
          [
           "Fahlstrom, Mr. Arne Jonas",
           "male",
           2,
           "Southampton"
          ],
          [
           "Faunthorpe, Mr. Harry",
           "male",
           2,
           "Southampton"
          ],
          [
           "Fillbrook, Mr. Joseph Charles",
           "male",
           2,
           "Southampton"
          ],
          [
           "Fox, Mr. Stanley Hubert",
           "male",
           2,
           "Southampton"
          ],
          [
           "Frost, Mr. Anthony Wood \"Archie\"",
           "male",
           2,
           "Southampton"
          ],
          [
           "Funk, Miss. Annie Clemmer",
           "female",
           2,
           "Southampton"
          ],
          [
           "Fynney, Mr. Joseph J",
           "male",
           2,
           "Southampton"
          ],
          [
           "Gale, Mr. Harry",
           "male",
           2,
           "Southampton"
          ],
          [
           "Gale, Mr. Shadrach",
           "male",
           2,
           "Southampton"
          ],
          [
           "Gaskell, Mr. Alfred",
           "male",
           2,
           "Southampton"
          ],
          [
           "Gavey, Mr. Lawrence",
           "male",
           2,
           "Southampton"
          ],
          [
           "Gilbert, Mr. William",
           "male",
           2,
           "Southampton"
          ],
          [
           "Giles, Mr. Edgar",
           "male",
           2,
           "Southampton"
          ],
          [
           "Giles, Mr. Frederick Edward",
           "male",
           2,
           "Southampton"
          ],
          [
           "Giles, Mr. Ralph",
           "male",
           2,
           "Southampton"
          ],
          [
           "Gill, Mr. John William",
           "male",
           2,
           "Southampton"
          ],
          [
           "Gillespie, Mr. William Henry",
           "male",
           2,
           "Southampton"
          ],
          [
           "Givard, Mr. Hans Kristensen",
           "male",
           2,
           "Southampton"
          ],
          [
           "Greenberg, Mr. Samuel",
           "male",
           2,
           "Southampton"
          ],
          [
           "Hale, Mr. Reginald",
           "male",
           2,
           "Southampton"
          ],
          [
           "Harbeck, Mr. William H",
           "male",
           2,
           "Southampton"
          ],
          [
           "Harper, Rev. John",
           "male",
           2,
           "Southampton"
          ],
          [
           "Harris, Mr. Walter",
           "male",
           2,
           "Southampton"
          ],
          [
           "Hart, Mr. Benjamin",
           "male",
           2,
           "Southampton"
          ],
          [
           "Herman, Mr. Samuel",
           "male",
           2,
           "Southampton"
          ],
          [
           "Hickman, Mr. Leonard Mark",
           "male",
           2,
           "Southampton"
          ],
          [
           "Hickman, Mr. Lewis",
           "male",
           2,
           "Southampton"
          ],
          [
           "Hickman, Mr. Stanley George",
           "male",
           2,
           "Southampton"
          ],
          [
           "Hiltunen, Miss. Marta",
           "female",
           2,
           "Southampton"
          ],
          [
           "Hocking, Mr. Richard George",
           "male",
           2,
           "Southampton"
          ],
          [
           "Hocking, Mr. Samuel James Metcalfe",
           "male",
           2,
           "Southampton"
          ],
          [
           "Hodges, Mr. Henry Price",
           "male",
           2,
           "Southampton"
          ],
          [
           "Hold, Mr. Stephen",
           "male",
           2,
           "Southampton"
          ],
          [
           "Hood, Mr. Ambrose Jr",
           "male",
           2,
           "Southampton"
          ],
          [
           "Howard, Mr. Benjamin",
           "male",
           2,
           "Southampton"
          ],
          [
           "Howard, Mrs. Benjamin (Ellen Truelove Arman)",
           "female",
           2,
           "Southampton"
          ],
          [
           "Hunt, Mr. George Henry",
           "male",
           2,
           "Southampton"
          ],
          [
           "Jacobsohn, Mr. Sidney Samuel",
           "male",
           2,
           "Southampton"
          ],
          [
           "Jarvis, Mr. John Denzil",
           "male",
           2,
           "Southampton"
          ],
          [
           "Jefferys, Mr. Clifford Thomas",
           "male",
           2,
           "Southampton"
          ],
          [
           "Jefferys, Mr. Ernest Wilfred",
           "male",
           2,
           "Southampton"
          ],
          [
           "Jenkin, Mr. Stephen Curnow",
           "male",
           2,
           "Southampton"
          ],
          [
           "Kantor, Mr. Sinai",
           "male",
           2,
           "Southampton"
          ],
          [
           "Karnes, Mrs. J Frank (Claire Bennett)",
           "female",
           2,
           "Southampton"
          ],
          [
           "Keane, Mr. Daniel",
           "male",
           2,
           "Queenstown"
          ],
          [
           "Kirkland, Rev. Charles Leonard",
           "male",
           2,
           "Queenstown"
          ],
          [
           "Knight, Mr. Robert J",
           "male",
           2,
           "Southampton"
          ],
          [
           "Kvillner, Mr. Johan Henrik Johannesson",
           "male",
           2,
           "Southampton"
          ],
          [
           "Lahtinen, Mrs. William (Anna Sylfven)",
           "female",
           2,
           "Southampton"
          ],
          [
           "Lahtinen, Rev. William",
           "male",
           2,
           "Southampton"
          ],
          [
           "Lamb, Mr. John Joseph",
           "male",
           2,
           "Queenstown"
          ],
          [
           "Laroche, Mr. Joseph Philippe Lemercier",
           "male",
           2,
           "Cherbourg"
          ],
          [
           "Levy, Mr. Rene Jacques",
           "male",
           2,
           "Cherbourg"
          ],
          [
           "Leyson, Mr. Robert William Norman",
           "male",
           2,
           "Southampton"
          ],
          [
           "Lingane, Mr. John",
           "male",
           2,
           "Queenstown"
          ],
          [
           "Louch, Mr. Charles Alexander",
           "male",
           2,
           "Southampton"
          ],
          [
           "Mack, Mrs. (Mary)",
           "female",
           2,
           "Southampton"
          ],
          [
           "Malachard, Mr. Noel",
           "male",
           2,
           "Cherbourg"
          ],
          [
           "Mallet, Mr. Albert",
           "male",
           2,
           "Cherbourg"
          ],
          [
           "Mangiavacchi, Mr. Serafino Emilio",
           "male",
           2,
           "Cherbourg"
          ],
          [
           "Matthews, Mr. William John",
           "male",
           2,
           "Southampton"
          ],
          [
           "Maybery, Mr. Frank Hubert",
           "male",
           2,
           "Southampton"
          ],
          [
           "McCrae, Mr. Arthur Gordon",
           "male",
           2,
           "Southampton"
          ],
          [
           "McCrie, Mr. James Matthew",
           "male",
           2,
           "Southampton"
          ],
          [
           "McKane, Mr. Peter David",
           "male",
           2,
           "Southampton"
          ],
          [
           "Meyer, Mr. August",
           "male",
           2,
           "Southampton"
          ],
          [
           "Milling, Mr. Jacob Christian",
           "male",
           2,
           "Southampton"
          ],
          [
           "Mitchell, Mr. Henry Michael",
           "male",
           2,
           "Southampton"
          ],
          [
           "Montvila, Rev. Juozas",
           "male",
           2,
           "Southampton"
          ],
          [
           "Moraweck, Dr. Ernest",
           "male",
           2,
           "Southampton"
          ],
          [
           "Morley, Mr. Henry Samuel (\"Mr Henry Marshall\")",
           "male",
           2,
           "Southampton"
          ],
          [
           "Mudd, Mr. Thomas Charles",
           "male",
           2,
           "Southampton"
          ],
          [
           "Myles, Mr. Thomas Francis",
           "male",
           2,
           "Queenstown"
          ],
          [
           "Nasser, Mr. Nicholas",
           "male",
           2,
           "Cherbourg"
          ],
          [
           "Navratil, Mr. Michel (\"Louis M Hoffman\")",
           "male",
           2,
           "Southampton"
          ],
          [
           "Nesson, Mr. Israel",
           "male",
           2,
           "Southampton"
          ],
          [
           "Nicholls, Mr. Joseph Charles",
           "male",
           2,
           "Southampton"
          ],
          [
           "Norman, Mr. Robert Douglas",
           "male",
           2,
           "Southampton"
          ],
          [
           "Otter, Mr. Richard",
           "male",
           2,
           "Southampton"
          ],
          [
           "Pain, Dr. Alfred",
           "male",
           2,
           "Southampton"
          ],
          [
           "Parker, Mr. Clifford Richard",
           "male",
           2,
           "Southampton"
          ],
          [
           "Parkes, Mr. Francis \"Frank\"",
           "male",
           2,
           "Southampton"
          ],
          [
           "Pengelly, Mr. Frederick William",
           "male",
           2,
           "Southampton"
          ],
          [
           "Pernot, Mr. Rene",
           "male",
           2,
           "Cherbourg"
          ],
          [
           "Peruschitz, Rev. Joseph Maria",
           "male",
           2,
           "Southampton"
          ],
          [
           "Phillips, Mr. Escott Robert",
           "male",
           2,
           "Southampton"
          ],
          [
           "Ponesell, Mr. Martin",
           "male",
           2,
           "Southampton"
          ],
          [
           "Pulbaum, Mr. Franz",
           "male",
           2,
           "Cherbourg"
          ],
          [
           "Reeves, Mr. David",
           "male",
           2,
           "Southampton"
          ],
          [
           "Renouf, Mr. Peter Henry",
           "male",
           2,
           "Southampton"
          ],
          [
           "Richard, Mr. Emile",
           "male",
           2,
           "Cherbourg"
          ],
          [
           "Rogers, Mr. Reginald Harry",
           "male",
           2,
           "Southampton"
          ],
          [
           "Schmidt, Mr. August",
           "male",
           2,
           "Southampton"
          ],
          [
           "Sedgwick, Mr. Charles Frederick Waddington",
           "male",
           2,
           "Southampton"
          ],
          [
           "Sharp, Mr. Percival James R",
           "male",
           2,
           "Southampton"
          ],
          [
           "Sjostedt, Mr. Ernst Adolf",
           "male",
           2,
           "Southampton"
          ],
          [
           "Slemen, Mr. Richard James",
           "male",
           2,
           "Southampton"
          ],
          [
           "Sobey, Mr. Samuel James Hayden",
           "male",
           2,
           "Southampton"
          ],
          [
           "Stanton, Mr. Samuel Ward",
           "male",
           2,
           "Cherbourg"
          ],
          [
           "Stokes, Mr. Philip Joseph",
           "male",
           2,
           "Southampton"
          ],
          [
           "Swane, Mr. George",
           "male",
           2,
           "Southampton"
          ],
          [
           "Sweet, Mr. George Frederick",
           "male",
           2,
           "Southampton"
          ],
          [
           "Troupiansky, Mr. Moses Aaron",
           "male",
           2,
           "Southampton"
          ],
          [
           "Turpin, Mr. William John Robert",
           "male",
           2,
           "Southampton"
          ],
          [
           "Turpin, Mrs. William John Robert (Dorothy Ann Wonnacott)",
           "female",
           2,
           "Southampton"
          ],
          [
           "Veal, Mr. James",
           "male",
           2,
           "Southampton"
          ],
          [
           "Ware, Mr. John James",
           "male",
           2,
           "Southampton"
          ],
          [
           "Ware, Mr. William Jeffery",
           "male",
           2,
           "Southampton"
          ],
          [
           "Watson, Mr. Ennis Hastings",
           "male",
           2,
           "Southampton"
          ],
          [
           "Weisz, Mr. Leopold",
           "male",
           2,
           "Southampton"
          ],
          [
           "West, Mr. Edwy Arthur",
           "male",
           2,
           "Southampton"
          ],
          [
           "Wheadon, Mr. Edward H",
           "male",
           2,
           "Southampton"
          ],
          [
           "Wheeler, Mr. Edwin \"Frederick\"",
           "male",
           2,
           "Southampton"
          ],
          [
           "Yrois, Miss. Henriette (\"Mrs Harbeck\")",
           "female",
           2,
           "Southampton"
          ],
          [
           "Abbing, Mr. Anthony",
           "male",
           3,
           "Southampton"
          ],
          [
           "Abbott, Master. Eugene Joseph",
           "male",
           3,
           "Southampton"
          ],
          [
           "Abbott, Mr. Rossmore Edward",
           "male",
           3,
           "Southampton"
          ],
          [
           "Adahl, Mr. Mauritz Nils Martin",
           "male",
           3,
           "Southampton"
          ],
          [
           "Adams, Mr. John",
           "male",
           3,
           "Southampton"
          ],
          [
           "Ahlin, Mrs. Johan (Johanna Persdotter Larsson)",
           "female",
           3,
           "Southampton"
          ],
          [
           "Alexander, Mr. William",
           "male",
           3,
           "Southampton"
          ],
          [
           "Alhomaki, Mr. Ilmari Rudolf",
           "male",
           3,
           "Southampton"
          ],
          [
           "Ali, Mr. Ahmed",
           "male",
           3,
           "Southampton"
          ],
          [
           "Ali, Mr. William",
           "male",
           3,
           "Southampton"
          ],
          [
           "Allen, Mr. William Henry",
           "male",
           3,
           "Southampton"
          ],
          [
           "Allum, Mr. Owen George",
           "male",
           3,
           "Southampton"
          ],
          [
           "Andersen, Mr. Albert Karvin",
           "male",
           3,
           "Southampton"
          ],
          [
           "Andersson, Master. Sigvard Harald Elias",
           "male",
           3,
           "Southampton"
          ],
          [
           "Andersson, Miss. Ebba Iris Alfrida",
           "female",
           3,
           "Southampton"
          ],
          [
           "Andersson, Miss. Ellis Anna Maria",
           "female",
           3,
           "Southampton"
          ],
          [
           "Andersson, Miss. Ida Augusta Margareta",
           "female",
           3,
           "Southampton"
          ],
          [
           "Andersson, Miss. Ingeborg Constanzia",
           "female",
           3,
           "Southampton"
          ],
          [
           "Andersson, Miss. Sigrid Elisabeth",
           "female",
           3,
           "Southampton"
          ],
          [
           "Andersson, Mr. Anders Johan",
           "male",
           3,
           "Southampton"
          ],
          [
           "Andersson, Mr. Johan Samuel",
           "male",
           3,
           "Southampton"
          ],
          [
           "Andersson, Mrs. Anders Johan (Alfrida Konstantia Brogren)",
           "female",
           3,
           "Southampton"
          ],
          [
           "Andreasson, Mr. Paul Edvin",
           "male",
           3,
           "Southampton"
          ],
          [
           "Angheloff, Mr. Minko",
           "male",
           3,
           "Southampton"
          ],
          [
           "Arnold-Franchi, Mr. Josef",
           "male",
           3,
           "Southampton"
          ],
          [
           "Arnold-Franchi, Mrs. Josef (Josefine Franchi)",
           "female",
           3,
           "Southampton"
          ],
          [
           "Aronsson, Mr. Ernst Axel Algot",
           "male",
           3,
           "Southampton"
          ],
          [
           "Asim, Mr. Adola",
           "male",
           3,
           "Southampton"
          ],
          [
           "Asplund, Master. Carl Edgar",
           "male",
           3,
           "Southampton"
          ],
          [
           "Asplund, Master. Clarence Gustaf Hugo",
           "male",
           3,
           "Southampton"
          ],
          [
           "Asplund, Master. Filip Oscar",
           "male",
           3,
           "Southampton"
          ],
          [
           "Asplund, Mr. Carl Oscar Vilhelm Gustafsson",
           "male",
           3,
           "Southampton"
          ],
          [
           "Assaf, Mr. Gerios",
           "male",
           3,
           "Cherbourg"
          ],
          [
           "Assam, Mr. Ali",
           "male",
           3,
           "Southampton"
          ],
          [
           "Attalah, Miss. Malake",
           "female",
           3,
           "Cherbourg"
          ],
          [
           "Attalah, Mr. Sleiman",
           "male",
           3,
           "Cherbourg"
          ],
          [
           "Augustsson, Mr. Albert",
           "male",
           3,
           "Southampton"
          ],
          [
           "Baccos, Mr. Raffull",
           "male",
           3,
           "Cherbourg"
          ],
          [
           "Backstrom, Mr. Karl Alfred",
           "male",
           3,
           "Southampton"
          ],
          [
           "Badt, Mr. Mohamed",
           "male",
           3,
           "Cherbourg"
          ],
          [
           "Balkic, Mr. Cerin",
           "male",
           3,
           "Southampton"
          ],
          [
           "Barbara, Miss. Saiide",
           "female",
           3,
           "Cherbourg"
          ],
          [
           "Barbara, Mrs. (Catherine David)",
           "female",
           3,
           "Cherbourg"
          ],
          [
           "Barry, Miss. Julia",
           "female",
           3,
           "Queenstown"
          ],
          [
           "Barton, Mr. David John",
           "male",
           3,
           "Southampton"
          ],
          [
           "Beavan, Mr. William Thomas",
           "male",
           3,
           "Southampton"
          ],
          [
           "Bengtsson, Mr. John Viktor",
           "male",
           3,
           "Southampton"
          ],
          [
           "Berglund, Mr. Karl Ivar Sven",
           "male",
           3,
           "Southampton"
          ],
          [
           "Betros, Master. Seman",
           "male",
           3,
           "Cherbourg"
          ],
          [
           "Betros, Mr. Tannous",
           "male",
           3,
           "Cherbourg"
          ],
          [
           "Birkeland, Mr. Hans Martin Monsen",
           "male",
           3,
           "Southampton"
          ],
          [
           "Bjorklund, Mr. Ernst Herbert",
           "male",
           3,
           "Southampton"
          ],
          [
           "Bostandyeff, Mr. Guentcho",
           "male",
           3,
           "Southampton"
          ],
          [
           "Boulos, Master. Akar",
           "male",
           3,
           "Cherbourg"
          ],
          [
           "Boulos, Miss. Nourelain",
           "female",
           3,
           "Cherbourg"
          ],
          [
           "Boulos, Mr. Hanna",
           "male",
           3,
           "Cherbourg"
          ],
          [
           "Boulos, Mrs. Joseph (Sultana)",
           "female",
           3,
           "Cherbourg"
          ],
          [
           "Bourke, Miss. Mary",
           "female",
           3,
           "Queenstown"
          ],
          [
           "Bourke, Mr. John",
           "male",
           3,
           "Queenstown"
          ],
          [
           "Bourke, Mrs. John (Catherine)",
           "female",
           3,
           "Queenstown"
          ],
          [
           "Bowen, Mr. David John \"Dai\"",
           "male",
           3,
           "Southampton"
          ],
          [
           "Braf, Miss. Elin Ester Maria",
           "female",
           3,
           "Southampton"
          ],
          [
           "Braund, Mr. Lewis Richard",
           "male",
           3,
           "Southampton"
          ],
          [
           "Braund, Mr. Owen Harris",
           "male",
           3,
           "Southampton"
          ],
          [
           "Brobeck, Mr. Karl Rudolf",
           "male",
           3,
           "Southampton"
          ],
          [
           "Brocklebank, Mr. William Alfred",
           "male",
           3,
           "Southampton"
          ],
          [
           "Buckley, Miss. Katherine",
           "female",
           3,
           "Queenstown"
          ],
          [
           "Burke, Mr. Jeremiah",
           "male",
           3,
           "Queenstown"
          ],
          [
           "Burns, Miss. Mary Delia",
           "female",
           3,
           "Queenstown"
          ],
          [
           "Cacic, Miss. Manda",
           "female",
           3,
           "Southampton"
          ],
          [
           "Cacic, Miss. Marija",
           "female",
           3,
           "Southampton"
          ],
          [
           "Cacic, Mr. Jego Grga",
           "male",
           3,
           "Southampton"
          ],
          [
           "Cacic, Mr. Luka",
           "male",
           3,
           "Southampton"
          ],
          [
           "Calic, Mr. Jovo",
           "male",
           3,
           "Southampton"
          ],
          [
           "Calic, Mr. Petar",
           "male",
           3,
           "Southampton"
          ],
          [
           "Canavan, Miss. Mary",
           "female",
           3,
           "Queenstown"
          ],
          [
           "Canavan, Mr. Patrick",
           "male",
           3,
           "Queenstown"
          ],
          [
           "Cann, Mr. Ernest Charles",
           "male",
           3,
           "Southampton"
          ],
          [
           "Caram, Mr. Joseph",
           "male",
           3,
           "Cherbourg"
          ],
          [
           "Caram, Mrs. Joseph (Maria Elias)",
           "female",
           3,
           "Cherbourg"
          ],
          [
           "Carlsson, Mr. August Sigfrid",
           "male",
           3,
           "Southampton"
          ],
          [
           "Carlsson, Mr. Carl Robert",
           "male",
           3,
           "Southampton"
          ],
          [
           "Carr, Miss. Jeannie",
           "female",
           3,
           "Queenstown"
          ],
          [
           "Carver, Mr. Alfred John",
           "male",
           3,
           "Southampton"
          ],
          [
           "Celotti, Mr. Francesco",
           "male",
           3,
           "Southampton"
          ],
          [
           "Charters, Mr. David",
           "male",
           3,
           "Queenstown"
          ],
          [
           "Christmann, Mr. Emil",
           "male",
           3,
           "Southampton"
          ],
          [
           "Chronopoulos, Mr. Apostolos",
           "male",
           3,
           "Cherbourg"
          ],
          [
           "Chronopoulos, Mr. Demetrios",
           "male",
           3,
           "Cherbourg"
          ],
          [
           "Coelho, Mr. Domingos Fernandeo",
           "male",
           3,
           "Southampton"
          ],
          [
           "Colbert, Mr. Patrick",
           "male",
           3,
           "Queenstown"
          ],
          [
           "Coleff, Mr. Peju",
           "male",
           3,
           "Southampton"
          ],
          [
           "Coleff, Mr. Satio",
           "male",
           3,
           "Southampton"
          ],
          [
           "Conlon, Mr. Thomas Henry",
           "male",
           3,
           "Queenstown"
          ],
          [
           "Connaghton, Mr. Michael",
           "male",
           3,
           "Queenstown"
          ],
          [
           "Connolly, Miss. Kate",
           "female",
           3,
           "Queenstown"
          ],
          [
           "Connors, Mr. Patrick",
           "male",
           3,
           "Queenstown"
          ],
          [
           "Cook, Mr. Jacob",
           "male",
           3,
           "Southampton"
          ],
          [
           "Cor, Mr. Bartol",
           "male",
           3,
           "Southampton"
          ],
          [
           "Cor, Mr. Ivan",
           "male",
           3,
           "Southampton"
          ],
          [
           "Cor, Mr. Liudevit",
           "male",
           3,
           "Southampton"
          ],
          [
           "Corn, Mr. Harry",
           "male",
           3,
           "Southampton"
          ],
          [
           "Coxon, Mr. Daniel",
           "male",
           3,
           "Southampton"
          ],
          [
           "Crease, Mr. Ernest James",
           "male",
           3,
           "Southampton"
          ],
          [
           "Cribb, Mr. John Hatfield",
           "male",
           3,
           "Southampton"
          ],
          [
           "Culumovic, Mr. Jeso",
           "male",
           3,
           "Southampton"
          ],
          [
           "Daher, Mr. Shedid",
           "male",
           3,
           "Cherbourg"
          ],
          [
           "Dahlberg, Miss. Gerda Ulrika",
           "female",
           3,
           "Southampton"
          ],
          [
           "Dakic, Mr. Branko",
           "male",
           3,
           "Southampton"
          ],
          [
           "Danbom, Master. Gilbert Sigvard Emanuel",
           "male",
           3,
           "Southampton"
          ],
          [
           "Danbom, Mr. Ernst Gilbert",
           "male",
           3,
           "Southampton"
          ],
          [
           "Danbom, Mrs. Ernst Gilbert (Anna Sigrid Maria Brogren)",
           "female",
           3,
           "Southampton"
          ],
          [
           "Danoff, Mr. Yoto",
           "male",
           3,
           "Southampton"
          ],
          [
           "Dantcheff, Mr. Ristiu",
           "male",
           3,
           "Southampton"
          ],
          [
           "Davies, Mr. Alfred J",
           "male",
           3,
           "Southampton"
          ],
          [
           "Davies, Mr. Evan",
           "male",
           3,
           "Southampton"
          ],
          [
           "Davies, Mr. John Samuel",
           "male",
           3,
           "Southampton"
          ],
          [
           "Davies, Mr. Joseph",
           "male",
           3,
           "Southampton"
          ],
          [
           "Davison, Mr. Thomas Henry",
           "male",
           3,
           "Southampton"
          ],
          [
           "de Pelsmaeker, Mr. Alfons",
           "male",
           3,
           "Southampton"
          ],
          [
           "Dean, Mr. Bertram Frank",
           "male",
           3,
           "Southampton"
          ],
          [
           "Delalic, Mr. Redjo",
           "male",
           3,
           "Southampton"
          ],
          [
           "Demetri, Mr. Marinko",
           "male",
           3,
           "Southampton"
          ],
          [
           "Denkoff, Mr. Mitto",
           "male",
           3,
           "Southampton"
          ],
          [
           "Dennis, Mr. Samuel",
           "male",
           3,
           "Southampton"
          ],
          [
           "Dennis, Mr. William",
           "male",
           3,
           "Southampton"
          ],
          [
           "Dika, Mr. Mirko",
           "male",
           3,
           "Southampton"
          ],
          [
           "Dimic, Mr. Jovan",
           "male",
           3,
           "Southampton"
          ],
          [
           "Dintcheff, Mr. Valtcho",
           "male",
           3,
           "Southampton"
          ],
          [
           "Doharr, Mr. Tannous",
           "male",
           3,
           "Cherbourg"
          ],
          [
           "Dooley, Mr. Patrick",
           "male",
           3,
           "Queenstown"
          ],
          [
           "Doyle, Miss. Elizabeth",
           "female",
           3,
           "Queenstown"
          ],
          [
           "Drazenoic, Mr. Jozef",
           "male",
           3,
           "Cherbourg"
          ],
          [
           "Duane, Mr. Frank",
           "male",
           3,
           "Queenstown"
          ],
          [
           "Dyker, Mr. Adolf Fredrik",
           "male",
           3,
           "Southampton"
          ],
          [
           "Edvardsson, Mr. Gustaf Hjalmar",
           "male",
           3,
           "Southampton"
          ],
          [
           "Eklund, Mr. Hans Linus",
           "male",
           3,
           "Southampton"
          ],
          [
           "Ekstrom, Mr. Johan",
           "male",
           3,
           "Southampton"
          ],
          [
           "Elias, Mr. Dibo",
           "male",
           3,
           "Cherbourg"
          ],
          [
           "Elias, Mr. Joseph",
           "male",
           3,
           "Cherbourg"
          ],
          [
           "Elias, Mr. Joseph Jr",
           "male",
           3,
           "Cherbourg"
          ],
          [
           "Elias, Mr. Tannous",
           "male",
           3,
           "Cherbourg"
          ],
          [
           "Elsbury, Mr. William James",
           "male",
           3,
           "Southampton"
          ],
          [
           "Emir, Mr. Farred Chehab",
           "male",
           3,
           "Cherbourg"
          ],
          [
           "Everett, Mr. Thomas James",
           "male",
           3,
           "Southampton"
          ],
          [
           "Farrell, Mr. James",
           "male",
           3,
           "Queenstown"
          ],
          [
           "Fischer, Mr. Eberhard Thelander",
           "male",
           3,
           "Southampton"
          ],
          [
           "Fleming, Miss. Honora",
           "female",
           3,
           "Queenstown"
          ],
          [
           "Flynn, Mr. James",
           "male",
           3,
           "Queenstown"
          ],
          [
           "Flynn, Mr. John",
           "male",
           3,
           "Queenstown"
          ],
          [
           "Foley, Mr. Joseph",
           "male",
           3,
           "Queenstown"
          ],
          [
           "Foley, Mr. William",
           "male",
           3,
           "Queenstown"
          ],
          [
           "Ford, Miss. Doolina Margaret \"Daisy\"",
           "female",
           3,
           "Southampton"
          ],
          [
           "Ford, Miss. Robina Maggie \"Ruby\"",
           "female",
           3,
           "Southampton"
          ],
          [
           "Ford, Mr. Arthur",
           "male",
           3,
           "Southampton"
          ],
          [
           "Ford, Mr. Edward Watson",
           "male",
           3,
           "Southampton"
          ],
          [
           "Ford, Mr. William Neal",
           "male",
           3,
           "Southampton"
          ],
          [
           "Ford, Mrs. Edward (Margaret Ann Watson)",
           "female",
           3,
           "Southampton"
          ],
          [
           "Fox, Mr. Patrick",
           "male",
           3,
           "Queenstown"
          ],
          [
           "Franklin, Mr. Charles (Charles Fardon)",
           "male",
           3,
           "Southampton"
          ],
          [
           "Gallagher, Mr. Martin",
           "male",
           3,
           "Queenstown"
          ],
          [
           "Garfirth, Mr. John",
           "male",
           3,
           "Southampton"
          ],
          [
           "Gheorgheff, Mr. Stanio",
           "male",
           3,
           "Cherbourg"
          ],
          [
           "Gilinski, Mr. Eliezer",
           "male",
           3,
           "Southampton"
          ],
          [
           "Goldsmith, Mr. Frank John",
           "male",
           3,
           "Southampton"
          ],
          [
           "Goldsmith, Mr. Nathan",
           "male",
           3,
           "Southampton"
          ],
          [
           "Goncalves, Mr. Manuel Estanslas",
           "male",
           3,
           "Southampton"
          ],
          [
           "Goodwin, Master. Harold Victor",
           "male",
           3,
           "Southampton"
          ],
          [
           "Goodwin, Master. Sidney Leonard",
           "male",
           3,
           "Southampton"
          ],
          [
           "Goodwin, Master. William Frederick",
           "male",
           3,
           "Southampton"
          ],
          [
           "Goodwin, Miss. Jessie Allis",
           "female",
           3,
           "Southampton"
          ],
          [
           "Goodwin, Miss. Lillian Amy",
           "female",
           3,
           "Southampton"
          ],
          [
           "Goodwin, Mr. Charles Edward",
           "male",
           3,
           "Southampton"
          ],
          [
           "Goodwin, Mr. Charles Frederick",
           "male",
           3,
           "Southampton"
          ],
          [
           "Goodwin, Mrs. Frederick (Augusta Tyler)",
           "female",
           3,
           "Southampton"
          ],
          [
           "Green, Mr. George Henry",
           "male",
           3,
           "Southampton"
          ],
          [
           "Gronnestad, Mr. Daniel Danielsen",
           "male",
           3,
           "Southampton"
          ],
          [
           "Guest, Mr. Robert",
           "male",
           3,
           "Southampton"
          ],
          [
           "Gustafsson, Mr. Alfred Ossian",
           "male",
           3,
           "Southampton"
          ],
          [
           "Gustafsson, Mr. Anders Vilhelm",
           "male",
           3,
           "Southampton"
          ],
          [
           "Gustafsson, Mr. Johan Birger",
           "male",
           3,
           "Southampton"
          ],
          [
           "Gustafsson, Mr. Karl Gideon",
           "male",
           3,
           "Southampton"
          ],
          [
           "Haas, Miss. Aloisia",
           "female",
           3,
           "Southampton"
          ],
          [
           "Hagardon, Miss. Kate",
           "female",
           3,
           "Queenstown"
          ],
          [
           "Hagland, Mr. Ingvald Olai Olsen",
           "male",
           3,
           "Southampton"
          ],
          [
           "Hagland, Mr. Konrad Mathias Reiersen",
           "male",
           3,
           "Southampton"
          ],
          [
           "Hakkarainen, Mr. Pekka Pietari",
           "male",
           3,
           "Southampton"
          ],
          [
           "Hampe, Mr. Leon",
           "male",
           3,
           "Southampton"
          ],
          [
           "Hanna, Mr. Mansour",
           "male",
           3,
           "Cherbourg"
          ],
          [
           "Hansen, Mr. Claus Peter",
           "male",
           3,
           "Southampton"
          ],
          [
           "Hansen, Mr. Henrik Juul",
           "male",
           3,
           "Southampton"
          ],
          [
           "Hansen, Mr. Henry Damsgaard",
           "male",
           3,
           "Southampton"
          ],
          [
           "Harknett, Miss. Alice Phoebe",
           "female",
           3,
           "Southampton"
          ],
          [
           "Harmer, Mr. Abraham (David Lishin)",
           "male",
           3,
           "Southampton"
          ],
          [
           "Hart, Mr. Henry",
           "male",
           3,
           "Queenstown"
          ],
          [
           "Hassan, Mr. Houssein G N",
           "male",
           3,
           "Cherbourg"
          ],
          [
           "Hegarty, Miss. Hanora \"Nora\"",
           "female",
           3,
           "Queenstown"
          ],
          [
           "Heininen, Miss. Wendla Maria",
           "female",
           3,
           "Southampton"
          ],
          [
           "Hendekovic, Mr. Ignjac",
           "male",
           3,
           "Southampton"
          ],
          [
           "Henriksson, Miss. Jenny Lovisa",
           "female",
           3,
           "Southampton"
          ],
          [
           "Henry, Miss. Delia",
           "female",
           3,
           "Queenstown"
          ],
          [
           "Holm, Mr. John Fredrik Alexander",
           "male",
           3,
           "Southampton"
          ],
          [
           "Holthen, Mr. Johan Martin",
           "male",
           3,
           "Southampton"
          ],
          [
           "Horgan, Mr. John",
           "male",
           3,
           "Queenstown"
          ],
          [
           "Humblen, Mr. Adolf Mathias Nicolai Olsen",
           "male",
           3,
           "Southampton"
          ],
          [
           "Ibrahim Shawah, Mr. Yousseff",
           "male",
           3,
           "Cherbourg"
          ],
          [
           "Ilieff, Mr. Ylio",
           "male",
           3,
           "Southampton"
          ],
          [
           "Ilmakangas, Miss. Ida Livija",
           "female",
           3,
           "Southampton"
          ],
          [
           "Ilmakangas, Miss. Pieta Sofia",
           "female",
           3,
           "Southampton"
          ],
          [
           "Ivanoff, Mr. Kanio",
           "male",
           3,
           "Southampton"
          ],
          [
           "Jardin, Mr. Jose Neto",
           "male",
           3,
           "Southampton"
          ],
          [
           "Jensen, Mr. Hans Peder",
           "male",
           3,
           "Southampton"
          ],
          [
           "Jensen, Mr. Niels Peder",
           "male",
           3,
           "Southampton"
          ],
          [
           "Jensen, Mr. Svend Lauritz",
           "male",
           3,
           "Southampton"
          ],
          [
           "Johanson, Mr. Jakob Alfred",
           "male",
           3,
           "Southampton"
          ],
          [
           "Johansson, Mr. Erik",
           "male",
           3,
           "Southampton"
          ],
          [
           "Johansson, Mr. Gustaf Joel",
           "male",
           3,
           "Southampton"
          ],
          [
           "Johansson, Mr. Karl Johan",
           "male",
           3,
           "Southampton"
          ],
          [
           "Johansson, Mr. Nils",
           "male",
           3,
           "Southampton"
          ],
          [
           "Johnson, Mr. Alfred",
           "male",
           3,
           "Southampton"
          ],
          [
           "Johnson, Mr. Malkolm Joackim",
           "male",
           3,
           "Southampton"
          ],
          [
           "Johnson, Mr. William Cahoone Jr",
           "male",
           3,
           "Southampton"
          ],
          [
           "Johnston, Master. William Arthur \"Willie\"",
           "male",
           3,
           "Southampton"
          ],
          [
           "Johnston, Miss. Catherine Helen \"Carrie\"",
           "female",
           3,
           "Southampton"
          ],
          [
           "Johnston, Mr. Andrew G",
           "male",
           3,
           "Southampton"
          ],
          [
           "Johnston, Mrs. Andrew G (Elizabeth \"Lily\" Watson)",
           "female",
           3,
           "Southampton"
          ],
          [
           "Jonkoff, Mr. Lalio",
           "male",
           3,
           "Southampton"
          ],
          [
           "Jonsson, Mr. Nils Hilding",
           "male",
           3,
           "Southampton"
          ],
          [
           "Jussila, Miss. Katriina",
           "female",
           3,
           "Southampton"
          ],
          [
           "Jussila, Miss. Mari Aina",
           "female",
           3,
           "Southampton"
          ],
          [
           "Kallio, Mr. Nikolai Erland",
           "male",
           3,
           "Southampton"
          ],
          [
           "Kalvik, Mr. Johannes Halvorsen",
           "male",
           3,
           "Southampton"
          ],
          [
           "Karaic, Mr. Milan",
           "male",
           3,
           "Southampton"
          ],
          [
           "Karlsson, Mr. Julius Konrad Eugen",
           "male",
           3,
           "Southampton"
          ],
          [
           "Karlsson, Mr. Nils August",
           "male",
           3,
           "Southampton"
          ],
          [
           "Kassem, Mr. Fared",
           "male",
           3,
           "Cherbourg"
          ],
          [
           "Katavelas, Mr. Vassilios (\"Catavelas Vassilios\")",
           "male",
           3,
           "Cherbourg"
          ],
          [
           "Keane, Mr. Andrew \"Andy\"",
           "male",
           3,
           "Queenstown"
          ],
          [
           "Keefe, Mr. Arthur",
           "male",
           3,
           "Southampton"
          ],
          [
           "Kelly, Mr. James",
           "male",
           3,
           "Queenstown"
          ],
          [
           "Kelly, Mr. James",
           "male",
           3,
           "Southampton"
          ],
          [
           "Khalil, Mr. Betros",
           "male",
           3,
           "Cherbourg"
          ],
          [
           "Khalil, Mrs. Betros (Zahie \"Maria\" Elias)",
           "female",
           3,
           "Cherbourg"
          ],
          [
           "Kiernan, Mr. John",
           "male",
           3,
           "Queenstown"
          ],
          [
           "Kiernan, Mr. Philip",
           "male",
           3,
           "Queenstown"
          ],
          [
           "Kilgannon, Mr. Thomas J",
           "male",
           3,
           "Queenstown"
          ],
          [
           "Kink, Miss. Maria",
           "female",
           3,
           "Southampton"
          ],
          [
           "Kink, Mr. Vincenz",
           "male",
           3,
           "Southampton"
          ],
          [
           "Klasen, Miss. Gertrud Emilia",
           "female",
           3,
           "Southampton"
          ],
          [
           "Klasen, Mr. Klas Albin",
           "male",
           3,
           "Southampton"
          ],
          [
           "Klasen, Mrs. (Hulda Kristina Eugenia Lofqvist)",
           "female",
           3,
           "Southampton"
          ],
          [
           "Kraeff, Mr. Theodor",
           "male",
           3,
           "Cherbourg"
          ],
          [
           "Lahoud, Mr. Sarkis",
           "male",
           3,
           "Cherbourg"
          ],
          [
           "Laitinen, Miss. Kristina Sofia",
           "female",
           3,
           "Southampton"
          ],
          [
           "Laleff, Mr. Kristo",
           "male",
           3,
           "Southampton"
          ],
          [
           "Lam, Mr. Len",
           "male",
           3,
           "Southampton"
          ],
          [
           "Lane, Mr. Patrick",
           "male",
           3,
           "Queenstown"
          ],
          [
           "Larsson, Mr. August Viktor",
           "male",
           3,
           "Southampton"
          ],
          [
           "Larsson, Mr. Bengt Edvin",
           "male",
           3,
           "Southampton"
          ],
          [
           "Larsson-Rondberg, Mr. Edvard A",
           "male",
           3,
           "Southampton"
          ],
          [
           "Lefebre, Master. Henry Forbes",
           "male",
           3,
           "Southampton"
          ],
          [
           "Lefebre, Miss. Ida",
           "female",
           3,
           "Southampton"
          ],
          [
           "Lefebre, Miss. Jeannie",
           "female",
           3,
           "Southampton"
          ],
          [
           "Lefebre, Miss. Mathilde",
           "female",
           3,
           "Southampton"
          ],
          [
           "Lefebre, Mrs. Frank (Frances)",
           "female",
           3,
           "Southampton"
          ],
          [
           "Leinonen, Mr. Antti Gustaf",
           "male",
           3,
           "Southampton"
          ],
          [
           "Lemberopolous, Mr. Peter L",
           "male",
           3,
           "Cherbourg"
          ],
          [
           "Lennon, Miss. Mary",
           "female",
           3,
           "Queenstown"
          ],
          [
           "Lennon, Mr. Denis",
           "male",
           3,
           "Queenstown"
          ],
          [
           "Leonard, Mr. Lionel",
           "male",
           3,
           "Southampton"
          ],
          [
           "Lester, Mr. James",
           "male",
           3,
           "Southampton"
          ],
          [
           "Lievens, Mr. Rene Aime",
           "male",
           3,
           "Southampton"
          ],
          [
           "Lindahl, Miss. Agda Thorilda Viktoria",
           "female",
           3,
           "Southampton"
          ],
          [
           "Lindblom, Miss. Augusta Charlotta",
           "female",
           3,
           "Southampton"
          ],
          [
           "Lindell, Mr. Edvard Bengtsson",
           "male",
           3,
           "Southampton"
          ],
          [
           "Lindell, Mrs. Edvard Bengtsson (Elin Gerda Persson)",
           "female",
           3,
           "Southampton"
          ],
          [
           "Linehan, Mr. Michael",
           "male",
           3,
           "Queenstown"
          ],
          [
           "Ling, Mr. Lee",
           "male",
           3,
           "Southampton"
          ],
          [
           "Lithman, Mr. Simon",
           "male",
           3,
           "Southampton"
          ],
          [
           "Lobb, Mr. William Arthur",
           "male",
           3,
           "Southampton"
          ],
          [
           "Lobb, Mrs. William Arthur (Cordelia K Stanlick)",
           "female",
           3,
           "Southampton"
          ],
          [
           "Lockyer, Mr. Edward",
           "male",
           3,
           "Southampton"
          ],
          [
           "Lovell, Mr. John Hall (\"Henry\")",
           "male",
           3,
           "Southampton"
          ],
          [
           "Lundahl, Mr. Johan Svensson",
           "male",
           3,
           "Southampton"
          ],
          [
           "Lyntakoff, Mr. Stanko",
           "male",
           3,
           "Southampton"
          ],
          [
           "MacKay, Mr. George William",
           "male",
           3,
           "Southampton"
          ],
          [
           "Maenpaa, Mr. Matti Alexanteri",
           "male",
           3,
           "Southampton"
          ],
          [
           "Mahon, Miss. Bridget Delia",
           "female",
           3,
           "Queenstown"
          ],
          [
           "Mahon, Mr. John",
           "male",
           3,
           "Queenstown"
          ],
          [
           "Maisner, Mr. Simon",
           "male",
           3,
           "Southampton"
          ],
          [
           "Makinen, Mr. Kalle Edvard",
           "male",
           3,
           "Southampton"
          ],
          [
           "Mangan, Miss. Mary",
           "female",
           3,
           "Queenstown"
          ],
          [
           "Mardirosian, Mr. Sarkis",
           "male",
           3,
           "Cherbourg"
          ],
          [
           "Markoff, Mr. Marin",
           "male",
           3,
           "Cherbourg"
          ],
          [
           "Markun, Mr. Johann",
           "male",
           3,
           "Southampton"
          ],
          [
           "Matinoff, Mr. Nicola",
           "male",
           3,
           "Cherbourg"
          ],
          [
           "McEvoy, Mr. Michael",
           "male",
           3,
           "Queenstown"
          ],
          [
           "McGowan, Miss. Katherine",
           "female",
           3,
           "Queenstown"
          ],
          [
           "McMahon, Mr. Martin",
           "male",
           3,
           "Queenstown"
          ],
          [
           "McNamee, Mr. Neal",
           "male",
           3,
           "Southampton"
          ],
          [
           "McNamee, Mrs. Neal (Eileen O'Leary)",
           "female",
           3,
           "Southampton"
          ],
          [
           "McNeill, Miss. Bridget",
           "female",
           3,
           "Queenstown"
          ],
          [
           "Meanwell, Miss. (Marion Ogden)",
           "female",
           3,
           "Southampton"
          ],
          [
           "Meek, Mrs. Thomas (Annie Louise Rowley)",
           "female",
           3,
           "Southampton"
          ],
          [
           "Meo, Mr. Alfonzo",
           "male",
           3,
           "Southampton"
          ],
          [
           "Mernagh, Mr. Robert",
           "male",
           3,
           "Queenstown"
          ],
          [
           "Miles, Mr. Frank",
           "male",
           3,
           "Southampton"
          ],
          [
           "Mineff, Mr. Ivan",
           "male",
           3,
           "Southampton"
          ],
          [
           "Minkoff, Mr. Lazar",
           "male",
           3,
           "Southampton"
          ],
          [
           "Mionoff, Mr. Stoytcho",
           "male",
           3,
           "Southampton"
          ],
          [
           "Mitkoff, Mr. Mito",
           "male",
           3,
           "Southampton"
          ],
          [
           "Moen, Mr. Sigurd Hansen",
           "male",
           3,
           "Southampton"
          ],
          [
           "Moore, Mr. Leonard Charles",
           "male",
           3,
           "Southampton"
          ],
          [
           "Moran, Mr. Daniel J",
           "male",
           3,
           "Queenstown"
          ],
          [
           "Moran, Mr. James",
           "male",
           3,
           "Queenstown"
          ],
          [
           "Morley, Mr. William",
           "male",
           3,
           "Southampton"
          ],
          [
           "Morrow, Mr. Thomas Rowan",
           "male",
           3,
           "Queenstown"
          ],
          [
           "Moutal, Mr. Rahamin Haim",
           "male",
           3,
           "Southampton"
          ],
          [
           "Murdlin, Mr. Joseph",
           "male",
           3,
           "Southampton"
          ],
          [
           "Myhrman, Mr. Pehr Fabian Oliver Malkolm",
           "male",
           3,
           "Southampton"
          ],
          [
           "Naidenoff, Mr. Penko",
           "male",
           3,
           "Southampton"
          ],
          [
           "Nancarrow, Mr. William Henry",
           "male",
           3,
           "Southampton"
          ],
          [
           "Nankoff, Mr. Minko",
           "male",
           3,
           "Southampton"
          ],
          [
           "Nasr, Mr. Mustafa",
           "male",
           3,
           "Cherbourg"
          ],
          [
           "Naughton, Miss. Hannah",
           "female",
           3,
           "Queenstown"
          ],
          [
           "Nenkoff, Mr. Christo",
           "male",
           3,
           "Southampton"
          ],
          [
           "Nieminen, Miss. Manta Josefina",
           "female",
           3,
           "Southampton"
          ],
          [
           "Niklasson, Mr. Samuel",
           "male",
           3,
           "Southampton"
          ],
          [
           "Nilsson, Mr. August Ferdinand",
           "male",
           3,
           "Southampton"
          ],
          [
           "Nirva, Mr. Iisakki Antino Aijo",
           "male",
           3,
           "Southampton"
          ],
          [
           "Nosworthy, Mr. Richard Cater",
           "male",
           3,
           "Southampton"
          ],
          [
           "Novel, Mr. Mansouer",
           "male",
           3,
           "Cherbourg"
          ],
          [
           "Nysveen, Mr. Johan Hansen",
           "male",
           3,
           "Southampton"
          ],
          [
           "O'Brien, Mr. Thomas",
           "male",
           3,
           "Queenstown"
          ],
          [
           "O'Brien, Mr. Timothy",
           "male",
           3,
           "Queenstown"
          ],
          [
           "O'Connell, Mr. Patrick D",
           "male",
           3,
           "Queenstown"
          ],
          [
           "O'Connor, Mr. Maurice",
           "male",
           3,
           "Queenstown"
          ],
          [
           "O'Connor, Mr. Patrick",
           "male",
           3,
           "Queenstown"
          ],
          [
           "Odahl, Mr. Nils Martin",
           "male",
           3,
           "Southampton"
          ],
          [
           "O'Donoghue, Ms. Bridget",
           "female",
           3,
           "Queenstown"
          ],
          [
           "Olsen, Mr. Henry Margido",
           "male",
           3,
           "Southampton"
          ],
          [
           "Olsen, Mr. Karl Siegwart Andreas",
           "male",
           3,
           "Southampton"
          ],
          [
           "Olsen, Mr. Ole Martin",
           "male",
           3,
           "Southampton"
          ],
          [
           "Olsson, Miss. Elina",
           "female",
           3,
           "Southampton"
          ],
          [
           "Olsson, Mr. Nils Johan Goransson",
           "male",
           3,
           "Southampton"
          ],
          [
           "Olsvigen, Mr. Thor Anderson",
           "male",
           3,
           "Southampton"
          ],
          [
           "Oreskovic, Miss. Jelka",
           "female",
           3,
           "Southampton"
          ],
          [
           "Oreskovic, Miss. Marija",
           "female",
           3,
           "Southampton"
          ],
          [
           "Oreskovic, Mr. Luka",
           "male",
           3,
           "Southampton"
          ],
          [
           "Osen, Mr. Olaf Elon",
           "male",
           3,
           "Southampton"
          ],
          [
           "O'Sullivan, Miss. Bridget Mary",
           "female",
           3,
           "Queenstown"
          ],
          [
           "Palsson, Master. Gosta Leonard",
           "male",
           3,
           "Southampton"
          ],
          [
           "Palsson, Master. Paul Folke",
           "male",
           3,
           "Southampton"
          ],
          [
           "Palsson, Miss. Stina Viola",
           "female",
           3,
           "Southampton"
          ],
          [
           "Palsson, Miss. Torborg Danira",
           "female",
           3,
           "Southampton"
          ],
          [
           "Palsson, Mrs. Nils (Alma Cornelia Berglund)",
           "female",
           3,
           "Southampton"
          ],
          [
           "Panula, Master. Eino Viljami",
           "male",
           3,
           "Southampton"
          ],
          [
           "Panula, Master. Juha Niilo",
           "male",
           3,
           "Southampton"
          ],
          [
           "Panula, Master. Urho Abraham",
           "male",
           3,
           "Southampton"
          ],
          [
           "Panula, Mr. Ernesti Arvid",
           "male",
           3,
           "Southampton"
          ],
          [
           "Panula, Mr. Jaako Arnold",
           "male",
           3,
           "Southampton"
          ],
          [
           "Panula, Mrs. Juha (Maria Emilia Ojala)",
           "female",
           3,
           "Southampton"
          ],
          [
           "Pasic, Mr. Jakob",
           "male",
           3,
           "Southampton"
          ],
          [
           "Patchett, Mr. George",
           "male",
           3,
           "Southampton"
          ],
          [
           "Paulner, Mr. Uscher",
           "male",
           3,
           "Cherbourg"
          ],
          [
           "Pavlovic, Mr. Stefo",
           "male",
           3,
           "Southampton"
          ],
          [
           "Peacock, Master. Alfred Edward",
           "male",
           3,
           "Southampton"
          ],
          [
           "Peacock, Miss. Treasteall",
           "female",
           3,
           "Southampton"
          ],
          [
           "Peacock, Mrs. Benjamin (Edith Nile)",
           "female",
           3,
           "Southampton"
          ],
          [
           "Pearce, Mr. Ernest",
           "male",
           3,
           "Southampton"
          ],
          [
           "Pedersen, Mr. Olaf",
           "male",
           3,
           "Southampton"
          ],
          [
           "Peduzzi, Mr. Joseph",
           "male",
           3,
           "Southampton"
          ],
          [
           "Pekoniemi, Mr. Edvard",
           "male",
           3,
           "Southampton"
          ],
          [
           "Peltomaki, Mr. Nikolai Johannes",
           "male",
           3,
           "Southampton"
          ],
          [
           "Perkin, Mr. John Henry",
           "male",
           3,
           "Southampton"
          ],
          [
           "Peters, Miss. Katie",
           "female",
           3,
           "Queenstown"
          ],
          [
           "Petersen, Mr. Marius",
           "male",
           3,
           "Southampton"
          ],
          [
           "Petranec, Miss. Matilda",
           "female",
           3,
           "Southampton"
          ],
          [
           "Petroff, Mr. Nedelio",
           "male",
           3,
           "Southampton"
          ],
          [
           "Petroff, Mr. Pastcho (\"Pentcho\")",
           "male",
           3,
           "Southampton"
          ],
          [
           "Petterson, Mr. Johan Emil",
           "male",
           3,
           "Southampton"
          ],
          [
           "Pettersson, Miss. Ellen Natalia",
           "female",
           3,
           "Southampton"
          ],
          [
           "Plotcharsky, Mr. Vasil",
           "male",
           3,
           "Southampton"
          ],
          [
           "Pokrnic, Mr. Mate",
           "male",
           3,
           "Southampton"
          ],
          [
           "Pokrnic, Mr. Tome",
           "male",
           3,
           "Southampton"
          ],
          [
           "Radeff, Mr. Alexander",
           "male",
           3,
           "Southampton"
          ],
          [
           "Rasmussen, Mrs. (Lena Jacobsen Solvang)",
           "female",
           3,
           "Southampton"
          ],
          [
           "Razi, Mr. Raihed",
           "male",
           3,
           "Cherbourg"
          ],
          [
           "Reed, Mr. James George",
           "male",
           3,
           "Southampton"
          ],
          [
           "Rekic, Mr. Tido",
           "male",
           3,
           "Southampton"
          ],
          [
           "Reynolds, Mr. Harold J",
           "male",
           3,
           "Southampton"
          ],
          [
           "Rice, Master. Albert",
           "male",
           3,
           "Queenstown"
          ],
          [
           "Rice, Master. Arthur",
           "male",
           3,
           "Queenstown"
          ],
          [
           "Rice, Master. Eric",
           "male",
           3,
           "Queenstown"
          ],
          [
           "Rice, Master. Eugene",
           "male",
           3,
           "Queenstown"
          ],
          [
           "Rice, Master. George Hugh",
           "male",
           3,
           "Queenstown"
          ],
          [
           "Rice, Mrs. William (Margaret Norton)",
           "female",
           3,
           "Queenstown"
          ],
          [
           "Riihivouri, Miss. Susanna Juhantytar \"Sanni\"",
           "female",
           3,
           "Southampton"
          ],
          [
           "Rintamaki, Mr. Matti",
           "male",
           3,
           "Southampton"
          ],
          [
           "Risien, Mr. Samuel Beard",
           "male",
           3,
           "Southampton"
          ],
          [
           "Risien, Mrs. Samuel (Emma)",
           "female",
           3,
           "Southampton"
          ],
          [
           "Robins, Mr. Alexander A",
           "male",
           3,
           "Southampton"
          ],
          [
           "Robins, Mrs. Alexander A (Grace Charity Laury)",
           "female",
           3,
           "Southampton"
          ],
          [
           "Rogers, Mr. William John",
           "male",
           3,
           "Southampton"
          ],
          [
           "Rommetvedt, Mr. Knud Paust",
           "male",
           3,
           "Southampton"
          ],
          [
           "Rosblom, Miss. Salli Helena",
           "female",
           3,
           "Southampton"
          ],
          [
           "Rosblom, Mr. Viktor Richard",
           "male",
           3,
           "Southampton"
          ],
          [
           "Rosblom, Mrs. Viktor (Helena Wilhelmina)",
           "female",
           3,
           "Southampton"
          ],
          [
           "Rouse, Mr. Richard Henry",
           "male",
           3,
           "Southampton"
          ],
          [
           "Rush, Mr. Alfred George John",
           "male",
           3,
           "Southampton"
          ],
          [
           "Ryan, Mr. Patrick",
           "male",
           3,
           "Queenstown"
          ],
          [
           "Saad, Mr. Amin",
           "male",
           3,
           "Cherbourg"
          ],
          [
           "Saad, Mr. Khalil",
           "male",
           3,
           "Cherbourg"
          ],
          [
           "Saade, Mr. Jean Nassr",
           "male",
           3,
           "Cherbourg"
          ],
          [
           "Sadlier, Mr. Matthew",
           "male",
           3,
           "Queenstown"
          ],
          [
           "Sadowitz, Mr. Harry",
           "male",
           3,
           "Southampton"
          ],
          [
           "Saether, Mr. Simon Sivertsen",
           "male",
           3,
           "Southampton"
          ],
          [
           "Sage, Master. Thomas Henry",
           "male",
           3,
           "Southampton"
          ],
          [
           "Sage, Master. William Henry",
           "male",
           3,
           "Southampton"
          ],
          [
           "Sage, Miss. Ada",
           "female",
           3,
           "Southampton"
          ],
          [
           "Sage, Miss. Constance Gladys",
           "female",
           3,
           "Southampton"
          ],
          [
           "Sage, Miss. Dorothy Edith \"Dolly\"",
           "female",
           3,
           "Southampton"
          ],
          [
           "Sage, Miss. Stella Anna",
           "female",
           3,
           "Southampton"
          ],
          [
           "Sage, Mr. Douglas Bullen",
           "male",
           3,
           "Southampton"
          ],
          [
           "Sage, Mr. Frederick",
           "male",
           3,
           "Southampton"
          ],
          [
           "Sage, Mr. George John Jr",
           "male",
           3,
           "Southampton"
          ],
          [
           "Sage, Mr. John George",
           "male",
           3,
           "Southampton"
          ],
          [
           "Sage, Mrs. John (Annie Bullen)",
           "female",
           3,
           "Southampton"
          ],
          [
           "Salander, Mr. Karl Johan",
           "male",
           3,
           "Southampton"
          ],
          [
           "Salonen, Mr. Johan Werner",
           "male",
           3,
           "Southampton"
          ],
          [
           "Samaan, Mr. Elias",
           "male",
           3,
           "Cherbourg"
          ],
          [
           "Samaan, Mr. Hanna",
           "male",
           3,
           "Cherbourg"
          ],
          [
           "Samaan, Mr. Youssef",
           "male",
           3,
           "Cherbourg"
          ],
          [
           "Saundercock, Mr. William Henry",
           "male",
           3,
           "Southampton"
          ],
          [
           "Sawyer, Mr. Frederick Charles",
           "male",
           3,
           "Southampton"
          ],
          [
           "Scanlan, Mr. James",
           "male",
           3,
           "Queenstown"
          ],
          [
           "Sdycoff, Mr. Todor",
           "male",
           3,
           "Southampton"
          ],
          [
           "Shaughnessy, Mr. Patrick",
           "male",
           3,
           "Queenstown"
          ],
          [
           "Shellard, Mr. Frederick William",
           "male",
           3,
           "Southampton"
          ],
          [
           "Shorney, Mr. Charles Joseph",
           "male",
           3,
           "Southampton"
          ],
          [
           "Simmons, Mr. John",
           "male",
           3,
           "Southampton"
          ],
          [
           "Sirayanian, Mr. Orsen",
           "male",
           3,
           "Cherbourg"
          ],
          [
           "Sirota, Mr. Maurice",
           "male",
           3,
           "Southampton"
          ],
          [
           "Sivic, Mr. Husein",
           "male",
           3,
           "Southampton"
          ],
          [
           "Sivola, Mr. Antti Wilhelm",
           "male",
           3,
           "Southampton"
          ],
          [
           "Skoog, Master. Harald",
           "male",
           3,
           "Southampton"
          ],
          [
           "Skoog, Master. Karl Thorsten",
           "male",
           3,
           "Southampton"
          ],
          [
           "Skoog, Miss. Mabel",
           "female",
           3,
           "Southampton"
          ],
          [
           "Skoog, Miss. Margit Elizabeth",
           "female",
           3,
           "Southampton"
          ],
          [
           "Skoog, Mr. Wilhelm",
           "male",
           3,
           "Southampton"
          ],
          [
           "Skoog, Mrs. William (Anna Bernhardina Karlsson)",
           "female",
           3,
           "Southampton"
          ],
          [
           "Slabenoff, Mr. Petco",
           "male",
           3,
           "Southampton"
          ],
          [
           "Slocovski, Mr. Selman Francis",
           "male",
           3,
           "Southampton"
          ],
          [
           "Smiljanic, Mr. Mile",
           "male",
           3,
           "Southampton"
          ],
          [
           "Smith, Mr. Thomas",
           "male",
           3,
           "Queenstown"
          ],
          [
           "Soholt, Mr. Peter Andreas Lauritz Andersen",
           "male",
           3,
           "Southampton"
          ],
          [
           "Somerton, Mr. Francis William",
           "male",
           3,
           "Southampton"
          ],
          [
           "Spector, Mr. Woolf",
           "male",
           3,
           "Southampton"
          ],
          [
           "Spinner, Mr. Henry John",
           "male",
           3,
           "Southampton"
          ],
          [
           "Staneff, Mr. Ivan",
           "male",
           3,
           "Southampton"
          ],
          [
           "Stankovic, Mr. Ivan",
           "male",
           3,
           "Cherbourg"
          ],
          [
           "Stanley, Mr. Edward Roland",
           "male",
           3,
           "Southampton"
          ],
          [
           "Storey, Mr. Thomas",
           "male",
           3,
           "Southampton"
          ],
          [
           "Stoytcheff, Mr. Ilia",
           "male",
           3,
           "Southampton"
          ],
          [
           "Strandberg, Miss. Ida Sofia",
           "female",
           3,
           "Southampton"
          ],
          [
           "Strilic, Mr. Ivan",
           "male",
           3,
           "Southampton"
          ],
          [
           "Strom, Miss. Telma Matilda",
           "female",
           3,
           "Southampton"
          ],
          [
           "Strom, Mrs. Wilhelm (Elna Matilda Persson)",
           "female",
           3,
           "Southampton"
          ],
          [
           "Sutehall, Mr. Henry Jr",
           "male",
           3,
           "Southampton"
          ],
          [
           "Svensson, Mr. Johan",
           "male",
           3,
           "Southampton"
          ],
          [
           "Svensson, Mr. Olof",
           "male",
           3,
           "Southampton"
          ],
          [
           "Theobald, Mr. Thomas Leonard",
           "male",
           3,
           "Southampton"
          ],
          [
           "Thomas, Mr. Charles P",
           "male",
           3,
           "Cherbourg"
          ],
          [
           "Thomas, Mr. John",
           "male",
           3,
           "Cherbourg"
          ],
          [
           "Thomas, Mr. Tannous",
           "male",
           3,
           "Cherbourg"
          ],
          [
           "Thomson, Mr. Alexander Morrison",
           "male",
           3,
           "Southampton"
          ],
          [
           "Thorneycroft, Mr. Percival",
           "male",
           3,
           "Southampton"
          ],
          [
           "Tikkanen, Mr. Juho",
           "male",
           3,
           "Southampton"
          ],
          [
           "Tobin, Mr. Roger",
           "male",
           3,
           "Queenstown"
          ],
          [
           "Todoroff, Mr. Lalio",
           "male",
           3,
           "Southampton"
          ],
          [
           "Tomlin, Mr. Ernest Portage",
           "male",
           3,
           "Southampton"
          ],
          [
           "Torber, Mr. Ernst William",
           "male",
           3,
           "Southampton"
          ],
          [
           "Torfa, Mr. Assad",
           "male",
           3,
           "Cherbourg"
          ],
          [
           "Toufik, Mr. Nakli",
           "male",
           3,
           "Cherbourg"
          ],
          [
           "Turcin, Mr. Stjepan",
           "male",
           3,
           "Southampton"
          ],
          [
           "van Billiard, Master. James William",
           "male",
           3,
           "Southampton"
          ],
          [
           "van Billiard, Master. Walter John",
           "male",
           3,
           "Southampton"
          ],
          [
           "van Billiard, Mr. Austin Blyler",
           "male",
           3,
           "Southampton"
          ],
          [
           "Van Impe, Miss. Catharina",
           "female",
           3,
           "Southampton"
          ],
          [
           "Van Impe, Mr. Jean Baptiste",
           "male",
           3,
           "Southampton"
          ],
          [
           "Van Impe, Mrs. Jean Baptiste (Rosalie Paula Govaert)",
           "female",
           3,
           "Southampton"
          ],
          [
           "van Melkebeke, Mr. Philemon",
           "male",
           3,
           "Southampton"
          ],
          [
           "Vande Velde, Mr. Johannes Joseph",
           "male",
           3,
           "Southampton"
          ],
          [
           "Vande Walle, Mr. Nestor Cyriel",
           "male",
           3,
           "Southampton"
          ],
          [
           "Vanden Steen, Mr. Leo Peter",
           "male",
           3,
           "Southampton"
          ],
          [
           "Vander Cruyssen, Mr. Victor",
           "male",
           3,
           "Southampton"
          ],
          [
           "Vander Planke, Miss. Augusta Maria",
           "female",
           3,
           "Southampton"
          ],
          [
           "Vander Planke, Mr. Julius",
           "male",
           3,
           "Southampton"
          ],
          [
           "Vander Planke, Mr. Leo Edmondus",
           "male",
           3,
           "Southampton"
          ],
          [
           "Vander Planke, Mrs. Julius (Emelia Maria Vandemoortele)",
           "female",
           3,
           "Southampton"
          ],
          [
           "Vendel, Mr. Olof Edvin",
           "male",
           3,
           "Southampton"
          ],
          [
           "Vestrom, Miss. Hulda Amanda Adolfina",
           "female",
           3,
           "Southampton"
          ],
          [
           "Vovk, Mr. Janko",
           "male",
           3,
           "Southampton"
          ],
          [
           "Waelens, Mr. Achille",
           "male",
           3,
           "Southampton"
          ],
          [
           "Ware, Mr. Frederick",
           "male",
           3,
           "Southampton"
          ],
          [
           "Warren, Mr. Charles William",
           "male",
           3,
           "Southampton"
          ],
          [
           "Webber, Mr. James",
           "male",
           3,
           "Southampton"
          ],
          [
           "Wenzel, Mr. Linhart",
           "male",
           3,
           "Southampton"
          ],
          [
           "Widegren, Mr. Carl/Charles Peter",
           "male",
           3,
           "Southampton"
          ],
          [
           "Wiklund, Mr. Jakob Alfred",
           "male",
           3,
           "Southampton"
          ],
          [
           "Wiklund, Mr. Karl Johan",
           "male",
           3,
           "Southampton"
          ],
          [
           "Willer, Mr. Aaron (\"Abi Weller\")",
           "male",
           3,
           "Southampton"
          ],
          [
           "Willey, Mr. Edward",
           "male",
           3,
           "Southampton"
          ],
          [
           "Williams, Mr. Howard Hugh \"Harry\"",
           "male",
           3,
           "Southampton"
          ],
          [
           "Williams, Mr. Leslie",
           "male",
           3,
           "Southampton"
          ],
          [
           "Windelov, Mr. Einar",
           "male",
           3,
           "Southampton"
          ],
          [
           "Wirz, Mr. Albert",
           "male",
           3,
           "Southampton"
          ],
          [
           "Wiseman, Mr. Phillippe",
           "male",
           3,
           "Southampton"
          ],
          [
           "Wittevrongel, Mr. Camille",
           "male",
           3,
           "Southampton"
          ],
          [
           "Yasbeck, Mr. Antoni",
           "male",
           3,
           "Cherbourg"
          ],
          [
           "Youseff, Mr. Gerious",
           "male",
           3,
           "Cherbourg"
          ],
          [
           "Yousif, Mr. Wazli",
           "male",
           3,
           "Cherbourg"
          ],
          [
           "Yousseff, Mr. Gerious",
           "male",
           3,
           "Cherbourg"
          ],
          [
           "Zabour, Miss. Hileni",
           "female",
           3,
           "Cherbourg"
          ],
          [
           "Zabour, Miss. Thamine",
           "female",
           3,
           "Cherbourg"
          ],
          [
           "Zakarian, Mr. Mapriededer",
           "male",
           3,
           "Cherbourg"
          ],
          [
           "Zakarian, Mr. Ortin",
           "male",
           3,
           "Cherbourg"
          ],
          [
           "Zimmerman, Mr. Leo",
           "male",
           3,
           "Southampton"
          ]
         ],
         "fillcolor": "rgba(255,255,255,0)",
         "hoveron": "points",
         "hovertemplate": "<b>%{customdata[0]}</b><br>Sex: %{customdata[1]}<br>Age: %{customdata[2]}<br>Class: %{customdata[3]}<br>Embarked: %{customdata[4]}<br>%{yaxis.title.text}: %{y}<br><extra></extra>",
         "legendgroup": "Died",
         "line": {
          "color": "rgba(255,255,255,0)"
         },
         "marker": {
          "color": "#DC143C",
          "line": {
           "color": "white",
           "width": 0.5
          },
          "opacity": 0.6,
          "size": 6
         },
         "name": "Died",
         "offsetgroup": "Died",
         "orientation": "v",
         "pointpos": 0,
         "showlegend": true,
         "type": "box",
         "x": [
          "Miss",
          "Mr",
          "Mrs",
          "Mr",
          "Mr",
          "Other",
          "Mr",
          "Mr",
          "Mr",
          "Mr",
          "Mr",
          "Mr",
          "Mr",
          "Mr",
          "Dr",
          "Other",
          "Mr",
          "Mr",
          "Mr",
          "Mr",
          "Mr",
          "Mr",
          "Mr",
          "Mr",
          "Mr",
          "Mr",
          "Mr",
          "Mr",
          "Mr",
          "Other",
          "Mr",
          "Mr",
          "Mr",
          "Mr",
          "Miss",
          "Mr",
          "Mr",
          "Mr",
          "Mr",
          "Mr",
          "Mr",
          "Mr",
          "Mr",
          "Mr",
          "Mr",
          "Mr",
          "Mr",
          "Mr",
          "Mr",
          "Mr",
          "Mr",
          "Mr",
          "Mr",
          "Mr",
          "Mr",
          "Mr",
          "Miss",
          "Mr",
          "Mr",
          "Mr",
          "Mr",
          "Mr",
          "Mr",
          "Mr",
          "Mr",
          "Mr",
          "Mr",
          "Mr",
          "Mr",
          "Mr",
          "Mr",
          "Mr",
          "Mr",
          "Dr",
          "Mr",
          "Mr",
          "Mr",
          "Mr",
          "Mr",
          "Mr",
          "Mr",
          "Mr",
          "Mr",
          "Mr",
          "Mr",
          "Mr",
          "Mr",
          "Other",
          "Mr",
          "Mr",
          "Mr",
          "Mr",
          "Mr",
          "Mr",
          "Mr",
          "Mr",
          "Mr",
          "Mr",
          "Mr",
          "Mr",
          "Mr",
          "Mr",
          "Mr",
          "Mr",
          "Mr",
          "Mr",
          "Mrs",
          "Mr",
          "Mr",
          "Mr",
          "Other",
          "Mr",
          "Mr",
          "Mr",
          "Other",
          "Mr",
          "Mr",
          "Mr",
          "Mr",
          "Mr",
          "Mr",
          "Mr",
          "Mr",
          "Mr",
          "Mr",
          "Mr",
          "Mr",
          "Mr",
          "Mr",
          "Mr",
          "Mr",
          "Mr",
          "Rev",
          "Mr",
          "Mr",
          "Mr",
          "Mr",
          "Mr",
          "Mr",
          "Mr",
          "Mr",
          "Rev",
          "Mr",
          "Mr",
          "Mrs",
          "Rev",
          "Mr",
          "Mr",
          "Mrs",
          "Mr",
          "Mr",
          "Mr",
          "Mr",
          "Mrs",
          "Mrs",
          "Mr",
          "Mr",
          "Mr",
          "Mr",
          "Mr",
          "Mr",
          "Mr",
          "Mr",
          "Mr",
          "Mr",
          "Mr",
          "Mr",
          "Mr",
          "Mr",
          "Mr",
          "Mr",
          "Mr",
          "Miss",
          "Mr",
          "Mr",
          "Mr",
          "Mr",
          "Mr",
          "Mr",
          "Mr",
          "Mr",
          "Mr",
          "Mr",
          "Mr",
          "Mr",
          "Mr",
          "Mr",
          "Mr",
          "Rev",
          "Mr",
          "Mr",
          "Mr",
          "Mr",
          "Mr",
          "Mr",
          "Miss",
          "Mr",
          "Mr",
          "Mr",
          "Mr",
          "Mr",
          "Mr",
          "Mrs",
          "Mr",
          "Mr",
          "Mr",
          "Mr",
          "Mr",
          "Mr",
          "Mr",
          "Mrs",
          "Mr",
          "Rev",
          "Mr",
          "Mr",
          "Mrs",
          "Rev",
          "Mr",
          "Mr",
          "Mr",
          "Mr",
          "Mr",
          "Mr",
          "Mrs",
          "Mr",
          "Mr",
          "Mr",
          "Mr",
          "Mr",
          "Mr",
          "Mr",
          "Mr",
          "Mr",
          "Mr",
          "Mr",
          "Rev",
          "Dr",
          "Mr",
          "Mr",
          "Mr",
          "Mr",
          "Mr",
          "Mr",
          "Mr",
          "Mr",
          "Mr",
          "Dr",
          "Mr",
          "Mr",
          "Mr",
          "Mr",
          "Rev",
          "Mr",
          "Mr",
          "Mr",
          "Mr",
          "Mr",
          "Mr",
          "Mr",
          "Mr",
          "Mr",
          "Mr",
          "Mr",
          "Mr",
          "Mr",
          "Mr",
          "Mr",
          "Mr",
          "Mr",
          "Mr",
          "Mr",
          "Mrs",
          "Mr",
          "Mr",
          "Mr",
          "Mr",
          "Mr",
          "Mr",
          "Mr",
          "Mr",
          "Miss",
          "Mr",
          "Master",
          "Mr",
          "Mr",
          "Mr",
          "Mrs",
          "Mr",
          "Mr",
          "Mr",
          "Mr",
          "Mr",
          "Mr",
          "Mr",
          "Master",
          "Miss",
          "Miss",
          "Miss",
          "Miss",
          "Miss",
          "Mr",
          "Mr",
          "Mrs",
          "Mr",
          "Mr",
          "Mr",
          "Mrs",
          "Mr",
          "Mr",
          "Master",
          "Master",
          "Master",
          "Mr",
          "Mr",
          "Mr",
          "Miss",
          "Mr",
          "Mr",
          "Mr",
          "Mr",
          "Mr",
          "Mr",
          "Miss",
          "Mrs",
          "Miss",
          "Mr",
          "Mr",
          "Mr",
          "Mr",
          "Master",
          "Mr",
          "Mr",
          "Mr",
          "Mr",
          "Master",
          "Miss",
          "Mr",
          "Mrs",
          "Miss",
          "Mr",
          "Mrs",
          "Mr",
          "Miss",
          "Mr",
          "Mr",
          "Mr",
          "Mr",
          "Miss",
          "Mr",
          "Miss",
          "Miss",
          "Miss",
          "Mr",
          "Mr",
          "Mr",
          "Mr",
          "Miss",
          "Mr",
          "Mr",
          "Mr",
          "Mrs",
          "Mr",
          "Mr",
          "Miss",
          "Mr",
          "Mr",
          "Mr",
          "Mr",
          "Mr",
          "Mr",
          "Mr",
          "Mr",
          "Mr",
          "Mr",
          "Mr",
          "Mr",
          "Miss",
          "Mr",
          "Mr",
          "Mr",
          "Mr",
          "Mr",
          "Mr",
          "Mr",
          "Mr",
          "Mr",
          "Mr",
          "Mr",
          "Miss",
          "Mr",
          "Master",
          "Mr",
          "Mrs",
          "Mr",
          "Mr",
          "Mr",
          "Mr",
          "Mr",
          "Mr",
          "Mr",
          "Mr",
          "Mr",
          "Mr",
          "Mr",
          "Mr",
          "Mr",
          "Mr",
          "Mr",
          "Mr",
          "Mr",
          "Mr",
          "Mr",
          "Miss",
          "Mr",
          "Mr",
          "Mr",
          "Mr",
          "Mr",
          "Mr",
          "Mr",
          "Mr",
          "Mr",
          "Mr",
          "Mr",
          "Mr",
          "Mr",
          "Mr",
          "Mr",
          "Miss",
          "Mr",
          "Mr",
          "Mr",
          "Mr",
          "Miss",
          "Miss",
          "Mr",
          "Mr",
          "Mr",
          "Mrs",
          "Mr",
          "Mr",
          "Mr",
          "Mr",
          "Mr",
          "Mr",
          "Mr",
          "Mr",
          "Mr",
          "Master",
          "Master",
          "Master",
          "Miss",
          "Miss",
          "Mr",
          "Mr",
          "Mrs",
          "Mr",
          "Mr",
          "Mr",
          "Mr",
          "Mr",
          "Mr",
          "Mr",
          "Miss",
          "Miss",
          "Mr",
          "Mr",
          "Mr",
          "Mr",
          "Mr",
          "Mr",
          "Mr",
          "Mr",
          "Miss",
          "Mr",
          "Mr",
          "Mr",
          "Miss",
          "Miss",
          "Mr",
          "Miss",
          "Miss",
          "Mr",
          "Mr",
          "Mr",
          "Mr",
          "Mr",
          "Mr",
          "Miss",
          "Miss",
          "Mr",
          "Mr",
          "Mr",
          "Mr",
          "Mr",
          "Mr",
          "Mr",
          "Mr",
          "Mr",
          "Mr",
          "Mr",
          "Mr",
          "Mr",
          "Master",
          "Miss",
          "Mr",
          "Mrs",
          "Mr",
          "Mr",
          "Miss",
          "Miss",
          "Mr",
          "Mr",
          "Mr",
          "Mr",
          "Mr",
          "Mr",
          "Mr",
          "Mr",
          "Mr",
          "Mr",
          "Mr",
          "Mr",
          "Mrs",
          "Mr",
          "Mr",
          "Mr",
          "Miss",
          "Mr",
          "Miss",
          "Mr",
          "Mrs",
          "Mr",
          "Mr",
          "Miss",
          "Mr",
          "Mr",
          "Mr",
          "Mr",
          "Mr",
          "Mr",
          "Master",
          "Miss",
          "Miss",
          "Miss",
          "Mrs",
          "Mr",
          "Mr",
          "Miss",
          "Mr",
          "Mr",
          "Mr",
          "Mr",
          "Miss",
          "Miss",
          "Mr",
          "Mrs",
          "Mr",
          "Mr",
          "Mr",
          "Mr",
          "Mrs",
          "Mr",
          "Mr",
          "Mr",
          "Mr",
          "Mr",
          "Mr",
          "Miss",
          "Mr",
          "Mr",
          "Mr",
          "Miss",
          "Mr",
          "Mr",
          "Mr",
          "Mr",
          "Mr",
          "Miss",
          "Mr",
          "Mr",
          "Mrs",
          "Miss",
          "Miss",
          "Mrs",
          "Mr",
          "Mr",
          "Mr",
          "Mr",
          "Mr",
          "Mr",
          "Mr",
          "Mr",
          "Mr",
          "Mr",
          "Mr",
          "Mr",
          "Mr",
          "Mr",
          "Mr",
          "Mr",
          "Mr",
          "Mr",
          "Mr",
          "Mr",
          "Miss",
          "Mr",
          "Miss",
          "Mr",
          "Mr",
          "Mr",
          "Mr",
          "Mr",
          "Mr",
          "Mr",
          "Mr",
          "Mr",
          "Mr",
          "Mr",
          "Mr",
          "Other",
          "Mr",
          "Mr",
          "Mr",
          "Miss",
          "Mr",
          "Mr",
          "Miss",
          "Miss",
          "Mr",
          "Mr",
          "Miss",
          "Master",
          "Master",
          "Miss",
          "Miss",
          "Mrs",
          "Master",
          "Master",
          "Master",
          "Mr",
          "Mr",
          "Mrs",
          "Mr",
          "Mr",
          "Mr",
          "Mr",
          "Master",
          "Miss",
          "Mrs",
          "Mr",
          "Mr",
          "Mr",
          "Mr",
          "Mr",
          "Mr",
          "Miss",
          "Mr",
          "Miss",
          "Mr",
          "Mr",
          "Mr",
          "Miss",
          "Mr",
          "Mr",
          "Mr",
          "Mr",
          "Mrs",
          "Mr",
          "Mr",
          "Mr",
          "Mr",
          "Master",
          "Master",
          "Master",
          "Master",
          "Master",
          "Mrs",
          "Miss",
          "Mr",
          "Mr",
          "Mrs",
          "Mr",
          "Mrs",
          "Mr",
          "Mr",
          "Miss",
          "Mr",
          "Mrs",
          "Mr",
          "Mr",
          "Mr",
          "Mr",
          "Mr",
          "Mr",
          "Mr",
          "Mr",
          "Mr",
          "Master",
          "Master",
          "Miss",
          "Miss",
          "Miss",
          "Miss",
          "Mr",
          "Mr",
          "Mr",
          "Mr",
          "Mrs",
          "Mr",
          "Mr",
          "Mr",
          "Mr",
          "Mr",
          "Mr",
          "Mr",
          "Mr",
          "Mr",
          "Mr",
          "Mr",
          "Mr",
          "Mr",
          "Mr",
          "Mr",
          "Mr",
          "Mr",
          "Master",
          "Master",
          "Miss",
          "Miss",
          "Mr",
          "Mrs",
          "Mr",
          "Mr",
          "Mr",
          "Mr",
          "Mr",
          "Mr",
          "Mr",
          "Mr",
          "Mr",
          "Mr",
          "Mr",
          "Mr",
          "Mr",
          "Miss",
          "Mr",
          "Miss",
          "Mrs",
          "Mr",
          "Mr",
          "Mr",
          "Mr",
          "Mr",
          "Mr",
          "Mr",
          "Mr",
          "Mr",
          "Mr",
          "Mr",
          "Mr",
          "Mr",
          "Mr",
          "Mr",
          "Mr",
          "Mr",
          "Master",
          "Master",
          "Mr",
          "Miss",
          "Mr",
          "Mrs",
          "Mr",
          "Mr",
          "Mr",
          "Mr",
          "Mr",
          "Miss",
          "Mr",
          "Mr",
          "Mrs",
          "Mr",
          "Miss",
          "Mr",
          "Mr",
          "Mr",
          "Mr",
          "Mr",
          "Mr",
          "Mr",
          "Mr",
          "Mr",
          "Mr",
          "Mr",
          "Mr",
          "Mr",
          "Mr",
          "Mr",
          "Mr",
          "Mr",
          "Mr",
          "Mr",
          "Mr",
          "Mr",
          "Miss",
          "Miss",
          "Mr",
          "Mr",
          "Mr"
         ],
         "x0": " ",
         "xaxis": "x",
         "y": {
          "bdata": "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",
          "dtype": "f8"
         },
         "y0": " ",
         "yaxis": "y"
        },
        {
         "boxpoints": false,
         "fillcolor": "rgba(211,211,211,0.3)",
         "hoverinfo": "skip",
         "line": {
          "color": "black",
          "width": 1.5
         },
         "showlegend": false,
         "type": "box",
         "x": [
          "Dr",
          "Dr",
          "Dr",
          "Dr",
          "Dr",
          "Dr",
          "Dr",
          "Dr"
         ],
         "y": [
          43,
          53,
          50,
          49,
          44,
          32,
          54,
          23
         ]
        },
        {
         "boxpoints": false,
         "fillcolor": "rgba(211,211,211,0.3)",
         "hoverinfo": "skip",
         "line": {
          "color": "black",
          "width": 1.5
         },
         "showlegend": false,
         "type": "box",
         "x": [
          "Master",
          "Master",
          "Master",
          "Master",
          "Master",
          "Master",
          "Master",
          "Master",
          "Master",
          "Master",
          "Master",
          "Master",
          "Master",
          "Master",
          "Master",
          "Master",
          "Master",
          "Master",
          "Master",
          "Master",
          "Master",
          "Master",
          "Master",
          "Master",
          "Master",
          "Master",
          "Master",
          "Master",
          "Master",
          "Master",
          "Master",
          "Master",
          "Master",
          "Master",
          "Master",
          "Master",
          "Master",
          "Master",
          "Master",
          "Master",
          "Master",
          "Master",
          "Master",
          "Master",
          "Master",
          "Master",
          "Master",
          "Master",
          "Master",
          "Master",
          "Master",
          "Master",
          "Master",
          "Master",
          "Master",
          "Master",
          "Master",
          "Master",
          "Master",
          "Master",
          "Master"
         ],
         "y": [
          0.9167,
          11,
          4,
          13,
          6,
          1,
          0.8333,
          8,
          8,
          0.6667,
          1,
          2,
          3,
          0.8333,
          3,
          2,
          13,
          0.8333,
          4,
          5,
          9,
          3,
          13,
          5,
          6,
          9,
          3,
          0.3333,
          1,
          9,
          9,
          1,
          11,
          4,
          5,
          5,
          6,
          5,
          5,
          12,
          9,
          2,
          6,
          1,
          7,
          2,
          0.75,
          5,
          10,
          4,
          7,
          2,
          8,
          5,
          14.5,
          4,
          10,
          0.4167,
          7,
          5,
          11.5
         ]
        },
        {
         "boxpoints": false,
         "fillcolor": "rgba(211,211,211,0.3)",
         "hoverinfo": "skip",
         "line": {
          "color": "black",
          "width": 1.5
         },
         "showlegend": false,
         "type": "box",
         "x": [
          "Miss",
          "Miss",
          "Miss",
          "Miss",
          "Miss",
          "Miss",
          "Miss",
          "Miss",
          "Miss",
          "Miss",
          "Miss",
          "Miss",
          "Miss",
          "Miss",
          "Miss",
          "Miss",
          "Miss",
          "Miss",
          "Miss",
          "Miss",
          "Miss",
          "Miss",
          "Miss",
          "Miss",
          "Miss",
          "Miss",
          "Miss",
          "Miss",
          "Miss",
          "Miss",
          "Miss",
          "Miss",
          "Miss",
          "Miss",
          "Miss",
          "Miss",
          "Miss",
          "Miss",
          "Miss",
          "Miss",
          "Miss",
          "Miss",
          "Miss",
          "Miss",
          "Miss",
          "Miss",
          "Miss",
          "Miss",
          "Miss",
          "Miss",
          "Miss",
          "Miss",
          "Miss",
          "Miss",
          "Miss",
          "Miss",
          "Miss",
          "Miss",
          "Miss",
          "Miss",
          "Miss",
          "Miss",
          "Miss",
          "Miss",
          "Miss",
          "Miss",
          "Miss",
          "Miss",
          "Miss",
          "Miss",
          "Miss",
          "Miss",
          "Miss",
          "Miss",
          "Miss",
          "Miss",
          "Miss",
          "Miss",
          "Miss",
          "Miss",
          "Miss",
          "Miss",
          "Miss",
          "Miss",
          "Miss",
          "Miss",
          "Miss",
          "Miss",
          "Miss",
          "Miss",
          "Miss",
          "Miss",
          "Miss",
          "Miss",
          "Miss",
          "Miss",
          "Miss",
          "Miss",
          "Miss",
          "Miss",
          "Miss",
          "Miss",
          "Miss",
          "Miss",
          "Miss",
          "Miss",
          "Miss",
          "Miss",
          "Miss",
          "Miss",
          "Miss",
          "Miss",
          "Miss",
          "Miss",
          "Miss",
          "Miss",
          "Miss",
          "Miss",
          "Miss",
          "Miss",
          "Miss",
          "Miss",
          "Miss",
          "Miss",
          "Miss",
          "Miss",
          "Miss",
          "Miss",
          "Miss",
          "Miss",
          "Miss",
          "Miss",
          "Miss",
          "Miss",
          "Miss",
          "Miss",
          "Miss",
          "Miss",
          "Miss",
          "Miss",
          "Miss",
          "Miss",
          "Miss",
          "Miss",
          "Miss",
          "Miss",
          "Miss",
          "Miss",
          "Miss",
          "Miss",
          "Miss",
          "Miss",
          "Miss",
          "Miss",
          "Miss",
          "Miss",
          "Miss",
          "Miss",
          "Miss",
          "Miss",
          "Miss",
          "Miss",
          "Miss",
          "Miss",
          "Miss",
          "Miss",
          "Miss",
          "Miss",
          "Miss",
          "Miss",
          "Miss",
          "Miss",
          "Miss",
          "Miss",
          "Miss",
          "Miss",
          "Miss",
          "Miss",
          "Miss",
          "Miss",
          "Miss",
          "Miss",
          "Miss",
          "Miss",
          "Miss",
          "Miss",
          "Miss",
          "Miss",
          "Miss",
          "Miss",
          "Miss",
          "Miss",
          "Miss",
          "Miss",
          "Miss",
          "Miss",
          "Miss",
          "Miss",
          "Miss",
          "Miss",
          "Miss",
          "Miss",
          "Miss",
          "Miss",
          "Miss",
          "Miss",
          "Miss",
          "Miss",
          "Miss",
          "Miss",
          "Miss",
          "Miss",
          "Miss",
          "Miss",
          "Miss",
          "Miss",
          "Miss",
          "Miss",
          "Miss",
          "Miss",
          "Miss",
          "Miss",
          "Miss",
          "Miss",
          "Miss",
          "Miss",
          "Miss",
          "Miss",
          "Miss",
          "Miss",
          "Miss",
          "Miss",
          "Miss",
          "Miss",
          "Miss",
          "Miss",
          "Miss",
          "Miss",
          "Miss",
          "Miss",
          "Miss",
          "Miss",
          "Miss",
          "Miss",
          "Miss",
          "Miss",
          "Miss",
          "Miss",
          "Miss",
          "Miss",
          "Miss",
          "Miss",
          "Miss",
          "Miss",
          "Miss",
          "Miss",
          "Miss",
          "Miss",
          "Miss",
          "Miss"
         ],
         "y": [
          29,
          2,
          63,
          26,
          32,
          42,
          29,
          35,
          30,
          58,
          45,
          22,
          41,
          14,
          36,
          30,
          22,
          39,
          36,
          33,
          38,
          54,
          36,
          21,
          24,
          28,
          23,
          30,
          22,
          35,
          22,
          19,
          24,
          16,
          38,
          50,
          39,
          30,
          16,
          21,
          58,
          15,
          16,
          33,
          31,
          23,
          19,
          22,
          30,
          33,
          18,
          21,
          30,
          40,
          18,
          35,
          31,
          21,
          31,
          36,
          4,
          12,
          19,
          24,
          15,
          20,
          36,
          35,
          25,
          8,
          28,
          18,
          27,
          30,
          38,
          34,
          6,
          7,
          24,
          24,
          18,
          20,
          17,
          21,
          1,
          3,
          17,
          21,
          13,
          21,
          19,
          2,
          8,
          50,
          21,
          18,
          20,
          30,
          30,
          40,
          50,
          27,
          31,
          12,
          32.5,
          4,
          0.9167,
          5,
          26,
          24,
          16,
          19,
          6,
          2,
          17,
          38,
          9,
          11,
          5,
          17,
          13,
          0.75,
          0.75,
          5,
          18,
          18,
          27,
          9,
          21,
          22,
          20,
          18.5,
          18,
          21,
          30,
          21,
          16,
          37,
          22,
          30,
          17,
          22,
          30,
          0.1667,
          19,
          30,
          24,
          23,
          5,
          21,
          21,
          9,
          16,
          21,
          10,
          16,
          24,
          17,
          21,
          21,
          18,
          26,
          23,
          22,
          28,
          21,
          2,
          27,
          21,
          27,
          25,
          21,
          1,
          21,
          20,
          21,
          4,
          21,
          21,
          22,
          4,
          1,
          37,
          22,
          21,
          21,
          21,
          21,
          25,
          45,
          23,
          21,
          21,
          30.5,
          21,
          21,
          21,
          21,
          21,
          21,
          15,
          35,
          21,
          21,
          21,
          21,
          21,
          24,
          21,
          21,
          21,
          15,
          1,
          21,
          14,
          29,
          18,
          26,
          22,
          21,
          21,
          22,
          21,
          31,
          23,
          20,
          21,
          3,
          8,
          3,
          21,
          21,
          28,
          18,
          22,
          21,
          2,
          21,
          21,
          21,
          21,
          21,
          21,
          1,
          4,
          21,
          18,
          9,
          2,
          21,
          23,
          22,
          2,
          9,
          18,
          10,
          18,
          14,
          14.5,
          21
         ]
        },
        {
         "boxpoints": false,
         "fillcolor": "rgba(211,211,211,0.3)",
         "hoverinfo": "skip",
         "line": {
          "color": "black",
          "width": 1.5
         },
         "showlegend": false,
         "type": "box",
         "x": [
          "Mr",
          "Mr",
          "Mr",
          "Mr",
          "Mr",
          "Mr",
          "Mr",
          "Mr",
          "Mr",
          "Mr",
          "Mr",
          "Mr",
          "Mr",
          "Mr",
          "Mr",
          "Mr",
          "Mr",
          "Mr",
          "Mr",
          "Mr",
          "Mr",
          "Mr",
          "Mr",
          "Mr",
          "Mr",
          "Mr",
          "Mr",
          "Mr",
          "Mr",
          "Mr",
          "Mr",
          "Mr",
          "Mr",
          "Mr",
          "Mr",
          "Mr",
          "Mr",
          "Mr",
          "Mr",
          "Mr",
          "Mr",
          "Mr",
          "Mr",
          "Mr",
          "Mr",
          "Mr",
          "Mr",
          "Mr",
          "Mr",
          "Mr",
          "Mr",
          "Mr",
          "Mr",
          "Mr",
          "Mr",
          "Mr",
          "Mr",
          "Mr",
          "Mr",
          "Mr",
          "Mr",
          "Mr",
          "Mr",
          "Mr",
          "Mr",
          "Mr",
          "Mr",
          "Mr",
          "Mr",
          "Mr",
          "Mr",
          "Mr",
          "Mr",
          "Mr",
          "Mr",
          "Mr",
          "Mr",
          "Mr",
          "Mr",
          "Mr",
          "Mr",
          "Mr",
          "Mr",
          "Mr",
          "Mr",
          "Mr",
          "Mr",
          "Mr",
          "Mr",
          "Mr",
          "Mr",
          "Mr",
          "Mr",
          "Mr",
          "Mr",
          "Mr",
          "Mr",
          "Mr",
          "Mr",
          "Mr",
          "Mr",
          "Mr",
          "Mr",
          "Mr",
          "Mr",
          "Mr",
          "Mr",
          "Mr",
          "Mr",
          "Mr",
          "Mr",
          "Mr",
          "Mr",
          "Mr",
          "Mr",
          "Mr",
          "Mr",
          "Mr",
          "Mr",
          "Mr",
          "Mr",
          "Mr",
          "Mr",
          "Mr",
          "Mr",
          "Mr",
          "Mr",
          "Mr",
          "Mr",
          "Mr",
          "Mr",
          "Mr",
          "Mr",
          "Mr",
          "Mr",
          "Mr",
          "Mr",
          "Mr",
          "Mr",
          "Mr",
          "Mr",
          "Mr",
          "Mr",
          "Mr",
          "Mr",
          "Mr",
          "Mr",
          "Mr",
          "Mr",
          "Mr",
          "Mr",
          "Mr",
          "Mr",
          "Mr",
          "Mr",
          "Mr",
          "Mr",
          "Mr",
          "Mr",
          "Mr",
          "Mr",
          "Mr",
          "Mr",
          "Mr",
          "Mr",
          "Mr",
          "Mr",
          "Mr",
          "Mr",
          "Mr",
          "Mr",
          "Mr",
          "Mr",
          "Mr",
          "Mr",
          "Mr",
          "Mr",
          "Mr",
          "Mr",
          "Mr",
          "Mr",
          "Mr",
          "Mr",
          "Mr",
          "Mr",
          "Mr",
          "Mr",
          "Mr",
          "Mr",
          "Mr",
          "Mr",
          "Mr",
          "Mr",
          "Mr",
          "Mr",
          "Mr",
          "Mr",
          "Mr",
          "Mr",
          "Mr",
          "Mr",
          "Mr",
          "Mr",
          "Mr",
          "Mr",
          "Mr",
          "Mr",
          "Mr",
          "Mr",
          "Mr",
          "Mr",
          "Mr",
          "Mr",
          "Mr",
          "Mr",
          "Mr",
          "Mr",
          "Mr",
          "Mr",
          "Mr",
          "Mr",
          "Mr",
          "Mr",
          "Mr",
          "Mr",
          "Mr",
          "Mr",
          "Mr",
          "Mr",
          "Mr",
          "Mr",
          "Mr",
          "Mr",
          "Mr",
          "Mr",
          "Mr",
          "Mr",
          "Mr",
          "Mr",
          "Mr",
          "Mr",
          "Mr",
          "Mr",
          "Mr",
          "Mr",
          "Mr",
          "Mr",
          "Mr",
          "Mr",
          "Mr",
          "Mr",
          "Mr",
          "Mr",
          "Mr",
          "Mr",
          "Mr",
          "Mr",
          "Mr",
          "Mr",
          "Mr",
          "Mr",
          "Mr",
          "Mr",
          "Mr",
          "Mr",
          "Mr",
          "Mr",
          "Mr",
          "Mr",
          "Mr",
          "Mr",
          "Mr",
          "Mr",
          "Mr",
          "Mr",
          "Mr",
          "Mr",
          "Mr",
          "Mr",
          "Mr",
          "Mr",
          "Mr",
          "Mr",
          "Mr",
          "Mr",
          "Mr",
          "Mr",
          "Mr",
          "Mr",
          "Mr",
          "Mr",
          "Mr",
          "Mr",
          "Mr",
          "Mr",
          "Mr",
          "Mr",
          "Mr",
          "Mr",
          "Mr",
          "Mr",
          "Mr",
          "Mr",
          "Mr",
          "Mr",
          "Mr",
          "Mr",
          "Mr",
          "Mr",
          "Mr",
          "Mr",
          "Mr",
          "Mr",
          "Mr",
          "Mr",
          "Mr",
          "Mr",
          "Mr",
          "Mr",
          "Mr",
          "Mr",
          "Mr",
          "Mr",
          "Mr",
          "Mr",
          "Mr",
          "Mr",
          "Mr",
          "Mr",
          "Mr",
          "Mr",
          "Mr",
          "Mr",
          "Mr",
          "Mr",
          "Mr",
          "Mr",
          "Mr",
          "Mr",
          "Mr",
          "Mr",
          "Mr",
          "Mr",
          "Mr",
          "Mr",
          "Mr",
          "Mr",
          "Mr",
          "Mr",
          "Mr",
          "Mr",
          "Mr",
          "Mr",
          "Mr",
          "Mr",
          "Mr",
          "Mr",
          "Mr",
          "Mr",
          "Mr",
          "Mr",
          "Mr",
          "Mr",
          "Mr",
          "Mr",
          "Mr",
          "Mr",
          "Mr",
          "Mr",
          "Mr",
          "Mr",
          "Mr",
          "Mr",
          "Mr",
          "Mr",
          "Mr",
          "Mr",
          "Mr",
          "Mr",
          "Mr",
          "Mr",
          "Mr",
          "Mr",
          "Mr",
          "Mr",
          "Mr",
          "Mr",
          "Mr",
          "Mr",
          "Mr",
          "Mr",
          "Mr",
          "Mr",
          "Mr",
          "Mr",
          "Mr",
          "Mr",
          "Mr",
          "Mr",
          "Mr",
          "Mr",
          "Mr",
          "Mr",
          "Mr",
          "Mr",
          "Mr",
          "Mr",
          "Mr",
          "Mr",
          "Mr",
          "Mr",
          "Mr",
          "Mr",
          "Mr",
          "Mr",
          "Mr",
          "Mr",
          "Mr",
          "Mr",
          "Mr",
          "Mr",
          "Mr",
          "Mr",
          "Mr",
          "Mr",
          "Mr",
          "Mr",
          "Mr",
          "Mr",
          "Mr",
          "Mr",
          "Mr",
          "Mr",
          "Mr",
          "Mr",
          "Mr",
          "Mr",
          "Mr",
          "Mr",
          "Mr",
          "Mr",
          "Mr",
          "Mr",
          "Mr",
          "Mr",
          "Mr",
          "Mr",
          "Mr",
          "Mr",
          "Mr",
          "Mr",
          "Mr",
          "Mr",
          "Mr",
          "Mr",
          "Mr",
          "Mr",
          "Mr",
          "Mr",
          "Mr",
          "Mr",
          "Mr",
          "Mr",
          "Mr",
          "Mr",
          "Mr",
          "Mr",
          "Mr",
          "Mr",
          "Mr",
          "Mr",
          "Mr",
          "Mr",
          "Mr",
          "Mr",
          "Mr",
          "Mr",
          "Mr",
          "Mr",
          "Mr",
          "Mr",
          "Mr",
          "Mr",
          "Mr",
          "Mr",
          "Mr",
          "Mr",
          "Mr",
          "Mr",
          "Mr",
          "Mr",
          "Mr",
          "Mr",
          "Mr",
          "Mr",
          "Mr",
          "Mr",
          "Mr",
          "Mr",
          "Mr",
          "Mr",
          "Mr",
          "Mr",
          "Mr",
          "Mr",
          "Mr",
          "Mr",
          "Mr",
          "Mr",
          "Mr",
          "Mr",
          "Mr",
          "Mr",
          "Mr",
          "Mr",
          "Mr",
          "Mr",
          "Mr",
          "Mr",
          "Mr",
          "Mr",
          "Mr",
          "Mr",
          "Mr",
          "Mr",
          "Mr",
          "Mr",
          "Mr",
          "Mr",
          "Mr",
          "Mr",
          "Mr",
          "Mr",
          "Mr",
          "Mr",
          "Mr",
          "Mr",
          "Mr",
          "Mr",
          "Mr",
          "Mr",
          "Mr",
          "Mr",
          "Mr",
          "Mr",
          "Mr",
          "Mr",
          "Mr",
          "Mr",
          "Mr",
          "Mr",
          "Mr",
          "Mr",
          "Mr",
          "Mr",
          "Mr",
          "Mr",
          "Mr",
          "Mr",
          "Mr",
          "Mr",
          "Mr",
          "Mr",
          "Mr",
          "Mr",
          "Mr",
          "Mr",
          "Mr",
          "Mr",
          "Mr",
          "Mr",
          "Mr",
          "Mr",
          "Mr",
          "Mr",
          "Mr",
          "Mr",
          "Mr",
          "Mr",
          "Mr",
          "Mr",
          "Mr",
          "Mr",
          "Mr",
          "Mr",
          "Mr",
          "Mr",
          "Mr",
          "Mr",
          "Mr",
          "Mr",
          "Mr",
          "Mr",
          "Mr",
          "Mr",
          "Mr",
          "Mr",
          "Mr",
          "Mr",
          "Mr",
          "Mr",
          "Mr",
          "Mr",
          "Mr",
          "Mr",
          "Mr",
          "Mr",
          "Mr",
          "Mr",
          "Mr",
          "Mr",
          "Mr",
          "Mr",
          "Mr",
          "Mr",
          "Mr",
          "Mr",
          "Mr",
          "Mr",
          "Mr",
          "Mr",
          "Mr",
          "Mr",
          "Mr",
          "Mr",
          "Mr",
          "Mr",
          "Mr",
          "Mr",
          "Mr",
          "Mr",
          "Mr",
          "Mr",
          "Mr",
          "Mr",
          "Mr",
          "Mr",
          "Mr",
          "Mr",
          "Mr",
          "Mr",
          "Mr",
          "Mr",
          "Mr",
          "Mr",
          "Mr",
          "Mr",
          "Mr",
          "Mr",
          "Mr",
          "Mr",
          "Mr",
          "Mr",
          "Mr",
          "Mr",
          "Mr",
          "Mr",
          "Mr",
          "Mr",
          "Mr",
          "Mr",
          "Mr",
          "Mr",
          "Mr",
          "Mr",
          "Mr",
          "Mr",
          "Mr",
          "Mr",
          "Mr",
          "Mr",
          "Mr",
          "Mr",
          "Mr",
          "Mr",
          "Mr",
          "Mr",
          "Mr",
          "Mr",
          "Mr",
          "Mr",
          "Mr",
          "Mr",
          "Mr",
          "Mr",
          "Mr",
          "Mr",
          "Mr",
          "Mr",
          "Mr",
          "Mr",
          "Mr",
          "Mr",
          "Mr",
          "Mr",
          "Mr",
          "Mr",
          "Mr",
          "Mr",
          "Mr",
          "Mr",
          "Mr",
          "Mr",
          "Mr",
          "Mr",
          "Mr",
          "Mr",
          "Mr",
          "Mr",
          "Mr",
          "Mr",
          "Mr",
          "Mr",
          "Mr",
          "Mr",
          "Mr",
          "Mr",
          "Mr",
          "Mr",
          "Mr",
          "Mr",
          "Mr",
          "Mr",
          "Mr",
          "Mr",
          "Mr",
          "Mr",
          "Mr",
          "Mr",
          "Mr",
          "Mr",
          "Mr",
          "Mr",
          "Mr",
          "Mr",
          "Mr",
          "Mr",
          "Mr",
          "Mr",
          "Mr",
          "Mr",
          "Mr",
          "Mr",
          "Mr",
          "Mr",
          "Mr",
          "Mr",
          "Mr",
          "Mr",
          "Mr",
          "Mr",
          "Mr",
          "Mr",
          "Mr",
          "Mr",
          "Mr",
          "Mr"
         ],
         "y": [
          30,
          48,
          39,
          71,
          80,
          32,
          24,
          36,
          37,
          26,
          25,
          25,
          28,
          45,
          40,
          42,
          32,
          41,
          48,
          32,
          42,
          36,
          33,
          28,
          17,
          36,
          49,
          36,
          46,
          27,
          45,
          32,
          27,
          32,
          47,
          37,
          32,
          39,
          51,
          27,
          31,
          31,
          50,
          39,
          32,
          36,
          30,
          19,
          64,
          32,
          43,
          60,
          32,
          37,
          47,
          24,
          49,
          71,
          38,
          23,
          46,
          25,
          48,
          32,
          45,
          40,
          27,
          32,
          55,
          42,
          32,
          55,
          42,
          35,
          38,
          32,
          49,
          46,
          50,
          32.5,
          58,
          41,
          42,
          32,
          35,
          32,
          42,
          29,
          30,
          30,
          32,
          19,
          46,
          54,
          36,
          28,
          65,
          30,
          55,
          47,
          37,
          58,
          64,
          32,
          65,
          28.5,
          32,
          45.5,
          23,
          29,
          18,
          47,
          32,
          22,
          32,
          31,
          45,
          32,
          46,
          36,
          55,
          33,
          61,
          32,
          32,
          34,
          35,
          50,
          28,
          56,
          56,
          24,
          32,
          24,
          45,
          57,
          62,
          54,
          32,
          67,
          61,
          52,
          48,
          49,
          17,
          31,
          61,
          47,
          64,
          54,
          21,
          57,
          50,
          27,
          51,
          21,
          32,
          32,
          62,
          30,
          30,
          18,
          25,
          34,
          57,
          18,
          23,
          28,
          32,
          28,
          34,
          23,
          26,
          42,
          27,
          60,
          25,
          25,
          26,
          32,
          19,
          52,
          37,
          29,
          29,
          28,
          24,
          31,
          21,
          32,
          18,
          32,
          17,
          29,
          25,
          18,
          54,
          42,
          23,
          21,
          18,
          40,
          18,
          36,
          32,
          35,
          38,
          34,
          16,
          26,
          47,
          21,
          21,
          24,
          24,
          34,
          30,
          52,
          30,
          44,
          62,
          30,
          43,
          49,
          24,
          32,
          21,
          23,
          36,
          50,
          44,
          21,
          42,
          63,
          33,
          42,
          47,
          24,
          22,
          32,
          34,
          35,
          32,
          31,
          32,
          25,
          36,
          24,
          61,
          50,
          32,
          31,
          32,
          30,
          40,
          32,
          30,
          46,
          19,
          39,
          48,
          70,
          39,
          16,
          62,
          32.5,
          36.5,
          26,
          19,
          28,
          20,
          39,
          22,
          32,
          29,
          28,
          32,
          19,
          32,
          43,
          34,
          30,
          27,
          36,
          34,
          23,
          19,
          26,
          25,
          27,
          59,
          35,
          25,
          41,
          25,
          18.5,
          14,
          23,
          29,
          40,
          30,
          23,
          32,
          27,
          36,
          66,
          32,
          31,
          32,
          42,
          16,
          25,
          20,
          30,
          26,
          26,
          26,
          20,
          24,
          25,
          35,
          18,
          32,
          39,
          27,
          26,
          20,
          26,
          25,
          24,
          35,
          40,
          23,
          21,
          23,
          30,
          23,
          20,
          32,
          40,
          26,
          20,
          22,
          19,
          26,
          22,
          20,
          32,
          21,
          18,
          26,
          32,
          40,
          21,
          29,
          22,
          22,
          35,
          21,
          19,
          18,
          38,
          17,
          17,
          21,
          21,
          32,
          28,
          24,
          28,
          24,
          21,
          32,
          29,
          26,
          18,
          20,
          18,
          24,
          36,
          24,
          31,
          31,
          70.5,
          43,
          35,
          27,
          19,
          30,
          59,
          19,
          44,
          17,
          22.5,
          45,
          19,
          29,
          34,
          27,
          25,
          24,
          22,
          21,
          17,
          32,
          36.5,
          30,
          16,
          26,
          25,
          32,
          32,
          22,
          36,
          17,
          42,
          43,
          32,
          32,
          19,
          33,
          65,
          24,
          23,
          18,
          16,
          45,
          32,
          39,
          17,
          15,
          47,
          32,
          40.5,
          40.5,
          32,
          18,
          32,
          32,
          26,
          32,
          32,
          32,
          18,
          16,
          32,
          32,
          25,
          32,
          32,
          22,
          33,
          41,
          38,
          14,
          40,
          51,
          32,
          32,
          20,
          37,
          28,
          19,
          32,
          32,
          28,
          20,
          23.5,
          41,
          26,
          21,
          25,
          32,
          11,
          27,
          32,
          28,
          43,
          28,
          32,
          42,
          32,
          30,
          32,
          32,
          29,
          21,
          32,
          20,
          48,
          17,
          32,
          34,
          26,
          22,
          33,
          31,
          29,
          49,
          33,
          19,
          32,
          23,
          32,
          27,
          32,
          17,
          21,
          30,
          21,
          33,
          22,
          39,
          32,
          18.5,
          32,
          32,
          34.5,
          44,
          32,
          32,
          32,
          32,
          32,
          26,
          29,
          18,
          32,
          25,
          32,
          32,
          32,
          32,
          32,
          26,
          29,
          29,
          22,
          22,
          32,
          34.5,
          32,
          36,
          39,
          24,
          36,
          20,
          32,
          28,
          32,
          30,
          32,
          20.5,
          27,
          51,
          32,
          32,
          32,
          24,
          22,
          32,
          32,
          29,
          32,
          32,
          35,
          33,
          32,
          32,
          32,
          32,
          32,
          24,
          55.5,
          32,
          21,
          32,
          24,
          21,
          28,
          32,
          25,
          32,
          32,
          32,
          34,
          32,
          32,
          32,
          32,
          18,
          22,
          20,
          33,
          32,
          32,
          32,
          28,
          21,
          41,
          39,
          21,
          28.5,
          61,
          32,
          32,
          32,
          32,
          32,
          23,
          32,
          28,
          42,
          32,
          28,
          32,
          20,
          20,
          16,
          16,
          14,
          21,
          19,
          32,
          32,
          32,
          32,
          32,
          21,
          25,
          22,
          25,
          24,
          19,
          32,
          25,
          32,
          32,
          17,
          24,
          32,
          32,
          32,
          38,
          21,
          35,
          32,
          50,
          32,
          32,
          18,
          50,
          16,
          32,
          32,
          32,
          25,
          32,
          32,
          32,
          38.5,
          32,
          32,
          32,
          32,
          24,
          39,
          32,
          32,
          32,
          25,
          20,
          24.5,
          32,
          32,
          32,
          29,
          32,
          32,
          32,
          22,
          32,
          40,
          21,
          40,
          32,
          32,
          32,
          32,
          19,
          30,
          32,
          32,
          32,
          33,
          21,
          60.5,
          19,
          31,
          27,
          16,
          44,
          25,
          74,
          14,
          24,
          25,
          34,
          32,
          32,
          32,
          32,
          32,
          32,
          32,
          32,
          30.5,
          44,
          32,
          25,
          32,
          36,
          40.5,
          36,
          32,
          33,
          28,
          28,
          47,
          31,
          16,
          22,
          20,
          22,
          22,
          32,
          32,
          32,
          32.5,
          51,
          18,
          21,
          32,
          32,
          32,
          28.5,
          21,
          27,
          32,
          36,
          27,
          45.5,
          32,
          32,
          26.5,
          27,
          29
         ]
        },
        {
         "boxpoints": false,
         "fillcolor": "rgba(211,211,211,0.3)",
         "hoverinfo": "skip",
         "line": {
          "color": "black",
          "width": 1.5
         },
         "showlegend": false,
         "type": "box",
         "x": [
          "Mrs",
          "Mrs",
          "Mrs",
          "Mrs",
          "Mrs",
          "Mrs",
          "Mrs",
          "Mrs",
          "Mrs",
          "Mrs",
          "Mrs",
          "Mrs",
          "Mrs",
          "Mrs",
          "Mrs",
          "Mrs",
          "Mrs",
          "Mrs",
          "Mrs",
          "Mrs",
          "Mrs",
          "Mrs",
          "Mrs",
          "Mrs",
          "Mrs",
          "Mrs",
          "Mrs",
          "Mrs",
          "Mrs",
          "Mrs",
          "Mrs",
          "Mrs",
          "Mrs",
          "Mrs",
          "Mrs",
          "Mrs",
          "Mrs",
          "Mrs",
          "Mrs",
          "Mrs",
          "Mrs",
          "Mrs",
          "Mrs",
          "Mrs",
          "Mrs",
          "Mrs",
          "Mrs",
          "Mrs",
          "Mrs",
          "Mrs",
          "Mrs",
          "Mrs",
          "Mrs",
          "Mrs",
          "Mrs",
          "Mrs",
          "Mrs",
          "Mrs",
          "Mrs",
          "Mrs",
          "Mrs",
          "Mrs",
          "Mrs",
          "Mrs",
          "Mrs",
          "Mrs",
          "Mrs",
          "Mrs",
          "Mrs",
          "Mrs",
          "Mrs",
          "Mrs",
          "Mrs",
          "Mrs",
          "Mrs",
          "Mrs",
          "Mrs",
          "Mrs",
          "Mrs",
          "Mrs",
          "Mrs",
          "Mrs",
          "Mrs",
          "Mrs",
          "Mrs",
          "Mrs",
          "Mrs",
          "Mrs",
          "Mrs",
          "Mrs",
          "Mrs",
          "Mrs",
          "Mrs",
          "Mrs",
          "Mrs",
          "Mrs",
          "Mrs",
          "Mrs",
          "Mrs",
          "Mrs",
          "Mrs",
          "Mrs",
          "Mrs",
          "Mrs",
          "Mrs",
          "Mrs",
          "Mrs",
          "Mrs",
          "Mrs",
          "Mrs",
          "Mrs",
          "Mrs",
          "Mrs",
          "Mrs",
          "Mrs",
          "Mrs",
          "Mrs",
          "Mrs",
          "Mrs",
          "Mrs",
          "Mrs",
          "Mrs",
          "Mrs",
          "Mrs",
          "Mrs",
          "Mrs",
          "Mrs",
          "Mrs",
          "Mrs",
          "Mrs",
          "Mrs",
          "Mrs",
          "Mrs",
          "Mrs",
          "Mrs",
          "Mrs",
          "Mrs",
          "Mrs",
          "Mrs",
          "Mrs",
          "Mrs",
          "Mrs",
          "Mrs",
          "Mrs",
          "Mrs",
          "Mrs",
          "Mrs",
          "Mrs",
          "Mrs",
          "Mrs",
          "Mrs",
          "Mrs",
          "Mrs",
          "Mrs",
          "Mrs",
          "Mrs",
          "Mrs",
          "Mrs",
          "Mrs",
          "Mrs",
          "Mrs",
          "Mrs",
          "Mrs",
          "Mrs",
          "Mrs",
          "Mrs",
          "Mrs",
          "Mrs",
          "Mrs",
          "Mrs",
          "Mrs",
          "Mrs",
          "Mrs",
          "Mrs",
          "Mrs",
          "Mrs",
          "Mrs",
          "Mrs",
          "Mrs",
          "Mrs",
          "Mrs",
          "Mrs",
          "Mrs",
          "Mrs",
          "Mrs",
          "Mrs",
          "Mrs",
          "Mrs",
          "Mrs",
          "Mrs",
          "Mrs",
          "Mrs",
          "Mrs",
          "Mrs",
          "Mrs",
          "Mrs"
         ],
         "y": [
          25,
          53,
          18,
          50,
          47,
          19,
          44,
          59,
          60,
          53,
          58,
          36,
          36,
          76,
          47,
          33,
          36,
          26,
          64,
          55,
          64,
          38,
          27,
          17,
          54,
          27,
          48,
          23,
          36,
          60,
          36,
          48,
          35,
          45,
          36,
          58,
          45,
          25,
          49,
          35,
          52,
          44,
          51,
          35,
          35,
          36,
          45,
          55,
          51,
          18,
          36,
          37,
          22,
          17,
          56,
          43,
          48,
          35,
          39,
          18,
          23,
          40,
          36,
          43,
          52,
          62,
          63,
          48,
          39,
          36,
          39,
          36,
          60,
          55,
          45,
          50,
          28,
          36,
          36,
          19,
          36,
          40,
          42,
          22,
          44,
          29,
          45,
          28,
          31,
          22,
          30,
          36,
          48,
          24,
          34,
          34,
          29,
          24,
          45,
          48,
          55,
          54,
          29,
          60,
          24,
          23,
          24,
          22,
          45,
          26,
          22,
          34,
          42,
          57,
          24,
          41,
          14,
          29,
          50,
          32,
          33,
          30,
          24,
          25,
          28,
          27,
          31,
          40,
          29,
          29,
          33,
          35,
          18,
          40,
          18,
          39,
          18,
          38,
          45,
          33,
          24,
          45,
          36,
          32,
          36,
          36,
          28,
          36,
          36,
          33,
          22,
          48,
          31,
          43,
          24,
          45,
          22,
          27,
          36,
          36,
          26,
          36,
          36,
          30,
          26,
          36,
          19,
          36,
          27,
          36,
          36,
          19,
          36,
          31,
          29,
          41,
          26,
          36,
          36,
          39,
          36,
          47,
          41,
          36,
          24,
          45,
          29,
          16,
          36,
          29,
          63,
          30,
          31,
          38,
          47,
          15
         ]
        },
        {
         "boxpoints": false,
         "fillcolor": "rgba(211,211,211,0.3)",
         "hoverinfo": "skip",
         "line": {
          "color": "black",
          "width": 1.5
         },
         "showlegend": false,
         "type": "box",
         "x": [
          "Other",
          "Other",
          "Other",
          "Other",
          "Other",
          "Other",
          "Other",
          "Other",
          "Other",
          "Other",
          "Other",
          "Other",
          "Other",
          "Other",
          "Other",
          "Other",
          "Other",
          "Other",
          "Other"
         ],
         "y": [
          47,
          24,
          45,
          70,
          48,
          49,
          53,
          24,
          39,
          52,
          38,
          33,
          54,
          24,
          56,
          40,
          60,
          28,
          43
         ]
        },
        {
         "boxpoints": false,
         "fillcolor": "rgba(211,211,211,0.3)",
         "hoverinfo": "skip",
         "line": {
          "color": "black",
          "width": 1.5
         },
         "showlegend": false,
         "type": "box",
         "x": [
          "Rev",
          "Rev",
          "Rev",
          "Rev",
          "Rev",
          "Rev",
          "Rev",
          "Rev"
         ],
         "y": [
          51,
          42,
          54,
          28,
          57,
          30,
          27,
          41
         ]
        }
       ],
       "layout": {
        "boxmode": "overlay",
        "height": 600,
        "legend": {
         "title": {
          "text": "Survived"
         },
         "tracegroupgap": 0
        },
        "margin": {
         "t": 60
        },
        "template": {
         "data": {
          "bar": [
           {
            "error_x": {
             "color": "#2a3f5f"
            },
            "error_y": {
             "color": "#2a3f5f"
            },
            "marker": {
             "line": {
              "color": "white",
              "width": 0.5
             },
             "pattern": {
              "fillmode": "overlay",
              "size": 10,
              "solidity": 0.2
             }
            },
            "type": "bar"
           }
          ],
          "barpolar": [
           {
            "marker": {
             "line": {
              "color": "white",
              "width": 0.5
             },
             "pattern": {
              "fillmode": "overlay",
              "size": 10,
              "solidity": 0.2
             }
            },
            "type": "barpolar"
           }
          ],
          "carpet": [
           {
            "aaxis": {
             "endlinecolor": "#2a3f5f",
             "gridcolor": "#C8D4E3",
             "linecolor": "#C8D4E3",
             "minorgridcolor": "#C8D4E3",
             "startlinecolor": "#2a3f5f"
            },
            "baxis": {
             "endlinecolor": "#2a3f5f",
             "gridcolor": "#C8D4E3",
             "linecolor": "#C8D4E3",
             "minorgridcolor": "#C8D4E3",
             "startlinecolor": "#2a3f5f"
            },
            "type": "carpet"
           }
          ],
          "choropleth": [
           {
            "colorbar": {
             "outlinewidth": 0,
             "ticks": ""
            },
            "type": "choropleth"
           }
          ],
          "contour": [
           {
            "colorbar": {
             "outlinewidth": 0,
             "ticks": ""
            },
            "colorscale": [
             [
              0,
              "#0d0887"
             ],
             [
              0.1111111111111111,
              "#46039f"
             ],
             [
              0.2222222222222222,
              "#7201a8"
             ],
             [
              0.3333333333333333,
              "#9c179e"
             ],
             [
              0.4444444444444444,
              "#bd3786"
             ],
             [
              0.5555555555555556,
              "#d8576b"
             ],
             [
              0.6666666666666666,
              "#ed7953"
             ],
             [
              0.7777777777777778,
              "#fb9f3a"
             ],
             [
              0.8888888888888888,
              "#fdca26"
             ],
             [
              1,
              "#f0f921"
             ]
            ],
            "type": "contour"
           }
          ],
          "contourcarpet": [
           {
            "colorbar": {
             "outlinewidth": 0,
             "ticks": ""
            },
            "type": "contourcarpet"
           }
          ],
          "heatmap": [
           {
            "colorbar": {
             "outlinewidth": 0,
             "ticks": ""
            },
            "colorscale": [
             [
              0,
              "#0d0887"
             ],
             [
              0.1111111111111111,
              "#46039f"
             ],
             [
              0.2222222222222222,
              "#7201a8"
             ],
             [
              0.3333333333333333,
              "#9c179e"
             ],
             [
              0.4444444444444444,
              "#bd3786"
             ],
             [
              0.5555555555555556,
              "#d8576b"
             ],
             [
              0.6666666666666666,
              "#ed7953"
             ],
             [
              0.7777777777777778,
              "#fb9f3a"
             ],
             [
              0.8888888888888888,
              "#fdca26"
             ],
             [
              1,
              "#f0f921"
             ]
            ],
            "type": "heatmap"
           }
          ],
          "histogram": [
           {
            "marker": {
             "pattern": {
              "fillmode": "overlay",
              "size": 10,
              "solidity": 0.2
             }
            },
            "type": "histogram"
           }
          ],
          "histogram2d": [
           {
            "colorbar": {
             "outlinewidth": 0,
             "ticks": ""
            },
            "colorscale": [
             [
              0,
              "#0d0887"
             ],
             [
              0.1111111111111111,
              "#46039f"
             ],
             [
              0.2222222222222222,
              "#7201a8"
             ],
             [
              0.3333333333333333,
              "#9c179e"
             ],
             [
              0.4444444444444444,
              "#bd3786"
             ],
             [
              0.5555555555555556,
              "#d8576b"
             ],
             [
              0.6666666666666666,
              "#ed7953"
             ],
             [
              0.7777777777777778,
              "#fb9f3a"
             ],
             [
              0.8888888888888888,
              "#fdca26"
             ],
             [
              1,
              "#f0f921"
             ]
            ],
            "type": "histogram2d"
           }
          ],
          "histogram2dcontour": [
           {
            "colorbar": {
             "outlinewidth": 0,
             "ticks": ""
            },
            "colorscale": [
             [
              0,
              "#0d0887"
             ],
             [
              0.1111111111111111,
              "#46039f"
             ],
             [
              0.2222222222222222,
              "#7201a8"
             ],
             [
              0.3333333333333333,
              "#9c179e"
             ],
             [
              0.4444444444444444,
              "#bd3786"
             ],
             [
              0.5555555555555556,
              "#d8576b"
             ],
             [
              0.6666666666666666,
              "#ed7953"
             ],
             [
              0.7777777777777778,
              "#fb9f3a"
             ],
             [
              0.8888888888888888,
              "#fdca26"
             ],
             [
              1,
              "#f0f921"
             ]
            ],
            "type": "histogram2dcontour"
           }
          ],
          "mesh3d": [
           {
            "colorbar": {
             "outlinewidth": 0,
             "ticks": ""
            },
            "type": "mesh3d"
           }
          ],
          "parcoords": [
           {
            "line": {
             "colorbar": {
              "outlinewidth": 0,
              "ticks": ""
             }
            },
            "type": "parcoords"
           }
          ],
          "pie": [
           {
            "automargin": true,
            "type": "pie"
           }
          ],
          "scatter": [
           {
            "fillpattern": {
             "fillmode": "overlay",
             "size": 10,
             "solidity": 0.2
            },
            "type": "scatter"
           }
          ],
          "scatter3d": [
           {
            "line": {
             "colorbar": {
              "outlinewidth": 0,
              "ticks": ""
             }
            },
            "marker": {
             "colorbar": {
              "outlinewidth": 0,
              "ticks": ""
             }
            },
            "type": "scatter3d"
           }
          ],
          "scattercarpet": [
           {
            "marker": {
             "colorbar": {
              "outlinewidth": 0,
              "ticks": ""
             }
            },
            "type": "scattercarpet"
           }
          ],
          "scattergeo": [
           {
            "marker": {
             "colorbar": {
              "outlinewidth": 0,
              "ticks": ""
             }
            },
            "type": "scattergeo"
           }
          ],
          "scattergl": [
           {
            "marker": {
             "colorbar": {
              "outlinewidth": 0,
              "ticks": ""
             }
            },
            "type": "scattergl"
           }
          ],
          "scattermap": [
           {
            "marker": {
             "colorbar": {
              "outlinewidth": 0,
              "ticks": ""
             }
            },
            "type": "scattermap"
           }
          ],
          "scattermapbox": [
           {
            "marker": {
             "colorbar": {
              "outlinewidth": 0,
              "ticks": ""
             }
            },
            "type": "scattermapbox"
           }
          ],
          "scatterpolar": [
           {
            "marker": {
             "colorbar": {
              "outlinewidth": 0,
              "ticks": ""
             }
            },
            "type": "scatterpolar"
           }
          ],
          "scatterpolargl": [
           {
            "marker": {
             "colorbar": {
              "outlinewidth": 0,
              "ticks": ""
             }
            },
            "type": "scatterpolargl"
           }
          ],
          "scatterternary": [
           {
            "marker": {
             "colorbar": {
              "outlinewidth": 0,
              "ticks": ""
             }
            },
            "type": "scatterternary"
           }
          ],
          "surface": [
           {
            "colorbar": {
             "outlinewidth": 0,
             "ticks": ""
            },
            "colorscale": [
             [
              0,
              "#0d0887"
             ],
             [
              0.1111111111111111,
              "#46039f"
             ],
             [
              0.2222222222222222,
              "#7201a8"
             ],
             [
              0.3333333333333333,
              "#9c179e"
             ],
             [
              0.4444444444444444,
              "#bd3786"
             ],
             [
              0.5555555555555556,
              "#d8576b"
             ],
             [
              0.6666666666666666,
              "#ed7953"
             ],
             [
              0.7777777777777778,
              "#fb9f3a"
             ],
             [
              0.8888888888888888,
              "#fdca26"
             ],
             [
              1,
              "#f0f921"
             ]
            ],
            "type": "surface"
           }
          ],
          "table": [
           {
            "cells": {
             "fill": {
              "color": "#EBF0F8"
             },
             "line": {
              "color": "white"
             }
            },
            "header": {
             "fill": {
              "color": "#C8D4E3"
             },
             "line": {
              "color": "white"
             }
            },
            "type": "table"
           }
          ]
         },
         "layout": {
          "annotationdefaults": {
           "arrowcolor": "#2a3f5f",
           "arrowhead": 0,
           "arrowwidth": 1
          },
          "autotypenumbers": "strict",
          "coloraxis": {
           "colorbar": {
            "outlinewidth": 0,
            "ticks": ""
           }
          },
          "colorscale": {
           "diverging": [
            [
             0,
             "#8e0152"
            ],
            [
             0.1,
             "#c51b7d"
            ],
            [
             0.2,
             "#de77ae"
            ],
            [
             0.3,
             "#f1b6da"
            ],
            [
             0.4,
             "#fde0ef"
            ],
            [
             0.5,
             "#f7f7f7"
            ],
            [
             0.6,
             "#e6f5d0"
            ],
            [
             0.7,
             "#b8e186"
            ],
            [
             0.8,
             "#7fbc41"
            ],
            [
             0.9,
             "#4d9221"
            ],
            [
             1,
             "#276419"
            ]
           ],
           "sequential": [
            [
             0,
             "#0d0887"
            ],
            [
             0.1111111111111111,
             "#46039f"
            ],
            [
             0.2222222222222222,
             "#7201a8"
            ],
            [
             0.3333333333333333,
             "#9c179e"
            ],
            [
             0.4444444444444444,
             "#bd3786"
            ],
            [
             0.5555555555555556,
             "#d8576b"
            ],
            [
             0.6666666666666666,
             "#ed7953"
            ],
            [
             0.7777777777777778,
             "#fb9f3a"
            ],
            [
             0.8888888888888888,
             "#fdca26"
            ],
            [
             1,
             "#f0f921"
            ]
           ],
           "sequentialminus": [
            [
             0,
             "#0d0887"
            ],
            [
             0.1111111111111111,
             "#46039f"
            ],
            [
             0.2222222222222222,
             "#7201a8"
            ],
            [
             0.3333333333333333,
             "#9c179e"
            ],
            [
             0.4444444444444444,
             "#bd3786"
            ],
            [
             0.5555555555555556,
             "#d8576b"
            ],
            [
             0.6666666666666666,
             "#ed7953"
            ],
            [
             0.7777777777777778,
             "#fb9f3a"
            ],
            [
             0.8888888888888888,
             "#fdca26"
            ],
            [
             1,
             "#f0f921"
            ]
           ]
          },
          "colorway": [
           "#636efa",
           "#EF553B",
           "#00cc96",
           "#ab63fa",
           "#FFA15A",
           "#19d3f3",
           "#FF6692",
           "#B6E880",
           "#FF97FF",
           "#FECB52"
          ],
          "font": {
           "color": "#2a3f5f"
          },
          "geo": {
           "bgcolor": "white",
           "lakecolor": "white",
           "landcolor": "white",
           "showlakes": true,
           "showland": true,
           "subunitcolor": "#C8D4E3"
          },
          "hoverlabel": {
           "align": "left"
          },
          "hovermode": "closest",
          "mapbox": {
           "style": "light"
          },
          "paper_bgcolor": "white",
          "plot_bgcolor": "white",
          "polar": {
           "angularaxis": {
            "gridcolor": "#EBF0F8",
            "linecolor": "#EBF0F8",
            "ticks": ""
           },
           "bgcolor": "white",
           "radialaxis": {
            "gridcolor": "#EBF0F8",
            "linecolor": "#EBF0F8",
            "ticks": ""
           }
          },
          "scene": {
           "xaxis": {
            "backgroundcolor": "white",
            "gridcolor": "#DFE8F3",
            "gridwidth": 2,
            "linecolor": "#EBF0F8",
            "showbackground": true,
            "ticks": "",
            "zerolinecolor": "#EBF0F8"
           },
           "yaxis": {
            "backgroundcolor": "white",
            "gridcolor": "#DFE8F3",
            "gridwidth": 2,
            "linecolor": "#EBF0F8",
            "showbackground": true,
            "ticks": "",
            "zerolinecolor": "#EBF0F8"
           },
           "zaxis": {
            "backgroundcolor": "white",
            "gridcolor": "#DFE8F3",
            "gridwidth": 2,
            "linecolor": "#EBF0F8",
            "showbackground": true,
            "ticks": "",
            "zerolinecolor": "#EBF0F8"
           }
          },
          "shapedefaults": {
           "line": {
            "color": "#2a3f5f"
           }
          },
          "ternary": {
           "aaxis": {
            "gridcolor": "#DFE8F3",
            "linecolor": "#A2B1C6",
            "ticks": ""
           },
           "baxis": {
            "gridcolor": "#DFE8F3",
            "linecolor": "#A2B1C6",
            "ticks": ""
           },
           "bgcolor": "white",
           "caxis": {
            "gridcolor": "#DFE8F3",
            "linecolor": "#A2B1C6",
            "ticks": ""
           }
          },
          "title": {
           "x": 0.05
          },
          "xaxis": {
           "automargin": true,
           "gridcolor": "#EBF0F8",
           "linecolor": "#EBF0F8",
           "ticks": "",
           "title": {
            "standoff": 15
           },
           "zerolinecolor": "#EBF0F8",
           "zerolinewidth": 2
          },
          "yaxis": {
           "automargin": true,
           "gridcolor": "#EBF0F8",
           "linecolor": "#EBF0F8",
           "ticks": "",
           "title": {
            "standoff": 15
           },
           "zerolinecolor": "#EBF0F8",
           "zerolinewidth": 2
          }
         }
        },
        "title": {
         "text": "Age (years) by Title"
        },
        "width": 800,
        "xaxis": {
         "anchor": "y",
         "domain": [
          0,
          1
         ],
         "tickmode": "array",
         "ticktext": [
          "Dr<br>(n=8, s=50.0%)",
          "Master<br>(n=61, s=50.8%)",
          "Miss<br>(n=260, s=67.7%)",
          "Mr<br>(n=757, s=16.2%)",
          "Mrs<br>(n=196, s=78.6%)",
          "Other<br>(n=19, s=63.2%)",
          "Rev<br>(n=8, s=0.0%)"
         ],
         "tickvals": [
          "Dr",
          "Master",
          "Miss",
          "Mr",
          "Mrs",
          "Other",
          "Rev"
         ],
         "title": {
          "text": "Title"
         }
        },
        "yaxis": {
         "anchor": "x",
         "domain": [
          0,
          1
         ],
         "title": {
          "text": "Age (years)"
         }
        }
       }
      }
     },
     "metadata": {},
     "output_type": "display_data"
    }
   ],
   "source": [
    "ChartingHelper.create_strip_boxplot(titanic_passengers_cleaned, 'Title', 'Age')"
   ]
  },
  {
   "cell_type": "code",
   "execution_count": null,
   "id": "487ecdfa",
   "metadata": {},
   "outputs": [],
   "source": []
  }
 ],
 "metadata": {
  "kernelspec": {
   "display_name": ".venv",
   "language": "python",
   "name": "python3"
  },
  "language_info": {
   "codemirror_mode": {
    "name": "ipython",
    "version": 3
   },
   "file_extension": ".py",
   "mimetype": "text/x-python",
   "name": "python",
   "nbconvert_exporter": "python",
   "pygments_lexer": "ipython3",
   "version": "3.12.11"
  }
 },
 "nbformat": 4,
 "nbformat_minor": 5
}
